{
 "cells": [
  {
   "cell_type": "code",
   "execution_count": 507,
   "metadata": {},
   "outputs": [],
   "source": [
    "import os\n",
    "import pandas as pd\n",
    "from pathlib import Path\n",
    "import json\n",
    "from pprint import pprint\n",
    "from copy import deepcopy\n",
    "import random\n",
    "import numpy as np\n",
    "import pandas as pd\n",
    "from tqdm.notebook import tqdm\n",
    "import matplotlib.pyplot as plt\n",
    "import warnings\n",
    "warnings.filterwarnings('ignore')"
   ]
  },
  {
   "cell_type": "code",
   "execution_count": 64,
   "metadata": {},
   "outputs": [],
   "source": [
    "working_path = Path('/home/zhanj289/side_projects/cord_19/')"
   ]
  },
  {
   "cell_type": "code",
   "execution_count": 65,
   "metadata": {},
   "outputs": [],
   "source": [
    "data_path = Path('/home/zhanj289/side_projects/cord_19/') / 'data'"
   ]
  },
  {
   "cell_type": "code",
   "execution_count": 66,
   "metadata": {},
   "outputs": [],
   "source": [
    "## PMC JSON looks like having no 'abstract' key"
   ]
  },
  {
   "cell_type": "code",
   "execution_count": 67,
   "metadata": {},
   "outputs": [],
   "source": [
    "## check meta data\n",
    "\n",
    "meta_data = pd.read_csv(data_path/'metadata.csv')"
   ]
  },
  {
   "cell_type": "code",
   "execution_count": 68,
   "metadata": {},
   "outputs": [
    {
     "data": {
      "text/html": [
       "<div>\n",
       "<style scoped>\n",
       "    .dataframe tbody tr th:only-of-type {\n",
       "        vertical-align: middle;\n",
       "    }\n",
       "\n",
       "    .dataframe tbody tr th {\n",
       "        vertical-align: top;\n",
       "    }\n",
       "\n",
       "    .dataframe thead th {\n",
       "        text-align: right;\n",
       "    }\n",
       "</style>\n",
       "<table border=\"1\" class=\"dataframe\">\n",
       "  <thead>\n",
       "    <tr style=\"text-align: right;\">\n",
       "      <th></th>\n",
       "      <th>cord_uid</th>\n",
       "      <th>sha</th>\n",
       "      <th>source_x</th>\n",
       "      <th>title</th>\n",
       "      <th>doi</th>\n",
       "      <th>pmcid</th>\n",
       "      <th>pubmed_id</th>\n",
       "      <th>license</th>\n",
       "      <th>abstract</th>\n",
       "      <th>publish_time</th>\n",
       "      <th>authors</th>\n",
       "      <th>journal</th>\n",
       "      <th>mag_id</th>\n",
       "      <th>who_covidence_id</th>\n",
       "      <th>arxiv_id</th>\n",
       "      <th>pdf_json_files</th>\n",
       "      <th>pmc_json_files</th>\n",
       "      <th>url</th>\n",
       "      <th>s2_id</th>\n",
       "    </tr>\n",
       "  </thead>\n",
       "  <tbody>\n",
       "    <tr>\n",
       "      <th>31</th>\n",
       "      <td>6iu1dtyl</td>\n",
       "      <td>6e8517cb25ff228cb48da90a9c97d9c274dc8031</td>\n",
       "      <td>PMC</td>\n",
       "      <td>The site of origin of the 1918 influenza pande...</td>\n",
       "      <td>10.1186/1479-5876-2-3</td>\n",
       "      <td>PMC340389</td>\n",
       "      <td>14733617.0</td>\n",
       "      <td>no-cc</td>\n",
       "      <td>NaN</td>\n",
       "      <td>2004-01-20</td>\n",
       "      <td>Barry, John M</td>\n",
       "      <td>J Transl Med</td>\n",
       "      <td>NaN</td>\n",
       "      <td>NaN</td>\n",
       "      <td>NaN</td>\n",
       "      <td>document_parses/pdf_json/6e8517cb25ff228cb48da...</td>\n",
       "      <td>document_parses/pmc_json/PMC340389.xml.json</td>\n",
       "      <td>https://www.ncbi.nlm.nih.gov/pmc/articles/PMC3...</td>\n",
       "      <td>NaN</td>\n",
       "    </tr>\n",
       "    <tr>\n",
       "      <th>35</th>\n",
       "      <td>1769ovyk</td>\n",
       "      <td>c5131e5f5c6000ec84139edc64778a6f1d391b83</td>\n",
       "      <td>PMC</td>\n",
       "      <td>8th Annual Toronto Critical Care Medicine Symp...</td>\n",
       "      <td>10.1186/cc2429</td>\n",
       "      <td>PMC420071</td>\n",
       "      <td>14975048.0</td>\n",
       "      <td>no-cc</td>\n",
       "      <td>NaN</td>\n",
       "      <td>2004-01-02</td>\n",
       "      <td>Granton, Jeff; Granton, John</td>\n",
       "      <td>Crit Care</td>\n",
       "      <td>NaN</td>\n",
       "      <td>NaN</td>\n",
       "      <td>NaN</td>\n",
       "      <td>document_parses/pdf_json/c5131e5f5c6000ec84139...</td>\n",
       "      <td>document_parses/pmc_json/PMC420071.xml.json</td>\n",
       "      <td>https://www.ncbi.nlm.nih.gov/pmc/articles/PMC4...</td>\n",
       "      <td>NaN</td>\n",
       "    </tr>\n",
       "    <tr>\n",
       "      <th>36</th>\n",
       "      <td>tixxm78q</td>\n",
       "      <td>8a7d5de5ea680e784ab2bd877240bf09e4c1c02d</td>\n",
       "      <td>PMC</td>\n",
       "      <td>Recently published papers: all the usual suspe...</td>\n",
       "      <td>10.1186/cc2449</td>\n",
       "      <td>PMC420074</td>\n",
       "      <td>14975037.0</td>\n",
       "      <td>no-cc</td>\n",
       "      <td>NaN</td>\n",
       "      <td>2004-01-02</td>\n",
       "      <td>Ball, Jonathan</td>\n",
       "      <td>Crit Care</td>\n",
       "      <td>NaN</td>\n",
       "      <td>NaN</td>\n",
       "      <td>NaN</td>\n",
       "      <td>document_parses/pdf_json/8a7d5de5ea680e784ab2b...</td>\n",
       "      <td>document_parses/pmc_json/PMC420074.xml.json</td>\n",
       "      <td>https://www.ncbi.nlm.nih.gov/pmc/articles/PMC4...</td>\n",
       "      <td>NaN</td>\n",
       "    </tr>\n",
       "    <tr>\n",
       "      <th>105</th>\n",
       "      <td>r8j6lhoc</td>\n",
       "      <td>c6c8b82bc5a800425b075540eff41b0af719f80f</td>\n",
       "      <td>PMC</td>\n",
       "      <td>HIV Epidemiology in Africa: Weak Variables and...</td>\n",
       "      <td>10.1371/journal.pmed.0020137</td>\n",
       "      <td>PMC1140948</td>\n",
       "      <td>15916469.0</td>\n",
       "      <td>cc-by</td>\n",
       "      <td>NaN</td>\n",
       "      <td>2005-05-31</td>\n",
       "      <td>Brody, Stuart; Potterat, John J</td>\n",
       "      <td>PLoS Med</td>\n",
       "      <td>NaN</td>\n",
       "      <td>NaN</td>\n",
       "      <td>NaN</td>\n",
       "      <td>document_parses/pdf_json/c6c8b82bc5a800425b075...</td>\n",
       "      <td>document_parses/pmc_json/PMC1140948.xml.json</td>\n",
       "      <td>https://www.ncbi.nlm.nih.gov/pmc/articles/PMC1...</td>\n",
       "      <td>NaN</td>\n",
       "    </tr>\n",
       "    <tr>\n",
       "      <th>133</th>\n",
       "      <td>az4a70b0</td>\n",
       "      <td>cc698ffabf545da2fd7ee6a5cb4f25d9102a856a</td>\n",
       "      <td>PMC</td>\n",
       "      <td>eCAM benefits from diversity that derives from...</td>\n",
       "      <td>10.1093/ecam/neh120</td>\n",
       "      <td>PMC1193560</td>\n",
       "      <td>16136204.0</td>\n",
       "      <td>no-cc</td>\n",
       "      <td>NaN</td>\n",
       "      <td>2005-09-01</td>\n",
       "      <td>Cooper, Edwin L.</td>\n",
       "      <td>Evid Based Complement Alternat Med</td>\n",
       "      <td>NaN</td>\n",
       "      <td>NaN</td>\n",
       "      <td>NaN</td>\n",
       "      <td>document_parses/pdf_json/cc698ffabf545da2fd7ee...</td>\n",
       "      <td>document_parses/pmc_json/PMC1193560.xml.json</td>\n",
       "      <td>https://www.ncbi.nlm.nih.gov/pmc/articles/PMC1...</td>\n",
       "      <td>NaN</td>\n",
       "    </tr>\n",
       "  </tbody>\n",
       "</table>\n",
       "</div>"
      ],
      "text/plain": [
       "     cord_uid                                       sha source_x  \\\n",
       "31   6iu1dtyl  6e8517cb25ff228cb48da90a9c97d9c274dc8031      PMC   \n",
       "35   1769ovyk  c5131e5f5c6000ec84139edc64778a6f1d391b83      PMC   \n",
       "36   tixxm78q  8a7d5de5ea680e784ab2bd877240bf09e4c1c02d      PMC   \n",
       "105  r8j6lhoc  c6c8b82bc5a800425b075540eff41b0af719f80f      PMC   \n",
       "133  az4a70b0  cc698ffabf545da2fd7ee6a5cb4f25d9102a856a      PMC   \n",
       "\n",
       "                                                 title  \\\n",
       "31   The site of origin of the 1918 influenza pande...   \n",
       "35   8th Annual Toronto Critical Care Medicine Symp...   \n",
       "36   Recently published papers: all the usual suspe...   \n",
       "105  HIV Epidemiology in Africa: Weak Variables and...   \n",
       "133  eCAM benefits from diversity that derives from...   \n",
       "\n",
       "                              doi       pmcid   pubmed_id license abstract  \\\n",
       "31          10.1186/1479-5876-2-3   PMC340389  14733617.0   no-cc      NaN   \n",
       "35                 10.1186/cc2429   PMC420071  14975048.0   no-cc      NaN   \n",
       "36                 10.1186/cc2449   PMC420074  14975037.0   no-cc      NaN   \n",
       "105  10.1371/journal.pmed.0020137  PMC1140948  15916469.0   cc-by      NaN   \n",
       "133           10.1093/ecam/neh120  PMC1193560  16136204.0   no-cc      NaN   \n",
       "\n",
       "    publish_time                          authors  \\\n",
       "31    2004-01-20                    Barry, John M   \n",
       "35    2004-01-02     Granton, Jeff; Granton, John   \n",
       "36    2004-01-02                   Ball, Jonathan   \n",
       "105   2005-05-31  Brody, Stuart; Potterat, John J   \n",
       "133   2005-09-01                 Cooper, Edwin L.   \n",
       "\n",
       "                                journal  mag_id who_covidence_id arxiv_id  \\\n",
       "31                         J Transl Med     NaN              NaN      NaN   \n",
       "35                            Crit Care     NaN              NaN      NaN   \n",
       "36                            Crit Care     NaN              NaN      NaN   \n",
       "105                            PLoS Med     NaN              NaN      NaN   \n",
       "133  Evid Based Complement Alternat Med     NaN              NaN      NaN   \n",
       "\n",
       "                                        pdf_json_files  \\\n",
       "31   document_parses/pdf_json/6e8517cb25ff228cb48da...   \n",
       "35   document_parses/pdf_json/c5131e5f5c6000ec84139...   \n",
       "36   document_parses/pdf_json/8a7d5de5ea680e784ab2b...   \n",
       "105  document_parses/pdf_json/c6c8b82bc5a800425b075...   \n",
       "133  document_parses/pdf_json/cc698ffabf545da2fd7ee...   \n",
       "\n",
       "                                   pmc_json_files  \\\n",
       "31    document_parses/pmc_json/PMC340389.xml.json   \n",
       "35    document_parses/pmc_json/PMC420071.xml.json   \n",
       "36    document_parses/pmc_json/PMC420074.xml.json   \n",
       "105  document_parses/pmc_json/PMC1140948.xml.json   \n",
       "133  document_parses/pmc_json/PMC1193560.xml.json   \n",
       "\n",
       "                                                   url  s2_id  \n",
       "31   https://www.ncbi.nlm.nih.gov/pmc/articles/PMC3...    NaN  \n",
       "35   https://www.ncbi.nlm.nih.gov/pmc/articles/PMC4...    NaN  \n",
       "36   https://www.ncbi.nlm.nih.gov/pmc/articles/PMC4...    NaN  \n",
       "105  https://www.ncbi.nlm.nih.gov/pmc/articles/PMC1...    NaN  \n",
       "133  https://www.ncbi.nlm.nih.gov/pmc/articles/PMC1...    NaN  "
      ]
     },
     "execution_count": 68,
     "metadata": {},
     "output_type": "execute_result"
    }
   ],
   "source": [
    "meta_data[meta_data['abstract'].isnull()].head()"
   ]
  },
  {
   "cell_type": "code",
   "execution_count": 69,
   "metadata": {},
   "outputs": [
    {
     "data": {
      "text/plain": [
       "75786"
      ]
     },
     "execution_count": 69,
     "metadata": {},
     "output_type": "execute_result"
    }
   ],
   "source": [
    "\n",
    "# paper without pdf_json or pmc_json\n",
    "\n",
    "len(meta_data[(meta_data['pdf_json_files'].isnull()) &(meta_data['pmc_json_files'].isnull()) ])"
   ]
  },
  {
   "cell_type": "code",
   "execution_count": 70,
   "metadata": {},
   "outputs": [
    {
     "data": {
      "text/plain": [
       "16595"
      ]
     },
     "execution_count": 70,
     "metadata": {},
     "output_type": "execute_result"
    }
   ],
   "source": [
    "\n",
    "# paper with pdf_json but no pmc_json\n",
    "\n",
    "len(meta_data[(meta_data['pdf_json_files'].notnull()) &(meta_data['pmc_json_files'].isnull()) ])"
   ]
  },
  {
   "cell_type": "code",
   "execution_count": 71,
   "metadata": {},
   "outputs": [
    {
     "data": {
      "text/plain": [
       "2819"
      ]
     },
     "execution_count": 71,
     "metadata": {},
     "output_type": "execute_result"
    }
   ],
   "source": [
    "\n",
    "# paper with pmc_json bbut no pdj_json\n",
    "\n",
    "len(meta_data[(meta_data['pdf_json_files'].isnull()) &(meta_data['pmc_json_files'].notnull()) ])"
   ]
  },
  {
   "cell_type": "code",
   "execution_count": 72,
   "metadata": {},
   "outputs": [
    {
     "data": {
      "text/plain": [
       "45332"
      ]
     },
     "execution_count": 72,
     "metadata": {},
     "output_type": "execute_result"
    }
   ],
   "source": [
    "\n",
    "# paper with pmc_json bbut no pdj_json\n",
    "\n",
    "len(meta_data[(meta_data['pdf_json_files'].notnull()) &(meta_data['pmc_json_files'].notnull()) ])"
   ]
  },
  {
   "cell_type": "code",
   "execution_count": 73,
   "metadata": {},
   "outputs": [],
   "source": [
    "# paper has no abstract in metadata\n",
    "meta_data_no_abstract  = meta_data[meta_data['abstract'].isnull()]"
   ]
  },
  {
   "cell_type": "code",
   "execution_count": 74,
   "metadata": {},
   "outputs": [
    {
     "data": {
      "text/plain": [
       "30914"
      ]
     },
     "execution_count": 74,
     "metadata": {},
     "output_type": "execute_result"
    }
   ],
   "source": [
    "len(meta_data_no_abstract)"
   ]
  },
  {
   "cell_type": "code",
   "execution_count": 75,
   "metadata": {},
   "outputs": [
    {
     "data": {
      "text/plain": [
       "20142"
      ]
     },
     "execution_count": 75,
     "metadata": {},
     "output_type": "execute_result"
    }
   ],
   "source": [
    "\n",
    "# paper without pdf_json or pmc_json\n",
    "\n",
    "len(meta_data_no_abstract[(meta_data_no_abstract['pdf_json_files'].isnull()) &(meta_data_no_abstract['pmc_json_files'].isnull()) ])"
   ]
  },
  {
   "cell_type": "code",
   "execution_count": 76,
   "metadata": {},
   "outputs": [
    {
     "data": {
      "text/plain": [
       "'document_parses/pdf_json/a037a1a6fe76f1c43e33a639231b9874cb655f88.json'"
      ]
     },
     "execution_count": 76,
     "metadata": {},
     "output_type": "execute_result"
    }
   ],
   "source": [
    "## look closely at a paper without abstract bbut has pdf_json\n",
    "\n",
    "meta_data_no_abstract[(meta_data_no_abstract['pdf_json_files'].notnull()) &(meta_data_no_abstract['pmc_json_files'].isnull()) ]['pdf_json_files'][224]"
   ]
  },
  {
   "cell_type": "code",
   "execution_count": null,
   "metadata": {},
   "outputs": [],
   "source": [
    "# but it has abstraxt in json"
   ]
  },
  {
   "cell_type": "code",
   "execution_count": 67,
   "metadata": {},
   "outputs": [],
   "source": [
    "test_file = json.load(open('data/document_parses/pdf_json/a037a1a6fe76f1c43e33a639231b9874cb655f88.json', 'rb'))\n",
    "\n",
    "test_file['abstract']"
   ]
  },
  {
   "cell_type": "markdown",
   "metadata": {},
   "source": [
    "### metadata seems cannot reflect whether we have abstract in the dataset"
   ]
  },
  {
   "cell_type": "code",
   "execution_count": 77,
   "metadata": {},
   "outputs": [],
   "source": [
    "# The following function is used in creating\n",
    "def format_name(author):\n",
    "    middle_name = \" \".join(author['middle'])\n",
    "    \n",
    "    if author['middle']:\n",
    "        return \" \".join([author['first'], middle_name, author['last']])\n",
    "    else:\n",
    "        return \" \".join([author['first'], author['last']])\n",
    "\n",
    "\n",
    "def format_affiliation(affiliation):\n",
    "    text = []\n",
    "    location = affiliation.get('location')\n",
    "    if location:\n",
    "        text.extend(list(affiliation['location'].values()))\n",
    "    \n",
    "    institution = affiliation.get('institution')\n",
    "    if institution:\n",
    "        text = [institution] + text\n",
    "    return \", \".join(text)\n",
    "\n",
    "def format_authors(authors, with_affiliation=False):\n",
    "    name_ls = []\n",
    "    \n",
    "    for author in authors:\n",
    "        name = format_name(author)\n",
    "        if with_affiliation:\n",
    "            affiliation = format_affiliation(author['affiliation'])\n",
    "            if affiliation:\n",
    "                name_ls.append(f\"{name} ({affiliation})\")\n",
    "            else:\n",
    "                name_ls.append(name)\n",
    "        else:\n",
    "            name_ls.append(name)\n",
    "    \n",
    "    return \", \".join(name_ls)\n",
    "\n",
    "def format_body(body_text):\n",
    "    texts = [(di['section'], di['text']) for di in body_text]\n",
    "    texts_di = {di['section']: \"\" for di in body_text}\n",
    "    \n",
    "    for section, text in texts:\n",
    "        texts_di[section] += text\n",
    "\n",
    "    body = \"\"\n",
    "\n",
    "    for section, text in texts_di.items():\n",
    "        body += section\n",
    "        body += \" \"\n",
    "        body += text\n",
    "        body += \" \"\n",
    "    \n",
    "    return body\n",
    "\n",
    "def format_bib(bibs):\n",
    "    if type(bibs) == dict:\n",
    "        bibs = list(bibs.values())\n",
    "    bibs = deepcopy(bibs)\n",
    "    formatted = []\n",
    "    \n",
    "    for bib in bibs:\n",
    "        bib['authors'] = format_authors(\n",
    "            bib['authors'], \n",
    "            with_affiliation=False\n",
    "        )\n",
    "        formatted_ls = [str(bib[k]) for k in ['title', 'authors', 'venue', 'year']]\n",
    "        formatted.append(\", \".join(formatted_ls))\n",
    "\n",
    "    return \"; \".join(formatted)"
   ]
  },
  {
   "cell_type": "code",
   "execution_count": 78,
   "metadata": {},
   "outputs": [],
   "source": [
    "def load_files(dirname, all_paper = False, paper_number = 1000):\n",
    "    \n",
    "    filenames = os.listdir(dirname)\n",
    "    \n",
    "    # load a few paper or all\n",
    "    if all_paper == False:\n",
    "        rand_indx = random.sample(range(0,len(filenames)), paper_number)\n",
    "    else:\n",
    "        rand_indx = list(range(0, len(filenames)))\n",
    "    \n",
    "    \n",
    "    raw_files = []\n",
    "\n",
    "    for i in tqdm(rand_indx):\n",
    "        filename = dirname / filenames[i]\n",
    "        file = json.load(open(filename, 'rb'))\n",
    "        raw_files.append(file)\n",
    "    \n",
    "    return raw_files\n",
    "\n",
    "def generate_clean_df(all_files):\n",
    "    cleaned_files = []\n",
    "    \n",
    "    for file in tqdm(all_files):\n",
    "        features = [\n",
    "            file['paper_id'],\n",
    "            file['metadata']['title'],\n",
    "            format_authors(file['metadata']['authors']),\n",
    "            format_authors(file['metadata']['authors'], \n",
    "                           with_affiliation=True),\n",
    "            format_body(file['abstract']),\n",
    "            format_body(file['body_text']),\n",
    "            format_bib(file['bib_entries']),\n",
    "            file['metadata']['authors'],\n",
    "            file['bib_entries']\n",
    "        ]\n",
    "\n",
    "        cleaned_files.append(features)\n",
    "\n",
    "    col_names = ['paper_id', 'title', 'authors',\n",
    "                 'affiliations', 'abstract', 'text', \n",
    "                 'bibliography','raw_authors','raw_bibliography']\n",
    "\n",
    "    clean_df = pd.DataFrame(cleaned_files, columns=col_names)\n",
    "    clean_df.head()\n",
    "    \n",
    "    return clean_df"
   ]
  },
  {
   "cell_type": "markdown",
   "metadata": {},
   "source": [
    "### load and clean data"
   ]
  },
  {
   "cell_type": "code",
   "execution_count": 779,
   "metadata": {},
   "outputs": [
    {
     "name": "stdout",
     "output_type": "stream",
     "text": [
      "Number of articles retrieved from pdf: 65782\n"
     ]
    }
   ],
   "source": [
    "pdf_path = data_path / 'document_parses'/'pdf_json/'\n",
    "\n",
    "# check size of data\n",
    "filenames = os.listdir(pdf_path)\n",
    "print(\"Number of articles retrieved from pdf:\", len(filenames))"
   ]
  },
  {
   "cell_type": "code",
   "execution_count": 780,
   "metadata": {},
   "outputs": [
    {
     "data": {
      "application/vnd.jupyter.widget-view+json": {
       "model_id": "b2fe07d84ee54e31a175f8cb7c0862f5",
       "version_major": 2,
       "version_minor": 0
      },
      "text/plain": [
       "HBox(children=(FloatProgress(value=0.0, max=3000.0), HTML(value='')))"
      ]
     },
     "metadata": {},
     "output_type": "display_data"
    },
    {
     "name": "stdout",
     "output_type": "stream",
     "text": [
      "\n"
     ]
    }
   ],
   "source": [
    "# attach all pdf to a list\n",
    "all_files = load_files(pdf_path, all_paper = False, paper_number = 3000)"
   ]
  },
  {
   "cell_type": "code",
   "execution_count": 781,
   "metadata": {},
   "outputs": [
    {
     "name": "stdout",
     "output_type": "stream",
     "text": [
      "Dictionary keys: dict_keys(['paper_id', 'metadata', 'abstract', 'body_text', 'bib_entries', 'ref_entries', 'back_matter'])\n"
     ]
    }
   ],
   "source": [
    "# some data exploration\n",
    "\n",
    "file = all_files[555]\n",
    "print(\"Dictionary keys:\", file.keys())"
   ]
  },
  {
   "cell_type": "code",
   "execution_count": 782,
   "metadata": {},
   "outputs": [
    {
     "name": "stdout",
     "output_type": "stream",
     "text": [
      "'INTRODUCTION'\n",
      "'INTRODUCTION'\n",
      "'INTRODUCTION'\n",
      "'INTRODUCTION'\n",
      "'INTRODUCTION'\n",
      "('PEDV infection induces the elevation of mRNA levels of proinflammatory '\n",
      " 'cytokines')\n",
      "'PEDV infection triggers release of acetylated HMGB1'\n",
      "'PEDV infection triggers release of acetylated HMGB1'\n",
      "('SIRT1, histone acetyltransferase and NF-κB are critical for the acetylation '\n",
      " 'of HMGB1')\n",
      "('SIRT1, histone acetyltransferase and NF-κB are critical for the acetylation '\n",
      " 'of HMGB1')\n",
      "('SIRT1, histone acetyltransferase and NF-κB are critical for the acetylation '\n",
      " 'of HMGB1')\n",
      "('SIRT1, histone acetyltransferase and NF-κB are critical for the acetylation '\n",
      " 'of HMGB1')\n",
      "('PEDV-N promotes the acetylation/release of HMGB1 and expression of '\n",
      " 'proinflammatory cytokines')\n",
      "('PEDV-N promotes the acetylation/release of HMGB1 and expression of '\n",
      " 'proinflammatory cytokines')\n",
      "('PEDV-N promotes the acetylation/release of HMGB1 and expression of '\n",
      " 'proinflammatory cytokines')\n",
      "('PEDV-N promotes the acetylation/release of HMGB1 and expression of '\n",
      " 'proinflammatory cytokines')\n",
      "('PEDV-N is enriched in the HMGB1 promotor and C/EBP binding motif is '\n",
      " 'responsible for HMGB1 transcription')\n",
      "('PEDV-N is enriched in the HMGB1 promotor and C/EBP binding motif is '\n",
      " 'responsible for HMGB1 transcription')\n",
      "('PEDV-N is enriched in the HMGB1 promotor and C/EBP binding motif is '\n",
      " 'responsible for HMGB1 transcription')\n",
      "('PEDV-N is enriched in the HMGB1 promotor and C/EBP binding motif is '\n",
      " 'responsible for HMGB1 transcription')\n",
      "'PEDV-N interacts with C/EBP-β'\n",
      "'PEDV-N interacts with C/EBP-β'\n",
      "('Figure 6: Co-immunoprecipitation experiment reveals that PEDV nucleoprotein '\n",
      " 'interacts with C/EBP-β. A. Vero cells')\n",
      "'Blockage of HMGB1 inhibited PEDV infection'\n",
      "'DISCUSSION'\n",
      "'DISCUSSION'\n",
      "'DISCUSSION'\n",
      "'DISCUSSION'\n",
      "'DISCUSSION'\n",
      "'DISCUSSION'\n",
      "'DISCUSSION'\n",
      "'Cell and virus'\n",
      "'Reagents and antibodies'\n",
      "'Plasmid constructs'\n",
      "'Western blotting analysis'\n",
      "'qRT-PCR'\n",
      "'Immunofluorescence staining and confocal microscopy'\n",
      "'Plaque formation assay'\n",
      "'RNA interference'\n",
      "'Chromatin immunoprecipitation (CHIP)'\n",
      "'Reporter gene assay'\n",
      "'Reporter gene assay'\n",
      "'Co-immunoprecipitation (Co-IP)'\n",
      "'Cytotoxicity assay'\n",
      "'Statistical analysis'\n",
      "'ACKNOWLEDGMENTS'\n",
      "'CONFLICTS OF INTEREST'\n"
     ]
    }
   ],
   "source": [
    "for i in range(len(file['body_text'])):\n",
    "    pprint(file['body_text'][i]['section'])"
   ]
  },
  {
   "cell_type": "code",
   "execution_count": 783,
   "metadata": {},
   "outputs": [
    {
     "data": {
      "text/plain": [
       "{'text': 'HMGB1 normally resides in the nucleus [30] , but it can migrate from the nucleus to the cytoplasm, as well as to the extracellular space in the activated macrophages/ monocytes [31, 32] or in virus-infected cells [33] [34] [35] .',\n",
       " 'cite_spans': [{'start': 38, 'end': 42, 'text': '[30]', 'ref_id': 'BIBREF29'},\n",
       "  {'start': 177, 'end': 181, 'text': '[31,', 'ref_id': 'BIBREF30'},\n",
       "  {'start': 182, 'end': 185, 'text': '32]', 'ref_id': 'BIBREF31'},\n",
       "  {'start': 213, 'end': 217, 'text': '[33]', 'ref_id': 'BIBREF32'},\n",
       "  {'start': 218, 'end': 222, 'text': '[34]', 'ref_id': 'BIBREF33'},\n",
       "  {'start': 223, 'end': 227, 'text': '[35]', 'ref_id': 'BIBREF34'}],\n",
       " 'ref_spans': [],\n",
       " 'section': 'PEDV infection triggers release of acetylated HMGB1'}"
      ]
     },
     "execution_count": 783,
     "metadata": {},
     "output_type": "execute_result"
    }
   ],
   "source": [
    "file['body_text'][6]"
   ]
  },
  {
   "cell_type": "code",
   "execution_count": 784,
   "metadata": {},
   "outputs": [
    {
     "data": {
      "text/plain": [
       "{'text': 'We infected the cells and determined the protein level of HMGB1 in the supernatant at different time points. The data revealed that acetylated and total HMGB1 levels were increased from 1hpi to 8hpi, but decreased later in the supernatant (Figure 2A ). PEDV infection barely affected the total HMGB1 level in the cells ( Figure 2B ), which could be explained by the slight change of mRNA level of HMGB1in the infected cells ( Figure 1B) . The remarkable stability of HMGB1 has been revealed in previous study [33] . Therefore, we suspected that the posttranslational modification of HMGB1, such as acetylation, might play much more critical roles in the pathogenesis of PEDV infection. We next confirmed the translocation of HMGB1 in infected cells in two experiments. First, the infected cells were collected at 6h, 12h and 24hpi to analyze the protein levels of HMGB1 in the cytoplasm and nucleus extracts separately after nuclear and cytoplasmic fractionation according to instruction of NE-PER™ Nuclear and Cytoplasmic Extraction Kit (Thermo Scientific). The result of western blot analysis suggested that HMGB1 protein expression level was elevated in the cytoplasm, but decreased in the nucleus ( Figure 2C ). The purity of the fractions obtained was determined by immunoblotting with specific protein markers: histone H3 (nucleus) and tubulin (cytoplasm). Next, the infected cells were stained with a HMGB1 antibody at 6hpi to investigate the localization change of HMGB1. The results demonstrated that HMGB1 was translocated from the nucleus to cytoplasm in most of the infected cells. Additionally, the cells were also immunostained by PEDV-N antibody to confirm the infection ( Figure 2D ). Overall, our data verified that PEDV infection caused the translocation of HMGB1 from the nucleus to the cytoplasm and release into extracellular space.',\n",
       " 'cite_spans': [{'start': 509,\n",
       "   'end': 513,\n",
       "   'text': '[33]',\n",
       "   'ref_id': 'BIBREF32'}],\n",
       " 'ref_spans': [{'start': 239,\n",
       "   'end': 249,\n",
       "   'text': '(Figure 2A',\n",
       "   'ref_id': 'FIGREF1'},\n",
       "  {'start': 321, 'end': 330, 'text': 'Figure 2B', 'ref_id': 'FIGREF1'},\n",
       "  {'start': 426, 'end': 436, 'text': 'Figure 1B)', 'ref_id': 'FIGREF0'},\n",
       "  {'start': 1203, 'end': 1212, 'text': 'Figure 2C', 'ref_id': 'FIGREF1'},\n",
       "  {'start': 1688, 'end': 1697, 'text': 'Figure 2D', 'ref_id': 'FIGREF1'}],\n",
       " 'section': 'PEDV infection triggers release of acetylated HMGB1'}"
      ]
     },
     "execution_count": 784,
     "metadata": {},
     "output_type": "execute_result"
    }
   ],
   "source": [
    "file['body_text'][7]"
   ]
  },
  {
   "cell_type": "code",
   "execution_count": 785,
   "metadata": {},
   "outputs": [
    {
     "data": {
      "application/vnd.jupyter.widget-view+json": {
       "model_id": "625a861bc97a49f88cc8e26705c225fa",
       "version_major": 2,
       "version_minor": 0
      },
      "text/plain": [
       "HBox(children=(FloatProgress(value=0.0, max=3000.0), HTML(value='')))"
      ]
     },
     "metadata": {},
     "output_type": "display_data"
    },
    {
     "name": "stdout",
     "output_type": "stream",
     "text": [
      "\n"
     ]
    }
   ],
   "source": [
    "## Generate CSV (PDF JSON)\n",
    "\n",
    "\n",
    "cleaned_files = []\n",
    "\n",
    "for file in tqdm(all_files):\n",
    "    features = [\n",
    "        file['paper_id'],\n",
    "        file['metadata']['title'],\n",
    "        format_authors(file['metadata']['authors']),\n",
    "        format_authors(file['metadata']['authors'], \n",
    "                       with_affiliation=True),\n",
    "        format_body(file['abstract']),\n",
    "        format_body(file['body_text']),\n",
    "        format_bib(file['bib_entries']),\n",
    "        file['metadata']['authors'],\n",
    "        file['bib_entries']\n",
    "    ]\n",
    "    \n",
    "    cleaned_files.append(features)"
   ]
  },
  {
   "cell_type": "code",
   "execution_count": 786,
   "metadata": {},
   "outputs": [
    {
     "data": {
      "text/html": [
       "<div>\n",
       "<style scoped>\n",
       "    .dataframe tbody tr th:only-of-type {\n",
       "        vertical-align: middle;\n",
       "    }\n",
       "\n",
       "    .dataframe tbody tr th {\n",
       "        vertical-align: top;\n",
       "    }\n",
       "\n",
       "    .dataframe thead th {\n",
       "        text-align: right;\n",
       "    }\n",
       "</style>\n",
       "<table border=\"1\" class=\"dataframe\">\n",
       "  <thead>\n",
       "    <tr style=\"text-align: right;\">\n",
       "      <th></th>\n",
       "      <th>paper_id</th>\n",
       "      <th>title</th>\n",
       "      <th>authors</th>\n",
       "      <th>affiliations</th>\n",
       "      <th>abstract</th>\n",
       "      <th>text</th>\n",
       "      <th>bibliography</th>\n",
       "      <th>raw_authors</th>\n",
       "      <th>raw_bibliography</th>\n",
       "    </tr>\n",
       "  </thead>\n",
       "  <tbody>\n",
       "    <tr>\n",
       "      <th>0</th>\n",
       "      <td>e1976902a6b57368852c203f67ceccc16d4aceda</td>\n",
       "      <td></td>\n",
       "      <td></td>\n",
       "      <td></td>\n",
       "      <td></td>\n",
       "      <td>INTRODUCTION The Crucible of Crisis illness th...</td>\n",
       "      <td>Association of coronavirus disease 2019 (COVID...</td>\n",
       "      <td>[]</td>\n",
       "      <td>{'BIBREF0': {'ref_id': 'b0', 'title': 'Associa...</td>\n",
       "    </tr>\n",
       "    <tr>\n",
       "      <th>1</th>\n",
       "      <td>da47cadf1cef48d1fbcac6f6301899a970ccca7c</td>\n",
       "      <td>Correlates of Viral Richness in Bats (Order Ch...</td>\n",
       "      <td>Amy S Turmelle, Kevin J Olival</td>\n",
       "      <td>Amy S Turmelle (University of Tennessee, 37996...</td>\n",
       "      <td>Abstract Historic and contemporary host ecolog...</td>\n",
       "      <td>INTRODUCTION Emerging infectious diseases (EID...</td>\n",
       "      <td>Dengue virus in Mexican bats, A Aguilar-Setien...</td>\n",
       "      <td>[{'first': 'Amy', 'middle': ['S'], 'last': 'Tu...</td>\n",
       "      <td>{'BIBREF0': {'ref_id': 'b0', 'title': 'Dengue ...</td>\n",
       "    </tr>\n",
       "  </tbody>\n",
       "</table>\n",
       "</div>"
      ],
      "text/plain": [
       "                                   paper_id  \\\n",
       "0  e1976902a6b57368852c203f67ceccc16d4aceda   \n",
       "1  da47cadf1cef48d1fbcac6f6301899a970ccca7c   \n",
       "\n",
       "                                               title  \\\n",
       "0                                                      \n",
       "1  Correlates of Viral Richness in Bats (Order Ch...   \n",
       "\n",
       "                          authors  \\\n",
       "0                                   \n",
       "1  Amy S Turmelle, Kevin J Olival   \n",
       "\n",
       "                                        affiliations  \\\n",
       "0                                                      \n",
       "1  Amy S Turmelle (University of Tennessee, 37996...   \n",
       "\n",
       "                                            abstract  \\\n",
       "0                                                      \n",
       "1  Abstract Historic and contemporary host ecolog...   \n",
       "\n",
       "                                                text  \\\n",
       "0  INTRODUCTION The Crucible of Crisis illness th...   \n",
       "1  INTRODUCTION Emerging infectious diseases (EID...   \n",
       "\n",
       "                                        bibliography  \\\n",
       "0  Association of coronavirus disease 2019 (COVID...   \n",
       "1  Dengue virus in Mexican bats, A Aguilar-Setien...   \n",
       "\n",
       "                                         raw_authors  \\\n",
       "0                                                 []   \n",
       "1  [{'first': 'Amy', 'middle': ['S'], 'last': 'Tu...   \n",
       "\n",
       "                                    raw_bibliography  \n",
       "0  {'BIBREF0': {'ref_id': 'b0', 'title': 'Associa...  \n",
       "1  {'BIBREF0': {'ref_id': 'b0', 'title': 'Dengue ...  "
      ]
     },
     "execution_count": 786,
     "metadata": {},
     "output_type": "execute_result"
    }
   ],
   "source": [
    "col_names = [\n",
    "    'paper_id', \n",
    "    'title', \n",
    "    'authors',\n",
    "    'affiliations', \n",
    "    'abstract', \n",
    "    'text', \n",
    "    'bibliography',\n",
    "    'raw_authors',\n",
    "    'raw_bibliography'\n",
    "]\n",
    "\n",
    "paper_df = pd.DataFrame(cleaned_files, columns=col_names)\n",
    "\n",
    "paper_df.head(2)"
   ]
  },
  {
   "cell_type": "code",
   "execution_count": 787,
   "metadata": {},
   "outputs": [
    {
     "data": {
      "text/plain": [
       "(3000, 9)"
      ]
     },
     "execution_count": 787,
     "metadata": {},
     "output_type": "execute_result"
    }
   ],
   "source": [
    "paper_df.shape"
   ]
  },
  {
   "cell_type": "markdown",
   "metadata": {},
   "source": [
    "### clean dataset \n",
    "\n",
    "#### remove unwanted character\n",
    "#### all lower case"
   ]
  },
  {
   "cell_type": "code",
   "execution_count": 788,
   "metadata": {},
   "outputs": [],
   "source": [
    "import re \n",
    "def clean_dataset(text):\n",
    "     #remove in-text citation\n",
    "    text=re.sub('[\\[].*?[\\]]', '', str(text)) \n",
    "    #remove hyperlink\n",
    "    text=re.sub(r'^https?:\\/\\/.*[\\r\\n]*', '',text, flags=re.MULTILINE)\n",
    "    #remove email\n",
    "    text=re.sub(r'\\\\b[A-Z a-z 0-9._ - ]*[@](.*?)[.]{1,3} \\\\b', '', text)\n",
    "    #have no idea what is a11111.. is, but I remove it now\n",
    "    text=re.sub(r'^a1111111111 a1111111111 a1111111111 a1111111111 a1111111111.*[\\r\\n]*',' ',text)\n",
    "     #remove extra space\n",
    "    text=re.sub(r'  +', ' ',text )\n",
    "    text=re.sub('[,\\.!?]', '', text)\n",
    "    text=re.sub(r's/ ( *)/\\1/g','',text) \n",
    "    #strip punctions (recheck)\n",
    "#     text=re.sub(r'[^\\w\\s]','',text) \n",
    "    \n",
    "    return text"
   ]
  },
  {
   "cell_type": "code",
   "execution_count": 789,
   "metadata": {},
   "outputs": [],
   "source": [
    "for col in ['title', 'text', 'abstract']:\n",
    "    paper_df[col] =paper_df[col].apply(clean_dataset)\n",
    "\n",
    "    paper_df[col] = paper_df[col].map(lambda x: x.lower())\n",
    "\n",
    "paper_df=paper_df.reset_index(drop=True)"
   ]
  },
  {
   "cell_type": "code",
   "execution_count": 790,
   "metadata": {},
   "outputs": [],
   "source": [
    "paper_df['title_word_count'] = paper_df['title'].apply(lambda x: len(x.strip().split()))\n",
    "\n",
    "paper_df['abstract_word_count'] = paper_df['abstract'].apply(lambda x: len(x.strip().split()))\n",
    "paper_df['body_word_count'] = paper_df['text'].apply(lambda x: len(x.strip().split()))\n"
   ]
  },
  {
   "cell_type": "markdown",
   "metadata": {},
   "source": [
    "#### check length of string"
   ]
  },
  {
   "cell_type": "code",
   "execution_count": 791,
   "metadata": {},
   "outputs": [
    {
     "data": {
      "text/html": [
       "<div>\n",
       "<style scoped>\n",
       "    .dataframe tbody tr th:only-of-type {\n",
       "        vertical-align: middle;\n",
       "    }\n",
       "\n",
       "    .dataframe tbody tr th {\n",
       "        vertical-align: top;\n",
       "    }\n",
       "\n",
       "    .dataframe thead th {\n",
       "        text-align: right;\n",
       "    }\n",
       "</style>\n",
       "<table border=\"1\" class=\"dataframe\">\n",
       "  <thead>\n",
       "    <tr style=\"text-align: right;\">\n",
       "      <th></th>\n",
       "      <th>title_word_count</th>\n",
       "      <th>abstract_word_count</th>\n",
       "      <th>body_word_count</th>\n",
       "    </tr>\n",
       "  </thead>\n",
       "  <tbody>\n",
       "    <tr>\n",
       "      <th>count</th>\n",
       "      <td>3000.000000</td>\n",
       "      <td>3000.000000</td>\n",
       "      <td>3000.000000</td>\n",
       "    </tr>\n",
       "    <tr>\n",
       "      <th>mean</th>\n",
       "      <td>12.509333</td>\n",
       "      <td>154.912667</td>\n",
       "      <td>4294.030000</td>\n",
       "    </tr>\n",
       "    <tr>\n",
       "      <th>std</th>\n",
       "      <td>9.075022</td>\n",
       "      <td>174.073707</td>\n",
       "      <td>7900.040392</td>\n",
       "    </tr>\n",
       "    <tr>\n",
       "      <th>min</th>\n",
       "      <td>0.000000</td>\n",
       "      <td>0.000000</td>\n",
       "      <td>1.000000</td>\n",
       "    </tr>\n",
       "    <tr>\n",
       "      <th>25%</th>\n",
       "      <td>7.000000</td>\n",
       "      <td>0.000000</td>\n",
       "      <td>1787.500000</td>\n",
       "    </tr>\n",
       "    <tr>\n",
       "      <th>50%</th>\n",
       "      <td>12.000000</td>\n",
       "      <td>151.000000</td>\n",
       "      <td>3194.000000</td>\n",
       "    </tr>\n",
       "    <tr>\n",
       "      <th>75%</th>\n",
       "      <td>17.000000</td>\n",
       "      <td>230.250000</td>\n",
       "      <td>4969.000000</td>\n",
       "    </tr>\n",
       "    <tr>\n",
       "      <th>max</th>\n",
       "      <td>143.000000</td>\n",
       "      <td>3133.000000</td>\n",
       "      <td>223087.000000</td>\n",
       "    </tr>\n",
       "  </tbody>\n",
       "</table>\n",
       "</div>"
      ],
      "text/plain": [
       "       title_word_count  abstract_word_count  body_word_count\n",
       "count       3000.000000          3000.000000      3000.000000\n",
       "mean          12.509333           154.912667      4294.030000\n",
       "std            9.075022           174.073707      7900.040392\n",
       "min            0.000000             0.000000         1.000000\n",
       "25%            7.000000             0.000000      1787.500000\n",
       "50%           12.000000           151.000000      3194.000000\n",
       "75%           17.000000           230.250000      4969.000000\n",
       "max          143.000000          3133.000000    223087.000000"
      ]
     },
     "execution_count": 791,
     "metadata": {},
     "output_type": "execute_result"
    }
   ],
   "source": [
    "paper_df[['title_word_count', 'abstract_word_count', 'body_word_count']].describe()"
   ]
  },
  {
   "cell_type": "code",
   "execution_count": 792,
   "metadata": {},
   "outputs": [],
   "source": [
    "## check distribution of word counts"
   ]
  },
  {
   "cell_type": "code",
   "execution_count": 793,
   "metadata": {},
   "outputs": [
    {
     "data": {
      "text/plain": [
       "40.01999999999953"
      ]
     },
     "execution_count": 793,
     "metadata": {},
     "output_type": "execute_result"
    },
    {
     "data": {
      "image/png": "[encoded data removed]",
      "text/plain": [
       "<Figure size 432x288 with 1 Axes>"
      ]
     },
     "metadata": {
      "needs_background": "light"
     },
     "output_type": "display_data"
    }
   ],
   "source": [
    "_ = plt.hist(paper_df['title_word_count'], bins= 100)\n",
    "\n",
    "paper_df['title_word_count'].quantile(0.99)"
   ]
  },
  {
   "cell_type": "code",
   "execution_count": 794,
   "metadata": {},
   "outputs": [
    {
     "data": {
      "text/plain": [
       "7092.0"
      ]
     },
     "execution_count": 794,
     "metadata": {},
     "output_type": "execute_result"
    },
    {
     "data": {
      "image/png": "[encoded data removed]",
      "text/plain": [
       "<Figure size 432x288 with 1 Axes>"
      ]
     },
     "metadata": {
      "needs_background": "light"
     },
     "output_type": "display_data"
    }
   ],
   "source": [
    "_ = plt.hist(paper_df['body_word_count'], bins= 100)\n",
    "\n",
    "paper_df['body_word_count'].quantile(0.9)"
   ]
  },
  {
   "cell_type": "code",
   "execution_count": 795,
   "metadata": {},
   "outputs": [
    {
     "data": {
      "text/plain": [
       "452.08999999999924"
      ]
     },
     "execution_count": 795,
     "metadata": {},
     "output_type": "execute_result"
    },
    {
     "data": {
      "image/png": "[encoded data removed]",
      "text/plain": [
       "<Figure size 432x288 with 1 Axes>"
      ]
     },
     "metadata": {
      "needs_background": "light"
     },
     "output_type": "display_data"
    }
   ],
   "source": [
    "_ = plt.hist(paper_df['abstract_word_count'], bins= 100)\n",
    "\n",
    "paper_df['abstract_word_count'].quantile(0.97)"
   ]
  },
  {
   "cell_type": "code",
   "execution_count": 796,
   "metadata": {},
   "outputs": [],
   "source": [
    "## Drop papers with duplication\n",
    "\n",
    "    \n",
    "paper_df.drop_duplicates(['abstract', 'text'], inplace=True)\n",
    "\n",
    "## drop paper where abstract or length is too long\n",
    "# use 512 as the maximum length for T5 is 512 and BART is 1024, lose 2.5% papers\n",
    "# abstract > 30 \n",
    "trimmed_df = paper_df[(paper_df['abstract_word_count'] > 20) & (paper_df['abstract_word_count'] < 512)]\n",
    "\n",
    "trimmed_df = trimmed_df[trimmed_df['title_word_count'] < 50]\n",
    "# arbitry number\n",
    "# trimmed_df = trimmed_df[(trimmed_df['body_word_count'] >500) &( trimmed_df['body_word_count'] < 4000)]"
   ]
  },
  {
   "cell_type": "code",
   "execution_count": 858,
   "metadata": {},
   "outputs": [],
   "source": [
    "new_df = trimmed_df.copy()\n",
    "new_df = new_df.reset_index(drop=True)"
   ]
  },
  {
   "cell_type": "code",
   "execution_count": 859,
   "metadata": {},
   "outputs": [
    {
     "data": {
      "text/plain": [
       "(1993, 12)"
      ]
     },
     "execution_count": 859,
     "metadata": {},
     "output_type": "execute_result"
    }
   ],
   "source": [
    "new_df.shape"
   ]
  },
  {
   "cell_type": "markdown",
   "metadata": {},
   "source": [
    "### Add Topic Label From LDA classification for training data"
   ]
  },
  {
   "cell_type": "code",
   "execution_count": 860,
   "metadata": {},
   "outputs": [],
   "source": [
    "from nltk.corpus import stopwords\n",
    "\n",
    "from nltk.stem import WordNetLemmatizer"
   ]
  },
  {
   "cell_type": "code",
   "execution_count": 861,
   "metadata": {},
   "outputs": [],
   "source": [
    "new_df['abstract_tokens'] = new_df['abstract'].apply(lambda x: x.split())"
   ]
  },
  {
   "cell_type": "markdown",
   "metadata": {},
   "source": [
    "#### LDA specific data cleaning"
   ]
  },
  {
   "cell_type": "code",
   "execution_count": 862,
   "metadata": {},
   "outputs": [],
   "source": [
    "## remove the word 'abstract'\n",
    "def remove_specific_word(text):\n",
    "    words = [w for w in text if w != 'abstract']\n",
    "    return words"
   ]
  },
  {
   "cell_type": "code",
   "execution_count": 863,
   "metadata": {},
   "outputs": [],
   "source": [
    "new_df['abstract_tokens'] =  new_df['abstract_tokens'].apply(lambda x: remove_abstract(x))"
   ]
  },
  {
   "cell_type": "code",
   "execution_count": 864,
   "metadata": {},
   "outputs": [],
   "source": [
    "# remove stop words\n",
    "def remove_stopwords(list_of_string):\n",
    "    stop_words = set(stopwords.words('english')) \n",
    "    return [w for w in list_of_string if not w in stop_words] \n",
    "  "
   ]
  },
  {
   "cell_type": "code",
   "execution_count": 865,
   "metadata": {},
   "outputs": [],
   "source": [
    "new_df['abstract_tokens'] = new_df['abstract_tokens'].apply(lambda x: remove_stopwords(x))"
   ]
  },
  {
   "cell_type": "code",
   "execution_count": 866,
   "metadata": {},
   "outputs": [],
   "source": [
    "## remove very short words, like single letter\n",
    "\n",
    "def remove_short_words(tokens, min_len):\n",
    "    return [w for w in tokens if len(w)>=min_len] \n"
   ]
  },
  {
   "cell_type": "code",
   "execution_count": 867,
   "metadata": {},
   "outputs": [],
   "source": [
    "new_df['abstract_tokens'] = new_df['abstract_tokens'].apply(lambda x: remove_short_words(x, 2))\n",
    "  "
   ]
  },
  {
   "cell_type": "code",
   "execution_count": 868,
   "metadata": {},
   "outputs": [],
   "source": [
    "## lemmatize words\n",
    "\n",
    "# define a function to lematize a list of tokens\n",
    "lemmatizer = WordNetLemmatizer() # instantiate a lemmatizer\n",
    "\n",
    "def lemmatize_tokens(tokens):\n",
    "    lemmatized_tokens = [lemmatizer.lemmatize(t) for t in tokens]\n",
    "    return lemmatized_tokens"
   ]
  },
  {
   "cell_type": "code",
   "execution_count": 869,
   "metadata": {},
   "outputs": [],
   "source": [
    "new_df['abstract_tokens'] = new_df['abstract_tokens'].apply(lambda x: lemmatize_tokens(x)) #lemmatize words"
   ]
  },
  {
   "cell_type": "code",
   "execution_count": 870,
   "metadata": {},
   "outputs": [],
   "source": [
    "# # define a function that converts a list of tokens into n-grams\n",
    "# def getNGrams(tokens, n):\n",
    "#     return [tokens[i : i + n] for i in range(len(tokens) - (n - 1))]"
   ]
  },
  {
   "cell_type": "code",
   "execution_count": 871,
   "metadata": {},
   "outputs": [],
   "source": [
    "# new_df['abstract_2-grams'] = new_df['abstract_tokens'].apply(lambda x: getNGrams(x, 2))\n",
    "# new_df.head()"
   ]
  },
  {
   "cell_type": "code",
   "execution_count": 872,
   "metadata": {},
   "outputs": [],
   "source": [
    "# words = set(nltk.corpus.words.words())"
   ]
  },
  {
   "cell_type": "code",
   "execution_count": 873,
   "metadata": {},
   "outputs": [],
   "source": [
    "# from sklearn.feature_extraction.text import CountVectorizer\n",
    "# from sklearn.feature_extraction.text import TfidfVectorizer\n",
    "\n",
    "# vectorizer = CountVectorizer(analyzer = \"word\",   \\\n",
    "#                              tokenizer = None,    \\\n",
    "#                              preprocessor = None, \\\n",
    "#                              stop_words = 'english',   \\\n",
    "#                              max_features = 2000) \n",
    "\n",
    "# ## this makes tokens\n",
    "# all_tokens = new_df['abstract_tokens'].apply(lambda x: \" \".join(x))\n",
    "\n",
    "# # all_tokens = new_df['abstract'].apply(lambda x: \" \".join(x), axis = 0)\n",
    "# vectorizer.fit(all_tokens)"
   ]
  },
  {
   "cell_type": "code",
   "execution_count": 874,
   "metadata": {},
   "outputs": [],
   "source": [
    "# x_train = vectorizer.transform(all_tokens)"
   ]
  },
  {
   "cell_type": "code",
   "execution_count": 875,
   "metadata": {},
   "outputs": [],
   "source": [
    "# x_train = x_train.toarray()"
   ]
  },
  {
   "cell_type": "code",
   "execution_count": 876,
   "metadata": {},
   "outputs": [],
   "source": [
    "# # Top words in the trianing set\n",
    "# word_count = pd.DataFrame({'word': vectorizer.get_feature_names(), 'count': np.asarray(x_train.sum(axis=0))})\n",
    "# word_count.sort_values('count', ascending=False).set_index('word')[:30].sort_values('count', ascending=True).plot(kind='barh')\n"
   ]
  },
  {
   "cell_type": "markdown",
   "metadata": {},
   "source": [
    "### Unigram + bigram LDA modeling"
   ]
  },
  {
   "cell_type": "code",
   "execution_count": 877,
   "metadata": {},
   "outputs": [],
   "source": [
    "import gensim\n",
    "import gensim.corpora as corpora\n",
    "from gensim.utils import simple_preprocess\n",
    "from gensim.models import CoherenceModel\n",
    "from gensim.models import Phrases"
   ]
  },
  {
   "cell_type": "code",
   "execution_count": 878,
   "metadata": {},
   "outputs": [],
   "source": [
    "LDA_data = new_df['abstract_tokens']\n",
    "\n",
    "\n",
    "bigram = Phrases(LDA_data, min_count=1)\n",
    "\n",
    "for idx in range(len(LDA_data)):\n",
    "    for token in bigram[LDA_data[idx]]:\n",
    "        if '_' in token:\n",
    "            # Token is a bigram, add to document.\n",
    "            LDA_data[idx].append(token)\n",
    "            \n",
    "\n",
    "# Reformatting tokens for LDA\n",
    "\n",
    "## this clean numbers out\n",
    "def sent_to_words(sentences):\n",
    "    for sentence in sentences:\n",
    "        yield(gensim.utils.simple_preprocess(str(sentence), deacc=True))  # deacc=True removes punctuations\n",
    "\n",
    "        \n",
    "# construct token list\n",
    "texts = list(sent_to_words(LDA_data))\n",
    "\n",
    "# create dictionary\n",
    "dictionary = corpora.Dictionary(texts)\n",
    "\n",
    "dict(list(dictionary.token2id.items())[0:10])\n",
    "\n",
    "## create corpus for LDA\n",
    "corpus = [dictionary.doc2bow(item) for item in texts]"
   ]
  },
  {
   "cell_type": "code",
   "execution_count": 400,
   "metadata": {},
   "outputs": [],
   "source": [
    "### Search optimal cluster number"
   ]
  },
  {
   "cell_type": "code",
   "execution_count": 821,
   "metadata": {},
   "outputs": [],
   "source": [
    "def compute_coherence_values(dictionary, corpus, texts, limit, start=2, step=3):\n",
    "    \"\"\"\n",
    "    Compute c_v coherence for various number of topics\n",
    "\n",
    "    Parameters:\n",
    "    ----------\n",
    "    dictionary : Gensim dictionary\n",
    "    corpus : Gensim corpus\n",
    "    texts : List of input texts\n",
    "    limit : Max num of topics\n",
    "\n",
    "    Returns:\n",
    "    -------\n",
    "    model_list : List of LDA topic models\n",
    "    coherence_values : Coherence values corresponding to the LDA model with respective number of topics\n",
    "    \"\"\"\n",
    "    coherence_values = []\n",
    "    model_list = []\n",
    "    for num_topics in range(start, limit, step):\n",
    "#         model = gensim.models.wrappers.LdaMallet(mallet_path, \n",
    "#                                                  corpus=corpus,\n",
    "#                                                  num_topics=num_topics,\n",
    "#                                                  id2word=id2word)\n",
    "        \n",
    "        \n",
    "        model = gensim.models.ldamodel.LdaModel(corpus=corpus,\n",
    "                                                id2word=dictionary,\n",
    "                                                num_topics=num_topics,\n",
    "                                                random_state=100,\n",
    "                                                update_every=1,\n",
    "                                                chunksize=100,\n",
    "                                                passes=10,\n",
    "                                                alpha='auto',\n",
    "                                                per_word_topics=True)\n",
    "        \n",
    "        model_list.append(model)\n",
    "        coherencemodel = CoherenceModel(model=model, texts=texts, dictionary=dictionary, coherence='c_v')\n",
    "        coherence_values.append(coherencemodel.get_coherence())\n",
    "\n",
    "    return model_list, coherence_values"
   ]
  },
  {
   "cell_type": "code",
   "execution_count": 822,
   "metadata": {},
   "outputs": [],
   "source": [
    "# Can take a long time to run.\n",
    "model_list, coherence_values = compute_coherence_values(dictionary=dictionary, corpus=corpus, texts=texts, start=2, limit=40, step=6)\n",
    "# Show graph"
   ]
  },
  {
   "cell_type": "code",
   "execution_count": 823,
   "metadata": {},
   "outputs": [
    {
     "data": {
      "image/png": "[encoded data removed]",
      "text/plain": [
       "<Figure size 432x288 with 1 Axes>"
      ]
     },
     "metadata": {
      "needs_background": "light"
     },
     "output_type": "display_data"
    }
   ],
   "source": [
    "# Show graph \n",
    "limit=40; start=2; step=6;\n",
    "x = range(start, limit, step)\n",
    "plt.plot(x, coherence_values)\n",
    "plt.xlabel(\"Num Topics\")\n",
    "plt.ylabel(\"Coherence score\")\n",
    "plt.legend((\"coherence_values\"), loc='best')\n",
    "plt.show()\n",
    "\n",
    "## looks like 8 topic is best"
   ]
  },
  {
   "cell_type": "code",
   "execution_count": 879,
   "metadata": {},
   "outputs": [],
   "source": [
    "## do LDA using 20 topics\n",
    "lda_model = gensim.models.ldamodel.LdaModel(corpus=corpus,\n",
    "                                            id2word=dictionary,\n",
    "                                            num_topics=8,\n",
    "                                            random_state=100,\n",
    "                                            update_every=1,\n",
    "                                            chunksize=100,\n",
    "                                            passes=10,\n",
    "                                            alpha='auto',\n",
    "                                            per_word_topics=True)"
   ]
  },
  {
   "cell_type": "code",
   "execution_count": 880,
   "metadata": {},
   "outputs": [
    {
     "name": "stdout",
     "output_type": "stream",
     "text": [
      "\n",
      "Perplexity:  -9.030173765818004\n"
     ]
    }
   ],
   "source": [
    "print('\\nPerplexity: ', lda_model.log_perplexity(corpus))  # a measure of how good the model is. lower the better.\n"
   ]
  },
  {
   "cell_type": "code",
   "execution_count": 881,
   "metadata": {},
   "outputs": [
    {
     "name": "stdout",
     "output_type": "stream",
     "text": [
      "\n",
      "Coherence Score:  0.5514779466317937\n"
     ]
    }
   ],
   "source": [
    "# Compute Coherence Score\n",
    "coherence_model_lda = CoherenceModel(model=lda_model, texts=texts, dictionary=dictionary, coherence='c_v')\n",
    "coherence_lda = coherence_model_lda.get_coherence()\n",
    "print('\\nCoherence Score: ', coherence_lda)"
   ]
  },
  {
   "cell_type": "code",
   "execution_count": null,
   "metadata": {},
   "outputs": [],
   "source": [
    "import pyLDAvis\n",
    "import pyLDAvis.gensim  \n",
    "# Visualize the topics\n",
    "pyLDAvis.enable_notebook()\n",
    "vis = pyLDAvis.gensim.prepare(lda_model, corpus, dictionary, R = 50)\n",
    "vis"
   ]
  },
  {
   "cell_type": "code",
   "execution_count": 882,
   "metadata": {},
   "outputs": [
    {
     "name": "stdout",
     "output_type": "stream",
     "text": [
      "Topic: 0 \n",
      "Words: sars|cov|virus|strain|pcr|coronavirus|sequence|mers|sample|assay|analysis|genome|positive|using|rna|gene|human|respiratory|two|viral\n",
      "Topic: 1 \n",
      "Words: de|la|en|le|et|al|del|el|un|covid|se|con|gc|cardiovascular|fl|chinese|pour|los|et_al|di\n",
      "Topic: 2 \n",
      "Words: patient|case|clinical|infection|study|hospital|acute|severe|risk|day|respiratory|symptom|group|ci|outcome|pneumonia|treatment|covid|associated|mortality\n",
      "Topic: 3 \n",
      "Words: de|een|van|die|het|met|bronchiolitis|bij|werd|op|und|patienten|voor|pdcov|codon|dat|om|van_de|carboxyl|jarige\n",
      "Topic: 4 \n",
      "Words: covid|model|data|case|number|epidemic|time|transmission|measure|outbreak|rate|spread|result|disease|contact|analysis|network|population|using|world\n",
      "Topic: 5 \n",
      "Words: disease|health|system|based|use|public|infectious|review|study|approach|research|information|potential|new|current|development|emerging|strategy|risk|need\n",
      "Topic: 6 \n",
      "Words: virus|infection|respiratory|influenza|child|study|viral|pathogen|cause|disease|control|rsv|group|associated|tract|human|influenza_virus|common|clinical|acute\n",
      "Topic: 7 \n",
      "Words: cell|protein|virus|infection|viral|expression|response|host|immune|il|mouse|activity|vaccine|gene|effect|induced|role|cd|function|ace\n"
     ]
    }
   ],
   "source": [
    "## show topic and top N key words\n",
    "for idx, topic in lda_model.show_topics(num_topics= 50, formatted=False, num_words= 20):\n",
    "    \n",
    "    print('Topic: {} \\nWords: {}'.format(idx, '|'.join([w[0] for w in topic])))"
   ]
  },
  {
   "cell_type": "code",
   "execution_count": 883,
   "metadata": {},
   "outputs": [],
   "source": [
    "## assign topic to documents\n",
    "topic_assignments = lda_model.get_document_topics(corpus,minimum_probability=0)"
   ]
  },
  {
   "cell_type": "code",
   "execution_count": 884,
   "metadata": {},
   "outputs": [],
   "source": [
    "probabilities = [ [entry for entry in doc] for doc in topic_assignments ]"
   ]
  },
  {
   "cell_type": "code",
   "execution_count": 885,
   "metadata": {},
   "outputs": [],
   "source": [
    "sort_prob = [sorted(x, key = lambda x: x[1], reverse = True) for x in probabilities]"
   ]
  },
  {
   "cell_type": "code",
   "execution_count": 886,
   "metadata": {},
   "outputs": [],
   "source": [
    "## obtain highest score topic\n",
    "\n",
    "topic_list = [x[0][0] for x in sort_prob]"
   ]
  },
  {
   "cell_type": "code",
   "execution_count": 887,
   "metadata": {},
   "outputs": [],
   "source": [
    "new_df['topic_cluster_number'] = topic_list"
   ]
  },
  {
   "cell_type": "code",
   "execution_count": 888,
   "metadata": {},
   "outputs": [
    {
     "data": {
      "text/plain": [
       "7    567\n",
       "5    380\n",
       "0    325\n",
       "2    251\n",
       "4    246\n",
       "6    170\n",
       "1     36\n",
       "3     18\n",
       "Name: single_word_topic, dtype: int64"
      ]
     },
     "execution_count": 888,
     "metadata": {},
     "output_type": "execute_result"
    }
   ],
   "source": [
    "new_df['topic_cluster_number'].value_counts()"
   ]
  },
  {
   "cell_type": "code",
   "execution_count": 889,
   "metadata": {},
   "outputs": [
    {
     "data": {
      "text/plain": [
       "(array([325.,  36., 251.,  18., 246., 380., 170., 567.]),\n",
       " array([0.   , 0.875, 1.75 , 2.625, 3.5  , 4.375, 5.25 , 6.125, 7.   ]),\n",
       " <a list of 8 Patch objects>)"
      ]
     },
     "execution_count": 889,
     "metadata": {},
     "output_type": "execute_result"
    },
    {
     "data": {
      "image/png": "[encoded data removed]",
      "text/plain": [
       "<Figure size 432x288 with 1 Axes>"
      ]
     },
     "metadata": {
      "needs_background": "light"
     },
     "output_type": "display_data"
    }
   ],
   "source": [
    "plt.hist(new_df['topic_cluster_number'],bins = 8)"
   ]
  },
  {
   "cell_type": "code",
   "execution_count": null,
   "metadata": {},
   "outputs": [],
   "source": []
  },
  {
   "cell_type": "code",
   "execution_count": 904,
   "metadata": {},
   "outputs": [
    {
     "data": {
      "text/plain": [
       "32      abstract patiënt a is een 39-jarige vrouw met ...\n",
       "168     abstract dokumentation folge 3 279 voisi~ a pa...\n",
       "656     abstract dr m keuter  drs j van den hombergh 1...\n",
       "693     abstract nucleoside analogues are among the mo...\n",
       "885     abstract bovine viral diarrhea virus (bvdv) is...\n",
       "1040    abstract die pandemie durch das coronavirus sa...\n",
       "1074    abstract in twee maanden tijd werd in ons ziek...\n",
       "1262    abstract this investigation was aimed to compa...\n",
       "1334    abstract zusammenfassung bei lungenfunktionsst...\n",
       "1471    abstract in september 2012 is een nieuw type c...\n",
       "1495    abstract chikungunya virus (chikv) is an arthr...\n",
       "1572    abstract ook al zijn we ons daarvan niet altij...\n",
       "1637    abstract summary five tumours removed from the...\n",
       "1735    abstract cystische fibrose (cf) is een ziekte ...\n",
       "1814    abstract in der aktuellen covid-19-pandemie st...\n",
       "1827    abstract 1 klinische pr aktijk patiënt a een 5...\n",
       "1851    abstract de behandeling van chronisch zieke pa...\n",
       "1941    abstract retinitis door infectie met de parasi...\n",
       "Name: abstract, dtype: object"
      ]
     },
     "execution_count": 904,
     "metadata": {},
     "output_type": "execute_result"
    }
   ],
   "source": [
    "new_df[new_df['single_word_topic'] == 3]['abstract']"
   ]
  },
  {
   "cell_type": "code",
   "execution_count": 99,
   "metadata": {},
   "outputs": [],
   "source": [
    "## Train Test Split"
   ]
  },
  {
   "cell_type": "code",
   "execution_count": 906,
   "metadata": {},
   "outputs": [],
   "source": [
    "test_df = new_df[new_df['title_word_count'] < 4].copy()"
   ]
  },
  {
   "cell_type": "code",
   "execution_count": 907,
   "metadata": {},
   "outputs": [],
   "source": [
    "# set the erroreous title as empty\n",
    "test_df['title'] = ''\n",
    "test_df['title_word_count'] = 0"
   ]
  },
  {
   "cell_type": "code",
   "execution_count": null,
   "metadata": {},
   "outputs": [],
   "source": []
  },
  {
   "cell_type": "code",
   "execution_count": 892,
   "metadata": {},
   "outputs": [],
   "source": [
    "# train dataset\n",
    "train_df = new_df.drop(test_df.index).copy()"
   ]
  },
  {
   "cell_type": "code",
   "execution_count": 893,
   "metadata": {},
   "outputs": [],
   "source": [
    "train_df=train_df.reset_index(drop=True)\n",
    "test_df=test_df.reset_index(drop=True)"
   ]
  },
  {
   "cell_type": "code",
   "execution_count": 894,
   "metadata": {},
   "outputs": [
    {
     "data": {
      "text/plain": [
       "(111, 14)"
      ]
     },
     "execution_count": 894,
     "metadata": {},
     "output_type": "execute_result"
    }
   ],
   "source": [
    "test_df.shape"
   ]
  },
  {
   "cell_type": "code",
   "execution_count": 895,
   "metadata": {},
   "outputs": [
    {
     "data": {
      "text/plain": [
       "(1882, 14)"
      ]
     },
     "execution_count": 895,
     "metadata": {},
     "output_type": "execute_result"
    }
   ],
   "source": [
    "train_df.shape"
   ]
  },
  {
   "cell_type": "code",
   "execution_count": 105,
   "metadata": {},
   "outputs": [],
   "source": [
    "#remove articles that are not related to COVID-19 based on publish time\n",
    "## WIP\n",
    "# clean_df=clean_df[(clean_df['publish_time']>'2019-11-01') & (merge_final['text_body'].str.contains('nCoV|Cov|COVID|covid|SARS-CoV-2|sars-cov-2'))]\n",
    "# clean_df.shape"
   ]
  },
  {
   "cell_type": "code",
   "execution_count": 897,
   "metadata": {},
   "outputs": [],
   "source": [
    "train_df.to_csv(data_path/ 'cleaned_data' / 'train_dataset.csv')\n",
    "test_df.to_csv(data_path/ 'cleaned_data' / 'test_dataset.csv')"
   ]
  },
  {
   "cell_type": "code",
   "execution_count": null,
   "metadata": {},
   "outputs": [],
   "source": []
  },
  {
   "cell_type": "code",
   "execution_count": 908,
   "metadata": {},
   "outputs": [
    {
     "data": {
      "text/html": [
       "<div>\n",
       "<style scoped>\n",
       "    .dataframe tbody tr th:only-of-type {\n",
       "        vertical-align: middle;\n",
       "    }\n",
       "\n",
       "    .dataframe tbody tr th {\n",
       "        vertical-align: top;\n",
       "    }\n",
       "\n",
       "    .dataframe thead th {\n",
       "        text-align: right;\n",
       "    }\n",
       "</style>\n",
       "<table border=\"1\" class=\"dataframe\">\n",
       "  <thead>\n",
       "    <tr style=\"text-align: right;\">\n",
       "      <th></th>\n",
       "      <th>paper_id</th>\n",
       "      <th>title</th>\n",
       "      <th>authors</th>\n",
       "      <th>affiliations</th>\n",
       "      <th>abstract</th>\n",
       "      <th>text</th>\n",
       "      <th>bibliography</th>\n",
       "      <th>raw_authors</th>\n",
       "      <th>raw_bibliography</th>\n",
       "      <th>title_word_count</th>\n",
       "      <th>abstract_word_count</th>\n",
       "      <th>body_word_count</th>\n",
       "      <th>abstract_tokens</th>\n",
       "      <th>single_word_topic</th>\n",
       "    </tr>\n",
       "  </thead>\n",
       "  <tbody>\n",
       "    <tr>\n",
       "      <th>18</th>\n",
       "      <td>b9632f2268a31399f304f4a0b58471e2d2fcaab4</td>\n",
       "      <td></td>\n",
       "      <td>Wanbo Zhu, Kai Xie, | Hui Lu, Lei Xu, Shusheng...</td>\n",
       "      <td>Wanbo Zhu (The First Affiliated Hospital of Un...</td>\n",
       "      <td>abstract with an increasing number of coronavi...</td>\n",
       "      <td>2019-ncov shares over 79% of its genome seque...</td>\n",
       "      <td>Clinical management of severe acute respirator...</td>\n",
       "      <td>[{'first': 'Wanbo', 'middle': [], 'last': 'Zhu...</td>\n",
       "      <td>{'BIBREF0': {'ref_id': 'b0', 'title': 'Clinica...</td>\n",
       "      <td>0</td>\n",
       "      <td>444</td>\n",
       "      <td>1667</td>\n",
       "      <td>[increasing, number, coronavirus, disease, 201...</td>\n",
       "      <td>2</td>\n",
       "    </tr>\n",
       "    <tr>\n",
       "      <th>88</th>\n",
       "      <td>0fcd3975664a5658071a8b4bc878539fd5e788bd</td>\n",
       "      <td></td>\n",
       "      <td>Antonio Scala, Andrea Flori, Alessandro Spelta...</td>\n",
       "      <td>Antonio Scala (CNR-ISC), Andrea Flori (Politec...</td>\n",
       "      <td>abstract we develop a minimal compartmental mo...</td>\n",
       "      <td>introduction epidemic modelling is not a new f...</td>\n",
       "      <td>Models of foot-and-mouth disease, J Matt,  Kee...</td>\n",
       "      <td>[{'first': 'Antonio', 'middle': [], 'last': 'S...</td>\n",
       "      <td>{'BIBREF0': {'ref_id': 'b0', 'title': 'Models ...</td>\n",
       "      <td>0</td>\n",
       "      <td>206</td>\n",
       "      <td>6495</td>\n",
       "      <td>[develop, minimal, compartmental, model, analy...</td>\n",
       "      <td>4</td>\n",
       "    </tr>\n",
       "    <tr>\n",
       "      <th>90</th>\n",
       "      <td>8a98cb8d707c25c75ab93abc33960cf417f03281</td>\n",
       "      <td></td>\n",
       "      <td>Philippe Parola, Georges Soula, Pierre Gazin, ...</td>\n",
       "      <td>Philippe Parola (AP-HM, 13015, Marseille, Fran...</td>\n",
       "      <td>abstract background: febrile travelers may pos...</td>\n",
       "      <td>millions of people from industrialized countr...</td>\n",
       "      <td>Assessment of travellers who return home ill, ...</td>\n",
       "      <td>[{'first': 'Philippe', 'middle': [], 'last': '...</td>\n",
       "      <td>{'BIBREF1': {'ref_id': 'b1', 'title': 'Assessm...</td>\n",
       "      <td>0</td>\n",
       "      <td>255</td>\n",
       "      <td>4994</td>\n",
       "      <td>[background:, febrile, traveler, may, pose, di...</td>\n",
       "      <td>5</td>\n",
       "    </tr>\n",
       "    <tr>\n",
       "      <th>156</th>\n",
       "      <td>579ba516a18b89a67eedcd6a011528c6a9232a87</td>\n",
       "      <td></td>\n",
       "      <td>A Menchaca, P C Dos Santos-Neto, A P Mulet, M ...</td>\n",
       "      <td>A Menchaca, P C Dos Santos-Neto, A P Mulet (In...</td>\n",
       "      <td>abstract precise genome editing of large anima...</td>\n",
       "      <td>introduction genome editing in large animals m...</td>\n",
       "      <td>World population prospects: the 2017 revision,...</td>\n",
       "      <td>[{'first': 'A', 'middle': [], 'last': 'Menchac...</td>\n",
       "      <td>{'BIBREF0': {'ref_id': 'b0', 'title': 'World p...</td>\n",
       "      <td>0</td>\n",
       "      <td>185</td>\n",
       "      <td>5666</td>\n",
       "      <td>[precise, genome, editing, large, animal, appl...</td>\n",
       "      <td>5</td>\n",
       "    </tr>\n",
       "    <tr>\n",
       "      <th>159</th>\n",
       "      <td>fe9e0a57d1c3b9481dd0f1782f02370c9f04d33b</td>\n",
       "      <td></td>\n",
       "      <td>B Koul, • J Singh, Bhupendra Koul, Joginder Singh</td>\n",
       "      <td>B Koul, • J Singh, Bhupendra Koul, Joginder Singh</td>\n",
       "      <td>abstract lychee (litchi chinensis sonn) is one...</td>\n",
       "      <td>origin and history lychee (litchi chinensis so...</td>\n",
       "      <td>Preventing the darkening of fresh lychees prep...</td>\n",
       "      <td>[{'first': 'B', 'middle': [], 'last': 'Koul', ...</td>\n",
       "      <td>{'BIBREF0': {'ref_id': 'b0', 'title': 'Prevent...</td>\n",
       "      <td>0</td>\n",
       "      <td>238</td>\n",
       "      <td>5340</td>\n",
       "      <td>[lychee, (litchi, chinensis, sonn), one, rever...</td>\n",
       "      <td>5</td>\n",
       "    </tr>\n",
       "  </tbody>\n",
       "</table>\n",
       "</div>"
      ],
      "text/plain": [
       "                                     paper_id title  \\\n",
       "18   b9632f2268a31399f304f4a0b58471e2d2fcaab4         \n",
       "88   0fcd3975664a5658071a8b4bc878539fd5e788bd         \n",
       "90   8a98cb8d707c25c75ab93abc33960cf417f03281         \n",
       "156  579ba516a18b89a67eedcd6a011528c6a9232a87         \n",
       "159  fe9e0a57d1c3b9481dd0f1782f02370c9f04d33b         \n",
       "\n",
       "                                               authors  \\\n",
       "18   Wanbo Zhu, Kai Xie, | Hui Lu, Lei Xu, Shusheng...   \n",
       "88   Antonio Scala, Andrea Flori, Alessandro Spelta...   \n",
       "90   Philippe Parola, Georges Soula, Pierre Gazin, ...   \n",
       "156  A Menchaca, P C Dos Santos-Neto, A P Mulet, M ...   \n",
       "159  B Koul, • J Singh, Bhupendra Koul, Joginder Singh   \n",
       "\n",
       "                                          affiliations  \\\n",
       "18   Wanbo Zhu (The First Affiliated Hospital of Un...   \n",
       "88   Antonio Scala (CNR-ISC), Andrea Flori (Politec...   \n",
       "90   Philippe Parola (AP-HM, 13015, Marseille, Fran...   \n",
       "156  A Menchaca, P C Dos Santos-Neto, A P Mulet (In...   \n",
       "159  B Koul, • J Singh, Bhupendra Koul, Joginder Singh   \n",
       "\n",
       "                                              abstract  \\\n",
       "18   abstract with an increasing number of coronavi...   \n",
       "88   abstract we develop a minimal compartmental mo...   \n",
       "90   abstract background: febrile travelers may pos...   \n",
       "156  abstract precise genome editing of large anima...   \n",
       "159  abstract lychee (litchi chinensis sonn) is one...   \n",
       "\n",
       "                                                  text  \\\n",
       "18    2019-ncov shares over 79% of its genome seque...   \n",
       "88   introduction epidemic modelling is not a new f...   \n",
       "90    millions of people from industrialized countr...   \n",
       "156  introduction genome editing in large animals m...   \n",
       "159  origin and history lychee (litchi chinensis so...   \n",
       "\n",
       "                                          bibliography  \\\n",
       "18   Clinical management of severe acute respirator...   \n",
       "88   Models of foot-and-mouth disease, J Matt,  Kee...   \n",
       "90   Assessment of travellers who return home ill, ...   \n",
       "156  World population prospects: the 2017 revision,...   \n",
       "159  Preventing the darkening of fresh lychees prep...   \n",
       "\n",
       "                                           raw_authors  \\\n",
       "18   [{'first': 'Wanbo', 'middle': [], 'last': 'Zhu...   \n",
       "88   [{'first': 'Antonio', 'middle': [], 'last': 'S...   \n",
       "90   [{'first': 'Philippe', 'middle': [], 'last': '...   \n",
       "156  [{'first': 'A', 'middle': [], 'last': 'Menchac...   \n",
       "159  [{'first': 'B', 'middle': [], 'last': 'Koul', ...   \n",
       "\n",
       "                                      raw_bibliography  title_word_count  \\\n",
       "18   {'BIBREF0': {'ref_id': 'b0', 'title': 'Clinica...                 0   \n",
       "88   {'BIBREF0': {'ref_id': 'b0', 'title': 'Models ...                 0   \n",
       "90   {'BIBREF1': {'ref_id': 'b1', 'title': 'Assessm...                 0   \n",
       "156  {'BIBREF0': {'ref_id': 'b0', 'title': 'World p...                 0   \n",
       "159  {'BIBREF0': {'ref_id': 'b0', 'title': 'Prevent...                 0   \n",
       "\n",
       "     abstract_word_count  body_word_count  \\\n",
       "18                   444             1667   \n",
       "88                   206             6495   \n",
       "90                   255             4994   \n",
       "156                  185             5666   \n",
       "159                  238             5340   \n",
       "\n",
       "                                       abstract_tokens  single_word_topic  \n",
       "18   [increasing, number, coronavirus, disease, 201...                  2  \n",
       "88   [develop, minimal, compartmental, model, analy...                  4  \n",
       "90   [background:, febrile, traveler, may, pose, di...                  5  \n",
       "156  [precise, genome, editing, large, animal, appl...                  5  \n",
       "159  [lychee, (litchi, chinensis, sonn), one, rever...                  5  "
      ]
     },
     "execution_count": 908,
     "metadata": {},
     "output_type": "execute_result"
    }
   ],
   "source": [
    "test_df.head()"
   ]
  },
  {
   "cell_type": "markdown",
   "metadata": {},
   "source": [
    "## Algorithm testing"
   ]
  },
  {
   "cell_type": "code",
   "execution_count": 107,
   "metadata": {},
   "outputs": [],
   "source": [
    "train_df = pd.read_csv(data_path/ 'cleaned_data' / 'train_dataset.csv')\n"
   ]
  },
  {
   "cell_type": "code",
   "execution_count": null,
   "metadata": {},
   "outputs": [],
   "source": [
    "\n",
    "# load BART summarizer\n",
    "# summarizer = pipeline(task=\"summarization\")\n"
   ]
  },
  {
   "cell_type": "code",
   "execution_count": null,
   "metadata": {},
   "outputs": [],
   "source": [
    "\n",
    "\n",
    "# summary = summarizer(clean_df['abstract'][0], min_length=50, max_length=3312)"
   ]
  },
  {
   "cell_type": "code",
   "execution_count": 13,
   "metadata": {},
   "outputs": [],
   "source": [
    "## BERT\n",
    "from summarizer import Summarizer\n",
    "\n",
    "model = Summarizer()\n",
    "result = model(train_df['abstract'][0], min_length=50,max_length=100)\n",
    "full0 = ''.join(result)"
   ]
  },
  {
   "cell_type": "code",
   "execution_count": 14,
   "metadata": {},
   "outputs": [
    {
     "name": "stdout",
     "output_type": "stream",
     "text": [
      "''\n"
     ]
    }
   ],
   "source": [
    "pprint(full0)"
   ]
  },
  {
   "cell_type": "code",
   "execution_count": 10,
   "metadata": {},
   "outputs": [],
   "source": [
    "#GPT2\n",
    "from summarizer import Summarizer,TransformerSummarizer\n",
    "\n",
    "GPT2_model = TransformerSummarizer(transformer_type=\"GPT2\",transformer_model_key=\"gpt2-medium\")\n",
    "full = ''.join(GPT2_model(train_df['abstract'][0], min_length=50, max_length=100))"
   ]
  },
  {
   "cell_type": "code",
   "execution_count": 11,
   "metadata": {},
   "outputs": [
    {
     "name": "stdout",
     "output_type": "stream",
     "text": [
      "''\n"
     ]
    }
   ],
   "source": [
    "pprint(full)"
   ]
  },
  {
   "cell_type": "code",
   "execution_count": null,
   "metadata": {},
   "outputs": [],
   "source": [
    "## Bart Text Summarization\n",
    "\n",
    "#### problem:\n",
    "\n",
    "#### BART seems working anyway\n",
    "#### limitation is 1024 words(token)"
   ]
  },
  {
   "cell_type": "code",
   "execution_count": 31,
   "metadata": {},
   "outputs": [],
   "source": [
    "import torch\n",
    "from transformers import BartTokenizer, BartForConditionalGeneration\n",
    "from transformers import pipeline\n",
    "\n",
    "torch_device = 'cuda' if torch.cuda.is_available() else 'cpu'\n",
    "model = BartForConditionalGeneration.from_pretrained('facebook/bart-large-cnn')\n",
    "tokenizer = BartTokenizer.from_pretrained('facebook/bart-large-cnn')\n",
    "\n",
    "summarizer = pipeline(task=\"summarization\", model=model, tokenizer=tokenizer)"
   ]
  },
  {
   "cell_type": "code",
   "execution_count": 41,
   "metadata": {},
   "outputs": [
    {
     "name": "stderr",
     "output_type": "stream",
     "text": [
      "WARNING:transformers.tokenization_utils:Token indices sequence length is longer than the specified maximum sequence length for this model (5234 > 1024). Running this sequence through the model will result in indexing errors\n"
     ]
    }
   ],
   "source": [
    "# test size of tokens\n",
    "input_ids = tokenizer.encode(train_df['text'][1], add_special_tokens=True)\n",
    "\n",
    "## input is too long!\n",
    "len(input_ids)"
   ]
  },
  {
   "cell_type": "code",
   "execution_count": null,
   "metadata": {},
   "outputs": [],
   "source": [
    "# ' '.join(tokenizer.convert_ids_to_tokens(input_ids)) "
   ]
  },
  {
   "cell_type": "code",
   "execution_count": null,
   "metadata": {},
   "outputs": [],
   "source": []
  },
  {
   "cell_type": "code",
   "execution_count": 48,
   "metadata": {},
   "outputs": [
    {
     "name": "stdout",
     "output_type": "stream",
     "text": [
      "[{'summary_text': 'Study investigated the longterm impact of antibiotic use policy on the rates of consumption expressed as dailydefined doses1000 patientdays of various parenteral antibiotics. It also looked at the prevalence of methicillinresistant Staphylococcus aureus MRSA and the incidence of healthcareassociated MRSA HAMRSA infection.'}]\n"
     ]
    }
   ],
   "source": [
    "full3 = summarizer(train_df['abstract'][0], min_length=30, max_length=100)\n",
    "print(full3)"
   ]
  },
  {
   "cell_type": "markdown",
   "metadata": {},
   "source": [
    "\n",
    "\n",
    "\n"
   ]
  },
  {
   "cell_type": "code",
   "execution_count": null,
   "metadata": {},
   "outputs": [],
   "source": [
    "## T5\n",
    "\n",
    "## T5 limitation is 512 tokens"
   ]
  },
  {
   "cell_type": "code",
   "execution_count": 47,
   "metadata": {},
   "outputs": [
    {
     "name": "stdout",
     "output_type": "stream",
     "text": [
      "original text preprocessed: \n",
      " Abstract The present study investigated the longterm impact of antibiotic use policy on the rates of consumption expressed as dailydefined doses1000 patientdays of various parenteral antibiotics and on the prevalence of methicillinresistant Staphylococcus aureus MRSA and the incidence of healthcareassociated MRSA HAMRSA infection at a tertiary care hospital from 2001 to 2009 During this time consumption of all antimicrobials for systemic use decreased by 33 This change was driven by a 44 decrease in the consumption of unrestricted antibacterials which was offset by a 42 increase in the consumption of restricted agents The trends in MRSA prevalence number of isolates1000 patientdays and HAMRSA incidence number of HAMRSAinfected persons1000 patientdays correlated with the trend in overall consumption of antimicrobials Significant positive correlations were observed between MRSA prevalence and the consumption of extendedspectrum and lactamaseresistant penicillins firstgeneration cephalosporins macrolides lincosamides and streptogramins aminoglycosides and glycopeptides Significant positive correlations were found between the incidence of HAMRSA infection and the consumption of tetracyclines extendedspectrum and lactamaseresistant penicillins sulfonamides and trimethoprim macrolides lincosamides and streptogramins and aminoglycosides In conclusion we have documented the ongoing successful reduction in total consumption of antimicrobials associated with a decrease in the incidence of HAMRSA and the prevalence of MRSA over a 9year period\n",
      "\n",
      "\n",
      "Summarized text: \n",
      " the present study investigated the longterm impact of antibiotic use policy on the rates of consumption expressed as dailydefined doses1000 patientdays of various parenteral antibiotics. this change was driven by a 44 decrease in the consumption of unrestricted antibacterials which was offset by the 42 increase in sizing of restricted agents The trends in MRSA prevalence number of isolates and HAMRSA incidence numbers of hamRSAinfected persons correlated with the\n"
     ]
    }
   ],
   "source": [
    "from transformers import T5Tokenizer, T5ForConditionalGeneration, T5Config\n",
    "\n",
    "model = T5ForConditionalGeneration.from_pretrained('t5-small')\n",
    "tokenizer = T5Tokenizer.from_pretrained('t5-small')\n",
    "device = torch.device('cpu')\n",
    "\n",
    "text = train_df['abstract'][0]\n",
    "\n",
    "\n",
    "preprocess_text = text.strip().replace(\"\\n\",\"\")\n",
    "t5_prepared_Text = \"summarize: \"+preprocess_text\n",
    "print (\"original text preprocessed: \\n\", preprocess_text)\n",
    "\n",
    "tokenized_text = tokenizer.encode(t5_prepared_Text, return_tensors=\"pt\").to(device)\n",
    "\n",
    "\n",
    "# summmarize \n",
    "summary_ids = model.generate(tokenized_text,\n",
    "                            num_beams=4,\n",
    "                            no_repeat_ngram_size=2,\n",
    "                            min_length=30,\n",
    "                            max_length=100,\n",
    "                            early_stopping=True)\n",
    "\n",
    "output = tokenizer.decode(summary_ids[0], skip_special_tokens=True)\n",
    "\n",
    "print (\"\\n\\nSummarized text: \\n\",output)"
   ]
  },
  {
   "cell_type": "code",
   "execution_count": 19,
   "metadata": {},
   "outputs": [
    {
     "data": {
      "application/vnd.jupyter.widget-view+json": {
       "model_id": "0fe22605aef3447daac83a579d360ed9",
       "version_major": 2,
       "version_minor": 0
      },
      "text/plain": [
       "HBox(children=(FloatProgress(value=0.0, description='Downloading', max=1199.0, style=ProgressStyle(description…"
      ]
     },
     "metadata": {},
     "output_type": "display_data"
    },
    {
     "name": "stdout",
     "output_type": "stream",
     "text": [
      "\n"
     ]
    },
    {
     "data": {
      "application/vnd.jupyter.widget-view+json": {
       "model_id": "d2bcaa8883cf47ed83a575e24e76efee",
       "version_major": 2,
       "version_minor": 0
      },
      "text/plain": [
       "HBox(children=(FloatProgress(value=0.0, description='Downloading', max=230.0, style=ProgressStyle(description_…"
      ]
     },
     "metadata": {},
     "output_type": "display_data"
    },
    {
     "name": "stdout",
     "output_type": "stream",
     "text": [
      "\n"
     ]
    },
    {
     "data": {
      "application/vnd.jupyter.widget-view+json": {
       "model_id": "128c9794e9674f819088c37711bd3efa",
       "version_major": 2,
       "version_minor": 0
      },
      "text/plain": [
       "HBox(children=(FloatProgress(value=0.0, description='Downloading', max=892146080.0, style=ProgressStyle(descri…"
      ]
     },
     "metadata": {},
     "output_type": "display_data"
    },
    {
     "name": "stdout",
     "output_type": "stream",
     "text": [
      "\n"
     ]
    },
    {
     "name": "stderr",
     "output_type": "stream",
     "text": [
      "WARNING:transformers.tokenization_utils:Token indices sequence length is longer than the specified maximum sequence length for this model (3991 > 512). Running this sequence through the model will result in indexing errors\n"
     ]
    },
    {
     "data": {
      "text/plain": [
       "[{'summary_text': 'the prevalence of hamrsa and mrssa in ta'}]"
      ]
     },
     "execution_count": 19,
     "metadata": {},
     "output_type": "execute_result"
    }
   ],
   "source": [
    "summarizer = pipeline(\"summarization\", \n",
    "                      model=\"t5-base\", \n",
    "                      tokenizer=\"t5-base\", \n",
    "                      framework=\"tf\")\n",
    "\n",
    "summarizer(train_df['text'][0], min_length=5, max_length=20)\n"
   ]
  },
  {
   "cell_type": "code",
   "execution_count": 44,
   "metadata": {},
   "outputs": [
    {
     "data": {
      "text/plain": [
       "2537"
      ]
     },
     "execution_count": 44,
     "metadata": {},
     "output_type": "execute_result"
    }
   ],
   "source": [
    "len(train_df['text'][0].split())"
   ]
  },
  {
   "cell_type": "code",
   "execution_count": null,
   "metadata": {},
   "outputs": [],
   "source": []
  }
 ],
 "metadata": {
  "kernelspec": {
   "display_name": "Python 3",
   "language": "python",
   "name": "python3"
  },
  "language_info": {
   "codemirror_mode": {
    "name": "ipython",
    "version": 3
   },
   "file_extension": ".py",
   "mimetype": "text/x-python",
   "name": "python",
   "nbconvert_exporter": "python",
   "pygments_lexer": "ipython3",
   "version": "3.8.2"
  }
 },
 "nbformat": 4,
 "nbformat_minor": 4
}
