{
 "cells": [
  {
   "cell_type": "code",
   "execution_count": 507,
   "metadata": {},
   "outputs": [],
   "source": [
    "import os\n",
    "import pandas as pd\n",
    "from pathlib import Path\n",
    "import json\n",
    "from pprint import pprint\n",
    "from copy import deepcopy\n",
    "import random\n",
    "import numpy as np\n",
    "import pandas as pd\n",
    "from tqdm.notebook import tqdm\n",
    "import matplotlib.pyplot as plt\n",
    "import warnings\n",
    "warnings.filterwarnings('ignore')"
   ]
  },
  {
   "cell_type": "code",
   "execution_count": 64,
   "metadata": {},
   "outputs": [],
   "source": [
    "working_path = Path('/home/zhanj289/side_projects/cord_19/')"
   ]
  },
  {
   "cell_type": "code",
   "execution_count": 65,
   "metadata": {},
   "outputs": [],
   "source": [
    "data_path = Path('/home/zhanj289/side_projects/cord_19/') / 'data'"
   ]
  },
  {
   "cell_type": "code",
   "execution_count": 66,
   "metadata": {},
   "outputs": [],
   "source": [
    "## PMC JSON looks like having no 'abstract' key"
   ]
  },
  {
   "cell_type": "code",
   "execution_count": 67,
   "metadata": {},
   "outputs": [],
   "source": [
    "## check meta data\n",
    "\n",
    "meta_data = pd.read_csv(data_path/'metadata.csv')"
   ]
  },
  {
   "cell_type": "code",
   "execution_count": 68,
   "metadata": {},
   "outputs": [
    {
     "data": {
      "text/html": [
       "<div>\n",
       "<style scoped>\n",
       "    .dataframe tbody tr th:only-of-type {\n",
       "        vertical-align: middle;\n",
       "    }\n",
       "\n",
       "    .dataframe tbody tr th {\n",
       "        vertical-align: top;\n",
       "    }\n",
       "\n",
       "    .dataframe thead th {\n",
       "        text-align: right;\n",
       "    }\n",
       "</style>\n",
       "<table border=\"1\" class=\"dataframe\">\n",
       "  <thead>\n",
       "    <tr style=\"text-align: right;\">\n",
       "      <th></th>\n",
       "      <th>cord_uid</th>\n",
       "      <th>sha</th>\n",
       "      <th>source_x</th>\n",
       "      <th>title</th>\n",
       "      <th>doi</th>\n",
       "      <th>pmcid</th>\n",
       "      <th>pubmed_id</th>\n",
       "      <th>license</th>\n",
       "      <th>abstract</th>\n",
       "      <th>publish_time</th>\n",
       "      <th>authors</th>\n",
       "      <th>journal</th>\n",
       "      <th>mag_id</th>\n",
       "      <th>who_covidence_id</th>\n",
       "      <th>arxiv_id</th>\n",
       "      <th>pdf_json_files</th>\n",
       "      <th>pmc_json_files</th>\n",
       "      <th>url</th>\n",
       "      <th>s2_id</th>\n",
       "    </tr>\n",
       "  </thead>\n",
       "  <tbody>\n",
       "    <tr>\n",
       "      <th>31</th>\n",
       "      <td>6iu1dtyl</td>\n",
       "      <td>6e8517cb25ff228cb48da90a9c97d9c274dc8031</td>\n",
       "      <td>PMC</td>\n",
       "      <td>The site of origin of the 1918 influenza pande...</td>\n",
       "      <td>10.1186/1479-5876-2-3</td>\n",
       "      <td>PMC340389</td>\n",
       "      <td>14733617.0</td>\n",
       "      <td>no-cc</td>\n",
       "      <td>NaN</td>\n",
       "      <td>2004-01-20</td>\n",
       "      <td>Barry, John M</td>\n",
       "      <td>J Transl Med</td>\n",
       "      <td>NaN</td>\n",
       "      <td>NaN</td>\n",
       "      <td>NaN</td>\n",
       "      <td>document_parses/pdf_json/6e8517cb25ff228cb48da...</td>\n",
       "      <td>document_parses/pmc_json/PMC340389.xml.json</td>\n",
       "      <td>https://www.ncbi.nlm.nih.gov/pmc/articles/PMC3...</td>\n",
       "      <td>NaN</td>\n",
       "    </tr>\n",
       "    <tr>\n",
       "      <th>35</th>\n",
       "      <td>1769ovyk</td>\n",
       "      <td>c5131e5f5c6000ec84139edc64778a6f1d391b83</td>\n",
       "      <td>PMC</td>\n",
       "      <td>8th Annual Toronto Critical Care Medicine Symp...</td>\n",
       "      <td>10.1186/cc2429</td>\n",
       "      <td>PMC420071</td>\n",
       "      <td>14975048.0</td>\n",
       "      <td>no-cc</td>\n",
       "      <td>NaN</td>\n",
       "      <td>2004-01-02</td>\n",
       "      <td>Granton, Jeff; Granton, John</td>\n",
       "      <td>Crit Care</td>\n",
       "      <td>NaN</td>\n",
       "      <td>NaN</td>\n",
       "      <td>NaN</td>\n",
       "      <td>document_parses/pdf_json/c5131e5f5c6000ec84139...</td>\n",
       "      <td>document_parses/pmc_json/PMC420071.xml.json</td>\n",
       "      <td>https://www.ncbi.nlm.nih.gov/pmc/articles/PMC4...</td>\n",
       "      <td>NaN</td>\n",
       "    </tr>\n",
       "    <tr>\n",
       "      <th>36</th>\n",
       "      <td>tixxm78q</td>\n",
       "      <td>8a7d5de5ea680e784ab2bd877240bf09e4c1c02d</td>\n",
       "      <td>PMC</td>\n",
       "      <td>Recently published papers: all the usual suspe...</td>\n",
       "      <td>10.1186/cc2449</td>\n",
       "      <td>PMC420074</td>\n",
       "      <td>14975037.0</td>\n",
       "      <td>no-cc</td>\n",
       "      <td>NaN</td>\n",
       "      <td>2004-01-02</td>\n",
       "      <td>Ball, Jonathan</td>\n",
       "      <td>Crit Care</td>\n",
       "      <td>NaN</td>\n",
       "      <td>NaN</td>\n",
       "      <td>NaN</td>\n",
       "      <td>document_parses/pdf_json/8a7d5de5ea680e784ab2b...</td>\n",
       "      <td>document_parses/pmc_json/PMC420074.xml.json</td>\n",
       "      <td>https://www.ncbi.nlm.nih.gov/pmc/articles/PMC4...</td>\n",
       "      <td>NaN</td>\n",
       "    </tr>\n",
       "    <tr>\n",
       "      <th>105</th>\n",
       "      <td>r8j6lhoc</td>\n",
       "      <td>c6c8b82bc5a800425b075540eff41b0af719f80f</td>\n",
       "      <td>PMC</td>\n",
       "      <td>HIV Epidemiology in Africa: Weak Variables and...</td>\n",
       "      <td>10.1371/journal.pmed.0020137</td>\n",
       "      <td>PMC1140948</td>\n",
       "      <td>15916469.0</td>\n",
       "      <td>cc-by</td>\n",
       "      <td>NaN</td>\n",
       "      <td>2005-05-31</td>\n",
       "      <td>Brody, Stuart; Potterat, John J</td>\n",
       "      <td>PLoS Med</td>\n",
       "      <td>NaN</td>\n",
       "      <td>NaN</td>\n",
       "      <td>NaN</td>\n",
       "      <td>document_parses/pdf_json/c6c8b82bc5a800425b075...</td>\n",
       "      <td>document_parses/pmc_json/PMC1140948.xml.json</td>\n",
       "      <td>https://www.ncbi.nlm.nih.gov/pmc/articles/PMC1...</td>\n",
       "      <td>NaN</td>\n",
       "    </tr>\n",
       "    <tr>\n",
       "      <th>133</th>\n",
       "      <td>az4a70b0</td>\n",
       "      <td>cc698ffabf545da2fd7ee6a5cb4f25d9102a856a</td>\n",
       "      <td>PMC</td>\n",
       "      <td>eCAM benefits from diversity that derives from...</td>\n",
       "      <td>10.1093/ecam/neh120</td>\n",
       "      <td>PMC1193560</td>\n",
       "      <td>16136204.0</td>\n",
       "      <td>no-cc</td>\n",
       "      <td>NaN</td>\n",
       "      <td>2005-09-01</td>\n",
       "      <td>Cooper, Edwin L.</td>\n",
       "      <td>Evid Based Complement Alternat Med</td>\n",
       "      <td>NaN</td>\n",
       "      <td>NaN</td>\n",
       "      <td>NaN</td>\n",
       "      <td>document_parses/pdf_json/cc698ffabf545da2fd7ee...</td>\n",
       "      <td>document_parses/pmc_json/PMC1193560.xml.json</td>\n",
       "      <td>https://www.ncbi.nlm.nih.gov/pmc/articles/PMC1...</td>\n",
       "      <td>NaN</td>\n",
       "    </tr>\n",
       "  </tbody>\n",
       "</table>\n",
       "</div>"
      ],
      "text/plain": [
       "     cord_uid                                       sha source_x  \\\n",
       "31   6iu1dtyl  6e8517cb25ff228cb48da90a9c97d9c274dc8031      PMC   \n",
       "35   1769ovyk  c5131e5f5c6000ec84139edc64778a6f1d391b83      PMC   \n",
       "36   tixxm78q  8a7d5de5ea680e784ab2bd877240bf09e4c1c02d      PMC   \n",
       "105  r8j6lhoc  c6c8b82bc5a800425b075540eff41b0af719f80f      PMC   \n",
       "133  az4a70b0  cc698ffabf545da2fd7ee6a5cb4f25d9102a856a      PMC   \n",
       "\n",
       "                                                 title  \\\n",
       "31   The site of origin of the 1918 influenza pande...   \n",
       "35   8th Annual Toronto Critical Care Medicine Symp...   \n",
       "36   Recently published papers: all the usual suspe...   \n",
       "105  HIV Epidemiology in Africa: Weak Variables and...   \n",
       "133  eCAM benefits from diversity that derives from...   \n",
       "\n",
       "                              doi       pmcid   pubmed_id license abstract  \\\n",
       "31          10.1186/1479-5876-2-3   PMC340389  14733617.0   no-cc      NaN   \n",
       "35                 10.1186/cc2429   PMC420071  14975048.0   no-cc      NaN   \n",
       "36                 10.1186/cc2449   PMC420074  14975037.0   no-cc      NaN   \n",
       "105  10.1371/journal.pmed.0020137  PMC1140948  15916469.0   cc-by      NaN   \n",
       "133           10.1093/ecam/neh120  PMC1193560  16136204.0   no-cc      NaN   \n",
       "\n",
       "    publish_time                          authors  \\\n",
       "31    2004-01-20                    Barry, John M   \n",
       "35    2004-01-02     Granton, Jeff; Granton, John   \n",
       "36    2004-01-02                   Ball, Jonathan   \n",
       "105   2005-05-31  Brody, Stuart; Potterat, John J   \n",
       "133   2005-09-01                 Cooper, Edwin L.   \n",
       "\n",
       "                                journal  mag_id who_covidence_id arxiv_id  \\\n",
       "31                         J Transl Med     NaN              NaN      NaN   \n",
       "35                            Crit Care     NaN              NaN      NaN   \n",
       "36                            Crit Care     NaN              NaN      NaN   \n",
       "105                            PLoS Med     NaN              NaN      NaN   \n",
       "133  Evid Based Complement Alternat Med     NaN              NaN      NaN   \n",
       "\n",
       "                                        pdf_json_files  \\\n",
       "31   document_parses/pdf_json/6e8517cb25ff228cb48da...   \n",
       "35   document_parses/pdf_json/c5131e5f5c6000ec84139...   \n",
       "36   document_parses/pdf_json/8a7d5de5ea680e784ab2b...   \n",
       "105  document_parses/pdf_json/c6c8b82bc5a800425b075...   \n",
       "133  document_parses/pdf_json/cc698ffabf545da2fd7ee...   \n",
       "\n",
       "                                   pmc_json_files  \\\n",
       "31    document_parses/pmc_json/PMC340389.xml.json   \n",
       "35    document_parses/pmc_json/PMC420071.xml.json   \n",
       "36    document_parses/pmc_json/PMC420074.xml.json   \n",
       "105  document_parses/pmc_json/PMC1140948.xml.json   \n",
       "133  document_parses/pmc_json/PMC1193560.xml.json   \n",
       "\n",
       "                                                   url  s2_id  \n",
       "31   https://www.ncbi.nlm.nih.gov/pmc/articles/PMC3...    NaN  \n",
       "35   https://www.ncbi.nlm.nih.gov/pmc/articles/PMC4...    NaN  \n",
       "36   https://www.ncbi.nlm.nih.gov/pmc/articles/PMC4...    NaN  \n",
       "105  https://www.ncbi.nlm.nih.gov/pmc/articles/PMC1...    NaN  \n",
       "133  https://www.ncbi.nlm.nih.gov/pmc/articles/PMC1...    NaN  "
      ]
     },
     "execution_count": 68,
     "metadata": {},
     "output_type": "execute_result"
    }
   ],
   "source": [
    "meta_data[meta_data['abstract'].isnull()].head()"
   ]
  },
  {
   "cell_type": "code",
   "execution_count": 69,
   "metadata": {},
   "outputs": [
    {
     "data": {
      "text/plain": [
       "75786"
      ]
     },
     "execution_count": 69,
     "metadata": {},
     "output_type": "execute_result"
    }
   ],
   "source": [
    "\n",
    "# paper without pdf_json or pmc_json\n",
    "\n",
    "len(meta_data[(meta_data['pdf_json_files'].isnull()) &(meta_data['pmc_json_files'].isnull()) ])"
   ]
  },
  {
   "cell_type": "code",
   "execution_count": 70,
   "metadata": {},
   "outputs": [
    {
     "data": {
      "text/plain": [
       "16595"
      ]
     },
     "execution_count": 70,
     "metadata": {},
     "output_type": "execute_result"
    }
   ],
   "source": [
    "\n",
    "# paper with pdf_json but no pmc_json\n",
    "\n",
    "len(meta_data[(meta_data['pdf_json_files'].notnull()) &(meta_data['pmc_json_files'].isnull()) ])"
   ]
  },
  {
   "cell_type": "code",
   "execution_count": 71,
   "metadata": {},
   "outputs": [
    {
     "data": {
      "text/plain": [
       "2819"
      ]
     },
     "execution_count": 71,
     "metadata": {},
     "output_type": "execute_result"
    }
   ],
   "source": [
    "\n",
    "# paper with pmc_json bbut no pdj_json\n",
    "\n",
    "len(meta_data[(meta_data['pdf_json_files'].isnull()) &(meta_data['pmc_json_files'].notnull()) ])"
   ]
  },
  {
   "cell_type": "code",
   "execution_count": 72,
   "metadata": {},
   "outputs": [
    {
     "data": {
      "text/plain": [
       "45332"
      ]
     },
     "execution_count": 72,
     "metadata": {},
     "output_type": "execute_result"
    }
   ],
   "source": [
    "\n",
    "# paper with pmc_json bbut no pdj_json\n",
    "\n",
    "len(meta_data[(meta_data['pdf_json_files'].notnull()) &(meta_data['pmc_json_files'].notnull()) ])"
   ]
  },
  {
   "cell_type": "code",
   "execution_count": 73,
   "metadata": {},
   "outputs": [],
   "source": [
    "# paper has no abstract in metadata\n",
    "meta_data_no_abstract  = meta_data[meta_data['abstract'].isnull()]"
   ]
  },
  {
   "cell_type": "code",
   "execution_count": 74,
   "metadata": {},
   "outputs": [
    {
     "data": {
      "text/plain": [
       "30914"
      ]
     },
     "execution_count": 74,
     "metadata": {},
     "output_type": "execute_result"
    }
   ],
   "source": [
    "len(meta_data_no_abstract)"
   ]
  },
  {
   "cell_type": "code",
   "execution_count": 75,
   "metadata": {},
   "outputs": [
    {
     "data": {
      "text/plain": [
       "20142"
      ]
     },
     "execution_count": 75,
     "metadata": {},
     "output_type": "execute_result"
    }
   ],
   "source": [
    "\n",
    "# paper without pdf_json or pmc_json\n",
    "\n",
    "len(meta_data_no_abstract[(meta_data_no_abstract['pdf_json_files'].isnull()) &(meta_data_no_abstract['pmc_json_files'].isnull()) ])"
   ]
  },
  {
   "cell_type": "code",
   "execution_count": 76,
   "metadata": {},
   "outputs": [
    {
     "data": {
      "text/plain": [
       "'document_parses/pdf_json/a037a1a6fe76f1c43e33a639231b9874cb655f88.json'"
      ]
     },
     "execution_count": 76,
     "metadata": {},
     "output_type": "execute_result"
    }
   ],
   "source": [
    "## look closely at a paper without abstract bbut has pdf_json\n",
    "\n",
    "meta_data_no_abstract[(meta_data_no_abstract['pdf_json_files'].notnull()) &(meta_data_no_abstract['pmc_json_files'].isnull()) ]['pdf_json_files'][224]"
   ]
  },
  {
   "cell_type": "code",
   "execution_count": null,
   "metadata": {},
   "outputs": [],
   "source": [
    "# but it has abstraxt in json"
   ]
  },
  {
   "cell_type": "code",
   "execution_count": 67,
   "metadata": {},
   "outputs": [],
   "source": [
    "test_file = json.load(open('data/document_parses/pdf_json/a037a1a6fe76f1c43e33a639231b9874cb655f88.json', 'rb'))\n",
    "\n",
    "test_file['abstract']"
   ]
  },
  {
   "cell_type": "markdown",
   "metadata": {},
   "source": [
    "### metadata seems cannot reflect whether we have abstract in the dataset"
   ]
  },
  {
   "cell_type": "code",
   "execution_count": 77,
   "metadata": {},
   "outputs": [],
   "source": [
    "# The following function is used in creating\n",
    "def format_name(author):\n",
    "    middle_name = \" \".join(author['middle'])\n",
    "    \n",
    "    if author['middle']:\n",
    "        return \" \".join([author['first'], middle_name, author['last']])\n",
    "    else:\n",
    "        return \" \".join([author['first'], author['last']])\n",
    "\n",
    "\n",
    "def format_affiliation(affiliation):\n",
    "    text = []\n",
    "    location = affiliation.get('location')\n",
    "    if location:\n",
    "        text.extend(list(affiliation['location'].values()))\n",
    "    \n",
    "    institution = affiliation.get('institution')\n",
    "    if institution:\n",
    "        text = [institution] + text\n",
    "    return \", \".join(text)\n",
    "\n",
    "def format_authors(authors, with_affiliation=False):\n",
    "    name_ls = []\n",
    "    \n",
    "    for author in authors:\n",
    "        name = format_name(author)\n",
    "        if with_affiliation:\n",
    "            affiliation = format_affiliation(author['affiliation'])\n",
    "            if affiliation:\n",
    "                name_ls.append(f\"{name} ({affiliation})\")\n",
    "            else:\n",
    "                name_ls.append(name)\n",
    "        else:\n",
    "            name_ls.append(name)\n",
    "    \n",
    "    return \", \".join(name_ls)\n",
    "\n",
    "def format_body(body_text):\n",
    "    texts = [(di['section'], di['text']) for di in body_text]\n",
    "    texts_di = {di['section']: \"\" for di in body_text}\n",
    "    \n",
    "    for section, text in texts:\n",
    "        texts_di[section] += text\n",
    "\n",
    "    body = \"\"\n",
    "\n",
    "    for section, text in texts_di.items():\n",
    "        body += section\n",
    "        body += \" \"\n",
    "        body += text\n",
    "        body += \" \"\n",
    "    \n",
    "    return body\n",
    "\n",
    "def format_bib(bibs):\n",
    "    if type(bibs) == dict:\n",
    "        bibs = list(bibs.values())\n",
    "    bibs = deepcopy(bibs)\n",
    "    formatted = []\n",
    "    \n",
    "    for bib in bibs:\n",
    "        bib['authors'] = format_authors(\n",
    "            bib['authors'], \n",
    "            with_affiliation=False\n",
    "        )\n",
    "        formatted_ls = [str(bib[k]) for k in ['title', 'authors', 'venue', 'year']]\n",
    "        formatted.append(\", \".join(formatted_ls))\n",
    "\n",
    "    return \"; \".join(formatted)"
   ]
  },
  {
   "cell_type": "code",
   "execution_count": 78,
   "metadata": {},
   "outputs": [],
   "source": [
    "def load_files(dirname, all_paper = False, paper_number = 1000):\n",
    "    \n",
    "    filenames = os.listdir(dirname)\n",
    "    \n",
    "    # load a few paper or all\n",
    "    if all_paper == False:\n",
    "        rand_indx = random.sample(range(0,len(filenames)), paper_number)\n",
    "    else:\n",
    "        rand_indx = list(range(0, len(filenames)))\n",
    "    \n",
    "    \n",
    "    raw_files = []\n",
    "\n",
    "    for i in tqdm(rand_indx):\n",
    "        filename = dirname / filenames[i]\n",
    "        file = json.load(open(filename, 'rb'))\n",
    "        raw_files.append(file)\n",
    "    \n",
    "    return raw_files\n",
    "\n",
    "def generate_clean_df(all_files):\n",
    "    cleaned_files = []\n",
    "    \n",
    "    for file in tqdm(all_files):\n",
    "        features = [\n",
    "            file['paper_id'],\n",
    "            file['metadata']['title'],\n",
    "            format_authors(file['metadata']['authors']),\n",
    "            format_authors(file['metadata']['authors'], \n",
    "                           with_affiliation=True),\n",
    "            format_body(file['abstract']),\n",
    "            format_body(file['body_text']),\n",
    "            format_bib(file['bib_entries']),\n",
    "            file['metadata']['authors'],\n",
    "            file['bib_entries']\n",
    "        ]\n",
    "\n",
    "        cleaned_files.append(features)\n",
    "\n",
    "    col_names = ['paper_id', 'title', 'authors',\n",
    "                 'affiliations', 'abstract', 'text', \n",
    "                 'bibliography','raw_authors','raw_bibliography']\n",
    "\n",
    "    clean_df = pd.DataFrame(cleaned_files, columns=col_names)\n",
    "    clean_df.head()\n",
    "    \n",
    "    return clean_df"
   ]
  },
  {
   "cell_type": "markdown",
   "metadata": {},
   "source": [
    "### load and clean data"
   ]
  },
  {
   "cell_type": "code",
   "execution_count": 79,
   "metadata": {},
   "outputs": [
    {
     "name": "stdout",
     "output_type": "stream",
     "text": [
      "Number of articles retrieved from pdf: 65782\n"
     ]
    }
   ],
   "source": [
    "pdf_path = data_path / 'document_parses'/'pdf_json/'\n",
    "\n",
    "# check size of data\n",
    "filenames = os.listdir(pdf_path)\n",
    "print(\"Number of articles retrieved from pdf:\", len(filenames))"
   ]
  },
  {
   "cell_type": "code",
   "execution_count": 80,
   "metadata": {},
   "outputs": [
    {
     "data": {
      "application/vnd.jupyter.widget-view+json": {
       "model_id": "6d43664b939341a8a2c25a5b690042b1",
       "version_major": 2,
       "version_minor": 0
      },
      "text/plain": [
       "HBox(children=(FloatProgress(value=0.0, max=3000.0), HTML(value='')))"
      ]
     },
     "metadata": {},
     "output_type": "display_data"
    },
    {
     "name": "stdout",
     "output_type": "stream",
     "text": [
      "\n"
     ]
    }
   ],
   "source": [
    "# attach all pdf to a list\n",
    "all_files = load_files(pdf_path, all_paper = False, paper_number = 3000)"
   ]
  },
  {
   "cell_type": "code",
   "execution_count": 81,
   "metadata": {},
   "outputs": [
    {
     "name": "stdout",
     "output_type": "stream",
     "text": [
      "Dictionary keys: dict_keys(['paper_id', 'metadata', 'abstract', 'body_text', 'bib_entries', 'ref_entries', 'back_matter'])\n"
     ]
    }
   ],
   "source": [
    "# some data exploration\n",
    "\n",
    "file = all_files[555]\n",
    "print(\"Dictionary keys:\", file.keys())"
   ]
  },
  {
   "cell_type": "code",
   "execution_count": 82,
   "metadata": {},
   "outputs": [
    {
     "name": "stdout",
     "output_type": "stream",
     "text": [
      "'Introduction'\n",
      "'Introduction'\n",
      "'Introduction'\n",
      "'Introduction'\n",
      "'Phenylpropanoids'\n",
      "'Phenylpropanoids'\n",
      "'Isoflavones'\n",
      "'Isoflavones'\n",
      "'Isoflavones'\n",
      "'Isopentenyl flavonoids'\n",
      "'Isopentenyl flavonoids'\n",
      "'Isopentenyl flavonoids'\n",
      "'Phenolic acids'\n",
      "'Phenolic acids'\n",
      "'Terpenoids'\n",
      "'Terpenoids'\n",
      "'Terpenoids'\n",
      "'Sesquiterpenoids'\n",
      "'Artemisinin'\n",
      "'Artemisinin'\n",
      "'Artemisinin'\n",
      "'Artemisinin'\n",
      "'Patchoulol'\n",
      "'Patchoulol'\n",
      "'Diterpenoids'\n",
      "'Tanshinone'\n",
      "'Tanshinone'\n",
      "'Tanshinone'\n",
      "'Tanshinone'\n",
      "'Tanshinone'\n",
      "'Taxol (paclitaxel)'\n",
      "'Taxol (paclitaxel)'\n",
      "'Taxol (paclitaxel)'\n",
      "'Triterpenoids'\n",
      "'Ginsenosides'\n",
      "'Ginsenosides'\n",
      "'Cucurbitacins'\n",
      "'Glycyrrhizin'\n",
      "'Glycyrrhizin'\n",
      "'Alkaloids'\n",
      "'Alkaloids'\n",
      "'Perspective'\n"
     ]
    }
   ],
   "source": [
    "for i in range(len(file['body_text'])):\n",
    "    pprint(file['body_text'][i]['section'])"
   ]
  },
  {
   "cell_type": "code",
   "execution_count": 83,
   "metadata": {},
   "outputs": [
    {
     "data": {
      "text/plain": [
       "{'text': 'The isoflavones are well studied for their substantial health promoting benefits. They are found mainly in leguminous plants and are the major bioactive ingredients in soybean, Astragalus, Pueraria lobata [39]. Isoflavones are converted from flavanones by the isoflavone synthase (IFS). By using EST-based approach combined with enzymatic assays, P450s of CYP93C subfamily from soybean were shown to have such activities [40, 41] . Members of this subfamily with IFS activity were also reported in other leguminous plants, such as Lotus japonicus [42] and Trifolium pratense [43] .',\n",
       " 'cite_spans': [{'start': 421, 'end': 425, 'text': '[40,', 'ref_id': None},\n",
       "  {'start': 426, 'end': 429, 'text': '41]', 'ref_id': None},\n",
       "  {'start': 575, 'end': 579, 'text': '[43]', 'ref_id': None}],\n",
       " 'ref_spans': [],\n",
       " 'section': 'Isoflavones'}"
      ]
     },
     "execution_count": 83,
     "metadata": {},
     "output_type": "execute_result"
    }
   ],
   "source": [
    "file['body_text'][6]"
   ]
  },
  {
   "cell_type": "code",
   "execution_count": 84,
   "metadata": {},
   "outputs": [
    {
     "data": {
      "text/plain": [
       "{'text': 'Astragalus membranaceus, a species of Fabaceae, has been used in TCM for thousands of years. Astragaus is considered an adaptogen because it is believed to help protect the body against stresses, including those of physical, mental or emotional [44, 45] . In China, Astragalus has been used to help patients with severe forms of heart disease in relieving symptoms, lowering cholesterol levels and improving heart function. Constituents of the Astragalus roots (radix astragali) include polysaccharides, triterpenoids (astragalosides) and isoflavones [46, 47] . Isoflavones such as calycosin-7-glucoside and ononin are considered the important active components in this medicine. Hairy root system of Astragalus was developed a long time ago to produce these ingredients [48, 49] . Research at molecular level in this plant is limited, but will help reveal the biosynthetic pathway in this leguminous medicinal plant [50] .',\n",
       " 'cite_spans': [{'start': 245, 'end': 249, 'text': '[44,', 'ref_id': None},\n",
       "  {'start': 250, 'end': 253, 'text': '45]', 'ref_id': None},\n",
       "  {'start': 551, 'end': 555, 'text': '[46,', 'ref_id': None},\n",
       "  {'start': 556, 'end': 559, 'text': '47]', 'ref_id': None},\n",
       "  {'start': 771, 'end': 775, 'text': '[48,', 'ref_id': None},\n",
       "  {'start': 776, 'end': 779, 'text': '49]', 'ref_id': None},\n",
       "  {'start': 917, 'end': 921, 'text': '[50]', 'ref_id': None}],\n",
       " 'ref_spans': [],\n",
       " 'section': 'Isoflavones'}"
      ]
     },
     "execution_count": 84,
     "metadata": {},
     "output_type": "execute_result"
    }
   ],
   "source": [
    "file['body_text'][7]"
   ]
  },
  {
   "cell_type": "code",
   "execution_count": 85,
   "metadata": {},
   "outputs": [
    {
     "data": {
      "text/plain": [
       "'Perspective'"
      ]
     },
     "execution_count": 85,
     "metadata": {},
     "output_type": "execute_result"
    }
   ],
   "source": [
    "file['body_text'][i]['section']"
   ]
  },
  {
   "cell_type": "code",
   "execution_count": null,
   "metadata": {},
   "outputs": [],
   "source": []
  },
  {
   "cell_type": "code",
   "execution_count": 86,
   "metadata": {},
   "outputs": [
    {
     "data": {
      "application/vnd.jupyter.widget-view+json": {
       "model_id": "28462c7735544a8f93e0449899cf7913",
       "version_major": 2,
       "version_minor": 0
      },
      "text/plain": [
       "HBox(children=(FloatProgress(value=0.0, max=3000.0), HTML(value='')))"
      ]
     },
     "metadata": {},
     "output_type": "display_data"
    },
    {
     "name": "stdout",
     "output_type": "stream",
     "text": [
      "\n"
     ]
    }
   ],
   "source": [
    "## Generate CSV (PDF JSON)\n",
    "\n",
    "\n",
    "cleaned_files = []\n",
    "\n",
    "for file in tqdm(all_files):\n",
    "    features = [\n",
    "        file['paper_id'],\n",
    "        file['metadata']['title'],\n",
    "        format_authors(file['metadata']['authors']),\n",
    "        format_authors(file['metadata']['authors'], \n",
    "                       with_affiliation=True),\n",
    "        format_body(file['abstract']),\n",
    "        format_body(file['body_text']),\n",
    "        format_bib(file['bib_entries']),\n",
    "        file['metadata']['authors'],\n",
    "        file['bib_entries']\n",
    "    ]\n",
    "    \n",
    "    cleaned_files.append(features)"
   ]
  },
  {
   "cell_type": "code",
   "execution_count": 444,
   "metadata": {},
   "outputs": [
    {
     "data": {
      "text/html": [
       "<div>\n",
       "<style scoped>\n",
       "    .dataframe tbody tr th:only-of-type {\n",
       "        vertical-align: middle;\n",
       "    }\n",
       "\n",
       "    .dataframe tbody tr th {\n",
       "        vertical-align: top;\n",
       "    }\n",
       "\n",
       "    .dataframe thead th {\n",
       "        text-align: right;\n",
       "    }\n",
       "</style>\n",
       "<table border=\"1\" class=\"dataframe\">\n",
       "  <thead>\n",
       "    <tr style=\"text-align: right;\">\n",
       "      <th></th>\n",
       "      <th>paper_id</th>\n",
       "      <th>title</th>\n",
       "      <th>authors</th>\n",
       "      <th>affiliations</th>\n",
       "      <th>abstract</th>\n",
       "      <th>text</th>\n",
       "      <th>bibliography</th>\n",
       "      <th>raw_authors</th>\n",
       "      <th>raw_bibliography</th>\n",
       "      <th>abstract_word_count</th>\n",
       "      <th>body_word_count</th>\n",
       "    </tr>\n",
       "  </thead>\n",
       "  <tbody>\n",
       "    <tr>\n",
       "      <th>0</th>\n",
       "      <td>27e9373516e9a1f67fbc5e8d85ef78c476ce6da8</td>\n",
       "      <td>Analysis of synonymous codon usage patterns in...</td>\n",
       "      <td>Zhicheng Zhang, Wei Dai, Yang Wang, • Chengpin...</td>\n",
       "      <td>Zhicheng Zhang, Wei Dai, Yang Wang, • Chengpin...</td>\n",
       "      <td>Abstract Torque teno sus virus 1 (TTSuV1) is a...</td>\n",
       "      <td>Introduction It is well known that the genetic...</td>\n",
       "      <td>Two types of linkage between codon usage and g...</td>\n",
       "      <td>[{'first': 'Zhicheng', 'middle': [], 'last': '...</td>\n",
       "      <td>{'BIBREF0': {'ref_id': 'b0', 'title': 'Two typ...</td>\n",
       "      <td>281</td>\n",
       "      <td>3853</td>\n",
       "    </tr>\n",
       "    <tr>\n",
       "      <th>1</th>\n",
       "      <td>231377128610c5776532830eb8eb8d79f17fb120</td>\n",
       "      <td>DDX1 is an RNA-dependent ATPase Involved in HI...</td>\n",
       "      <td>Stephen P Edgcomb, Andrew B Carmel, Souad Naji...</td>\n",
       "      <td>Stephen P Edgcomb, Andrew B Carmel, Souad Naji...</td>\n",
       "      <td>Abstract The HIV-1 Rev protein is essential fo...</td>\n",
       "      <td>Introduction After cellular entry and genomic ...</td>\n",
       "      <td>The ins and outs of HIV Rev, T J Hope, Arch Bi...</td>\n",
       "      <td>[{'first': 'Stephen', 'middle': ['P'], 'last':...</td>\n",
       "      <td>{'BIBREF0': {'ref_id': 'b0', 'title': 'The ins...</td>\n",
       "      <td>208</td>\n",
       "      <td>7317</td>\n",
       "    </tr>\n",
       "  </tbody>\n",
       "</table>\n",
       "</div>"
      ],
      "text/plain": [
       "                                   paper_id  \\\n",
       "0  27e9373516e9a1f67fbc5e8d85ef78c476ce6da8   \n",
       "1  231377128610c5776532830eb8eb8d79f17fb120   \n",
       "\n",
       "                                               title  \\\n",
       "0  Analysis of synonymous codon usage patterns in...   \n",
       "1  DDX1 is an RNA-dependent ATPase Involved in HI...   \n",
       "\n",
       "                                             authors  \\\n",
       "0  Zhicheng Zhang, Wei Dai, Yang Wang, • Chengpin...   \n",
       "1  Stephen P Edgcomb, Andrew B Carmel, Souad Naji...   \n",
       "\n",
       "                                        affiliations  \\\n",
       "0  Zhicheng Zhang, Wei Dai, Yang Wang, • Chengpin...   \n",
       "1  Stephen P Edgcomb, Andrew B Carmel, Souad Naji...   \n",
       "\n",
       "                                            abstract  \\\n",
       "0  Abstract Torque teno sus virus 1 (TTSuV1) is a...   \n",
       "1  Abstract The HIV-1 Rev protein is essential fo...   \n",
       "\n",
       "                                                text  \\\n",
       "0  Introduction It is well known that the genetic...   \n",
       "1  Introduction After cellular entry and genomic ...   \n",
       "\n",
       "                                        bibliography  \\\n",
       "0  Two types of linkage between codon usage and g...   \n",
       "1  The ins and outs of HIV Rev, T J Hope, Arch Bi...   \n",
       "\n",
       "                                         raw_authors  \\\n",
       "0  [{'first': 'Zhicheng', 'middle': [], 'last': '...   \n",
       "1  [{'first': 'Stephen', 'middle': ['P'], 'last':...   \n",
       "\n",
       "                                    raw_bibliography  abstract_word_count  \\\n",
       "0  {'BIBREF0': {'ref_id': 'b0', 'title': 'Two typ...                  281   \n",
       "1  {'BIBREF0': {'ref_id': 'b0', 'title': 'The ins...                  208   \n",
       "\n",
       "   body_word_count  \n",
       "0             3853  \n",
       "1             7317  "
      ]
     },
     "execution_count": 444,
     "metadata": {},
     "output_type": "execute_result"
    }
   ],
   "source": [
    "col_names = [\n",
    "    'paper_id', \n",
    "    'title', \n",
    "    'authors',\n",
    "    'affiliations', \n",
    "    'abstract', \n",
    "    'text', \n",
    "    'bibliography',\n",
    "    'raw_authors',\n",
    "    'raw_bibliography'\n",
    "]\n",
    "\n",
    "paper_df = pd.DataFrame(cleaned_files, columns=col_names)\n",
    "\n",
    "paper_df['abstract_word_count'] = paper_df['abstract'].apply(lambda x: len(x.strip().split()))\n",
    "paper_df['body_word_count'] = paper_df['text'].apply(lambda x: len(x.strip().split()))\n",
    "\n",
    "paper_df.head(2)"
   ]
  },
  {
   "cell_type": "code",
   "execution_count": 445,
   "metadata": {},
   "outputs": [
    {
     "data": {
      "text/plain": [
       "(3000, 11)"
      ]
     },
     "execution_count": 445,
     "metadata": {},
     "output_type": "execute_result"
    }
   ],
   "source": [
    "paper_df.shape"
   ]
  },
  {
   "cell_type": "code",
   "execution_count": 446,
   "metadata": {},
   "outputs": [
    {
     "data": {
      "text/html": [
       "<div>\n",
       "<style scoped>\n",
       "    .dataframe tbody tr th:only-of-type {\n",
       "        vertical-align: middle;\n",
       "    }\n",
       "\n",
       "    .dataframe tbody tr th {\n",
       "        vertical-align: top;\n",
       "    }\n",
       "\n",
       "    .dataframe thead th {\n",
       "        text-align: right;\n",
       "    }\n",
       "</style>\n",
       "<table border=\"1\" class=\"dataframe\">\n",
       "  <thead>\n",
       "    <tr style=\"text-align: right;\">\n",
       "      <th></th>\n",
       "      <th>abstract_word_count</th>\n",
       "      <th>body_word_count</th>\n",
       "    </tr>\n",
       "  </thead>\n",
       "  <tbody>\n",
       "    <tr>\n",
       "      <th>count</th>\n",
       "      <td>3000.000000</td>\n",
       "      <td>3000.000000</td>\n",
       "    </tr>\n",
       "    <tr>\n",
       "      <th>mean</th>\n",
       "      <td>160.216333</td>\n",
       "      <td>4580.471000</td>\n",
       "    </tr>\n",
       "    <tr>\n",
       "      <th>std</th>\n",
       "      <td>200.983096</td>\n",
       "      <td>10271.161227</td>\n",
       "    </tr>\n",
       "    <tr>\n",
       "      <th>min</th>\n",
       "      <td>0.000000</td>\n",
       "      <td>7.000000</td>\n",
       "    </tr>\n",
       "    <tr>\n",
       "      <th>25%</th>\n",
       "      <td>0.000000</td>\n",
       "      <td>1944.750000</td>\n",
       "    </tr>\n",
       "    <tr>\n",
       "      <th>50%</th>\n",
       "      <td>152.000000</td>\n",
       "      <td>3350.000000</td>\n",
       "    </tr>\n",
       "    <tr>\n",
       "      <th>75%</th>\n",
       "      <td>230.000000</td>\n",
       "      <td>5142.000000</td>\n",
       "    </tr>\n",
       "    <tr>\n",
       "      <th>max</th>\n",
       "      <td>3934.000000</td>\n",
       "      <td>282413.000000</td>\n",
       "    </tr>\n",
       "  </tbody>\n",
       "</table>\n",
       "</div>"
      ],
      "text/plain": [
       "       abstract_word_count  body_word_count\n",
       "count          3000.000000      3000.000000\n",
       "mean            160.216333      4580.471000\n",
       "std             200.983096     10271.161227\n",
       "min               0.000000         7.000000\n",
       "25%               0.000000      1944.750000\n",
       "50%             152.000000      3350.000000\n",
       "75%             230.000000      5142.000000\n",
       "max            3934.000000    282413.000000"
      ]
     },
     "execution_count": 446,
     "metadata": {},
     "output_type": "execute_result"
    }
   ],
   "source": [
    "paper_df[['abstract_word_count', 'body_word_count']].describe()"
   ]
  },
  {
   "cell_type": "code",
   "execution_count": 90,
   "metadata": {},
   "outputs": [],
   "source": [
    "## check distribution of word counts"
   ]
  },
  {
   "cell_type": "code",
   "execution_count": 91,
   "metadata": {},
   "outputs": [
    {
     "data": {
      "text/plain": [
       "7345.299999999999"
      ]
     },
     "execution_count": 91,
     "metadata": {},
     "output_type": "execute_result"
    },
    {
     "data": {
      "image/png": "[encoded data removed]",
      "text/plain": [
       "<Figure size 432x288 with 1 Axes>"
      ]
     },
     "metadata": {
      "needs_background": "light"
     },
     "output_type": "display_data"
    }
   ],
   "source": [
    "_ = plt.hist(paper_df['body_word_count'], bins= 100)\n",
    "\n",
    "paper_df['body_word_count'].quantile(0.9)"
   ]
  },
  {
   "cell_type": "code",
   "execution_count": 92,
   "metadata": {},
   "outputs": [
    {
     "data": {
      "text/plain": [
       "301.0999999999999"
      ]
     },
     "execution_count": 92,
     "metadata": {},
     "output_type": "execute_result"
    },
    {
     "data": {
      "image/png": "[encoded data removed]",
      "text/plain": [
       "<Figure size 432x288 with 1 Axes>"
      ]
     },
     "metadata": {
      "needs_background": "light"
     },
     "output_type": "display_data"
    }
   ],
   "source": [
    "_ = plt.hist(paper_df['abstract_word_count'], bins= 100)\n",
    "\n",
    "paper_df['abstract_word_count'].quantile(0.9)"
   ]
  },
  {
   "cell_type": "code",
   "execution_count": 93,
   "metadata": {},
   "outputs": [],
   "source": [
    "### clean dataset and trim dataset"
   ]
  },
  {
   "cell_type": "code",
   "execution_count": 487,
   "metadata": {},
   "outputs": [
    {
     "name": "stderr",
     "output_type": "stream",
     "text": [
      "<>:4: DeprecationWarning: invalid escape sequence \\[\n",
      "<>:13: DeprecationWarning: invalid escape sequence \\.\n",
      "<>:4: DeprecationWarning: invalid escape sequence \\[\n",
      "<>:13: DeprecationWarning: invalid escape sequence \\.\n",
      "<ipython-input-487-3bcc828a563c>:4: DeprecationWarning: invalid escape sequence \\[\n",
      "  text=re.sub('[\\[].*?[\\]]', '', str(text))\n",
      "<ipython-input-487-3bcc828a563c>:13: DeprecationWarning: invalid escape sequence \\.\n",
      "  text=re.sub('[,\\.!?]', '', text)\n"
     ]
    }
   ],
   "source": [
    "import re \n",
    "def clean_dataset(text):\n",
    "     #remove in-text citation\n",
    "    text=re.sub('[\\[].*?[\\]]', '', str(text)) \n",
    "    #remove hyperlink\n",
    "    text=re.sub(r'^https?:\\/\\/.*[\\r\\n]*', '',text, flags=re.MULTILINE)\n",
    "    #remove email\n",
    "    text=re.sub(r'\\\\b[A-Z a-z 0-9._ - ]*[@](.*?)[.]{1,3} \\\\b', '', text)\n",
    "    #have no idea what is a11111.. is, but I remove it now\n",
    "    text=re.sub(r'^a1111111111 a1111111111 a1111111111 a1111111111 a1111111111.*[\\r\\n]*',' ',text)\n",
    "     #remove extra space\n",
    "    text=re.sub(r'  +', ' ',text )\n",
    "    text=re.sub('[,\\.!?]', '', text)\n",
    "    text=re.sub(r's/ ( *)/\\1/g','',text) \n",
    "    #strip punctions (recheck)\n",
    "#     text=re.sub(r'[^\\w\\s]','',text) \n",
    "    return text"
   ]
  },
  {
   "cell_type": "code",
   "execution_count": 95,
   "metadata": {},
   "outputs": [],
   "source": [
    "paper_df['text'] =paper_df['text'].apply(clean_dataset)\n",
    "paper_df['title'] =paper_df['title'].apply(clean_dataset)\n",
    "paper_df['abstract'] =paper_df['abstract'].apply(clean_dataset)\n",
    "paper_df['text'] =paper_df['text'].apply(clean_dataset)\n",
    "\n",
    "paper_df['abstract'] = paper_df['abstract'].map(lambda x: x.lower())\n",
    "paper_df['text'] = paper_df['text'].map(lambda x: x.lower())\n",
    "\n",
    "paper_df=paper_df.reset_index(drop=True)"
   ]
  },
  {
   "cell_type": "code",
   "execution_count": 96,
   "metadata": {},
   "outputs": [
    {
     "data": {
      "text/plain": [
       "(3000, 11)"
      ]
     },
     "execution_count": 96,
     "metadata": {},
     "output_type": "execute_result"
    }
   ],
   "source": [
    "paper_df.shape"
   ]
  },
  {
   "cell_type": "code",
   "execution_count": 634,
   "metadata": {},
   "outputs": [],
   "source": [
    "import re \n",
    "def clean_dataset_2(text):\n",
    "     #remove in-text citation\n",
    "    text=re.sub('[\\[].*?[\\]]', '', str(text)) \n",
    "    #remove hyperlink\n",
    "    text=re.sub(r'^https?:\\/\\/.*[\\r\\n]*', '',text, flags=re.MULTILINE)\n",
    "    #remove email\n",
    "    text=re.sub(r'\\\\b[A-Z a-z 0-9._ - ]*[@](.*?)[.]{1,3} \\\\b', '', text)\n",
    "    #have no idea what is a11111.. is, but I remove it now\n",
    "    text=re.sub(r'^a1111111111 a1111111111 a1111111111 a1111111111 a1111111111.*[\\r\\n]*',' ',text)\n",
    "   \n",
    "    \n",
    "    # remove special character\n",
    "    text=re.sub('[,\\!?():;]', '', text)\n",
    "    text=re.sub(r'(?<=\\w)\\.+(?=[ a-zA-Z])', ' ', text)\n",
    "    text=re.sub(r's/ ( *)/\\1/g','',text) \n",
    "    #remove extra space\n",
    "    text=re.sub(r'  +', ' ',text )\n",
    "    #strip punctions (recheck)\n",
    "#     text=re.sub(r'[^\\w\\s]','',text) \n",
    "    return text"
   ]
  },
  {
   "cell_type": "code",
   "execution_count": 635,
   "metadata": {},
   "outputs": [
    {
     "data": {
      "text/plain": [
       "'Abstract Background: Inflammatory process results in lung injury that may lead to pulmonary fibrosis (PF). Here, we described PF in mice infected with H5N1 virus.Methods: Eight-week-old BALB/c mice were inoculated intranasally with 1 × 10 1 MID 50 of A/ Chicken/Hebei/108/2002(H5N1) viruses. Lung injury/fibrosis was evaluated by observation of hydroxyproline concentrations, lung indexes, and histopathology on days 7, 14, and 30 postinoculation.Results: H5N1-inoculated mice presented two stages of pulmonary disease over a 30-d period after infection. At acute stage, infected-mice showed typical diffuse pneumonia with inflammatory cellular infiltration, alveolar and interstitial edema and hemorrhage on day 7 postinoculation. At restoration stage, most infected-mice developed PF of different severities on day 30 postinoculation, and 18% of the survived mice underwent severe interstitial and intra-alveolar fibrosis with thickened alveolar walls, collapsed alveoli and large fibrotic areas. The dramatically elevated hydroxyproline levels in H5N1-infected mice showed deposition of collagen in lungs, and confirmed fibrosis of lungs. The dry lung-to-body weight ratio was significantly increased in infected group, which might be associated with the formation of PF in H5N1-infected mice.Our findings show that H5N1-infected mice develop the typical PF during restoration period, which will contribute to the investigation of fibrogenesis and potential therapeutic intervention in human H5N1 disease. '"
      ]
     },
     "execution_count": 635,
     "metadata": {},
     "output_type": "execute_result"
    }
   ],
   "source": [
    "haha = paper_df['abstract'][200]\n",
    "haha"
   ]
  },
  {
   "cell_type": "code",
   "execution_count": null,
   "metadata": {},
   "outputs": [],
   "source": []
  },
  {
   "cell_type": "code",
   "execution_count": 636,
   "metadata": {},
   "outputs": [
    {
     "data": {
      "text/plain": [
       "'Abstract Background Inflammatory process results in lung injury that may lead to pulmonary fibrosis PF Here we described PF in mice infected with H5N1 virus Methods Eight-week-old BALB/c mice were inoculated intranasally with 1 × 10 1 MID 50 of A/ Chicken/Hebei/108/2002H5N1 viruses Lung injury/fibrosis was evaluated by observation of hydroxyproline concentrations lung indexes and histopathology on days 7 14 and 30 postinoculation Results H5N1-inoculated mice presented two stages of pulmonary disease over a 30-d period after infection At acute stage infected-mice showed typical diffuse pneumonia with inflammatory cellular infiltration alveolar and interstitial edema and hemorrhage on day 7 postinoculation At restoration stage most infected-mice developed PF of different severities on day 30 postinoculation and 18% of the survived mice underwent severe interstitial and intra-alveolar fibrosis with thickened alveolar walls collapsed alveoli and large fibrotic areas The dramatically elevated hydroxyproline levels in H5N1-infected mice showed deposition of collagen in lungs and confirmed fibrosis of lungs The dry lung-to-body weight ratio was significantly increased in infected group which might be associated with the formation of PF in H5N1-infected mice Our findings show that H5N1-infected mice develop the typical PF during restoration period which will contribute to the investigation of fibrogenesis and potential therapeutic intervention in human H5N1 disease '"
      ]
     },
     "execution_count": 636,
     "metadata": {},
     "output_type": "execute_result"
    }
   ],
   "source": [
    "clean_dataset_2(haha)"
   ]
  },
  {
   "cell_type": "code",
   "execution_count": 523,
   "metadata": {},
   "outputs": [],
   "source": [
    "## Drop papers with duplication and where abstract or paper length is too long\n",
    "\n",
    "    \n",
    "paper_df.drop_duplicates(['abstract', 'text'], inplace=True)\n",
    "\n",
    "\n",
    "# 300 is about 90% percentile\n",
    "trimmed_df = paper_df[paper_df['abstract_word_count'] < 300]\n",
    "\n",
    "# arbitry number\n",
    "trimmed_df = trimmed_df[(trimmed_df['body_word_count'] >500) &( trimmed_df['body_word_count'] < 4000)]\n",
    "\n",
    "\n",
    "\n"
   ]
  },
  {
   "cell_type": "code",
   "execution_count": 98,
   "metadata": {},
   "outputs": [
    {
     "data": {
      "text/plain": [
       "(1545, 11)"
      ]
     },
     "execution_count": 98,
     "metadata": {},
     "output_type": "execute_result"
    }
   ],
   "source": [
    "trimmed_df.shape"
   ]
  },
  {
   "cell_type": "code",
   "execution_count": 99,
   "metadata": {},
   "outputs": [],
   "source": [
    "## Train Test Split"
   ]
  },
  {
   "cell_type": "code",
   "execution_count": 100,
   "metadata": {},
   "outputs": [],
   "source": [
    "test_df = trimmed_df[trimmed_df['abstract_word_count'] < 10]"
   ]
  },
  {
   "cell_type": "code",
   "execution_count": 101,
   "metadata": {},
   "outputs": [],
   "source": [
    "train_df = trimmed_df.drop(test_df.index)"
   ]
  },
  {
   "cell_type": "code",
   "execution_count": 102,
   "metadata": {},
   "outputs": [],
   "source": [
    "train_df=train_df.reset_index(drop=True)\n",
    "test_df=test_df.reset_index(drop=True)"
   ]
  },
  {
   "cell_type": "code",
   "execution_count": 103,
   "metadata": {},
   "outputs": [
    {
     "data": {
      "text/plain": [
       "(512, 11)"
      ]
     },
     "execution_count": 103,
     "metadata": {},
     "output_type": "execute_result"
    }
   ],
   "source": [
    "test_df.shape"
   ]
  },
  {
   "cell_type": "code",
   "execution_count": 104,
   "metadata": {},
   "outputs": [
    {
     "data": {
      "text/plain": [
       "(1033, 11)"
      ]
     },
     "execution_count": 104,
     "metadata": {},
     "output_type": "execute_result"
    }
   ],
   "source": [
    "train_df.shape"
   ]
  },
  {
   "cell_type": "code",
   "execution_count": 105,
   "metadata": {},
   "outputs": [],
   "source": [
    "#remove articles that are not related to COVID-19 based on publish time\n",
    "## WIP\n",
    "# clean_df=clean_df[(clean_df['publish_time']>'2019-11-01') & (merge_final['text_body'].str.contains('nCoV|Cov|COVID|covid|SARS-CoV-2|sars-cov-2'))]\n",
    "# clean_df.shape"
   ]
  },
  {
   "cell_type": "code",
   "execution_count": 106,
   "metadata": {},
   "outputs": [],
   "source": [
    "\n",
    "output_path = data_path/ 'cleaned_data'\n",
    "# os.mkdir(output_path)\n",
    "\n",
    "test_df.to_csv(output_path / 'test_dataset.csv', index=False)\n",
    "train_df.to_csv(output_path / 'train_dataset.csv', index=False)"
   ]
  },
  {
   "cell_type": "code",
   "execution_count": null,
   "metadata": {},
   "outputs": [],
   "source": []
  },
  {
   "cell_type": "markdown",
   "metadata": {},
   "source": [
    "### LDA classification"
   ]
  },
  {
   "cell_type": "code",
   "execution_count": 433,
   "metadata": {},
   "outputs": [],
   "source": [
    "train_df = pd.read_csv(output_path / 'train_dataset.csv')"
   ]
  },
  {
   "cell_type": "code",
   "execution_count": 434,
   "metadata": {},
   "outputs": [],
   "source": [
    "train_df['abstract_tokens'] = train_df['abstract'].apply(lambda x: x.split())"
   ]
  },
  {
   "cell_type": "markdown",
   "metadata": {},
   "source": [
    "#### LDA specific data cleaning"
   ]
  },
  {
   "cell_type": "code",
   "execution_count": 435,
   "metadata": {},
   "outputs": [],
   "source": [
    "## remove the word 'abstract'\n",
    "def remove_specific_word(text):\n",
    "    words = [w for w in text if w != 'abstract']\n",
    "    return words"
   ]
  },
  {
   "cell_type": "code",
   "execution_count": 436,
   "metadata": {},
   "outputs": [],
   "source": [
    "train_df['abstract_tokens'] =  train_df['abstract_tokens'].apply(lambda x: remove_abstract(x))"
   ]
  },
  {
   "cell_type": "code",
   "execution_count": 437,
   "metadata": {},
   "outputs": [],
   "source": [
    "# remove stop words\n",
    "\n",
    "from nltk.corpus import stopwords\n",
    "\n",
    "def remove_stopwords(list_of_string):\n",
    "    stop_words = set(stopwords.words('english')) \n",
    "    return [w for w in list_of_string if not w in stop_words] \n",
    "  "
   ]
  },
  {
   "cell_type": "code",
   "execution_count": 438,
   "metadata": {},
   "outputs": [],
   "source": [
    "train_df['abstract_tokens'] = train_df['abstract_tokens'].apply(lambda x: remove_stopwords(x))\n",
    "  "
   ]
  },
  {
   "cell_type": "code",
   "execution_count": 439,
   "metadata": {},
   "outputs": [],
   "source": [
    "## remove very short words, like single letter\n",
    "\n",
    "def remove_short_words(tokens, min_len):\n",
    "    return [w for w in tokens if len(w)>=min_len] \n"
   ]
  },
  {
   "cell_type": "code",
   "execution_count": 440,
   "metadata": {},
   "outputs": [],
   "source": [
    "train_df['abstract_tokens'] = train_df['abstract_tokens'].apply(lambda x: remove_short_words(x, 3))\n",
    "  "
   ]
  },
  {
   "cell_type": "code",
   "execution_count": 441,
   "metadata": {},
   "outputs": [],
   "source": [
    "## lemmatize words\n",
    "\n",
    "from nltk.stem import WordNetLemmatizer\n",
    "\n",
    "# define a function to lematize a list of tokens\n",
    "lemmatizer = WordNetLemmatizer() # instantiate a lemmatizer\n",
    "def lemmatize_tokens(tokens):\n",
    "    lemmatized_tokens = [lemmatizer.lemmatize(t) for t in tokens]\n",
    "    return lemmatized_tokens"
   ]
  },
  {
   "cell_type": "code",
   "execution_count": 442,
   "metadata": {},
   "outputs": [],
   "source": [
    "train_df['abstract_tokens'] = train_df['abstract_tokens'].apply(lambda x: lemmatize_tokens(x)) #lemmatize words"
   ]
  },
  {
   "cell_type": "code",
   "execution_count": null,
   "metadata": {},
   "outputs": [],
   "source": [
    "train_df['abstract_tokens'][0]"
   ]
  },
  {
   "cell_type": "code",
   "execution_count": 127,
   "metadata": {},
   "outputs": [],
   "source": [
    "# # define a function that converts a list of tokens into n-grams\n",
    "# def getNGrams(tokens, n):\n",
    "#     return [tokens[i : i + n] for i in range(len(tokens) - (n - 1))]"
   ]
  },
  {
   "cell_type": "code",
   "execution_count": null,
   "metadata": {},
   "outputs": [],
   "source": [
    "# train_df['abstract_2-grams'] = train_df['abstract_tokens'].apply(lambda x: getNGrams(x, 2))\n",
    "# train_df.head()"
   ]
  },
  {
   "cell_type": "code",
   "execution_count": 132,
   "metadata": {},
   "outputs": [],
   "source": [
    "# words = set(nltk.corpus.words.words())"
   ]
  },
  {
   "cell_type": "code",
   "execution_count": 187,
   "metadata": {},
   "outputs": [],
   "source": [
    "# remove stop words\n",
    "\n",
    "from nltk.corpus import stopwords"
   ]
  },
  {
   "cell_type": "code",
   "execution_count": 191,
   "metadata": {},
   "outputs": [],
   "source": [
    "# remove stop words\n",
    "\n",
    "from nltk.corpus import stopwords\n",
    "\n",
    "def remove_stopwords(list_of_string):\n",
    "    stop_words = set(stopwords.words('english')) \n",
    "    return [w for w in list_of_string if not w in stop_words] \n",
    "  "
   ]
  },
  {
   "cell_type": "code",
   "execution_count": 194,
   "metadata": {},
   "outputs": [],
   "source": [
    "\n",
    "    \n",
    "\n",
    "train_df['abstract_tokens_clean']= train_df['abstract_tokens'].apply(lambda x: remove_stopwords(x))\n",
    "  "
   ]
  },
  {
   "cell_type": "code",
   "execution_count": null,
   "metadata": {},
   "outputs": [],
   "source": []
  },
  {
   "cell_type": "code",
   "execution_count": 176,
   "metadata": {},
   "outputs": [
    {
     "data": {
      "text/plain": [
       "CountVectorizer(max_features=2000, stop_words='english')"
      ]
     },
     "execution_count": 176,
     "metadata": {},
     "output_type": "execute_result"
    }
   ],
   "source": [
    "# from sklearn.feature_extraction.text import CountVectorizer\n",
    "# from sklearn.feature_extraction.text import TfidfVectorizer\n",
    "\n",
    "# vectorizer = CountVectorizer(analyzer = \"word\",   \\\n",
    "#                              tokenizer = None,    \\\n",
    "#                              preprocessor = None, \\\n",
    "#                              stop_words = 'english',   \\\n",
    "#                              max_features = 2000) \n",
    "\n",
    "# ## this makes tokens\n",
    "# all_tokens = train_df['abstract_tokens'].apply(lambda x: \" \".join(x))\n",
    "\n",
    "# # all_tokens = train_df['abstract'].apply(lambda x: \" \".join(x), axis = 0)\n",
    "# vectorizer.fit(all_tokens)"
   ]
  },
  {
   "cell_type": "code",
   "execution_count": 177,
   "metadata": {},
   "outputs": [],
   "source": [
    "# x_train = vectorizer.transform(all_tokens)"
   ]
  },
  {
   "cell_type": "code",
   "execution_count": 178,
   "metadata": {},
   "outputs": [],
   "source": [
    "# x_train = x_train.toarray()"
   ]
  },
  {
   "cell_type": "code",
   "execution_count": null,
   "metadata": {},
   "outputs": [],
   "source": [
    "# # Top words in the trianing set\n",
    "# word_count = pd.DataFrame({'word': vectorizer.get_feature_names(), 'count': np.asarray(x_train.sum(axis=0))})\n",
    "# word_count.sort_values('count', ascending=False).set_index('word')[:30].sort_values('count', ascending=True).plot(kind='barh')\n"
   ]
  },
  {
   "cell_type": "code",
   "execution_count": 382,
   "metadata": {},
   "outputs": [],
   "source": [
    "import gensim\n",
    "import gensim.corpora as corpora\n",
    "from gensim.utils import simple_preprocess\n",
    "from gensim.models import CoherenceModel\n",
    "from gensim.models import Phrases"
   ]
  },
  {
   "cell_type": "markdown",
   "metadata": {},
   "source": [
    "### Unigram + bigram Clustering"
   ]
  },
  {
   "cell_type": "code",
   "execution_count": 399,
   "metadata": {},
   "outputs": [],
   "source": [
    "LDA_data =train_df['abstract_tokens_clean']\n",
    "\n",
    "\n",
    "bigram = Phrases(LDA_data, min_count=2)\n",
    "for idx in range(len(LDA_data)):\n",
    "    for token in bigram[LDA_data[idx]]:\n",
    "        if '_' in token:\n",
    "            # Token is a bigram, add to document.\n",
    "            LDA_data[idx].append(token)\n",
    "            \n",
    "# Reformatting tokens for LDA\n",
    "\n",
    "## this clean numbers out\n",
    "def sent_to_words(sentences):\n",
    "    for sentence in sentences:\n",
    "        yield(gensim.utils.simple_preprocess(str(sentence), deacc=True))  # deacc=True removes punctuations\n",
    "\n",
    "        \n",
    "# construct token list\n",
    "texts = list(sent_to_words(LDA_data))\n",
    "\n",
    "# create dictionary\n",
    "dictionary = corpora.Dictionary(texts)\n",
    "\n",
    "dict(list(dictionary.token2id.items())[0:10])\n",
    "\n",
    "## create corpus for LDA\n",
    "corpus = [dictionary.doc2bow(item) for item in texts]"
   ]
  },
  {
   "cell_type": "code",
   "execution_count": 400,
   "metadata": {},
   "outputs": [],
   "source": [
    "### Search optimal cluster number"
   ]
  },
  {
   "cell_type": "code",
   "execution_count": 332,
   "metadata": {},
   "outputs": [],
   "source": [
    "def compute_coherence_values(dictionary, corpus, texts, limit, start=2, step=3):\n",
    "    \"\"\"\n",
    "    Compute c_v coherence for various number of topics\n",
    "\n",
    "    Parameters:\n",
    "    ----------\n",
    "    dictionary : Gensim dictionary\n",
    "    corpus : Gensim corpus\n",
    "    texts : List of input texts\n",
    "    limit : Max num of topics\n",
    "\n",
    "    Returns:\n",
    "    -------\n",
    "    model_list : List of LDA topic models\n",
    "    coherence_values : Coherence values corresponding to the LDA model with respective number of topics\n",
    "    \"\"\"\n",
    "    coherence_values = []\n",
    "    model_list = []\n",
    "    for num_topics in range(start, limit, step):\n",
    "#         model = gensim.models.wrappers.LdaMallet(mallet_path, \n",
    "#                                                  corpus=corpus,\n",
    "#                                                  num_topics=num_topics,\n",
    "#                                                  id2word=id2word)\n",
    "        \n",
    "        \n",
    "        model = gensim.models.ldamodel.LdaModel(corpus=corpus,\n",
    "                                                id2word=dictionary,\n",
    "                                                num_topics=num_topics,\n",
    "                                                random_state=100,\n",
    "                                                update_every=1,\n",
    "                                                chunksize=100,\n",
    "                                                passes=10,\n",
    "                                                alpha='auto',\n",
    "                                                per_word_topics=True)\n",
    "        \n",
    "        model_list.append(model)\n",
    "        coherencemodel = CoherenceModel(model=model, texts=texts, dictionary=dictionary, coherence='c_v')\n",
    "        coherence_values.append(coherencemodel.get_coherence())\n",
    "\n",
    "    return model_list, coherence_values"
   ]
  },
  {
   "cell_type": "code",
   "execution_count": 333,
   "metadata": {},
   "outputs": [],
   "source": [
    "# Can take a long time to run.\n",
    "model_list, coherence_values = compute_coherence_values(dictionary=dictionary, corpus=corpus, texts=texts, start=2, limit=40, step=6)\n",
    "# Show graph"
   ]
  },
  {
   "cell_type": "code",
   "execution_count": 334,
   "metadata": {},
   "outputs": [
    {
     "data": {
      "image/png": "[encoded data removed]",
      "text/plain": [
       "<Figure size 432x288 with 1 Axes>"
      ]
     },
     "metadata": {
      "needs_background": "light"
     },
     "output_type": "display_data"
    }
   ],
   "source": [
    "# Show graph \n",
    "limit=40; start=2; step=6;\n",
    "x = range(start, limit, step)\n",
    "plt.plot(x, coherence_values)\n",
    "plt.xlabel(\"Num Topics\")\n",
    "plt.ylabel(\"Coherence score\")\n",
    "plt.legend((\"coherence_values\"), loc='best')\n",
    "plt.show()\n",
    "\n",
    "## looks like 20 topic is best"
   ]
  },
  {
   "cell_type": "code",
   "execution_count": 401,
   "metadata": {},
   "outputs": [],
   "source": [
    "## do LDA using 20 topics\n",
    "lda_model = gensim.models.ldamodel.LdaModel(corpus=corpus,\n",
    "                                            id2word=dictionary,\n",
    "                                            num_topics=10,\n",
    "                                            random_state=100,\n",
    "                                            update_every=1,\n",
    "                                            chunksize=100,\n",
    "                                            passes=10,\n",
    "                                            alpha='auto',\n",
    "                                            per_word_topics=True)"
   ]
  },
  {
   "cell_type": "code",
   "execution_count": 402,
   "metadata": {},
   "outputs": [
    {
     "name": "stdout",
     "output_type": "stream",
     "text": [
      "\n",
      "Perplexity:  -8.825311421371735\n"
     ]
    }
   ],
   "source": [
    "print('\\nPerplexity: ', lda_model.log_perplexity(corpus))  # a measure of how good the model is. lower the better.\n"
   ]
  },
  {
   "cell_type": "code",
   "execution_count": 403,
   "metadata": {},
   "outputs": [
    {
     "name": "stdout",
     "output_type": "stream",
     "text": [
      "\n",
      "Coherence Score:  0.4327163144647452\n"
     ]
    }
   ],
   "source": [
    "# Compute Coherence Score\n",
    "coherence_model_lda = CoherenceModel(model=lda_model, texts=texts, dictionary=dictionary, coherence='c_v')\n",
    "coherence_lda = coherence_model_lda.get_coherence()\n",
    "print('\\nCoherence Score: ', coherence_lda)"
   ]
  },
  {
   "cell_type": "code",
   "execution_count": null,
   "metadata": {},
   "outputs": [],
   "source": [
    "import pyLDAvis\n",
    "import pyLDAvis.gensim  \n",
    "# Visualize the topics\n",
    "pyLDAvis.enable_notebook()\n",
    "vis = pyLDAvis.gensim.prepare(lda_model, corpus, dictionary, R = 50)\n",
    "vis"
   ]
  },
  {
   "cell_type": "code",
   "execution_count": 404,
   "metadata": {},
   "outputs": [
    {
     "name": "stdout",
     "output_type": "stream",
     "text": [
      "Topic: 0 \n",
      "Words: covid|sarscov|public_health|health|coronavirus|severe_acute|ha|disease|health_care|coronavirus_|pandemic|case|covid_|ace|data|china|confirmed_case|january_|global_pandemic|spike_protein\n",
      "Topic: 1 \n",
      "Words: et_al|result_suggest|fipv_ii|fapn_fdcsign|fipv|type_ii|raw_data|et_al_et_al|fdcsign|fapn|cat|feline|data_mining|ii|hiv|et|aqueous_humor|al|dataset|type\n",
      "Topic: 2 \n",
      "Words: p_|patient|wa|intensive_care|wa_performed|day|pneumonia|risk_factor|aim_study|within_|care|viral_pneumonia|age|associated|failure|mortality|hospital|length_stay|outcome|influenza\n",
      "Topic: 3 \n",
      "Words: viral_infection|n_protein|strain|virus|wa|present_study|sample|specie|chain_reaction|wa_measured|study|sequence|pedv|rtpcr|avian_influenza|economic_loss|assay|analysis|wa_developed|viral\n",
      "Topic: 4 \n",
      "Words: immune_response|dna_vaccine|healthy_control|nucleic_acid|qfs_patient|virus_causing|safety_potency|cd|vaccine|promoter_region|cl_pro|serum_sample|cva|animal_model|symptom_onset|antibody_titer|efficacy|higher_level|immune|paper_propose\n",
      "Topic: 5 \n",
      "Words: co_|r_e|pm_|de|e_|p_r|en|p_r_p_r|de_la|entity_e|immune_system|j_u_r_n|r_n|j_u|ambient_pm|la|l_p|l_p_r_e|co|covid\n",
      "Topic: 6 \n",
      "Words: virus|influenza_virus|respiratory|infection|wa_detected|viral_infection|wa|wa_found|viral|human|pathogen|disease|child|tract_infection|influenza|clinical|study|december_|hbov|detected\n",
      "Topic: 7 \n",
      "Words: wa|patient|study|ah|result|disease|wa_found|wa_associated|position_|data|method|middle_east|risk_factor|sars|mers_outbreak|factor|day|present_study|risk|test\n",
      "Topic: 8 \n",
      "Words: cell|protein|α_hnf|hnf|virus|amino_acid|wa|te|activity|e_coli|hepg|expression|rna|plasma_membrane|cell_line|viral|type_iii|gene|immune_response|sequence\n",
      "Topic: 9 \n",
      "Words: wa_used|morus_genus|wa_evaluated|wa|ibv|assay|antibody|early_stage|used|wa_isolated|early_diagnosis|wa_observed|last_decade|method|detection|morus|elisa|hadv_|analysis_showed|complete_genome\n"
     ]
    }
   ],
   "source": [
    "## show topic and top N key words\n",
    "for idx, topic in lda_model.show_topics(num_topics= 50, formatted=False, num_words= 20):\n",
    "    \n",
    "    print('Topic: {} \\nWords: {}'.format(idx, '|'.join([w[0] for w in topic])))"
   ]
  },
  {
   "cell_type": "code",
   "execution_count": 367,
   "metadata": {},
   "outputs": [],
   "source": [
    "## assign topic to documents\n",
    "topic_assignments = lda_model.get_document_topics(corpus,minimum_probability=0)"
   ]
  },
  {
   "cell_type": "code",
   "execution_count": 368,
   "metadata": {},
   "outputs": [],
   "source": [
    "probabilities = [ [entry for entry in doc] for doc in topic_assignments ]"
   ]
  },
  {
   "cell_type": "code",
   "execution_count": 369,
   "metadata": {},
   "outputs": [],
   "source": [
    "sort_prob = [sorted(x, key = lambda x: x[1], reverse = True) for x in probabilities]"
   ]
  },
  {
   "cell_type": "code",
   "execution_count": 370,
   "metadata": {},
   "outputs": [],
   "source": [
    "## obtain highest score topic\n",
    "\n",
    "topic_list = [x[0][0] for x in sort_prob]"
   ]
  },
  {
   "cell_type": "code",
   "execution_count": 371,
   "metadata": {},
   "outputs": [],
   "source": [
    "train_df['single_word_topic'] = topic_list"
   ]
  },
  {
   "cell_type": "code",
   "execution_count": 380,
   "metadata": {},
   "outputs": [
    {
     "data": {
      "text/plain": [
       "8    365\n",
       "6    247\n",
       "4    192\n",
       "5    101\n",
       "3     56\n",
       "2     39\n",
       "1     17\n",
       "0     16\n",
       "Name: single_word_topic, dtype: int64"
      ]
     },
     "execution_count": 380,
     "metadata": {},
     "output_type": "execute_result"
    }
   ],
   "source": [
    "train_df['single_word_topic'].value_counts()"
   ]
  },
  {
   "cell_type": "code",
   "execution_count": 381,
   "metadata": {},
   "outputs": [
    {
     "data": {
      "text/plain": [
       "(array([ 16.,  17.,  39.,  56.,   0., 192., 101., 247.,   0., 365.]),\n",
       " array([0. , 0.8, 1.6, 2.4, 3.2, 4. , 4.8, 5.6, 6.4, 7.2, 8. ]),\n",
       " <a list of 10 Patch objects>)"
      ]
     },
     "execution_count": 381,
     "metadata": {},
     "output_type": "execute_result"
    },
    {
     "data": {
      "image/png": "[encoded data removed]",
      "text/plain": [
       "<Figure size 432x288 with 1 Axes>"
      ]
     },
     "metadata": {
      "needs_background": "light"
     },
     "output_type": "display_data"
    }
   ],
   "source": [
    "plt.hist(train_df['single_word_topic'])"
   ]
  },
  {
   "cell_type": "markdown",
   "metadata": {},
   "source": [
    "### Bi-gram clustering"
   ]
  },
  {
   "cell_type": "code",
   "execution_count": null,
   "metadata": {},
   "outputs": [],
   "source": [
    "# Compute bigrams.\n",
    "from gensim.models import Phrases\n",
    "\n",
    "# Add bigrams and trigrams to docs (only ones that appear 20 times or more).\n",
    "bigram = Phrases(docs, min_count=20)\n",
    "for idx in range(len(docs)):\n",
    "    for token in bigram[docs[idx]]:\n",
    "        if '_' in token:\n",
    "            # Token is a bigram, add to document.\n",
    "            docs[idx].append(token)"
   ]
  },
  {
   "cell_type": "code",
   "execution_count": 398,
   "metadata": {},
   "outputs": [],
   "source": [
    "LDA_data =train_df['abstract_tokens_clean']\n",
    "\n",
    "\n",
    "bigram = Phrases(LDA_data, min_count=2)\n",
    "for idx in range(len(LDA_data)):\n",
    "    for token in bigram[LDA_data[idx]]:\n",
    "        if '_' in token:\n",
    "            # Token is a bigram, add to document.\n",
    "            LDA_data[idx].append(token)\n",
    "            \n",
    "# Reformatting tokens for LDA\n",
    "\n",
    "## this clean numbers out\n",
    "def sent_to_words(sentences):\n",
    "    for sentence in sentences:\n",
    "        yield(gensim.utils.simple_preprocess(str(sentence), deacc=True))  # deacc=True removes punctuations\n",
    "\n",
    "        \n",
    "# construct token list\n",
    "texts = list(sent_to_words(LDA_data))\n",
    "\n",
    "# create dictionary\n",
    "dictionary = corpora.Dictionary(texts)\n",
    "\n",
    "dict(list(dictionary.token2id.items())[0:10])\n",
    "\n",
    "## create corpus for LDA\n",
    "corpus = [dictionary.doc2bow(item) for item in texts]"
   ]
  },
  {
   "cell_type": "markdown",
   "metadata": {},
   "source": [
    "## Algorithm testing"
   ]
  },
  {
   "cell_type": "code",
   "execution_count": 107,
   "metadata": {},
   "outputs": [],
   "source": [
    "train_df = pd.read_csv(data_path/ 'cleaned_data' / 'train_dataset.csv')\n",
    "test_df = pd.read_csv(data_path/ 'cleaned_data' / 'test_dataset.csv')"
   ]
  },
  {
   "cell_type": "code",
   "execution_count": null,
   "metadata": {},
   "outputs": [],
   "source": [
    "\n",
    "# load BART summarizer\n",
    "# summarizer = pipeline(task=\"summarization\")\n"
   ]
  },
  {
   "cell_type": "code",
   "execution_count": null,
   "metadata": {},
   "outputs": [],
   "source": [
    "\n",
    "\n",
    "# summary = summarizer(clean_df['abstract'][0], min_length=50, max_length=3312)"
   ]
  },
  {
   "cell_type": "code",
   "execution_count": 13,
   "metadata": {},
   "outputs": [],
   "source": [
    "## BERT\n",
    "from summarizer import Summarizer\n",
    "\n",
    "model = Summarizer()\n",
    "result = model(train_df['abstract'][0], min_length=50,max_length=100)\n",
    "full0 = ''.join(result)"
   ]
  },
  {
   "cell_type": "code",
   "execution_count": 14,
   "metadata": {},
   "outputs": [
    {
     "name": "stdout",
     "output_type": "stream",
     "text": [
      "''\n"
     ]
    }
   ],
   "source": [
    "pprint(full0)"
   ]
  },
  {
   "cell_type": "code",
   "execution_count": 10,
   "metadata": {},
   "outputs": [],
   "source": [
    "#GPT2\n",
    "from summarizer import Summarizer,TransformerSummarizer\n",
    "\n",
    "GPT2_model = TransformerSummarizer(transformer_type=\"GPT2\",transformer_model_key=\"gpt2-medium\")\n",
    "full = ''.join(GPT2_model(train_df['abstract'][0], min_length=50, max_length=100))"
   ]
  },
  {
   "cell_type": "code",
   "execution_count": 11,
   "metadata": {},
   "outputs": [
    {
     "name": "stdout",
     "output_type": "stream",
     "text": [
      "''\n"
     ]
    }
   ],
   "source": [
    "pprint(full)"
   ]
  },
  {
   "cell_type": "code",
   "execution_count": null,
   "metadata": {},
   "outputs": [],
   "source": [
    "## Bart Text Summarization\n",
    "\n",
    "#### problem:\n",
    "\n",
    "#### BART seems working anyway\n",
    "#### limitation is 1024 words(token)"
   ]
  },
  {
   "cell_type": "code",
   "execution_count": 31,
   "metadata": {},
   "outputs": [],
   "source": [
    "import torch\n",
    "from transformers import BartTokenizer, BartForConditionalGeneration\n",
    "from transformers import pipeline\n",
    "\n",
    "torch_device = 'cuda' if torch.cuda.is_available() else 'cpu'\n",
    "model = BartForConditionalGeneration.from_pretrained('facebook/bart-large-cnn')\n",
    "tokenizer = BartTokenizer.from_pretrained('facebook/bart-large-cnn')\n",
    "\n",
    "summarizer = pipeline(task=\"summarization\", model=model, tokenizer=tokenizer)"
   ]
  },
  {
   "cell_type": "code",
   "execution_count": 41,
   "metadata": {},
   "outputs": [
    {
     "name": "stderr",
     "output_type": "stream",
     "text": [
      "WARNING:transformers.tokenization_utils:Token indices sequence length is longer than the specified maximum sequence length for this model (5234 > 1024). Running this sequence through the model will result in indexing errors\n"
     ]
    }
   ],
   "source": [
    "# test size of tokens\n",
    "input_ids = tokenizer.encode(train_df['text'][1], add_special_tokens=True)\n",
    "\n",
    "## input is too long!\n",
    "len(input_ids)"
   ]
  },
  {
   "cell_type": "code",
   "execution_count": null,
   "metadata": {},
   "outputs": [],
   "source": [
    "# ' '.join(tokenizer.convert_ids_to_tokens(input_ids)) "
   ]
  },
  {
   "cell_type": "code",
   "execution_count": null,
   "metadata": {},
   "outputs": [],
   "source": []
  },
  {
   "cell_type": "code",
   "execution_count": 48,
   "metadata": {},
   "outputs": [
    {
     "name": "stdout",
     "output_type": "stream",
     "text": [
      "[{'summary_text': 'Study investigated the longterm impact of antibiotic use policy on the rates of consumption expressed as dailydefined doses1000 patientdays of various parenteral antibiotics. It also looked at the prevalence of methicillinresistant Staphylococcus aureus MRSA and the incidence of healthcareassociated MRSA HAMRSA infection.'}]\n"
     ]
    }
   ],
   "source": [
    "full3 = summarizer(train_df['abstract'][0], min_length=30, max_length=100)\n",
    "print(full3)"
   ]
  },
  {
   "cell_type": "markdown",
   "metadata": {},
   "source": [
    "\n",
    "\n",
    "\n"
   ]
  },
  {
   "cell_type": "code",
   "execution_count": null,
   "metadata": {},
   "outputs": [],
   "source": [
    "## T5\n",
    "\n",
    "## T5 limitation is 512 tokens"
   ]
  },
  {
   "cell_type": "code",
   "execution_count": 47,
   "metadata": {},
   "outputs": [
    {
     "name": "stdout",
     "output_type": "stream",
     "text": [
      "original text preprocessed: \n",
      " Abstract The present study investigated the longterm impact of antibiotic use policy on the rates of consumption expressed as dailydefined doses1000 patientdays of various parenteral antibiotics and on the prevalence of methicillinresistant Staphylococcus aureus MRSA and the incidence of healthcareassociated MRSA HAMRSA infection at a tertiary care hospital from 2001 to 2009 During this time consumption of all antimicrobials for systemic use decreased by 33 This change was driven by a 44 decrease in the consumption of unrestricted antibacterials which was offset by a 42 increase in the consumption of restricted agents The trends in MRSA prevalence number of isolates1000 patientdays and HAMRSA incidence number of HAMRSAinfected persons1000 patientdays correlated with the trend in overall consumption of antimicrobials Significant positive correlations were observed between MRSA prevalence and the consumption of extendedspectrum and lactamaseresistant penicillins firstgeneration cephalosporins macrolides lincosamides and streptogramins aminoglycosides and glycopeptides Significant positive correlations were found between the incidence of HAMRSA infection and the consumption of tetracyclines extendedspectrum and lactamaseresistant penicillins sulfonamides and trimethoprim macrolides lincosamides and streptogramins and aminoglycosides In conclusion we have documented the ongoing successful reduction in total consumption of antimicrobials associated with a decrease in the incidence of HAMRSA and the prevalence of MRSA over a 9year period\n",
      "\n",
      "\n",
      "Summarized text: \n",
      " the present study investigated the longterm impact of antibiotic use policy on the rates of consumption expressed as dailydefined doses1000 patientdays of various parenteral antibiotics. this change was driven by a 44 decrease in the consumption of unrestricted antibacterials which was offset by the 42 increase in sizing of restricted agents The trends in MRSA prevalence number of isolates and HAMRSA incidence numbers of hamRSAinfected persons correlated with the\n"
     ]
    }
   ],
   "source": [
    "from transformers import T5Tokenizer, T5ForConditionalGeneration, T5Config\n",
    "\n",
    "model = T5ForConditionalGeneration.from_pretrained('t5-small')\n",
    "tokenizer = T5Tokenizer.from_pretrained('t5-small')\n",
    "device = torch.device('cpu')\n",
    "\n",
    "text = train_df['abstract'][0]\n",
    "\n",
    "\n",
    "preprocess_text = text.strip().replace(\"\\n\",\"\")\n",
    "t5_prepared_Text = \"summarize: \"+preprocess_text\n",
    "print (\"original text preprocessed: \\n\", preprocess_text)\n",
    "\n",
    "tokenized_text = tokenizer.encode(t5_prepared_Text, return_tensors=\"pt\").to(device)\n",
    "\n",
    "\n",
    "# summmarize \n",
    "summary_ids = model.generate(tokenized_text,\n",
    "                            num_beams=4,\n",
    "                            no_repeat_ngram_size=2,\n",
    "                            min_length=30,\n",
    "                            max_length=100,\n",
    "                            early_stopping=True)\n",
    "\n",
    "output = tokenizer.decode(summary_ids[0], skip_special_tokens=True)\n",
    "\n",
    "print (\"\\n\\nSummarized text: \\n\",output)"
   ]
  },
  {
   "cell_type": "code",
   "execution_count": 19,
   "metadata": {},
   "outputs": [
    {
     "data": {
      "application/vnd.jupyter.widget-view+json": {
       "model_id": "0fe22605aef3447daac83a579d360ed9",
       "version_major": 2,
       "version_minor": 0
      },
      "text/plain": [
       "HBox(children=(FloatProgress(value=0.0, description='Downloading', max=1199.0, style=ProgressStyle(description…"
      ]
     },
     "metadata": {},
     "output_type": "display_data"
    },
    {
     "name": "stdout",
     "output_type": "stream",
     "text": [
      "\n"
     ]
    },
    {
     "data": {
      "application/vnd.jupyter.widget-view+json": {
       "model_id": "d2bcaa8883cf47ed83a575e24e76efee",
       "version_major": 2,
       "version_minor": 0
      },
      "text/plain": [
       "HBox(children=(FloatProgress(value=0.0, description='Downloading', max=230.0, style=ProgressStyle(description_…"
      ]
     },
     "metadata": {},
     "output_type": "display_data"
    },
    {
     "name": "stdout",
     "output_type": "stream",
     "text": [
      "\n"
     ]
    },
    {
     "data": {
      "application/vnd.jupyter.widget-view+json": {
       "model_id": "128c9794e9674f819088c37711bd3efa",
       "version_major": 2,
       "version_minor": 0
      },
      "text/plain": [
       "HBox(children=(FloatProgress(value=0.0, description='Downloading', max=892146080.0, style=ProgressStyle(descri…"
      ]
     },
     "metadata": {},
     "output_type": "display_data"
    },
    {
     "name": "stdout",
     "output_type": "stream",
     "text": [
      "\n"
     ]
    },
    {
     "name": "stderr",
     "output_type": "stream",
     "text": [
      "WARNING:transformers.tokenization_utils:Token indices sequence length is longer than the specified maximum sequence length for this model (3991 > 512). Running this sequence through the model will result in indexing errors\n"
     ]
    },
    {
     "data": {
      "text/plain": [
       "[{'summary_text': 'the prevalence of hamrsa and mrssa in ta'}]"
      ]
     },
     "execution_count": 19,
     "metadata": {},
     "output_type": "execute_result"
    }
   ],
   "source": [
    "summarizer = pipeline(\"summarization\", \n",
    "                      model=\"t5-base\", \n",
    "                      tokenizer=\"t5-base\", \n",
    "                      framework=\"tf\")\n",
    "\n",
    "summarizer(train_df['text'][0], min_length=5, max_length=20)\n"
   ]
  },
  {
   "cell_type": "code",
   "execution_count": 44,
   "metadata": {},
   "outputs": [
    {
     "data": {
      "text/plain": [
       "2537"
      ]
     },
     "execution_count": 44,
     "metadata": {},
     "output_type": "execute_result"
    }
   ],
   "source": [
    "len(train_df['text'][0].split())"
   ]
  },
  {
   "cell_type": "code",
   "execution_count": null,
   "metadata": {},
   "outputs": [],
   "source": []
  }
 ],
 "metadata": {
  "kernelspec": {
   "display_name": "Python 3",
   "language": "python",
   "name": "python3"
  },
  "language_info": {
   "codemirror_mode": {
    "name": "ipython",
    "version": 3
   },
   "file_extension": ".py",
   "mimetype": "text/x-python",
   "name": "python",
   "nbconvert_exporter": "python",
   "pygments_lexer": "ipython3",
   "version": "3.8.2"
  }
 },
 "nbformat": 4,
 "nbformat_minor": 4
}
