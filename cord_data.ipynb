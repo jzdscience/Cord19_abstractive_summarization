{
 "cells": [
  {
   "cell_type": "code",
   "execution_count": 63,
   "metadata": {},
   "outputs": [],
   "source": [
    "import os\n",
    "import pandas as pd\n",
    "from pathlib import Path\n",
    "import json\n",
    "from pprint import pprint\n",
    "from copy import deepcopy\n",
    "import random\n",
    "import numpy as np\n",
    "import pandas as pd\n",
    "from tqdm.notebook import tqdm\n",
    "import matplotlib.pyplot as plt\n",
    "import warnings\n",
    "warnings.filterwarnings('ignore')"
   ]
  },
  {
   "cell_type": "code",
   "execution_count": 64,
   "metadata": {},
   "outputs": [],
   "source": [
    "working_path = Path('/home/zhanj289/side_projects/cord_19/')"
   ]
  },
  {
   "cell_type": "code",
   "execution_count": 65,
   "metadata": {},
   "outputs": [],
   "source": [
    "data_path = Path('/home/zhanj289/side_projects/cord_19/') / 'data'"
   ]
  },
  {
   "cell_type": "code",
   "execution_count": 66,
   "metadata": {},
   "outputs": [],
   "source": [
    "## PMC JSON looks like having no 'abstract' key"
   ]
  },
  {
   "cell_type": "code",
   "execution_count": 67,
   "metadata": {},
   "outputs": [],
   "source": [
    "## check meta data\n",
    "\n",
    "meta_data = pd.read_csv(data_path/'metadata.csv')"
   ]
  },
  {
   "cell_type": "code",
   "execution_count": 68,
   "metadata": {},
   "outputs": [
    {
     "data": {
      "text/html": [
       "<div>\n",
       "<style scoped>\n",
       "    .dataframe tbody tr th:only-of-type {\n",
       "        vertical-align: middle;\n",
       "    }\n",
       "\n",
       "    .dataframe tbody tr th {\n",
       "        vertical-align: top;\n",
       "    }\n",
       "\n",
       "    .dataframe thead th {\n",
       "        text-align: right;\n",
       "    }\n",
       "</style>\n",
       "<table border=\"1\" class=\"dataframe\">\n",
       "  <thead>\n",
       "    <tr style=\"text-align: right;\">\n",
       "      <th></th>\n",
       "      <th>cord_uid</th>\n",
       "      <th>sha</th>\n",
       "      <th>source_x</th>\n",
       "      <th>title</th>\n",
       "      <th>doi</th>\n",
       "      <th>pmcid</th>\n",
       "      <th>pubmed_id</th>\n",
       "      <th>license</th>\n",
       "      <th>abstract</th>\n",
       "      <th>publish_time</th>\n",
       "      <th>authors</th>\n",
       "      <th>journal</th>\n",
       "      <th>mag_id</th>\n",
       "      <th>who_covidence_id</th>\n",
       "      <th>arxiv_id</th>\n",
       "      <th>pdf_json_files</th>\n",
       "      <th>pmc_json_files</th>\n",
       "      <th>url</th>\n",
       "      <th>s2_id</th>\n",
       "    </tr>\n",
       "  </thead>\n",
       "  <tbody>\n",
       "    <tr>\n",
       "      <th>31</th>\n",
       "      <td>6iu1dtyl</td>\n",
       "      <td>6e8517cb25ff228cb48da90a9c97d9c274dc8031</td>\n",
       "      <td>PMC</td>\n",
       "      <td>The site of origin of the 1918 influenza pande...</td>\n",
       "      <td>10.1186/1479-5876-2-3</td>\n",
       "      <td>PMC340389</td>\n",
       "      <td>14733617.0</td>\n",
       "      <td>no-cc</td>\n",
       "      <td>NaN</td>\n",
       "      <td>2004-01-20</td>\n",
       "      <td>Barry, John M</td>\n",
       "      <td>J Transl Med</td>\n",
       "      <td>NaN</td>\n",
       "      <td>NaN</td>\n",
       "      <td>NaN</td>\n",
       "      <td>document_parses/pdf_json/6e8517cb25ff228cb48da...</td>\n",
       "      <td>document_parses/pmc_json/PMC340389.xml.json</td>\n",
       "      <td>https://www.ncbi.nlm.nih.gov/pmc/articles/PMC3...</td>\n",
       "      <td>NaN</td>\n",
       "    </tr>\n",
       "    <tr>\n",
       "      <th>35</th>\n",
       "      <td>1769ovyk</td>\n",
       "      <td>c5131e5f5c6000ec84139edc64778a6f1d391b83</td>\n",
       "      <td>PMC</td>\n",
       "      <td>8th Annual Toronto Critical Care Medicine Symp...</td>\n",
       "      <td>10.1186/cc2429</td>\n",
       "      <td>PMC420071</td>\n",
       "      <td>14975048.0</td>\n",
       "      <td>no-cc</td>\n",
       "      <td>NaN</td>\n",
       "      <td>2004-01-02</td>\n",
       "      <td>Granton, Jeff; Granton, John</td>\n",
       "      <td>Crit Care</td>\n",
       "      <td>NaN</td>\n",
       "      <td>NaN</td>\n",
       "      <td>NaN</td>\n",
       "      <td>document_parses/pdf_json/c5131e5f5c6000ec84139...</td>\n",
       "      <td>document_parses/pmc_json/PMC420071.xml.json</td>\n",
       "      <td>https://www.ncbi.nlm.nih.gov/pmc/articles/PMC4...</td>\n",
       "      <td>NaN</td>\n",
       "    </tr>\n",
       "    <tr>\n",
       "      <th>36</th>\n",
       "      <td>tixxm78q</td>\n",
       "      <td>8a7d5de5ea680e784ab2bd877240bf09e4c1c02d</td>\n",
       "      <td>PMC</td>\n",
       "      <td>Recently published papers: all the usual suspe...</td>\n",
       "      <td>10.1186/cc2449</td>\n",
       "      <td>PMC420074</td>\n",
       "      <td>14975037.0</td>\n",
       "      <td>no-cc</td>\n",
       "      <td>NaN</td>\n",
       "      <td>2004-01-02</td>\n",
       "      <td>Ball, Jonathan</td>\n",
       "      <td>Crit Care</td>\n",
       "      <td>NaN</td>\n",
       "      <td>NaN</td>\n",
       "      <td>NaN</td>\n",
       "      <td>document_parses/pdf_json/8a7d5de5ea680e784ab2b...</td>\n",
       "      <td>document_parses/pmc_json/PMC420074.xml.json</td>\n",
       "      <td>https://www.ncbi.nlm.nih.gov/pmc/articles/PMC4...</td>\n",
       "      <td>NaN</td>\n",
       "    </tr>\n",
       "    <tr>\n",
       "      <th>105</th>\n",
       "      <td>r8j6lhoc</td>\n",
       "      <td>c6c8b82bc5a800425b075540eff41b0af719f80f</td>\n",
       "      <td>PMC</td>\n",
       "      <td>HIV Epidemiology in Africa: Weak Variables and...</td>\n",
       "      <td>10.1371/journal.pmed.0020137</td>\n",
       "      <td>PMC1140948</td>\n",
       "      <td>15916469.0</td>\n",
       "      <td>cc-by</td>\n",
       "      <td>NaN</td>\n",
       "      <td>2005-05-31</td>\n",
       "      <td>Brody, Stuart; Potterat, John J</td>\n",
       "      <td>PLoS Med</td>\n",
       "      <td>NaN</td>\n",
       "      <td>NaN</td>\n",
       "      <td>NaN</td>\n",
       "      <td>document_parses/pdf_json/c6c8b82bc5a800425b075...</td>\n",
       "      <td>document_parses/pmc_json/PMC1140948.xml.json</td>\n",
       "      <td>https://www.ncbi.nlm.nih.gov/pmc/articles/PMC1...</td>\n",
       "      <td>NaN</td>\n",
       "    </tr>\n",
       "    <tr>\n",
       "      <th>133</th>\n",
       "      <td>az4a70b0</td>\n",
       "      <td>cc698ffabf545da2fd7ee6a5cb4f25d9102a856a</td>\n",
       "      <td>PMC</td>\n",
       "      <td>eCAM benefits from diversity that derives from...</td>\n",
       "      <td>10.1093/ecam/neh120</td>\n",
       "      <td>PMC1193560</td>\n",
       "      <td>16136204.0</td>\n",
       "      <td>no-cc</td>\n",
       "      <td>NaN</td>\n",
       "      <td>2005-09-01</td>\n",
       "      <td>Cooper, Edwin L.</td>\n",
       "      <td>Evid Based Complement Alternat Med</td>\n",
       "      <td>NaN</td>\n",
       "      <td>NaN</td>\n",
       "      <td>NaN</td>\n",
       "      <td>document_parses/pdf_json/cc698ffabf545da2fd7ee...</td>\n",
       "      <td>document_parses/pmc_json/PMC1193560.xml.json</td>\n",
       "      <td>https://www.ncbi.nlm.nih.gov/pmc/articles/PMC1...</td>\n",
       "      <td>NaN</td>\n",
       "    </tr>\n",
       "  </tbody>\n",
       "</table>\n",
       "</div>"
      ],
      "text/plain": [
       "     cord_uid                                       sha source_x  \\\n",
       "31   6iu1dtyl  6e8517cb25ff228cb48da90a9c97d9c274dc8031      PMC   \n",
       "35   1769ovyk  c5131e5f5c6000ec84139edc64778a6f1d391b83      PMC   \n",
       "36   tixxm78q  8a7d5de5ea680e784ab2bd877240bf09e4c1c02d      PMC   \n",
       "105  r8j6lhoc  c6c8b82bc5a800425b075540eff41b0af719f80f      PMC   \n",
       "133  az4a70b0  cc698ffabf545da2fd7ee6a5cb4f25d9102a856a      PMC   \n",
       "\n",
       "                                                 title  \\\n",
       "31   The site of origin of the 1918 influenza pande...   \n",
       "35   8th Annual Toronto Critical Care Medicine Symp...   \n",
       "36   Recently published papers: all the usual suspe...   \n",
       "105  HIV Epidemiology in Africa: Weak Variables and...   \n",
       "133  eCAM benefits from diversity that derives from...   \n",
       "\n",
       "                              doi       pmcid   pubmed_id license abstract  \\\n",
       "31          10.1186/1479-5876-2-3   PMC340389  14733617.0   no-cc      NaN   \n",
       "35                 10.1186/cc2429   PMC420071  14975048.0   no-cc      NaN   \n",
       "36                 10.1186/cc2449   PMC420074  14975037.0   no-cc      NaN   \n",
       "105  10.1371/journal.pmed.0020137  PMC1140948  15916469.0   cc-by      NaN   \n",
       "133           10.1093/ecam/neh120  PMC1193560  16136204.0   no-cc      NaN   \n",
       "\n",
       "    publish_time                          authors  \\\n",
       "31    2004-01-20                    Barry, John M   \n",
       "35    2004-01-02     Granton, Jeff; Granton, John   \n",
       "36    2004-01-02                   Ball, Jonathan   \n",
       "105   2005-05-31  Brody, Stuart; Potterat, John J   \n",
       "133   2005-09-01                 Cooper, Edwin L.   \n",
       "\n",
       "                                journal  mag_id who_covidence_id arxiv_id  \\\n",
       "31                         J Transl Med     NaN              NaN      NaN   \n",
       "35                            Crit Care     NaN              NaN      NaN   \n",
       "36                            Crit Care     NaN              NaN      NaN   \n",
       "105                            PLoS Med     NaN              NaN      NaN   \n",
       "133  Evid Based Complement Alternat Med     NaN              NaN      NaN   \n",
       "\n",
       "                                        pdf_json_files  \\\n",
       "31   document_parses/pdf_json/6e8517cb25ff228cb48da...   \n",
       "35   document_parses/pdf_json/c5131e5f5c6000ec84139...   \n",
       "36   document_parses/pdf_json/8a7d5de5ea680e784ab2b...   \n",
       "105  document_parses/pdf_json/c6c8b82bc5a800425b075...   \n",
       "133  document_parses/pdf_json/cc698ffabf545da2fd7ee...   \n",
       "\n",
       "                                   pmc_json_files  \\\n",
       "31    document_parses/pmc_json/PMC340389.xml.json   \n",
       "35    document_parses/pmc_json/PMC420071.xml.json   \n",
       "36    document_parses/pmc_json/PMC420074.xml.json   \n",
       "105  document_parses/pmc_json/PMC1140948.xml.json   \n",
       "133  document_parses/pmc_json/PMC1193560.xml.json   \n",
       "\n",
       "                                                   url  s2_id  \n",
       "31   https://www.ncbi.nlm.nih.gov/pmc/articles/PMC3...    NaN  \n",
       "35   https://www.ncbi.nlm.nih.gov/pmc/articles/PMC4...    NaN  \n",
       "36   https://www.ncbi.nlm.nih.gov/pmc/articles/PMC4...    NaN  \n",
       "105  https://www.ncbi.nlm.nih.gov/pmc/articles/PMC1...    NaN  \n",
       "133  https://www.ncbi.nlm.nih.gov/pmc/articles/PMC1...    NaN  "
      ]
     },
     "execution_count": 68,
     "metadata": {},
     "output_type": "execute_result"
    }
   ],
   "source": [
    "meta_data[meta_data['abstract'].isnull()].head()"
   ]
  },
  {
   "cell_type": "code",
   "execution_count": 69,
   "metadata": {},
   "outputs": [
    {
     "data": {
      "text/plain": [
       "75786"
      ]
     },
     "execution_count": 69,
     "metadata": {},
     "output_type": "execute_result"
    }
   ],
   "source": [
    "\n",
    "# paper without pdf_json or pmc_json\n",
    "\n",
    "len(meta_data[(meta_data['pdf_json_files'].isnull()) &(meta_data['pmc_json_files'].isnull()) ])"
   ]
  },
  {
   "cell_type": "code",
   "execution_count": 70,
   "metadata": {},
   "outputs": [
    {
     "data": {
      "text/plain": [
       "16595"
      ]
     },
     "execution_count": 70,
     "metadata": {},
     "output_type": "execute_result"
    }
   ],
   "source": [
    "\n",
    "# paper with pdf_json but no pmc_json\n",
    "\n",
    "len(meta_data[(meta_data['pdf_json_files'].notnull()) &(meta_data['pmc_json_files'].isnull()) ])"
   ]
  },
  {
   "cell_type": "code",
   "execution_count": 71,
   "metadata": {},
   "outputs": [
    {
     "data": {
      "text/plain": [
       "2819"
      ]
     },
     "execution_count": 71,
     "metadata": {},
     "output_type": "execute_result"
    }
   ],
   "source": [
    "\n",
    "# paper with pmc_json bbut no pdj_json\n",
    "\n",
    "len(meta_data[(meta_data['pdf_json_files'].isnull()) &(meta_data['pmc_json_files'].notnull()) ])"
   ]
  },
  {
   "cell_type": "code",
   "execution_count": 72,
   "metadata": {},
   "outputs": [
    {
     "data": {
      "text/plain": [
       "45332"
      ]
     },
     "execution_count": 72,
     "metadata": {},
     "output_type": "execute_result"
    }
   ],
   "source": [
    "\n",
    "# paper with pmc_json bbut no pdj_json\n",
    "\n",
    "len(meta_data[(meta_data['pdf_json_files'].notnull()) &(meta_data['pmc_json_files'].notnull()) ])"
   ]
  },
  {
   "cell_type": "code",
   "execution_count": 73,
   "metadata": {},
   "outputs": [],
   "source": [
    "# paper has no abstract in metadata\n",
    "meta_data_no_abstract  = meta_data[meta_data['abstract'].isnull()]"
   ]
  },
  {
   "cell_type": "code",
   "execution_count": 74,
   "metadata": {},
   "outputs": [
    {
     "data": {
      "text/plain": [
       "30914"
      ]
     },
     "execution_count": 74,
     "metadata": {},
     "output_type": "execute_result"
    }
   ],
   "source": [
    "len(meta_data_no_abstract)"
   ]
  },
  {
   "cell_type": "code",
   "execution_count": 75,
   "metadata": {},
   "outputs": [
    {
     "data": {
      "text/plain": [
       "20142"
      ]
     },
     "execution_count": 75,
     "metadata": {},
     "output_type": "execute_result"
    }
   ],
   "source": [
    "\n",
    "# paper without pdf_json or pmc_json\n",
    "\n",
    "len(meta_data_no_abstract[(meta_data_no_abstract['pdf_json_files'].isnull()) &(meta_data_no_abstract['pmc_json_files'].isnull()) ])"
   ]
  },
  {
   "cell_type": "code",
   "execution_count": 76,
   "metadata": {},
   "outputs": [
    {
     "data": {
      "text/plain": [
       "'document_parses/pdf_json/a037a1a6fe76f1c43e33a639231b9874cb655f88.json'"
      ]
     },
     "execution_count": 76,
     "metadata": {},
     "output_type": "execute_result"
    }
   ],
   "source": [
    "## look closely at a paper without abstract bbut has pdf_json\n",
    "\n",
    "meta_data_no_abstract[(meta_data_no_abstract['pdf_json_files'].notnull()) &(meta_data_no_abstract['pmc_json_files'].isnull()) ]['pdf_json_files'][224]"
   ]
  },
  {
   "cell_type": "code",
   "execution_count": null,
   "metadata": {},
   "outputs": [],
   "source": [
    "# but it has abstraxt in json"
   ]
  },
  {
   "cell_type": "code",
   "execution_count": 67,
   "metadata": {},
   "outputs": [],
   "source": [
    "test_file = json.load(open('data/document_parses/pdf_json/a037a1a6fe76f1c43e33a639231b9874cb655f88.json', 'rb'))\n",
    "\n",
    "test_file['abstract']"
   ]
  },
  {
   "cell_type": "markdown",
   "metadata": {},
   "source": [
    "### metadata seems cannot reflect whether we have abstract in the dataset"
   ]
  },
  {
   "cell_type": "code",
   "execution_count": 77,
   "metadata": {},
   "outputs": [],
   "source": [
    "# The following function is used in creating\n",
    "def format_name(author):\n",
    "    middle_name = \" \".join(author['middle'])\n",
    "    \n",
    "    if author['middle']:\n",
    "        return \" \".join([author['first'], middle_name, author['last']])\n",
    "    else:\n",
    "        return \" \".join([author['first'], author['last']])\n",
    "\n",
    "\n",
    "def format_affiliation(affiliation):\n",
    "    text = []\n",
    "    location = affiliation.get('location')\n",
    "    if location:\n",
    "        text.extend(list(affiliation['location'].values()))\n",
    "    \n",
    "    institution = affiliation.get('institution')\n",
    "    if institution:\n",
    "        text = [institution] + text\n",
    "    return \", \".join(text)\n",
    "\n",
    "def format_authors(authors, with_affiliation=False):\n",
    "    name_ls = []\n",
    "    \n",
    "    for author in authors:\n",
    "        name = format_name(author)\n",
    "        if with_affiliation:\n",
    "            affiliation = format_affiliation(author['affiliation'])\n",
    "            if affiliation:\n",
    "                name_ls.append(f\"{name} ({affiliation})\")\n",
    "            else:\n",
    "                name_ls.append(name)\n",
    "        else:\n",
    "            name_ls.append(name)\n",
    "    \n",
    "    return \", \".join(name_ls)\n",
    "\n",
    "def format_body(body_text):\n",
    "    texts = [(di['section'], di['text']) for di in body_text]\n",
    "    texts_di = {di['section']: \"\" for di in body_text}\n",
    "    \n",
    "    for section, text in texts:\n",
    "        texts_di[section] += text\n",
    "\n",
    "    body = \"\"\n",
    "\n",
    "    for section, text in texts_di.items():\n",
    "        body += section\n",
    "        body += \" \"\n",
    "        body += text\n",
    "        body += \" \"\n",
    "    \n",
    "    return body\n",
    "\n",
    "def format_bib(bibs):\n",
    "    if type(bibs) == dict:\n",
    "        bibs = list(bibs.values())\n",
    "    bibs = deepcopy(bibs)\n",
    "    formatted = []\n",
    "    \n",
    "    for bib in bibs:\n",
    "        bib['authors'] = format_authors(\n",
    "            bib['authors'], \n",
    "            with_affiliation=False\n",
    "        )\n",
    "        formatted_ls = [str(bib[k]) for k in ['title', 'authors', 'venue', 'year']]\n",
    "        formatted.append(\", \".join(formatted_ls))\n",
    "\n",
    "    return \"; \".join(formatted)"
   ]
  },
  {
   "cell_type": "code",
   "execution_count": 78,
   "metadata": {},
   "outputs": [],
   "source": [
    "def load_files(dirname, all_paper = False, paper_number = 1000):\n",
    "    \n",
    "    filenames = os.listdir(dirname)\n",
    "    \n",
    "    # load a few paper or all\n",
    "    if all_paper == False:\n",
    "        rand_indx = random.sample(range(0,len(filenames)), paper_number)\n",
    "    else:\n",
    "        rand_indx = list(range(0, len(filenames)))\n",
    "    \n",
    "    \n",
    "    raw_files = []\n",
    "\n",
    "    for i in tqdm(rand_indx):\n",
    "        filename = dirname / filenames[i]\n",
    "        file = json.load(open(filename, 'rb'))\n",
    "        raw_files.append(file)\n",
    "    \n",
    "    return raw_files\n",
    "\n",
    "def generate_clean_df(all_files):\n",
    "    cleaned_files = []\n",
    "    \n",
    "    for file in tqdm(all_files):\n",
    "        features = [\n",
    "            file['paper_id'],\n",
    "            file['metadata']['title'],\n",
    "            format_authors(file['metadata']['authors']),\n",
    "            format_authors(file['metadata']['authors'], \n",
    "                           with_affiliation=True),\n",
    "            format_body(file['abstract']),\n",
    "            format_body(file['body_text']),\n",
    "            format_bib(file['bib_entries']),\n",
    "            file['metadata']['authors'],\n",
    "            file['bib_entries']\n",
    "        ]\n",
    "\n",
    "        cleaned_files.append(features)\n",
    "\n",
    "    col_names = ['paper_id', 'title', 'authors',\n",
    "                 'affiliations', 'abstract', 'text', \n",
    "                 'bibliography','raw_authors','raw_bibliography']\n",
    "\n",
    "    clean_df = pd.DataFrame(cleaned_files, columns=col_names)\n",
    "    clean_df.head()\n",
    "    \n",
    "    return clean_df"
   ]
  },
  {
   "cell_type": "markdown",
   "metadata": {},
   "source": [
    "### load and clean data"
   ]
  },
  {
   "cell_type": "code",
   "execution_count": 79,
   "metadata": {},
   "outputs": [
    {
     "name": "stdout",
     "output_type": "stream",
     "text": [
      "Number of articles retrieved from pdf: 65782\n"
     ]
    }
   ],
   "source": [
    "pdf_path = data_path / 'document_parses'/'pdf_json/'\n",
    "\n",
    "# check size of data\n",
    "filenames = os.listdir(pdf_path)\n",
    "print(\"Number of articles retrieved from pdf:\", len(filenames))"
   ]
  },
  {
   "cell_type": "code",
   "execution_count": 80,
   "metadata": {},
   "outputs": [
    {
     "data": {
      "application/vnd.jupyter.widget-view+json": {
       "model_id": "6d43664b939341a8a2c25a5b690042b1",
       "version_major": 2,
       "version_minor": 0
      },
      "text/plain": [
       "HBox(children=(FloatProgress(value=0.0, max=3000.0), HTML(value='')))"
      ]
     },
     "metadata": {},
     "output_type": "display_data"
    },
    {
     "name": "stdout",
     "output_type": "stream",
     "text": [
      "\n"
     ]
    }
   ],
   "source": [
    "# attach all pdf to a list\n",
    "all_files = load_files(pdf_path, all_paper = False, paper_number = 3000)"
   ]
  },
  {
   "cell_type": "code",
   "execution_count": 81,
   "metadata": {},
   "outputs": [
    {
     "name": "stdout",
     "output_type": "stream",
     "text": [
      "Dictionary keys: dict_keys(['paper_id', 'metadata', 'abstract', 'body_text', 'bib_entries', 'ref_entries', 'back_matter'])\n"
     ]
    }
   ],
   "source": [
    "# some data exploration\n",
    "\n",
    "file = all_files[555]\n",
    "print(\"Dictionary keys:\", file.keys())"
   ]
  },
  {
   "cell_type": "code",
   "execution_count": 82,
   "metadata": {},
   "outputs": [
    {
     "name": "stdout",
     "output_type": "stream",
     "text": [
      "'Introduction'\n",
      "'Introduction'\n",
      "'Introduction'\n",
      "'Introduction'\n",
      "'Phenylpropanoids'\n",
      "'Phenylpropanoids'\n",
      "'Isoflavones'\n",
      "'Isoflavones'\n",
      "'Isoflavones'\n",
      "'Isopentenyl flavonoids'\n",
      "'Isopentenyl flavonoids'\n",
      "'Isopentenyl flavonoids'\n",
      "'Phenolic acids'\n",
      "'Phenolic acids'\n",
      "'Terpenoids'\n",
      "'Terpenoids'\n",
      "'Terpenoids'\n",
      "'Sesquiterpenoids'\n",
      "'Artemisinin'\n",
      "'Artemisinin'\n",
      "'Artemisinin'\n",
      "'Artemisinin'\n",
      "'Patchoulol'\n",
      "'Patchoulol'\n",
      "'Diterpenoids'\n",
      "'Tanshinone'\n",
      "'Tanshinone'\n",
      "'Tanshinone'\n",
      "'Tanshinone'\n",
      "'Tanshinone'\n",
      "'Taxol (paclitaxel)'\n",
      "'Taxol (paclitaxel)'\n",
      "'Taxol (paclitaxel)'\n",
      "'Triterpenoids'\n",
      "'Ginsenosides'\n",
      "'Ginsenosides'\n",
      "'Cucurbitacins'\n",
      "'Glycyrrhizin'\n",
      "'Glycyrrhizin'\n",
      "'Alkaloids'\n",
      "'Alkaloids'\n",
      "'Perspective'\n"
     ]
    }
   ],
   "source": [
    "for i in range(len(file['body_text'])):\n",
    "    pprint(file['body_text'][i]['section'])"
   ]
  },
  {
   "cell_type": "code",
   "execution_count": 83,
   "metadata": {},
   "outputs": [
    {
     "data": {
      "text/plain": [
       "{'text': 'The isoflavones are well studied for their substantial health promoting benefits. They are found mainly in leguminous plants and are the major bioactive ingredients in soybean, Astragalus, Pueraria lobata [39]. Isoflavones are converted from flavanones by the isoflavone synthase (IFS). By using EST-based approach combined with enzymatic assays, P450s of CYP93C subfamily from soybean were shown to have such activities [40, 41] . Members of this subfamily with IFS activity were also reported in other leguminous plants, such as Lotus japonicus [42] and Trifolium pratense [43] .',\n",
       " 'cite_spans': [{'start': 421, 'end': 425, 'text': '[40,', 'ref_id': None},\n",
       "  {'start': 426, 'end': 429, 'text': '41]', 'ref_id': None},\n",
       "  {'start': 575, 'end': 579, 'text': '[43]', 'ref_id': None}],\n",
       " 'ref_spans': [],\n",
       " 'section': 'Isoflavones'}"
      ]
     },
     "execution_count": 83,
     "metadata": {},
     "output_type": "execute_result"
    }
   ],
   "source": [
    "file['body_text'][6]"
   ]
  },
  {
   "cell_type": "code",
   "execution_count": 84,
   "metadata": {},
   "outputs": [
    {
     "data": {
      "text/plain": [
       "{'text': 'Astragalus membranaceus, a species of Fabaceae, has been used in TCM for thousands of years. Astragaus is considered an adaptogen because it is believed to help protect the body against stresses, including those of physical, mental or emotional [44, 45] . In China, Astragalus has been used to help patients with severe forms of heart disease in relieving symptoms, lowering cholesterol levels and improving heart function. Constituents of the Astragalus roots (radix astragali) include polysaccharides, triterpenoids (astragalosides) and isoflavones [46, 47] . Isoflavones such as calycosin-7-glucoside and ononin are considered the important active components in this medicine. Hairy root system of Astragalus was developed a long time ago to produce these ingredients [48, 49] . Research at molecular level in this plant is limited, but will help reveal the biosynthetic pathway in this leguminous medicinal plant [50] .',\n",
       " 'cite_spans': [{'start': 245, 'end': 249, 'text': '[44,', 'ref_id': None},\n",
       "  {'start': 250, 'end': 253, 'text': '45]', 'ref_id': None},\n",
       "  {'start': 551, 'end': 555, 'text': '[46,', 'ref_id': None},\n",
       "  {'start': 556, 'end': 559, 'text': '47]', 'ref_id': None},\n",
       "  {'start': 771, 'end': 775, 'text': '[48,', 'ref_id': None},\n",
       "  {'start': 776, 'end': 779, 'text': '49]', 'ref_id': None},\n",
       "  {'start': 917, 'end': 921, 'text': '[50]', 'ref_id': None}],\n",
       " 'ref_spans': [],\n",
       " 'section': 'Isoflavones'}"
      ]
     },
     "execution_count": 84,
     "metadata": {},
     "output_type": "execute_result"
    }
   ],
   "source": [
    "file['body_text'][7]"
   ]
  },
  {
   "cell_type": "code",
   "execution_count": 85,
   "metadata": {},
   "outputs": [
    {
     "data": {
      "text/plain": [
       "'Perspective'"
      ]
     },
     "execution_count": 85,
     "metadata": {},
     "output_type": "execute_result"
    }
   ],
   "source": [
    "file['body_text'][i]['section']"
   ]
  },
  {
   "cell_type": "code",
   "execution_count": null,
   "metadata": {},
   "outputs": [],
   "source": []
  },
  {
   "cell_type": "code",
   "execution_count": 86,
   "metadata": {},
   "outputs": [
    {
     "data": {
      "application/vnd.jupyter.widget-view+json": {
       "model_id": "28462c7735544a8f93e0449899cf7913",
       "version_major": 2,
       "version_minor": 0
      },
      "text/plain": [
       "HBox(children=(FloatProgress(value=0.0, max=3000.0), HTML(value='')))"
      ]
     },
     "metadata": {},
     "output_type": "display_data"
    },
    {
     "name": "stdout",
     "output_type": "stream",
     "text": [
      "\n"
     ]
    }
   ],
   "source": [
    "## Generate CSV (PDF JSON)\n",
    "\n",
    "\n",
    "cleaned_files = []\n",
    "\n",
    "for file in tqdm(all_files):\n",
    "    features = [\n",
    "        file['paper_id'],\n",
    "        file['metadata']['title'],\n",
    "        format_authors(file['metadata']['authors']),\n",
    "        format_authors(file['metadata']['authors'], \n",
    "                       with_affiliation=True),\n",
    "        format_body(file['abstract']),\n",
    "        format_body(file['body_text']),\n",
    "        format_bib(file['bib_entries']),\n",
    "        file['metadata']['authors'],\n",
    "        file['bib_entries']\n",
    "    ]\n",
    "    \n",
    "    cleaned_files.append(features)"
   ]
  },
  {
   "cell_type": "code",
   "execution_count": 87,
   "metadata": {},
   "outputs": [
    {
     "data": {
      "text/html": [
       "<div>\n",
       "<style scoped>\n",
       "    .dataframe tbody tr th:only-of-type {\n",
       "        vertical-align: middle;\n",
       "    }\n",
       "\n",
       "    .dataframe tbody tr th {\n",
       "        vertical-align: top;\n",
       "    }\n",
       "\n",
       "    .dataframe thead th {\n",
       "        text-align: right;\n",
       "    }\n",
       "</style>\n",
       "<table border=\"1\" class=\"dataframe\">\n",
       "  <thead>\n",
       "    <tr style=\"text-align: right;\">\n",
       "      <th></th>\n",
       "      <th>paper_id</th>\n",
       "      <th>title</th>\n",
       "      <th>authors</th>\n",
       "      <th>affiliations</th>\n",
       "      <th>abstract</th>\n",
       "      <th>text</th>\n",
       "      <th>bibliography</th>\n",
       "      <th>raw_authors</th>\n",
       "      <th>raw_bibliography</th>\n",
       "      <th>abstract_word_count</th>\n",
       "      <th>body_word_count</th>\n",
       "    </tr>\n",
       "  </thead>\n",
       "  <tbody>\n",
       "    <tr>\n",
       "      <th>0</th>\n",
       "      <td>27e9373516e9a1f67fbc5e8d85ef78c476ce6da8</td>\n",
       "      <td>Analysis of synonymous codon usage patterns in...</td>\n",
       "      <td>Zhicheng Zhang, Wei Dai, Yang Wang, • Chengpin...</td>\n",
       "      <td>Zhicheng Zhang, Wei Dai, Yang Wang, • Chengpin...</td>\n",
       "      <td>Abstract Torque teno sus virus 1 (TTSuV1) is a...</td>\n",
       "      <td>Introduction It is well known that the genetic...</td>\n",
       "      <td>Two types of linkage between codon usage and g...</td>\n",
       "      <td>[{'first': 'Zhicheng', 'middle': [], 'last': '...</td>\n",
       "      <td>{'BIBREF0': {'ref_id': 'b0', 'title': 'Two typ...</td>\n",
       "      <td>281</td>\n",
       "      <td>3853</td>\n",
       "    </tr>\n",
       "    <tr>\n",
       "      <th>1</th>\n",
       "      <td>231377128610c5776532830eb8eb8d79f17fb120</td>\n",
       "      <td>DDX1 is an RNA-dependent ATPase Involved in HI...</td>\n",
       "      <td>Stephen P Edgcomb, Andrew B Carmel, Souad Naji...</td>\n",
       "      <td>Stephen P Edgcomb, Andrew B Carmel, Souad Naji...</td>\n",
       "      <td>Abstract The HIV-1 Rev protein is essential fo...</td>\n",
       "      <td>Introduction After cellular entry and genomic ...</td>\n",
       "      <td>The ins and outs of HIV Rev, T J Hope, Arch Bi...</td>\n",
       "      <td>[{'first': 'Stephen', 'middle': ['P'], 'last':...</td>\n",
       "      <td>{'BIBREF0': {'ref_id': 'b0', 'title': 'The ins...</td>\n",
       "      <td>208</td>\n",
       "      <td>7317</td>\n",
       "    </tr>\n",
       "  </tbody>\n",
       "</table>\n",
       "</div>"
      ],
      "text/plain": [
       "                                   paper_id  \\\n",
       "0  27e9373516e9a1f67fbc5e8d85ef78c476ce6da8   \n",
       "1  231377128610c5776532830eb8eb8d79f17fb120   \n",
       "\n",
       "                                               title  \\\n",
       "0  Analysis of synonymous codon usage patterns in...   \n",
       "1  DDX1 is an RNA-dependent ATPase Involved in HI...   \n",
       "\n",
       "                                             authors  \\\n",
       "0  Zhicheng Zhang, Wei Dai, Yang Wang, • Chengpin...   \n",
       "1  Stephen P Edgcomb, Andrew B Carmel, Souad Naji...   \n",
       "\n",
       "                                        affiliations  \\\n",
       "0  Zhicheng Zhang, Wei Dai, Yang Wang, • Chengpin...   \n",
       "1  Stephen P Edgcomb, Andrew B Carmel, Souad Naji...   \n",
       "\n",
       "                                            abstract  \\\n",
       "0  Abstract Torque teno sus virus 1 (TTSuV1) is a...   \n",
       "1  Abstract The HIV-1 Rev protein is essential fo...   \n",
       "\n",
       "                                                text  \\\n",
       "0  Introduction It is well known that the genetic...   \n",
       "1  Introduction After cellular entry and genomic ...   \n",
       "\n",
       "                                        bibliography  \\\n",
       "0  Two types of linkage between codon usage and g...   \n",
       "1  The ins and outs of HIV Rev, T J Hope, Arch Bi...   \n",
       "\n",
       "                                         raw_authors  \\\n",
       "0  [{'first': 'Zhicheng', 'middle': [], 'last': '...   \n",
       "1  [{'first': 'Stephen', 'middle': ['P'], 'last':...   \n",
       "\n",
       "                                    raw_bibliography  abstract_word_count  \\\n",
       "0  {'BIBREF0': {'ref_id': 'b0', 'title': 'Two typ...                  281   \n",
       "1  {'BIBREF0': {'ref_id': 'b0', 'title': 'The ins...                  208   \n",
       "\n",
       "   body_word_count  \n",
       "0             3853  \n",
       "1             7317  "
      ]
     },
     "execution_count": 87,
     "metadata": {},
     "output_type": "execute_result"
    }
   ],
   "source": [
    "col_names = [\n",
    "    'paper_id', \n",
    "    'title', \n",
    "    'authors',\n",
    "    'affiliations', \n",
    "    'abstract', \n",
    "    'text', \n",
    "    'bibliography',\n",
    "    'raw_authors',\n",
    "    'raw_bibliography'\n",
    "]\n",
    "\n",
    "paper_df = pd.DataFrame(cleaned_files, columns=col_names)\n",
    "\n",
    "paper_df['abstract_word_count'] = paper_df['abstract'].apply(lambda x: len(x.strip().split()))\n",
    "paper_df['body_word_count'] = paper_df['text'].apply(lambda x: len(x.strip().split()))\n",
    "\n",
    "paper_df.head(2)"
   ]
  },
  {
   "cell_type": "code",
   "execution_count": 88,
   "metadata": {},
   "outputs": [
    {
     "data": {
      "text/plain": [
       "(3000, 11)"
      ]
     },
     "execution_count": 88,
     "metadata": {},
     "output_type": "execute_result"
    }
   ],
   "source": [
    "paper_df.shape"
   ]
  },
  {
   "cell_type": "code",
   "execution_count": 89,
   "metadata": {},
   "outputs": [
    {
     "data": {
      "text/html": [
       "<div>\n",
       "<style scoped>\n",
       "    .dataframe tbody tr th:only-of-type {\n",
       "        vertical-align: middle;\n",
       "    }\n",
       "\n",
       "    .dataframe tbody tr th {\n",
       "        vertical-align: top;\n",
       "    }\n",
       "\n",
       "    .dataframe thead th {\n",
       "        text-align: right;\n",
       "    }\n",
       "</style>\n",
       "<table border=\"1\" class=\"dataframe\">\n",
       "  <thead>\n",
       "    <tr style=\"text-align: right;\">\n",
       "      <th></th>\n",
       "      <th>abstract_word_count</th>\n",
       "      <th>body_word_count</th>\n",
       "    </tr>\n",
       "  </thead>\n",
       "  <tbody>\n",
       "    <tr>\n",
       "      <th>count</th>\n",
       "      <td>3000.000000</td>\n",
       "      <td>3000.000000</td>\n",
       "    </tr>\n",
       "    <tr>\n",
       "      <th>mean</th>\n",
       "      <td>160.216333</td>\n",
       "      <td>4580.471000</td>\n",
       "    </tr>\n",
       "    <tr>\n",
       "      <th>std</th>\n",
       "      <td>200.983096</td>\n",
       "      <td>10271.161227</td>\n",
       "    </tr>\n",
       "    <tr>\n",
       "      <th>min</th>\n",
       "      <td>0.000000</td>\n",
       "      <td>7.000000</td>\n",
       "    </tr>\n",
       "    <tr>\n",
       "      <th>25%</th>\n",
       "      <td>0.000000</td>\n",
       "      <td>1944.750000</td>\n",
       "    </tr>\n",
       "    <tr>\n",
       "      <th>50%</th>\n",
       "      <td>152.000000</td>\n",
       "      <td>3350.000000</td>\n",
       "    </tr>\n",
       "    <tr>\n",
       "      <th>75%</th>\n",
       "      <td>230.000000</td>\n",
       "      <td>5142.000000</td>\n",
       "    </tr>\n",
       "    <tr>\n",
       "      <th>max</th>\n",
       "      <td>3934.000000</td>\n",
       "      <td>282413.000000</td>\n",
       "    </tr>\n",
       "  </tbody>\n",
       "</table>\n",
       "</div>"
      ],
      "text/plain": [
       "       abstract_word_count  body_word_count\n",
       "count          3000.000000      3000.000000\n",
       "mean            160.216333      4580.471000\n",
       "std             200.983096     10271.161227\n",
       "min               0.000000         7.000000\n",
       "25%               0.000000      1944.750000\n",
       "50%             152.000000      3350.000000\n",
       "75%             230.000000      5142.000000\n",
       "max            3934.000000    282413.000000"
      ]
     },
     "execution_count": 89,
     "metadata": {},
     "output_type": "execute_result"
    }
   ],
   "source": [
    "paper_df[['abstract_word_count', 'body_word_count']].describe()"
   ]
  },
  {
   "cell_type": "code",
   "execution_count": 90,
   "metadata": {},
   "outputs": [],
   "source": [
    "## check distribution of word counts"
   ]
  },
  {
   "cell_type": "code",
   "execution_count": 91,
   "metadata": {},
   "outputs": [
    {
     "data": {
      "text/plain": [
       "7345.299999999999"
      ]
     },
     "execution_count": 91,
     "metadata": {},
     "output_type": "execute_result"
    },
    {
     "data": {
      "image/png": "[encoded data removed]",
      "text/plain": [
       "<Figure size 432x288 with 1 Axes>"
      ]
     },
     "metadata": {
      "needs_background": "light"
     },
     "output_type": "display_data"
    }
   ],
   "source": [
    "_ = plt.hist(paper_df['body_word_count'], bins= 100)\n",
    "\n",
    "paper_df['body_word_count'].quantile(0.9)"
   ]
  },
  {
   "cell_type": "code",
   "execution_count": 92,
   "metadata": {},
   "outputs": [
    {
     "data": {
      "text/plain": [
       "301.0999999999999"
      ]
     },
     "execution_count": 92,
     "metadata": {},
     "output_type": "execute_result"
    },
    {
     "data": {
      "image/png": "[encoded data removed]",
      "text/plain": [
       "<Figure size 432x288 with 1 Axes>"
      ]
     },
     "metadata": {
      "needs_background": "light"
     },
     "output_type": "display_data"
    }
   ],
   "source": [
    "_ = plt.hist(paper_df['abstract_word_count'], bins= 100)\n",
    "\n",
    "paper_df['abstract_word_count'].quantile(0.9)"
   ]
  },
  {
   "cell_type": "code",
   "execution_count": 93,
   "metadata": {},
   "outputs": [],
   "source": [
    "### clean dataset and trim dataset"
   ]
  },
  {
   "cell_type": "code",
   "execution_count": 94,
   "metadata": {},
   "outputs": [],
   "source": [
    "import re \n",
    "def clean_dataset(text):\n",
    "    text=re.sub('[\\[].*?[\\]]', '', str(text))  #remove in-text citation\n",
    "    text=re.sub(r'^https?:\\/\\/.*[\\r\\n]*', '',text, flags=re.MULTILINE)#remove hyperlink\n",
    "    text=re.sub(r'\\\\b[A-Z a-z 0-9._ - ]*[@](.*?)[.]{1,3} \\\\b', '', text)#remove email\n",
    "    text=re.sub(r'^a1111111111 a1111111111 a1111111111 a1111111111 a1111111111.*[\\r\\n]*',' ',text)#have no idea what is a11111.. is, but I remove it now\n",
    "    text=re.sub(r'  +', ' ',text ) #remove extra space\n",
    "    text=re.sub('[,\\.!?]', '', text)\n",
    "    text=re.sub(r's/ ( *)/\\1/g','',text) \n",
    "    text=re.sub(r'[^\\w\\s]','',text) #strip punctions (recheck)\n",
    "    return text"
   ]
  },
  {
   "cell_type": "code",
   "execution_count": 95,
   "metadata": {},
   "outputs": [],
   "source": [
    "paper_df['text'] =paper_df['text'].apply(clean_dataset)\n",
    "paper_df['title'] =paper_df['title'].apply(clean_dataset)\n",
    "paper_df['abstract'] =paper_df['abstract'].apply(clean_dataset)\n",
    "paper_df['text'] =paper_df['text'].apply(clean_dataset)\n",
    "\n",
    "paper_df['abstract'] = paper_df['abstract'].map(lambda x: x.lower())\n",
    "paper_df['text'] = paper_df['text'].map(lambda x: x.lower())\n",
    "\n",
    "paper_df=paper_df.reset_index(drop=True)"
   ]
  },
  {
   "cell_type": "code",
   "execution_count": 96,
   "metadata": {},
   "outputs": [
    {
     "data": {
      "text/plain": [
       "(3000, 11)"
      ]
     },
     "execution_count": 96,
     "metadata": {},
     "output_type": "execute_result"
    }
   ],
   "source": [
    "paper_df.shape"
   ]
  },
  {
   "cell_type": "code",
   "execution_count": 97,
   "metadata": {},
   "outputs": [],
   "source": [
    "## Drop papers with duplication and where abstract or paper length is too long\n",
    "\n",
    "    \n",
    "paper_df.drop_duplicates(['abstract', 'text'], inplace=True)\n",
    "\n",
    "\n",
    "# 300 is about 90% percentile\n",
    "trimmed_df = paper_df[paper_df['abstract_word_count'] < 300]\n",
    "\n",
    "# arbitry number\n",
    "trimmed_df = trimmed_df[(trimmed_df['body_word_count'] >500) &( trimmed_df['body_word_count'] < 4000)]\n",
    "\n",
    "\n",
    "\n"
   ]
  },
  {
   "cell_type": "code",
   "execution_count": 98,
   "metadata": {},
   "outputs": [
    {
     "data": {
      "text/plain": [
       "(1545, 11)"
      ]
     },
     "execution_count": 98,
     "metadata": {},
     "output_type": "execute_result"
    }
   ],
   "source": [
    "trimmed_df.shape"
   ]
  },
  {
   "cell_type": "code",
   "execution_count": 99,
   "metadata": {},
   "outputs": [],
   "source": [
    "## Train Test Split"
   ]
  },
  {
   "cell_type": "code",
   "execution_count": 100,
   "metadata": {},
   "outputs": [],
   "source": [
    "test_df = trimmed_df[trimmed_df['abstract_word_count'] < 10]"
   ]
  },
  {
   "cell_type": "code",
   "execution_count": 101,
   "metadata": {},
   "outputs": [],
   "source": [
    "train_df = trimmed_df.drop(test_df.index)"
   ]
  },
  {
   "cell_type": "code",
   "execution_count": 102,
   "metadata": {},
   "outputs": [],
   "source": [
    "train_df=train_df.reset_index(drop=True)\n",
    "test_df=test_df.reset_index(drop=True)"
   ]
  },
  {
   "cell_type": "code",
   "execution_count": 103,
   "metadata": {},
   "outputs": [
    {
     "data": {
      "text/plain": [
       "(512, 11)"
      ]
     },
     "execution_count": 103,
     "metadata": {},
     "output_type": "execute_result"
    }
   ],
   "source": [
    "test_df.shape"
   ]
  },
  {
   "cell_type": "code",
   "execution_count": 104,
   "metadata": {},
   "outputs": [
    {
     "data": {
      "text/plain": [
       "(1033, 11)"
      ]
     },
     "execution_count": 104,
     "metadata": {},
     "output_type": "execute_result"
    }
   ],
   "source": [
    "train_df.shape"
   ]
  },
  {
   "cell_type": "code",
   "execution_count": 105,
   "metadata": {},
   "outputs": [],
   "source": [
    "#remove articles that are not related to COVID-19 based on publish time\n",
    "## WIP\n",
    "# clean_df=clean_df[(clean_df['publish_time']>'2019-11-01') & (merge_final['text_body'].str.contains('nCoV|Cov|COVID|covid|SARS-CoV-2|sars-cov-2'))]\n",
    "# clean_df.shape"
   ]
  },
  {
   "cell_type": "code",
   "execution_count": 106,
   "metadata": {},
   "outputs": [],
   "source": [
    "\n",
    "output_path = data_path/ 'cleaned_data'\n",
    "# os.mkdir(output_path)\n",
    "\n",
    "test_df.to_csv(output_path / 'test_dataset.csv', index=False)\n",
    "train_df.to_csv(output_path / 'train_dataset.csv', index=False)"
   ]
  },
  {
   "cell_type": "markdown",
   "metadata": {},
   "source": [
    "## Algorithm testing"
   ]
  },
  {
   "cell_type": "code",
   "execution_count": 107,
   "metadata": {},
   "outputs": [],
   "source": [
    "train_df = pd.read_csv(data_path/ 'cleaned_data' / 'train_dataset.csv')\n",
    "test_df = pd.read_csv(data_path/ 'cleaned_data' / 'test_dataset.csv')"
   ]
  },
  {
   "cell_type": "code",
   "execution_count": null,
   "metadata": {},
   "outputs": [],
   "source": [
    "\n",
    "# load BART summarizer\n",
    "# summarizer = pipeline(task=\"summarization\")\n"
   ]
  },
  {
   "cell_type": "code",
   "execution_count": null,
   "metadata": {},
   "outputs": [],
   "source": [
    "\n",
    "\n",
    "# summary = summarizer(clean_df['abstract'][0], min_length=50, max_length=3312)"
   ]
  },
  {
   "cell_type": "code",
   "execution_count": 13,
   "metadata": {},
   "outputs": [],
   "source": [
    "## BERT\n",
    "from summarizer import Summarizer\n",
    "\n",
    "model = Summarizer()\n",
    "result = model(train_df['abstract'][0], min_length=50,max_length=100)\n",
    "full0 = ''.join(result)"
   ]
  },
  {
   "cell_type": "code",
   "execution_count": 14,
   "metadata": {},
   "outputs": [
    {
     "name": "stdout",
     "output_type": "stream",
     "text": [
      "''\n"
     ]
    }
   ],
   "source": [
    "pprint(full0)"
   ]
  },
  {
   "cell_type": "code",
   "execution_count": 10,
   "metadata": {},
   "outputs": [],
   "source": [
    "#GPT2\n",
    "from summarizer import Summarizer,TransformerSummarizer\n",
    "\n",
    "GPT2_model = TransformerSummarizer(transformer_type=\"GPT2\",transformer_model_key=\"gpt2-medium\")\n",
    "full = ''.join(GPT2_model(train_df['abstract'][0], min_length=50, max_length=100))"
   ]
  },
  {
   "cell_type": "code",
   "execution_count": 11,
   "metadata": {},
   "outputs": [
    {
     "name": "stdout",
     "output_type": "stream",
     "text": [
      "''\n"
     ]
    }
   ],
   "source": [
    "pprint(full)"
   ]
  },
  {
   "cell_type": "code",
   "execution_count": null,
   "metadata": {},
   "outputs": [],
   "source": [
    "## Bart Text Summarization\n",
    "\n",
    "#### problem:\n",
    "\n",
    "#### BART seems working anyway\n",
    "#### limitation is 1024 words(token)"
   ]
  },
  {
   "cell_type": "code",
   "execution_count": 31,
   "metadata": {},
   "outputs": [],
   "source": [
    "import torch\n",
    "from transformers import BartTokenizer, BartForConditionalGeneration\n",
    "from transformers import pipeline\n",
    "\n",
    "torch_device = 'cuda' if torch.cuda.is_available() else 'cpu'\n",
    "model = BartForConditionalGeneration.from_pretrained('facebook/bart-large-cnn')\n",
    "tokenizer = BartTokenizer.from_pretrained('facebook/bart-large-cnn')\n",
    "\n",
    "summarizer = pipeline(task=\"summarization\", model=model, tokenizer=tokenizer)"
   ]
  },
  {
   "cell_type": "code",
   "execution_count": 41,
   "metadata": {},
   "outputs": [
    {
     "name": "stderr",
     "output_type": "stream",
     "text": [
      "WARNING:transformers.tokenization_utils:Token indices sequence length is longer than the specified maximum sequence length for this model (5234 > 1024). Running this sequence through the model will result in indexing errors\n"
     ]
    }
   ],
   "source": [
    "# test size of tokens\n",
    "input_ids = tokenizer.encode(train_df['text'][1], add_special_tokens=True)\n",
    "\n",
    "## input is too long!\n",
    "len(input_ids)"
   ]
  },
  {
   "cell_type": "code",
   "execution_count": null,
   "metadata": {},
   "outputs": [],
   "source": [
    "# ' '.join(tokenizer.convert_ids_to_tokens(input_ids)) "
   ]
  },
  {
   "cell_type": "code",
   "execution_count": null,
   "metadata": {},
   "outputs": [],
   "source": []
  },
  {
   "cell_type": "code",
   "execution_count": 48,
   "metadata": {},
   "outputs": [
    {
     "name": "stdout",
     "output_type": "stream",
     "text": [
      "[{'summary_text': 'Study investigated the longterm impact of antibiotic use policy on the rates of consumption expressed as dailydefined doses1000 patientdays of various parenteral antibiotics. It also looked at the prevalence of methicillinresistant Staphylococcus aureus MRSA and the incidence of healthcareassociated MRSA HAMRSA infection.'}]\n"
     ]
    }
   ],
   "source": [
    "full3 = summarizer(train_df['abstract'][0], min_length=30, max_length=100)\n",
    "print(full3)"
   ]
  },
  {
   "cell_type": "markdown",
   "metadata": {},
   "source": [
    "\n",
    "\n",
    "\n"
   ]
  },
  {
   "cell_type": "code",
   "execution_count": null,
   "metadata": {},
   "outputs": [],
   "source": [
    "## T5\n",
    "\n",
    "## T5 limitation is 512 tokens"
   ]
  },
  {
   "cell_type": "code",
   "execution_count": 47,
   "metadata": {},
   "outputs": [
    {
     "name": "stdout",
     "output_type": "stream",
     "text": [
      "original text preprocessed: \n",
      " Abstract The present study investigated the longterm impact of antibiotic use policy on the rates of consumption expressed as dailydefined doses1000 patientdays of various parenteral antibiotics and on the prevalence of methicillinresistant Staphylococcus aureus MRSA and the incidence of healthcareassociated MRSA HAMRSA infection at a tertiary care hospital from 2001 to 2009 During this time consumption of all antimicrobials for systemic use decreased by 33 This change was driven by a 44 decrease in the consumption of unrestricted antibacterials which was offset by a 42 increase in the consumption of restricted agents The trends in MRSA prevalence number of isolates1000 patientdays and HAMRSA incidence number of HAMRSAinfected persons1000 patientdays correlated with the trend in overall consumption of antimicrobials Significant positive correlations were observed between MRSA prevalence and the consumption of extendedspectrum and lactamaseresistant penicillins firstgeneration cephalosporins macrolides lincosamides and streptogramins aminoglycosides and glycopeptides Significant positive correlations were found between the incidence of HAMRSA infection and the consumption of tetracyclines extendedspectrum and lactamaseresistant penicillins sulfonamides and trimethoprim macrolides lincosamides and streptogramins and aminoglycosides In conclusion we have documented the ongoing successful reduction in total consumption of antimicrobials associated with a decrease in the incidence of HAMRSA and the prevalence of MRSA over a 9year period\n",
      "\n",
      "\n",
      "Summarized text: \n",
      " the present study investigated the longterm impact of antibiotic use policy on the rates of consumption expressed as dailydefined doses1000 patientdays of various parenteral antibiotics. this change was driven by a 44 decrease in the consumption of unrestricted antibacterials which was offset by the 42 increase in sizing of restricted agents The trends in MRSA prevalence number of isolates and HAMRSA incidence numbers of hamRSAinfected persons correlated with the\n"
     ]
    }
   ],
   "source": [
    "from transformers import T5Tokenizer, T5ForConditionalGeneration, T5Config\n",
    "\n",
    "model = T5ForConditionalGeneration.from_pretrained('t5-small')\n",
    "tokenizer = T5Tokenizer.from_pretrained('t5-small')\n",
    "device = torch.device('cpu')\n",
    "\n",
    "text = train_df['abstract'][0]\n",
    "\n",
    "\n",
    "preprocess_text = text.strip().replace(\"\\n\",\"\")\n",
    "t5_prepared_Text = \"summarize: \"+preprocess_text\n",
    "print (\"original text preprocessed: \\n\", preprocess_text)\n",
    "\n",
    "tokenized_text = tokenizer.encode(t5_prepared_Text, return_tensors=\"pt\").to(device)\n",
    "\n",
    "\n",
    "# summmarize \n",
    "summary_ids = model.generate(tokenized_text,\n",
    "                            num_beams=4,\n",
    "                            no_repeat_ngram_size=2,\n",
    "                            min_length=30,\n",
    "                            max_length=100,\n",
    "                            early_stopping=True)\n",
    "\n",
    "output = tokenizer.decode(summary_ids[0], skip_special_tokens=True)\n",
    "\n",
    "print (\"\\n\\nSummarized text: \\n\",output)"
   ]
  },
  {
   "cell_type": "code",
   "execution_count": 19,
   "metadata": {},
   "outputs": [
    {
     "data": {
      "application/vnd.jupyter.widget-view+json": {
       "model_id": "0fe22605aef3447daac83a579d360ed9",
       "version_major": 2,
       "version_minor": 0
      },
      "text/plain": [
       "HBox(children=(FloatProgress(value=0.0, description='Downloading', max=1199.0, style=ProgressStyle(description…"
      ]
     },
     "metadata": {},
     "output_type": "display_data"
    },
    {
     "name": "stdout",
     "output_type": "stream",
     "text": [
      "\n"
     ]
    },
    {
     "data": {
      "application/vnd.jupyter.widget-view+json": {
       "model_id": "d2bcaa8883cf47ed83a575e24e76efee",
       "version_major": 2,
       "version_minor": 0
      },
      "text/plain": [
       "HBox(children=(FloatProgress(value=0.0, description='Downloading', max=230.0, style=ProgressStyle(description_…"
      ]
     },
     "metadata": {},
     "output_type": "display_data"
    },
    {
     "name": "stdout",
     "output_type": "stream",
     "text": [
      "\n"
     ]
    },
    {
     "data": {
      "application/vnd.jupyter.widget-view+json": {
       "model_id": "128c9794e9674f819088c37711bd3efa",
       "version_major": 2,
       "version_minor": 0
      },
      "text/plain": [
       "HBox(children=(FloatProgress(value=0.0, description='Downloading', max=892146080.0, style=ProgressStyle(descri…"
      ]
     },
     "metadata": {},
     "output_type": "display_data"
    },
    {
     "name": "stdout",
     "output_type": "stream",
     "text": [
      "\n"
     ]
    },
    {
     "name": "stderr",
     "output_type": "stream",
     "text": [
      "WARNING:transformers.tokenization_utils:Token indices sequence length is longer than the specified maximum sequence length for this model (3991 > 512). Running this sequence through the model will result in indexing errors\n"
     ]
    },
    {
     "data": {
      "text/plain": [
       "[{'summary_text': 'the prevalence of hamrsa and mrssa in ta'}]"
      ]
     },
     "execution_count": 19,
     "metadata": {},
     "output_type": "execute_result"
    }
   ],
   "source": [
    "summarizer = pipeline(\"summarization\", \n",
    "                      model=\"t5-base\", \n",
    "                      tokenizer=\"t5-base\", \n",
    "                      framework=\"tf\")\n",
    "\n",
    "summarizer(train_df['text'][0], min_length=5, max_length=20)\n"
   ]
  },
  {
   "cell_type": "code",
   "execution_count": 44,
   "metadata": {},
   "outputs": [
    {
     "data": {
      "text/plain": [
       "2537"
      ]
     },
     "execution_count": 44,
     "metadata": {},
     "output_type": "execute_result"
    }
   ],
   "source": [
    "len(train_df['text'][0].split())"
   ]
  },
  {
   "cell_type": "markdown",
   "metadata": {},
   "source": [
    "### LDA classification"
   ]
  },
  {
   "cell_type": "code",
   "execution_count": 110,
   "metadata": {},
   "outputs": [],
   "source": [
    "train_df['abstract_tokens'] = train_df['abstract'].apply(lambda x: x.split())"
   ]
  },
  {
   "cell_type": "code",
   "execution_count": 112,
   "metadata": {},
   "outputs": [],
   "source": [
    "\n",
    "def remove_abstract(text):\n",
    "    words = [w for w in text if w != 'abstract']\n",
    "    return words"
   ]
  },
  {
   "cell_type": "code",
   "execution_count": 114,
   "metadata": {},
   "outputs": [],
   "source": [
    "train_df['abstract_tokens'] = train_df['abstract_tokens'].apply(lambda x: remove_abstract(x))"
   ]
  },
  {
   "cell_type": "code",
   "execution_count": 115,
   "metadata": {},
   "outputs": [
    {
     "data": {
      "text/html": [
       "<div>\n",
       "<style scoped>\n",
       "    .dataframe tbody tr th:only-of-type {\n",
       "        vertical-align: middle;\n",
       "    }\n",
       "\n",
       "    .dataframe tbody tr th {\n",
       "        vertical-align: top;\n",
       "    }\n",
       "\n",
       "    .dataframe thead th {\n",
       "        text-align: right;\n",
       "    }\n",
       "</style>\n",
       "<table border=\"1\" class=\"dataframe\">\n",
       "  <thead>\n",
       "    <tr style=\"text-align: right;\">\n",
       "      <th></th>\n",
       "      <th>paper_id</th>\n",
       "      <th>title</th>\n",
       "      <th>authors</th>\n",
       "      <th>affiliations</th>\n",
       "      <th>abstract</th>\n",
       "      <th>text</th>\n",
       "      <th>bibliography</th>\n",
       "      <th>raw_authors</th>\n",
       "      <th>raw_bibliography</th>\n",
       "      <th>abstract_word_count</th>\n",
       "      <th>body_word_count</th>\n",
       "      <th>abstract_tokens</th>\n",
       "    </tr>\n",
       "  </thead>\n",
       "  <tbody>\n",
       "    <tr>\n",
       "      <th>0</th>\n",
       "      <td>27e9373516e9a1f67fbc5e8d85ef78c476ce6da8</td>\n",
       "      <td>Analysis of synonymous codon usage patterns in...</td>\n",
       "      <td>Zhicheng Zhang, Wei Dai, Yang Wang, • Chengpin...</td>\n",
       "      <td>Zhicheng Zhang, Wei Dai, Yang Wang, • Chengpin...</td>\n",
       "      <td>abstract torque teno sus virus 1 ttsuv1 is a n...</td>\n",
       "      <td>introduction it is well known that the genetic...</td>\n",
       "      <td>Two types of linkage between codon usage and g...</td>\n",
       "      <td>[{'first': 'Zhicheng', 'middle': [], 'last': '...</td>\n",
       "      <td>{'BIBREF0': {'ref_id': 'b0', 'title': 'Two typ...</td>\n",
       "      <td>281</td>\n",
       "      <td>3853</td>\n",
       "      <td>[torque, teno, sus, virus, 1, ttsuv1, is, a, n...</td>\n",
       "    </tr>\n",
       "    <tr>\n",
       "      <th>1</th>\n",
       "      <td>e00c2c6b0f665650b300157efc46f99c621d190b</td>\n",
       "      <td>NaN</td>\n",
       "      <td>Mark A Wainberg, Kuan-Teh Jeang</td>\n",
       "      <td>Mark A Wainberg (Jewish General Hospital, 3755...</td>\n",
       "      <td>abstract xenotropic murine leukemia virusrelat...</td>\n",
       "      <td>background xenotropic murine leukemia virusrel...</td>\n",
       "      <td>Proc. Natl. Acad. Sci. USA, R Schlaberg, D J C...</td>\n",
       "      <td>[{'first': 'Mark', 'middle': ['A'], 'last': 'W...</td>\n",
       "      <td>{'BIBREF10': {'ref_id': 'b10', 'title': 'Proc....</td>\n",
       "      <td>55</td>\n",
       "      <td>1529</td>\n",
       "      <td>[xenotropic, murine, leukemia, virusrelated, v...</td>\n",
       "    </tr>\n",
       "    <tr>\n",
       "      <th>2</th>\n",
       "      <td>349bde29ae8991f5f2fff50c3250e6d1676eb6de</td>\n",
       "      <td>NFjB activation by equine arteritis virus is M...</td>\n",
       "      <td>Amin Mottahedin, Maruthibabu Paidikondala, Har...</td>\n",
       "      <td>Amin Mottahedin, Maruthibabu Paidikondala, Har...</td>\n",
       "      <td>abstract nfjb a family of transcription factor...</td>\n",
       "      <td>equine arteritis virus eav is an enveloped si...</td>\n",
       "      <td>Arteriviruses, E J Snijder, W J Spaan, , 2006;...</td>\n",
       "      <td>[{'first': 'Amin', 'middle': [], 'last': 'Mott...</td>\n",
       "      <td>{'BIBREF0': {'ref_id': 'b0', 'title': 'Arteriv...</td>\n",
       "      <td>106</td>\n",
       "      <td>1954</td>\n",
       "      <td>[nfjb, a, family, of, transcription, factors, ...</td>\n",
       "    </tr>\n",
       "    <tr>\n",
       "      <th>3</th>\n",
       "      <td>8c0849795cf319de1b8a9f6cd3ae24f042a8936b</td>\n",
       "      <td>Glycosylated hemoglobin is associated with sys...</td>\n",
       "      <td>Zhenzhou Wang, Zhe Du, Fengxue Zhu</td>\n",
       "      <td>Zhenzhou Wang, Zhe Du, Fengxue Zhu</td>\n",
       "      <td>abstract results a total of 132 patients were ...</td>\n",
       "      <td>introduction coronavirus disease covid19 is ca...</td>\n",
       "      <td>Prevalence of comorbidities in the novel Wuhan...</td>\n",
       "      <td>[{'first': 'Zhenzhou', 'middle': [], 'last': '...</td>\n",
       "      <td>{'BIBREF0': {'ref_id': 'b0', 'title': 'Prevale...</td>\n",
       "      <td>165</td>\n",
       "      <td>1709</td>\n",
       "      <td>[results, a, total, of, 132, patients, were, i...</td>\n",
       "    </tr>\n",
       "    <tr>\n",
       "      <th>4</th>\n",
       "      <td>dc350cbdde2a3f0a4f9fa37f453fb8baa98f87f3</td>\n",
       "      <td>A GERMFREE STATUS DOES NOT PROTECT FROM THE LE...</td>\n",
       "      <td>B Nemerya, D K Tuckerb, S Sparrowa</td>\n",
       "      <td>B Nemerya (Medical Research Council Laboratori...</td>\n",
       "      <td>abstract publicly funded repositories such as ...</td>\n",
       "      <td>toxicology unit and bexperimental embryology a...</td>\n",
       "      <td>Colonization and bronchopulmonary infection, I...</td>\n",
       "      <td>[{'first': 'B', 'middle': [], 'last': 'Nemerya...</td>\n",
       "      <td>{'BIBREF0': {'ref_id': 'b0', 'title': 'Coloniz...</td>\n",
       "      <td>58</td>\n",
       "      <td>2036</td>\n",
       "      <td>[publicly, funded, repositories, such, as, the...</td>\n",
       "    </tr>\n",
       "  </tbody>\n",
       "</table>\n",
       "</div>"
      ],
      "text/plain": [
       "                                   paper_id  \\\n",
       "0  27e9373516e9a1f67fbc5e8d85ef78c476ce6da8   \n",
       "1  e00c2c6b0f665650b300157efc46f99c621d190b   \n",
       "2  349bde29ae8991f5f2fff50c3250e6d1676eb6de   \n",
       "3  8c0849795cf319de1b8a9f6cd3ae24f042a8936b   \n",
       "4  dc350cbdde2a3f0a4f9fa37f453fb8baa98f87f3   \n",
       "\n",
       "                                               title  \\\n",
       "0  Analysis of synonymous codon usage patterns in...   \n",
       "1                                                NaN   \n",
       "2  NFjB activation by equine arteritis virus is M...   \n",
       "3  Glycosylated hemoglobin is associated with sys...   \n",
       "4  A GERMFREE STATUS DOES NOT PROTECT FROM THE LE...   \n",
       "\n",
       "                                             authors  \\\n",
       "0  Zhicheng Zhang, Wei Dai, Yang Wang, • Chengpin...   \n",
       "1                    Mark A Wainberg, Kuan-Teh Jeang   \n",
       "2  Amin Mottahedin, Maruthibabu Paidikondala, Har...   \n",
       "3                 Zhenzhou Wang, Zhe Du, Fengxue Zhu   \n",
       "4                 B Nemerya, D K Tuckerb, S Sparrowa   \n",
       "\n",
       "                                        affiliations  \\\n",
       "0  Zhicheng Zhang, Wei Dai, Yang Wang, • Chengpin...   \n",
       "1  Mark A Wainberg (Jewish General Hospital, 3755...   \n",
       "2  Amin Mottahedin, Maruthibabu Paidikondala, Har...   \n",
       "3                 Zhenzhou Wang, Zhe Du, Fengxue Zhu   \n",
       "4  B Nemerya (Medical Research Council Laboratori...   \n",
       "\n",
       "                                            abstract  \\\n",
       "0  abstract torque teno sus virus 1 ttsuv1 is a n...   \n",
       "1  abstract xenotropic murine leukemia virusrelat...   \n",
       "2  abstract nfjb a family of transcription factor...   \n",
       "3  abstract results a total of 132 patients were ...   \n",
       "4  abstract publicly funded repositories such as ...   \n",
       "\n",
       "                                                text  \\\n",
       "0  introduction it is well known that the genetic...   \n",
       "1  background xenotropic murine leukemia virusrel...   \n",
       "2   equine arteritis virus eav is an enveloped si...   \n",
       "3  introduction coronavirus disease covid19 is ca...   \n",
       "4  toxicology unit and bexperimental embryology a...   \n",
       "\n",
       "                                        bibliography  \\\n",
       "0  Two types of linkage between codon usage and g...   \n",
       "1  Proc. Natl. Acad. Sci. USA, R Schlaberg, D J C...   \n",
       "2  Arteriviruses, E J Snijder, W J Spaan, , 2006;...   \n",
       "3  Prevalence of comorbidities in the novel Wuhan...   \n",
       "4  Colonization and bronchopulmonary infection, I...   \n",
       "\n",
       "                                         raw_authors  \\\n",
       "0  [{'first': 'Zhicheng', 'middle': [], 'last': '...   \n",
       "1  [{'first': 'Mark', 'middle': ['A'], 'last': 'W...   \n",
       "2  [{'first': 'Amin', 'middle': [], 'last': 'Mott...   \n",
       "3  [{'first': 'Zhenzhou', 'middle': [], 'last': '...   \n",
       "4  [{'first': 'B', 'middle': [], 'last': 'Nemerya...   \n",
       "\n",
       "                                    raw_bibliography  abstract_word_count  \\\n",
       "0  {'BIBREF0': {'ref_id': 'b0', 'title': 'Two typ...                  281   \n",
       "1  {'BIBREF10': {'ref_id': 'b10', 'title': 'Proc....                   55   \n",
       "2  {'BIBREF0': {'ref_id': 'b0', 'title': 'Arteriv...                  106   \n",
       "3  {'BIBREF0': {'ref_id': 'b0', 'title': 'Prevale...                  165   \n",
       "4  {'BIBREF0': {'ref_id': 'b0', 'title': 'Coloniz...                   58   \n",
       "\n",
       "   body_word_count                                    abstract_tokens  \n",
       "0             3853  [torque, teno, sus, virus, 1, ttsuv1, is, a, n...  \n",
       "1             1529  [xenotropic, murine, leukemia, virusrelated, v...  \n",
       "2             1954  [nfjb, a, family, of, transcription, factors, ...  \n",
       "3             1709  [results, a, total, of, 132, patients, were, i...  \n",
       "4             2036  [publicly, funded, repositories, such, as, the...  "
      ]
     },
     "execution_count": 115,
     "metadata": {},
     "output_type": "execute_result"
    }
   ],
   "source": [
    "train_df.head()"
   ]
  },
  {
   "cell_type": "code",
   "execution_count": 124,
   "metadata": {},
   "outputs": [
    {
     "name": "stderr",
     "output_type": "stream",
     "text": [
      "[nltk_data] Downloading package wordnet to /home/zhanj289/nltk_data...\n",
      "[nltk_data]   Unzipping corpora/wordnet.zip.\n"
     ]
    },
    {
     "data": {
      "text/plain": [
       "True"
      ]
     },
     "execution_count": 124,
     "metadata": {},
     "output_type": "execute_result"
    }
   ],
   "source": [
    "import nltk\n",
    "nltk.download('wordnet')"
   ]
  },
  {
   "cell_type": "code",
   "execution_count": 125,
   "metadata": {},
   "outputs": [],
   "source": [
    "from nltk.stem import WordNetLemmatizer\n",
    "\n",
    "# define a function to lematize a list of tokens\n",
    "lemmatizer = WordNetLemmatizer() # instantiate a lemmatizer\n",
    "def lemmatize_tokens(tokens):\n",
    "    lemmatized_tokens = [lemmatizer.lemmatize(t) for t in tokens]\n",
    "    return lemmatized_tokens"
   ]
  },
  {
   "cell_type": "code",
   "execution_count": 126,
   "metadata": {},
   "outputs": [
    {
     "data": {
      "text/html": [
       "<div>\n",
       "<style scoped>\n",
       "    .dataframe tbody tr th:only-of-type {\n",
       "        vertical-align: middle;\n",
       "    }\n",
       "\n",
       "    .dataframe tbody tr th {\n",
       "        vertical-align: top;\n",
       "    }\n",
       "\n",
       "    .dataframe thead th {\n",
       "        text-align: right;\n",
       "    }\n",
       "</style>\n",
       "<table border=\"1\" class=\"dataframe\">\n",
       "  <thead>\n",
       "    <tr style=\"text-align: right;\">\n",
       "      <th></th>\n",
       "      <th>paper_id</th>\n",
       "      <th>title</th>\n",
       "      <th>authors</th>\n",
       "      <th>affiliations</th>\n",
       "      <th>abstract</th>\n",
       "      <th>text</th>\n",
       "      <th>bibliography</th>\n",
       "      <th>raw_authors</th>\n",
       "      <th>raw_bibliography</th>\n",
       "      <th>abstract_word_count</th>\n",
       "      <th>body_word_count</th>\n",
       "      <th>abstract_tokens</th>\n",
       "    </tr>\n",
       "  </thead>\n",
       "  <tbody>\n",
       "    <tr>\n",
       "      <th>0</th>\n",
       "      <td>27e9373516e9a1f67fbc5e8d85ef78c476ce6da8</td>\n",
       "      <td>Analysis of synonymous codon usage patterns in...</td>\n",
       "      <td>Zhicheng Zhang, Wei Dai, Yang Wang, • Chengpin...</td>\n",
       "      <td>Zhicheng Zhang, Wei Dai, Yang Wang, • Chengpin...</td>\n",
       "      <td>abstract torque teno sus virus 1 ttsuv1 is a n...</td>\n",
       "      <td>introduction it is well known that the genetic...</td>\n",
       "      <td>Two types of linkage between codon usage and g...</td>\n",
       "      <td>[{'first': 'Zhicheng', 'middle': [], 'last': '...</td>\n",
       "      <td>{'BIBREF0': {'ref_id': 'b0', 'title': 'Two typ...</td>\n",
       "      <td>281</td>\n",
       "      <td>3853</td>\n",
       "      <td>[torque, teno, sus, virus, 1, ttsuv1, is, a, n...</td>\n",
       "    </tr>\n",
       "    <tr>\n",
       "      <th>1</th>\n",
       "      <td>e00c2c6b0f665650b300157efc46f99c621d190b</td>\n",
       "      <td>NaN</td>\n",
       "      <td>Mark A Wainberg, Kuan-Teh Jeang</td>\n",
       "      <td>Mark A Wainberg (Jewish General Hospital, 3755...</td>\n",
       "      <td>abstract xenotropic murine leukemia virusrelat...</td>\n",
       "      <td>background xenotropic murine leukemia virusrel...</td>\n",
       "      <td>Proc. Natl. Acad. Sci. USA, R Schlaberg, D J C...</td>\n",
       "      <td>[{'first': 'Mark', 'middle': ['A'], 'last': 'W...</td>\n",
       "      <td>{'BIBREF10': {'ref_id': 'b10', 'title': 'Proc....</td>\n",
       "      <td>55</td>\n",
       "      <td>1529</td>\n",
       "      <td>[xenotropic, murine, leukemia, virusrelated, v...</td>\n",
       "    </tr>\n",
       "    <tr>\n",
       "      <th>2</th>\n",
       "      <td>349bde29ae8991f5f2fff50c3250e6d1676eb6de</td>\n",
       "      <td>NFjB activation by equine arteritis virus is M...</td>\n",
       "      <td>Amin Mottahedin, Maruthibabu Paidikondala, Har...</td>\n",
       "      <td>Amin Mottahedin, Maruthibabu Paidikondala, Har...</td>\n",
       "      <td>abstract nfjb a family of transcription factor...</td>\n",
       "      <td>equine arteritis virus eav is an enveloped si...</td>\n",
       "      <td>Arteriviruses, E J Snijder, W J Spaan, , 2006;...</td>\n",
       "      <td>[{'first': 'Amin', 'middle': [], 'last': 'Mott...</td>\n",
       "      <td>{'BIBREF0': {'ref_id': 'b0', 'title': 'Arteriv...</td>\n",
       "      <td>106</td>\n",
       "      <td>1954</td>\n",
       "      <td>[nfjb, a, family, of, transcription, factor, i...</td>\n",
       "    </tr>\n",
       "    <tr>\n",
       "      <th>3</th>\n",
       "      <td>8c0849795cf319de1b8a9f6cd3ae24f042a8936b</td>\n",
       "      <td>Glycosylated hemoglobin is associated with sys...</td>\n",
       "      <td>Zhenzhou Wang, Zhe Du, Fengxue Zhu</td>\n",
       "      <td>Zhenzhou Wang, Zhe Du, Fengxue Zhu</td>\n",
       "      <td>abstract results a total of 132 patients were ...</td>\n",
       "      <td>introduction coronavirus disease covid19 is ca...</td>\n",
       "      <td>Prevalence of comorbidities in the novel Wuhan...</td>\n",
       "      <td>[{'first': 'Zhenzhou', 'middle': [], 'last': '...</td>\n",
       "      <td>{'BIBREF0': {'ref_id': 'b0', 'title': 'Prevale...</td>\n",
       "      <td>165</td>\n",
       "      <td>1709</td>\n",
       "      <td>[result, a, total, of, 132, patient, were, inc...</td>\n",
       "    </tr>\n",
       "    <tr>\n",
       "      <th>4</th>\n",
       "      <td>dc350cbdde2a3f0a4f9fa37f453fb8baa98f87f3</td>\n",
       "      <td>A GERMFREE STATUS DOES NOT PROTECT FROM THE LE...</td>\n",
       "      <td>B Nemerya, D K Tuckerb, S Sparrowa</td>\n",
       "      <td>B Nemerya (Medical Research Council Laboratori...</td>\n",
       "      <td>abstract publicly funded repositories such as ...</td>\n",
       "      <td>toxicology unit and bexperimental embryology a...</td>\n",
       "      <td>Colonization and bronchopulmonary infection, I...</td>\n",
       "      <td>[{'first': 'B', 'middle': [], 'last': 'Nemerya...</td>\n",
       "      <td>{'BIBREF0': {'ref_id': 'b0', 'title': 'Coloniz...</td>\n",
       "      <td>58</td>\n",
       "      <td>2036</td>\n",
       "      <td>[publicly, funded, repository, such, a, the, w...</td>\n",
       "    </tr>\n",
       "  </tbody>\n",
       "</table>\n",
       "</div>"
      ],
      "text/plain": [
       "                                   paper_id  \\\n",
       "0  27e9373516e9a1f67fbc5e8d85ef78c476ce6da8   \n",
       "1  e00c2c6b0f665650b300157efc46f99c621d190b   \n",
       "2  349bde29ae8991f5f2fff50c3250e6d1676eb6de   \n",
       "3  8c0849795cf319de1b8a9f6cd3ae24f042a8936b   \n",
       "4  dc350cbdde2a3f0a4f9fa37f453fb8baa98f87f3   \n",
       "\n",
       "                                               title  \\\n",
       "0  Analysis of synonymous codon usage patterns in...   \n",
       "1                                                NaN   \n",
       "2  NFjB activation by equine arteritis virus is M...   \n",
       "3  Glycosylated hemoglobin is associated with sys...   \n",
       "4  A GERMFREE STATUS DOES NOT PROTECT FROM THE LE...   \n",
       "\n",
       "                                             authors  \\\n",
       "0  Zhicheng Zhang, Wei Dai, Yang Wang, • Chengpin...   \n",
       "1                    Mark A Wainberg, Kuan-Teh Jeang   \n",
       "2  Amin Mottahedin, Maruthibabu Paidikondala, Har...   \n",
       "3                 Zhenzhou Wang, Zhe Du, Fengxue Zhu   \n",
       "4                 B Nemerya, D K Tuckerb, S Sparrowa   \n",
       "\n",
       "                                        affiliations  \\\n",
       "0  Zhicheng Zhang, Wei Dai, Yang Wang, • Chengpin...   \n",
       "1  Mark A Wainberg (Jewish General Hospital, 3755...   \n",
       "2  Amin Mottahedin, Maruthibabu Paidikondala, Har...   \n",
       "3                 Zhenzhou Wang, Zhe Du, Fengxue Zhu   \n",
       "4  B Nemerya (Medical Research Council Laboratori...   \n",
       "\n",
       "                                            abstract  \\\n",
       "0  abstract torque teno sus virus 1 ttsuv1 is a n...   \n",
       "1  abstract xenotropic murine leukemia virusrelat...   \n",
       "2  abstract nfjb a family of transcription factor...   \n",
       "3  abstract results a total of 132 patients were ...   \n",
       "4  abstract publicly funded repositories such as ...   \n",
       "\n",
       "                                                text  \\\n",
       "0  introduction it is well known that the genetic...   \n",
       "1  background xenotropic murine leukemia virusrel...   \n",
       "2   equine arteritis virus eav is an enveloped si...   \n",
       "3  introduction coronavirus disease covid19 is ca...   \n",
       "4  toxicology unit and bexperimental embryology a...   \n",
       "\n",
       "                                        bibliography  \\\n",
       "0  Two types of linkage between codon usage and g...   \n",
       "1  Proc. Natl. Acad. Sci. USA, R Schlaberg, D J C...   \n",
       "2  Arteriviruses, E J Snijder, W J Spaan, , 2006;...   \n",
       "3  Prevalence of comorbidities in the novel Wuhan...   \n",
       "4  Colonization and bronchopulmonary infection, I...   \n",
       "\n",
       "                                         raw_authors  \\\n",
       "0  [{'first': 'Zhicheng', 'middle': [], 'last': '...   \n",
       "1  [{'first': 'Mark', 'middle': ['A'], 'last': 'W...   \n",
       "2  [{'first': 'Amin', 'middle': [], 'last': 'Mott...   \n",
       "3  [{'first': 'Zhenzhou', 'middle': [], 'last': '...   \n",
       "4  [{'first': 'B', 'middle': [], 'last': 'Nemerya...   \n",
       "\n",
       "                                    raw_bibliography  abstract_word_count  \\\n",
       "0  {'BIBREF0': {'ref_id': 'b0', 'title': 'Two typ...                  281   \n",
       "1  {'BIBREF10': {'ref_id': 'b10', 'title': 'Proc....                   55   \n",
       "2  {'BIBREF0': {'ref_id': 'b0', 'title': 'Arteriv...                  106   \n",
       "3  {'BIBREF0': {'ref_id': 'b0', 'title': 'Prevale...                  165   \n",
       "4  {'BIBREF0': {'ref_id': 'b0', 'title': 'Coloniz...                   58   \n",
       "\n",
       "   body_word_count                                    abstract_tokens  \n",
       "0             3853  [torque, teno, sus, virus, 1, ttsuv1, is, a, n...  \n",
       "1             1529  [xenotropic, murine, leukemia, virusrelated, v...  \n",
       "2             1954  [nfjb, a, family, of, transcription, factor, i...  \n",
       "3             1709  [result, a, total, of, 132, patient, were, inc...  \n",
       "4             2036  [publicly, funded, repository, such, a, the, w...  "
      ]
     },
     "execution_count": 126,
     "metadata": {},
     "output_type": "execute_result"
    }
   ],
   "source": [
    "train_df['abstract_tokens'] = train_df['abstract_tokens'].apply(lambda x: lemmatize_tokens(x)) #lemmatize words\n",
    "train_df.head()"
   ]
  },
  {
   "cell_type": "code",
   "execution_count": 127,
   "metadata": {},
   "outputs": [],
   "source": [
    "# define a function that converts a list of tokens into n-grams\n",
    "def getNGrams(tokens, n):\n",
    "    return [tokens[i : i + n] for i in range(len(tokens) - (n - 1))]"
   ]
  },
  {
   "cell_type": "code",
   "execution_count": 129,
   "metadata": {},
   "outputs": [
    {
     "data": {
      "text/html": [
       "<div>\n",
       "<style scoped>\n",
       "    .dataframe tbody tr th:only-of-type {\n",
       "        vertical-align: middle;\n",
       "    }\n",
       "\n",
       "    .dataframe tbody tr th {\n",
       "        vertical-align: top;\n",
       "    }\n",
       "\n",
       "    .dataframe thead th {\n",
       "        text-align: right;\n",
       "    }\n",
       "</style>\n",
       "<table border=\"1\" class=\"dataframe\">\n",
       "  <thead>\n",
       "    <tr style=\"text-align: right;\">\n",
       "      <th></th>\n",
       "      <th>paper_id</th>\n",
       "      <th>title</th>\n",
       "      <th>authors</th>\n",
       "      <th>affiliations</th>\n",
       "      <th>abstract</th>\n",
       "      <th>text</th>\n",
       "      <th>bibliography</th>\n",
       "      <th>raw_authors</th>\n",
       "      <th>raw_bibliography</th>\n",
       "      <th>abstract_word_count</th>\n",
       "      <th>body_word_count</th>\n",
       "      <th>abstract_tokens</th>\n",
       "      <th>abstract_2-grams</th>\n",
       "    </tr>\n",
       "  </thead>\n",
       "  <tbody>\n",
       "    <tr>\n",
       "      <th>0</th>\n",
       "      <td>27e9373516e9a1f67fbc5e8d85ef78c476ce6da8</td>\n",
       "      <td>Analysis of synonymous codon usage patterns in...</td>\n",
       "      <td>Zhicheng Zhang, Wei Dai, Yang Wang, • Chengpin...</td>\n",
       "      <td>Zhicheng Zhang, Wei Dai, Yang Wang, • Chengpin...</td>\n",
       "      <td>abstract torque teno sus virus 1 ttsuv1 is a n...</td>\n",
       "      <td>introduction it is well known that the genetic...</td>\n",
       "      <td>Two types of linkage between codon usage and g...</td>\n",
       "      <td>[{'first': 'Zhicheng', 'middle': [], 'last': '...</td>\n",
       "      <td>{'BIBREF0': {'ref_id': 'b0', 'title': 'Two typ...</td>\n",
       "      <td>281</td>\n",
       "      <td>3853</td>\n",
       "      <td>[torque, teno, sus, virus, 1, ttsuv1, is, a, n...</td>\n",
       "      <td>[[torque, teno], [teno, sus], [sus, virus], [v...</td>\n",
       "    </tr>\n",
       "    <tr>\n",
       "      <th>1</th>\n",
       "      <td>e00c2c6b0f665650b300157efc46f99c621d190b</td>\n",
       "      <td>NaN</td>\n",
       "      <td>Mark A Wainberg, Kuan-Teh Jeang</td>\n",
       "      <td>Mark A Wainberg (Jewish General Hospital, 3755...</td>\n",
       "      <td>abstract xenotropic murine leukemia virusrelat...</td>\n",
       "      <td>background xenotropic murine leukemia virusrel...</td>\n",
       "      <td>Proc. Natl. Acad. Sci. USA, R Schlaberg, D J C...</td>\n",
       "      <td>[{'first': 'Mark', 'middle': ['A'], 'last': 'W...</td>\n",
       "      <td>{'BIBREF10': {'ref_id': 'b10', 'title': 'Proc....</td>\n",
       "      <td>55</td>\n",
       "      <td>1529</td>\n",
       "      <td>[xenotropic, murine, leukemia, virusrelated, v...</td>\n",
       "      <td>[[xenotropic, murine], [murine, leukemia], [le...</td>\n",
       "    </tr>\n",
       "    <tr>\n",
       "      <th>2</th>\n",
       "      <td>349bde29ae8991f5f2fff50c3250e6d1676eb6de</td>\n",
       "      <td>NFjB activation by equine arteritis virus is M...</td>\n",
       "      <td>Amin Mottahedin, Maruthibabu Paidikondala, Har...</td>\n",
       "      <td>Amin Mottahedin, Maruthibabu Paidikondala, Har...</td>\n",
       "      <td>abstract nfjb a family of transcription factor...</td>\n",
       "      <td>equine arteritis virus eav is an enveloped si...</td>\n",
       "      <td>Arteriviruses, E J Snijder, W J Spaan, , 2006;...</td>\n",
       "      <td>[{'first': 'Amin', 'middle': [], 'last': 'Mott...</td>\n",
       "      <td>{'BIBREF0': {'ref_id': 'b0', 'title': 'Arteriv...</td>\n",
       "      <td>106</td>\n",
       "      <td>1954</td>\n",
       "      <td>[nfjb, a, family, of, transcription, factor, i...</td>\n",
       "      <td>[[nfjb, a], [a, family], [family, of], [of, tr...</td>\n",
       "    </tr>\n",
       "    <tr>\n",
       "      <th>3</th>\n",
       "      <td>8c0849795cf319de1b8a9f6cd3ae24f042a8936b</td>\n",
       "      <td>Glycosylated hemoglobin is associated with sys...</td>\n",
       "      <td>Zhenzhou Wang, Zhe Du, Fengxue Zhu</td>\n",
       "      <td>Zhenzhou Wang, Zhe Du, Fengxue Zhu</td>\n",
       "      <td>abstract results a total of 132 patients were ...</td>\n",
       "      <td>introduction coronavirus disease covid19 is ca...</td>\n",
       "      <td>Prevalence of comorbidities in the novel Wuhan...</td>\n",
       "      <td>[{'first': 'Zhenzhou', 'middle': [], 'last': '...</td>\n",
       "      <td>{'BIBREF0': {'ref_id': 'b0', 'title': 'Prevale...</td>\n",
       "      <td>165</td>\n",
       "      <td>1709</td>\n",
       "      <td>[result, a, total, of, 132, patient, were, inc...</td>\n",
       "      <td>[[result, a], [a, total], [total, of], [of, 13...</td>\n",
       "    </tr>\n",
       "    <tr>\n",
       "      <th>4</th>\n",
       "      <td>dc350cbdde2a3f0a4f9fa37f453fb8baa98f87f3</td>\n",
       "      <td>A GERMFREE STATUS DOES NOT PROTECT FROM THE LE...</td>\n",
       "      <td>B Nemerya, D K Tuckerb, S Sparrowa</td>\n",
       "      <td>B Nemerya (Medical Research Council Laboratori...</td>\n",
       "      <td>abstract publicly funded repositories such as ...</td>\n",
       "      <td>toxicology unit and bexperimental embryology a...</td>\n",
       "      <td>Colonization and bronchopulmonary infection, I...</td>\n",
       "      <td>[{'first': 'B', 'middle': [], 'last': 'Nemerya...</td>\n",
       "      <td>{'BIBREF0': {'ref_id': 'b0', 'title': 'Coloniz...</td>\n",
       "      <td>58</td>\n",
       "      <td>2036</td>\n",
       "      <td>[publicly, funded, repository, such, a, the, w...</td>\n",
       "      <td>[[publicly, funded], [funded, repository], [re...</td>\n",
       "    </tr>\n",
       "  </tbody>\n",
       "</table>\n",
       "</div>"
      ],
      "text/plain": [
       "                                   paper_id  \\\n",
       "0  27e9373516e9a1f67fbc5e8d85ef78c476ce6da8   \n",
       "1  e00c2c6b0f665650b300157efc46f99c621d190b   \n",
       "2  349bde29ae8991f5f2fff50c3250e6d1676eb6de   \n",
       "3  8c0849795cf319de1b8a9f6cd3ae24f042a8936b   \n",
       "4  dc350cbdde2a3f0a4f9fa37f453fb8baa98f87f3   \n",
       "\n",
       "                                               title  \\\n",
       "0  Analysis of synonymous codon usage patterns in...   \n",
       "1                                                NaN   \n",
       "2  NFjB activation by equine arteritis virus is M...   \n",
       "3  Glycosylated hemoglobin is associated with sys...   \n",
       "4  A GERMFREE STATUS DOES NOT PROTECT FROM THE LE...   \n",
       "\n",
       "                                             authors  \\\n",
       "0  Zhicheng Zhang, Wei Dai, Yang Wang, • Chengpin...   \n",
       "1                    Mark A Wainberg, Kuan-Teh Jeang   \n",
       "2  Amin Mottahedin, Maruthibabu Paidikondala, Har...   \n",
       "3                 Zhenzhou Wang, Zhe Du, Fengxue Zhu   \n",
       "4                 B Nemerya, D K Tuckerb, S Sparrowa   \n",
       "\n",
       "                                        affiliations  \\\n",
       "0  Zhicheng Zhang, Wei Dai, Yang Wang, • Chengpin...   \n",
       "1  Mark A Wainberg (Jewish General Hospital, 3755...   \n",
       "2  Amin Mottahedin, Maruthibabu Paidikondala, Har...   \n",
       "3                 Zhenzhou Wang, Zhe Du, Fengxue Zhu   \n",
       "4  B Nemerya (Medical Research Council Laboratori...   \n",
       "\n",
       "                                            abstract  \\\n",
       "0  abstract torque teno sus virus 1 ttsuv1 is a n...   \n",
       "1  abstract xenotropic murine leukemia virusrelat...   \n",
       "2  abstract nfjb a family of transcription factor...   \n",
       "3  abstract results a total of 132 patients were ...   \n",
       "4  abstract publicly funded repositories such as ...   \n",
       "\n",
       "                                                text  \\\n",
       "0  introduction it is well known that the genetic...   \n",
       "1  background xenotropic murine leukemia virusrel...   \n",
       "2   equine arteritis virus eav is an enveloped si...   \n",
       "3  introduction coronavirus disease covid19 is ca...   \n",
       "4  toxicology unit and bexperimental embryology a...   \n",
       "\n",
       "                                        bibliography  \\\n",
       "0  Two types of linkage between codon usage and g...   \n",
       "1  Proc. Natl. Acad. Sci. USA, R Schlaberg, D J C...   \n",
       "2  Arteriviruses, E J Snijder, W J Spaan, , 2006;...   \n",
       "3  Prevalence of comorbidities in the novel Wuhan...   \n",
       "4  Colonization and bronchopulmonary infection, I...   \n",
       "\n",
       "                                         raw_authors  \\\n",
       "0  [{'first': 'Zhicheng', 'middle': [], 'last': '...   \n",
       "1  [{'first': 'Mark', 'middle': ['A'], 'last': 'W...   \n",
       "2  [{'first': 'Amin', 'middle': [], 'last': 'Mott...   \n",
       "3  [{'first': 'Zhenzhou', 'middle': [], 'last': '...   \n",
       "4  [{'first': 'B', 'middle': [], 'last': 'Nemerya...   \n",
       "\n",
       "                                    raw_bibliography  abstract_word_count  \\\n",
       "0  {'BIBREF0': {'ref_id': 'b0', 'title': 'Two typ...                  281   \n",
       "1  {'BIBREF10': {'ref_id': 'b10', 'title': 'Proc....                   55   \n",
       "2  {'BIBREF0': {'ref_id': 'b0', 'title': 'Arteriv...                  106   \n",
       "3  {'BIBREF0': {'ref_id': 'b0', 'title': 'Prevale...                  165   \n",
       "4  {'BIBREF0': {'ref_id': 'b0', 'title': 'Coloniz...                   58   \n",
       "\n",
       "   body_word_count                                    abstract_tokens  \\\n",
       "0             3853  [torque, teno, sus, virus, 1, ttsuv1, is, a, n...   \n",
       "1             1529  [xenotropic, murine, leukemia, virusrelated, v...   \n",
       "2             1954  [nfjb, a, family, of, transcription, factor, i...   \n",
       "3             1709  [result, a, total, of, 132, patient, were, inc...   \n",
       "4             2036  [publicly, funded, repository, such, a, the, w...   \n",
       "\n",
       "                                    abstract_2-grams  \n",
       "0  [[torque, teno], [teno, sus], [sus, virus], [v...  \n",
       "1  [[xenotropic, murine], [murine, leukemia], [le...  \n",
       "2  [[nfjb, a], [a, family], [family, of], [of, tr...  \n",
       "3  [[result, a], [a, total], [total, of], [of, 13...  \n",
       "4  [[publicly, funded], [funded, repository], [re...  "
      ]
     },
     "execution_count": 129,
     "metadata": {},
     "output_type": "execute_result"
    }
   ],
   "source": [
    "train_df['abstract_2-grams'] = train_df['abstract_tokens'].apply(lambda x: getNGrams(x, 2))\n",
    "train_df.head()"
   ]
  },
  {
   "cell_type": "code",
   "execution_count": 132,
   "metadata": {},
   "outputs": [],
   "source": [
    "words = set(nltk.corpus.words.words())"
   ]
  },
  {
   "cell_type": "code",
   "execution_count": 187,
   "metadata": {},
   "outputs": [],
   "source": [
    "# remove stop words\n",
    "\n",
    "from nltk.corpus import stopwords"
   ]
  },
  {
   "cell_type": "code",
   "execution_count": 191,
   "metadata": {},
   "outputs": [],
   "source": [
    "def remove_stopwords(list_of_string):\n",
    "    stop_words = set(stopwords.words('english')) \n",
    "    return [w for w in list_of_string if not w in stop_words] \n",
    "  "
   ]
  },
  {
   "cell_type": "code",
   "execution_count": 194,
   "metadata": {},
   "outputs": [],
   "source": [
    "\n",
    "    \n",
    "\n",
    "train_df['abstract_tokens_clean']= train_df['abstract_tokens'].apply(lambda x: remove_stopwords(x))\n",
    "  "
   ]
  },
  {
   "cell_type": "code",
   "execution_count": null,
   "metadata": {},
   "outputs": [],
   "source": []
  },
  {
   "cell_type": "code",
   "execution_count": 170,
   "metadata": {},
   "outputs": [],
   "source": []
  },
  {
   "cell_type": "code",
   "execution_count": 176,
   "metadata": {},
   "outputs": [
    {
     "data": {
      "text/plain": [
       "CountVectorizer(max_features=2000, stop_words='english')"
      ]
     },
     "execution_count": 176,
     "metadata": {},
     "output_type": "execute_result"
    }
   ],
   "source": [
    "# from sklearn.feature_extraction.text import CountVectorizer\n",
    "# from sklearn.feature_extraction.text import TfidfVectorizer\n",
    "\n",
    "# vectorizer = CountVectorizer(analyzer = \"word\",   \\\n",
    "#                              tokenizer = None,    \\\n",
    "#                              preprocessor = None, \\\n",
    "#                              stop_words = 'english',   \\\n",
    "#                              max_features = 2000) \n",
    "\n",
    "# ## this makes tokens\n",
    "# all_tokens = train_df['abstract_tokens'].apply(lambda x: \" \".join(x))\n",
    "\n",
    "# # all_tokens = train_df['abstract'].apply(lambda x: \" \".join(x), axis = 0)\n",
    "# vectorizer.fit(all_tokens)"
   ]
  },
  {
   "cell_type": "code",
   "execution_count": 177,
   "metadata": {},
   "outputs": [],
   "source": [
    "# x_train = vectorizer.transform(all_tokens)"
   ]
  },
  {
   "cell_type": "code",
   "execution_count": 178,
   "metadata": {},
   "outputs": [],
   "source": [
    "# x_train = x_train.toarray()"
   ]
  },
  {
   "cell_type": "code",
   "execution_count": 179,
   "metadata": {},
   "outputs": [
    {
     "data": {
      "text/plain": [
       "<matplotlib.axes._subplots.AxesSubplot at 0x7f94164636d0>"
      ]
     },
     "execution_count": 179,
     "metadata": {},
     "output_type": "execute_result"
    },
    {
     "data": {
      "image/png": "[encoded data removed]",
      "text/plain": [
       "<Figure size 432x288 with 1 Axes>"
      ]
     },
     "metadata": {
      "needs_background": "light"
     },
     "output_type": "display_data"
    }
   ],
   "source": [
    "# # Top words in the trianing set\n",
    "# word_count = pd.DataFrame({'word': vectorizer.get_feature_names(), 'count': np.asarray(x_train.sum(axis=0))})\n",
    "# word_count.sort_values('count', ascending=False).set_index('word')[:30].sort_values('count', ascending=True).plot(kind='barh')\n"
   ]
  },
  {
   "cell_type": "code",
   "execution_count": 183,
   "metadata": {},
   "outputs": [],
   "source": [
    "import gensim\n",
    "import gensim.corpora as corpora\n",
    "from gensim.utils import simple_preprocess\n",
    "from gensim.models import CoherenceModel"
   ]
  },
  {
   "cell_type": "code",
   "execution_count": 208,
   "metadata": {},
   "outputs": [
    {
     "data": {
      "text/plain": [
       "{'addition': 0,\n",
       " 'affected': 1,\n",
       " 'affecting': 2,\n",
       " 'also': 3,\n",
       " 'although': 4,\n",
       " 'among': 5,\n",
       " 'analysis': 6,\n",
       " 'apart': 7,\n",
       " 'available': 8,\n",
       " 'base': 9}"
      ]
     },
     "execution_count": 208,
     "metadata": {},
     "output_type": "execute_result"
    }
   ],
   "source": [
    "LDA_data =train_df['abstract_tokens_clean']\n",
    "\n",
    "# Reformatting tokens for LDA\n",
    "\n",
    "## this clean numbers out\n",
    "def sent_to_words(sentences):\n",
    "    for sentence in sentences:\n",
    "        yield(gensim.utils.simple_preprocess(str(sentence), deacc=True))  # deacc=True removes punctuations\n",
    "\n",
    "texts = list(sent_to_words(LDA_data))\n",
    "\n",
    "dictionary = corpora.Dictionary(texts)\n",
    "dict(list(dictionary.token2id.items())[0:10])"
   ]
  },
  {
   "cell_type": "code",
   "execution_count": 196,
   "metadata": {},
   "outputs": [],
   "source": [
    "## create corpus for LDA\n",
    "corpus = [dictionary.doc2bow(item) for item in texts]"
   ]
  },
  {
   "cell_type": "code",
   "execution_count": 220,
   "metadata": {},
   "outputs": [],
   "source": [
    "lda_model = gensim.models.ldamodel.LdaModel(corpus=corpus,\n",
    "                                            id2word=dictionary,\n",
    "                                            num_topics=30,\n",
    "                                            random_state=100,\n",
    "                                            update_every=1,\n",
    "                                            chunksize=100,\n",
    "                                            passes=10,\n",
    "                                            alpha='auto',\n",
    "                                            per_word_topics=True)"
   ]
  },
  {
   "cell_type": "code",
   "execution_count": 221,
   "metadata": {},
   "outputs": [
    {
     "name": "stdout",
     "output_type": "stream",
     "text": [
      "\n",
      "Perplexity:  -16.097162489416522\n"
     ]
    }
   ],
   "source": [
    "print('\\nPerplexity: ', lda_model.log_perplexity(corpus))  # a measure of how good the model is. lower the better.\n"
   ]
  },
  {
   "cell_type": "code",
   "execution_count": 222,
   "metadata": {},
   "outputs": [
    {
     "name": "stdout",
     "output_type": "stream",
     "text": [
      "\n",
      "Coherence Score:  0.4385372651651374\n"
     ]
    }
   ],
   "source": [
    "# Compute Coherence Score\n",
    "coherence_model_lda = CoherenceModel(model=lda_model, texts=texts, dictionary=dictionary, coherence='c_v')\n",
    "coherence_lda = coherence_model_lda.get_coherence()\n",
    "print('\\nCoherence Score: ', coherence_lda)"
   ]
  },
  {
   "cell_type": "code",
   "execution_count": null,
   "metadata": {},
   "outputs": [],
   "source": [
    "import pyLDAvis\n",
    "import pyLDAvis.gensim  \n",
    "# Visualize the topics\n",
    "pyLDAvis.enable_notebook()\n",
    "vis = pyLDAvis.gensim.prepare(lda_model, corpus, dictionary, R = 50)\n",
    "vis"
   ]
  },
  {
   "cell_type": "code",
   "execution_count": null,
   "metadata": {},
   "outputs": [],
   "source": [
    "## show topic\n",
    "for idx, topic in lda_model.show_topics(formatted=False, num_words= 30):\n",
    "    print('Topic: {} \\nWords: {}'.format(idx, '|'.join([w[0] for w in topic])))"
   ]
  },
  {
   "cell_type": "code",
   "execution_count": 211,
   "metadata": {},
   "outputs": [],
   "source": [
    "topic_assignments = lda_model.get_document_topics(corpus,minimum_probability=0)"
   ]
  },
  {
   "cell_type": "code",
   "execution_count": 276,
   "metadata": {},
   "outputs": [],
   "source": [
    "probabilities = [ [entry for entry in doc] for doc in topic_assignments ]"
   ]
  },
  {
   "cell_type": "code",
   "execution_count": 280,
   "metadata": {},
   "outputs": [],
   "source": [
    "sort_prob = [sorted(x, key = lambda x: x[1], reverse = True) for x in probabilities]"
   ]
  },
  {
   "cell_type": "code",
   "execution_count": 283,
   "metadata": {},
   "outputs": [],
   "source": [
    "## obtain highest score topic\n",
    "\n",
    "topic_list = [x[0][0] for x in sort_prob]"
   ]
  },
  {
   "cell_type": "code",
   "execution_count": 285,
   "metadata": {},
   "outputs": [
    {
     "data": {
      "text/plain": [
       "1033"
      ]
     },
     "execution_count": 285,
     "metadata": {},
     "output_type": "execute_result"
    }
   ],
   "source": [
    "len(topic_list)"
   ]
  },
  {
   "cell_type": "code",
   "execution_count": null,
   "metadata": {},
   "outputs": [],
   "source": [
    "## obtain topic key words\n",
    "\n"
   ]
  },
  {
   "cell_type": "code",
   "execution_count": null,
   "metadata": {},
   "outputs": [],
   "source": [
    "probabilities =[ [entry[1] for entry in doc] for doc in topic_assignments ]"
   ]
  },
  {
   "cell_type": "code",
   "execution_count": 216,
   "metadata": {},
   "outputs": [],
   "source": [
    "testtest =  [ doc for doc in topic_assignments ]"
   ]
  },
  {
   "cell_type": "code",
   "execution_count": null,
   "metadata": {},
   "outputs": [],
   "source": []
  },
  {
   "cell_type": "code",
   "execution_count": 238,
   "metadata": {},
   "outputs": [],
   "source": [
    "# def format_topics_sentences(ldamodel=lda_model, corpus=corpus):\n",
    "#     # Init output\n",
    "#     sent_topics_df = pd.DataFrame()\n",
    "\n",
    "#     # Get main topic in each document\n",
    "#     for i, row in enumerate(ldamodel[corpus]):\n",
    "#         row = sorted(row, key=lambda x: (x[1]), reverse=True)\n",
    "#         # Get the Dominant topic, Perc Contribution and Keywords for each document\n",
    "#         for j, (topic_num, prop_topic) in enumerate(row):\n",
    "#             if j == 0:  # => dominant topic\n",
    "#                 wp = ldamodel.show_topic(topic_num)\n",
    "#                 topic_keywords = \", \".join([word for word, prop in wp])\n",
    "#                 sent_topics_df = sent_topics_df.append(pd.Series([int(topic_num), round(prop_topic,4), topic_keywords]), ignore_index=True)\n",
    "#             else:\n",
    "#                 break\n",
    "#     sent_topics_df.columns = ['Dominant_Topic', 'Perc_Contribution', 'Topic_Keywords']\n",
    "\n",
    "#     # Add original text to the end of the output\n",
    "# #     contents = pd.Series(texts)\n",
    "# #     sent_topics_df = pd.concat([sent_topics_df, contents], axis=1)\n",
    "#     return(sent_topics_df)"
   ]
  },
  {
   "cell_type": "code",
   "execution_count": null,
   "metadata": {},
   "outputs": [],
   "source": [
    "# df_topic_sents_keywords = format_topics_sentences(ldamodel=lda_model, corpus=corpus)"
   ]
  },
  {
   "cell_type": "code",
   "execution_count": null,
   "metadata": {},
   "outputs": [],
   "source": []
  }
 ],
 "metadata": {
  "kernelspec": {
   "display_name": "Python 3",
   "language": "python",
   "name": "python3"
  },
  "language_info": {
   "codemirror_mode": {
    "name": "ipython",
    "version": 3
   },
   "file_extension": ".py",
   "mimetype": "text/x-python",
   "name": "python",
   "nbconvert_exporter": "python",
   "pygments_lexer": "ipython3",
   "version": "3.8.2"
  }
 },
 "nbformat": 4,
 "nbformat_minor": 4
}
