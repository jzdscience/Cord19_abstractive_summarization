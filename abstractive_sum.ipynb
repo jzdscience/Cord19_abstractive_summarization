{
 "cells": [
  {
   "cell_type": "code",
   "execution_count": null,
   "metadata": {},
   "outputs": [],
   "source": [
    "import os\n",
    "import pandas as pd\n",
    "from pathlib import Path\n",
    "import json\n",
    "from pprint import pprint\n",
    "from copy import deepcopy\n",
    "import random\n",
    "import numpy as np\n",
    "import pandas as pd\n",
    "from tqdm.notebook import tqdm\n",
    "import matplotlib.pyplot as plt\n",
    "import warnings\n",
    "import random\n",
    "warnings.filterwarnings('ignore')\n",
    "\n",
    "\n",
    "import torch\n",
    "from transformers import BartTokenizer, BartForConditionalGeneration\n",
    "from transformers import pipeline\n"
   ]
  },
  {
   "cell_type": "code",
   "execution_count": null,
   "metadata": {},
   "outputs": [],
   "source": [
    "working_path = Path('/home/zhanj289/side_projects/cord_19/')\n",
    "data_path = working_path / 'data'"
   ]
  },
  {
   "cell_type": "code",
   "execution_count": null,
   "metadata": {},
   "outputs": [],
   "source": [
    "### data for testing"
   ]
  },
  {
   "cell_type": "code",
   "execution_count": 4,
   "metadata": {},
   "outputs": [],
   "source": [
    "train_df = pd.read_csv(data_path/ 'cleaned_data'/ 'train_cluster_9.csv')\n",
    "val_df = pd.read_csv(data_path/ 'cleaned_data'/  'dev_cluster_9.csv')"
   ]
  },
  {
   "cell_type": "code",
   "execution_count": 5,
   "metadata": {},
   "outputs": [],
   "source": [
    "## seprate some from training to have validation\n",
    "test_df_index = random.sample(list(range(train_df.shape[0])), train_df.shape[0]//5)\n",
    "\n",
    "test_df = train_df.iloc[test_df_index].reset_index(drop = True)\n",
    "\n",
    "train_df =  train_df.drop(test_df_index).reset_index(drop = True)"
   ]
  },
  {
   "cell_type": "code",
   "execution_count": 6,
   "metadata": {},
   "outputs": [],
   "source": [
    "## remove stop words\n",
    "# def remove_stopwords(list_of_string):\n",
    "#     stop_words = set(stopwords.words('english')) \n",
    "#     return [w for w in list_of_string if not w in stop_words] \n",
    "  "
   ]
  },
  {
   "cell_type": "code",
   "execution_count": 7,
   "metadata": {},
   "outputs": [],
   "source": [
    "## remove very short words, like single letter\n",
    "\n",
    "# def remove_short_words(tokens, min_len):\n",
    "#     return [w for w in tokens if len(w)>=min_len] \n"
   ]
  },
  {
   "cell_type": "code",
   "execution_count": 8,
   "metadata": {},
   "outputs": [],
   "source": [
    "## remove the word 'abstract'\n",
    "def remove_specific_word(text, word_list):\n",
    "    text_word = text.split()\n",
    "    new_text = [w for w in text_word if w not in word_list]\n",
    "    new_text = \" \".join(new_text)\n",
    "    \n",
    "    return new_text"
   ]
  },
  {
   "cell_type": "code",
   "execution_count": 9,
   "metadata": {},
   "outputs": [],
   "source": [
    "train_df['title'] = train_df['title'].apply(lambda x: remove_specific_word(x, ['title']))"
   ]
  },
  {
   "cell_type": "code",
   "execution_count": 10,
   "metadata": {},
   "outputs": [],
   "source": [
    "train_df['abstract'] = train_df['abstract'].apply(lambda x: remove_specific_word(x, ['abstract']))"
   ]
  },
  {
   "cell_type": "code",
   "execution_count": 11,
   "metadata": {},
   "outputs": [],
   "source": [
    "test_df['title'] = test_df['title'].apply(lambda x: remove_specific_word(x, ['title']))"
   ]
  },
  {
   "cell_type": "code",
   "execution_count": 12,
   "metadata": {},
   "outputs": [],
   "source": [
    "test_df['abstract'] = test_df['abstract'].apply(lambda x: remove_specific_word(x, ['abstract']))"
   ]
  },
  {
   "cell_type": "code",
   "execution_count": 13,
   "metadata": {},
   "outputs": [],
   "source": [
    "val_df['title'] = val_df['title'].apply(lambda x: remove_specific_word(x, ['title']))"
   ]
  },
  {
   "cell_type": "code",
   "execution_count": 14,
   "metadata": {},
   "outputs": [],
   "source": [
    "val_df['abstract'] = val_df['abstract'].apply(lambda x: remove_specific_word(x, ['abstract']))"
   ]
  },
  {
   "cell_type": "code",
   "execution_count": 15,
   "metadata": {},
   "outputs": [
    {
     "data": {
      "text/plain": [
       "(587, 3)"
      ]
     },
     "execution_count": 15,
     "metadata": {},
     "output_type": "execute_result"
    }
   ],
   "source": [
    "test_df.shape"
   ]
  },
  {
   "cell_type": "code",
   "execution_count": 16,
   "metadata": {},
   "outputs": [
    {
     "data": {
      "text/plain": [
       "(695, 3)"
      ]
     },
     "execution_count": 16,
     "metadata": {},
     "output_type": "execute_result"
    }
   ],
   "source": [
    "val_df.shape"
   ]
  },
  {
   "cell_type": "code",
   "execution_count": 17,
   "metadata": {},
   "outputs": [
    {
     "data": {
      "text/plain": [
       "(2349, 3)"
      ]
     },
     "execution_count": 17,
     "metadata": {},
     "output_type": "execute_result"
    }
   ],
   "source": [
    "train_df.shape"
   ]
  },
  {
   "cell_type": "code",
   "execution_count": 18,
   "metadata": {},
   "outputs": [],
   "source": [
    "## output data"
   ]
  },
  {
   "cell_type": "code",
   "execution_count": 19,
   "metadata": {},
   "outputs": [],
   "source": [
    "output_path = working_path / 'summarization' / 'bart' / 'cluster_9_train_test_data'"
   ]
  },
  {
   "cell_type": "code",
   "execution_count": 20,
   "metadata": {},
   "outputs": [
    {
     "data": {
      "text/plain": [
       "PosixPath('/home/zhanj289/side_projects/cord_19/summarization/bart/cluster_9_train_test_data')"
      ]
     },
     "execution_count": 20,
     "metadata": {},
     "output_type": "execute_result"
    }
   ],
   "source": [
    "output_path"
   ]
  },
  {
   "cell_type": "code",
   "execution_count": 21,
   "metadata": {},
   "outputs": [],
   "source": [
    "lines =list(train_df['title'])\n",
    "with open(output_path / 'train.target', 'w') as f:\n",
    "    f.writelines('\\n'.join(lines))"
   ]
  },
  {
   "cell_type": "code",
   "execution_count": 22,
   "metadata": {},
   "outputs": [],
   "source": [
    "lines =list(train_df['abstract'])\n",
    "with open(output_path/ 'train.source', 'w') as f:\n",
    "    f.writelines('\\n'.join(lines))"
   ]
  },
  {
   "cell_type": "code",
   "execution_count": 23,
   "metadata": {},
   "outputs": [],
   "source": [
    "lines =list(val_df['title'])\n",
    "with open(output_path/ 'val.target', 'w') as f:\n",
    "    f.writelines('\\n'.join(lines))"
   ]
  },
  {
   "cell_type": "code",
   "execution_count": 24,
   "metadata": {},
   "outputs": [],
   "source": [
    "lines =list(val_df['abstract'])\n",
    "with open(output_path/ 'val.source', 'w') as f:\n",
    "    f.writelines('\\n'.join(lines))"
   ]
  },
  {
   "cell_type": "code",
   "execution_count": 25,
   "metadata": {},
   "outputs": [],
   "source": [
    "lines =list(test_df['title'])\n",
    "with open(output_path/ 'test.target', 'w') as f:\n",
    "    f.writelines('\\n'.join(lines))"
   ]
  },
  {
   "cell_type": "code",
   "execution_count": 26,
   "metadata": {},
   "outputs": [],
   "source": [
    "lines =list(test_df['abstract'])\n",
    "with open(output_path/ 'test.source', 'w') as f:\n",
    "    f.writelines('\\n'.join(lines))"
   ]
  },
  {
   "cell_type": "code",
   "execution_count": 27,
   "metadata": {},
   "outputs": [],
   "source": [
    "examples = []\n",
    "with open(output_path/ 'train.source', \"r\") as f:\n",
    "    for text in f.readlines():\n",
    "        examples.append(text)"
   ]
  },
  {
   "cell_type": "code",
   "execution_count": 29,
   "metadata": {},
   "outputs": [
    {
     "data": {
      "text/plain": [
       "2349"
      ]
     },
     "execution_count": 29,
     "metadata": {},
     "output_type": "execute_result"
    }
   ],
   "source": [
    "len(examples)"
   ]
  },
  {
   "cell_type": "markdown",
   "metadata": {},
   "source": [
    "### All data"
   ]
  },
  {
   "cell_type": "code",
   "execution_count": 258,
   "metadata": {},
   "outputs": [],
   "source": [
    "all_df = pd.read_csv(data_path/ 'cleaned_data'/ 'train_dataset.csv')\n"
   ]
  },
  {
   "cell_type": "code",
   "execution_count": 259,
   "metadata": {},
   "outputs": [
    {
     "data": {
      "text/plain": [
       "(40430, 14)"
      ]
     },
     "execution_count": 259,
     "metadata": {},
     "output_type": "execute_result"
    }
   ],
   "source": [
    "all_df.shape"
   ]
  },
  {
   "cell_type": "code",
   "execution_count": 289,
   "metadata": {},
   "outputs": [],
   "source": [
    "## seprate some from training to have validation\n",
    "\n",
    "df_index = list(range(all_df.shape[0]))\n",
    "random.shuffle(df_index)"
   ]
  },
  {
   "cell_type": "code",
   "execution_count": 290,
   "metadata": {},
   "outputs": [],
   "source": [
    "## 60-20-20 split\n",
    "val_index, test_index, train_index = df_index[0: len(df_index)//5], df_index[len(df_index)//5:2*len(df_index)//5 ], df_index[2*len(df_index)//5:]"
   ]
  },
  {
   "cell_type": "code",
   "execution_count": null,
   "metadata": {},
   "outputs": [],
   "source": []
  },
  {
   "cell_type": "code",
   "execution_count": 291,
   "metadata": {},
   "outputs": [
    {
     "data": {
      "text/plain": [
       "8086"
      ]
     },
     "execution_count": 291,
     "metadata": {},
     "output_type": "execute_result"
    }
   ],
   "source": [
    "len(val_index)"
   ]
  },
  {
   "cell_type": "code",
   "execution_count": 292,
   "metadata": {},
   "outputs": [
    {
     "data": {
      "text/plain": [
       "8086"
      ]
     },
     "execution_count": 292,
     "metadata": {},
     "output_type": "execute_result"
    }
   ],
   "source": [
    "len(test_index)"
   ]
  },
  {
   "cell_type": "code",
   "execution_count": 293,
   "metadata": {},
   "outputs": [
    {
     "data": {
      "text/plain": [
       "24258"
      ]
     },
     "execution_count": 293,
     "metadata": {},
     "output_type": "execute_result"
    }
   ],
   "source": [
    "len(train_index)"
   ]
  },
  {
   "cell_type": "code",
   "execution_count": 294,
   "metadata": {},
   "outputs": [],
   "source": [
    "## sepearate\n",
    "test_df = all_df.iloc[test_index,:].reset_index(drop = True)\n",
    "\n",
    "train_df =  all_df.iloc[train_index,:].reset_index(drop = True)\n",
    "\n",
    "val_df =  all_df.iloc[val_index,:].reset_index(drop = True)"
   ]
  },
  {
   "cell_type": "code",
   "execution_count": 297,
   "metadata": {},
   "outputs": [
    {
     "data": {
      "text/plain": [
       "(8086, 14)"
      ]
     },
     "execution_count": 297,
     "metadata": {},
     "output_type": "execute_result"
    }
   ],
   "source": [
    "test_df.shape"
   ]
  },
  {
   "cell_type": "code",
   "execution_count": 298,
   "metadata": {},
   "outputs": [],
   "source": [
    "## remove the word 'abstract'\n",
    "def remove_specific_word(text, word_list):\n",
    "    text_word = text.split()\n",
    "    new_text = [w for w in text_word if w not in word_list]\n",
    "    new_text = \" \".join(new_text)\n",
    "    \n",
    "    return new_text"
   ]
  },
  {
   "cell_type": "code",
   "execution_count": 299,
   "metadata": {},
   "outputs": [],
   "source": [
    "train_df['title'] = train_df['title'].apply(lambda x: remove_specific_word(x, ['title']))"
   ]
  },
  {
   "cell_type": "code",
   "execution_count": 300,
   "metadata": {},
   "outputs": [],
   "source": [
    "train_df['abstract'] = train_df['abstract'].apply(lambda x: remove_specific_word(x, ['abstract']))"
   ]
  },
  {
   "cell_type": "code",
   "execution_count": 301,
   "metadata": {},
   "outputs": [],
   "source": [
    "test_df['title'] = test_df['title'].apply(lambda x: remove_specific_word(x, ['title']))"
   ]
  },
  {
   "cell_type": "code",
   "execution_count": 302,
   "metadata": {},
   "outputs": [],
   "source": [
    "test_df['abstract'] = test_df['abstract'].apply(lambda x: remove_specific_word(x, ['abstract']))"
   ]
  },
  {
   "cell_type": "code",
   "execution_count": 303,
   "metadata": {},
   "outputs": [],
   "source": [
    "val_df['title'] = val_df['title'].apply(lambda x: remove_specific_word(x, ['title']))"
   ]
  },
  {
   "cell_type": "code",
   "execution_count": 304,
   "metadata": {},
   "outputs": [],
   "source": [
    "val_df['abstract'] = val_df['abstract'].apply(lambda x: remove_specific_word(x, ['abstract']))"
   ]
  },
  {
   "cell_type": "code",
   "execution_count": 305,
   "metadata": {},
   "outputs": [
    {
     "data": {
      "text/plain": [
       "(8086, 14)"
      ]
     },
     "execution_count": 305,
     "metadata": {},
     "output_type": "execute_result"
    }
   ],
   "source": [
    "test_df.shape"
   ]
  },
  {
   "cell_type": "code",
   "execution_count": 306,
   "metadata": {},
   "outputs": [
    {
     "data": {
      "text/plain": [
       "(8086, 14)"
      ]
     },
     "execution_count": 306,
     "metadata": {},
     "output_type": "execute_result"
    }
   ],
   "source": [
    "val_df.shape"
   ]
  },
  {
   "cell_type": "code",
   "execution_count": 307,
   "metadata": {},
   "outputs": [
    {
     "data": {
      "text/plain": [
       "(24258, 14)"
      ]
     },
     "execution_count": 307,
     "metadata": {},
     "output_type": "execute_result"
    }
   ],
   "source": [
    "train_df.shape"
   ]
  },
  {
   "cell_type": "code",
   "execution_count": null,
   "metadata": {},
   "outputs": [],
   "source": [
    "## output data"
   ]
  },
  {
   "cell_type": "code",
   "execution_count": 311,
   "metadata": {},
   "outputs": [],
   "source": [
    "output_path = working_path / 'summarization' / 'bart' / 'all_train_test_data'"
   ]
  },
  {
   "cell_type": "code",
   "execution_count": 312,
   "metadata": {},
   "outputs": [
    {
     "data": {
      "text/plain": [
       "PosixPath('/home/zhanj289/side_projects/cord_19/summarization/bart/all_train_test_data')"
      ]
     },
     "execution_count": 312,
     "metadata": {},
     "output_type": "execute_result"
    }
   ],
   "source": [
    "output_path"
   ]
  },
  {
   "cell_type": "code",
   "execution_count": 343,
   "metadata": {},
   "outputs": [],
   "source": [
    "lines =list(train_df['title'])\n",
    "with open(output_path / 'train.target', 'w') as f:\n",
    "    f.writelines('\\n'.join(lines))"
   ]
  },
  {
   "cell_type": "code",
   "execution_count": 344,
   "metadata": {},
   "outputs": [],
   "source": [
    "lines =list(train_df['abstract'])\n",
    "with open(output_path/ 'train.source', 'w') as f:\n",
    "    f.writelines('\\n'.join(lines))"
   ]
  },
  {
   "cell_type": "code",
   "execution_count": 345,
   "metadata": {},
   "outputs": [],
   "source": [
    "lines =list(val_df['title'])\n",
    "with open(output_path/ 'val.target', 'w') as f:\n",
    "    f.writelines('\\n'.join(lines))"
   ]
  },
  {
   "cell_type": "code",
   "execution_count": 346,
   "metadata": {},
   "outputs": [],
   "source": [
    "lines =list(val_df['abstract'])\n",
    "with open(output_path/ 'val.source', 'w') as f:\n",
    "    f.writelines('\\n'.join(lines))"
   ]
  },
  {
   "cell_type": "code",
   "execution_count": 347,
   "metadata": {},
   "outputs": [],
   "source": [
    "lines =list(test_df['title'])\n",
    "with open(output_path/ 'test.target', 'w') as f:\n",
    "    f.writelines('\\n'.join(lines))"
   ]
  },
  {
   "cell_type": "code",
   "execution_count": 348,
   "metadata": {},
   "outputs": [],
   "source": [
    "lines =list(test_df['abstract'])\n",
    "with open(output_path/ 'test.source', 'w') as f:\n",
    "    f.writelines('\\n'.join(lines))"
   ]
  },
  {
   "cell_type": "code",
   "execution_count": 349,
   "metadata": {},
   "outputs": [
    {
     "data": {
      "text/plain": [
       "8086"
      ]
     },
     "execution_count": 349,
     "metadata": {},
     "output_type": "execute_result"
    }
   ],
   "source": [
    "len(lines)"
   ]
  },
  {
   "cell_type": "code",
   "execution_count": 356,
   "metadata": {},
   "outputs": [],
   "source": [
    "examples = []\n",
    "with open(output_path/ 'train.source', \"r\") as f:\n",
    "    for text in f.readlines():\n",
    "        examples.append(text)"
   ]
  },
  {
   "cell_type": "code",
   "execution_count": 357,
   "metadata": {},
   "outputs": [
    {
     "data": {
      "text/plain": [
       "24258"
      ]
     },
     "execution_count": 357,
     "metadata": {},
     "output_type": "execute_result"
    }
   ],
   "source": [
    "len(examples)"
   ]
  },
  {
   "cell_type": "code",
   "execution_count": null,
   "metadata": {},
   "outputs": [],
   "source": [
    "### test bart"
   ]
  },
  {
   "cell_type": "code",
   "execution_count": 18,
   "metadata": {},
   "outputs": [
    {
     "name": "stdout",
     "output_type": "stream",
     "text": [
      "cpu\n"
     ]
    }
   ],
   "source": [
    "torch_device = 'cuda' if torch.cuda.is_available() else 'cpu'\n",
    "\n",
    "print(torch_device)\n",
    "\n",
    "model = BartForConditionalGeneration.from_pretrained('facebook/bart-large-cnn')\n",
    "tokenizer = BartTokenizer.from_pretrained('facebook/bart-large-cnn')\n",
    "\n",
    "summarizer = pipeline(task=\"summarization\", model=model, tokenizer=tokenizer)"
   ]
  },
  {
   "cell_type": "code",
   "execution_count": 91,
   "metadata": {},
   "outputs": [
    {
     "data": {
      "text/plain": [
       "[{'summary_text': 'Bats are natural reservoirs of many pathogens few studies have been conducted on the genetic variation and detection of selection in major histocompatibility complex mhc genes. These genes are critical for resistance and susceptibility to diseases and host-path'}]"
      ]
     },
     "execution_count": 91,
     "metadata": {},
     "output_type": "execute_result"
    }
   ],
   "source": []
  },
  {
   "cell_type": "code",
   "execution_count": 92,
   "metadata": {},
   "outputs": [
    {
     "data": {
      "text/plain": [
       "'spatial pattern of genetic diversity and selection in the mhc class ii drb of three neotropical bat species'"
      ]
     },
     "execution_count": 92,
     "metadata": {},
     "output_type": "execute_result"
    }
   ],
   "source": [
    "train_df['title'][2]"
   ]
  },
  {
   "cell_type": "code",
   "execution_count": null,
   "metadata": {},
   "outputs": [],
   "source": [
    "### Rouge Score"
   ]
  },
  {
   "cell_type": "code",
   "execution_count": 89,
   "metadata": {},
   "outputs": [],
   "source": [
    "from rouge_score import rouge_scorer\n",
    "from bleu import list_bleu\n",
    "\n",
    "# rogue score\n",
    "\n",
    "\n",
    "#len(train_df['abstract'])"
   ]
  },
  {
   "cell_type": "code",
   "execution_count": 136,
   "metadata": {},
   "outputs": [],
   "source": [
    "def eval_rouge(df, truth_y_col, train_text_col):\n",
    "\n",
    "    rouge_score_list = []\n",
    "    generated_title_list= []\n",
    "    \n",
    "    for i in range(df.shape[0]):\n",
    "\n",
    "        # obtain \n",
    "        ref = train_df[truth_y_col][i]\n",
    "        title_length = len(ref)\n",
    "\n",
    "        ## obtain generated title\n",
    "        generated_title = summarizer(train_df[train_text_col][i],\n",
    "                                     min_length=4, \n",
    "                                     max_length=50)\n",
    "        \n",
    "        generated_title = generated_title[0]['summary_text']\n",
    "        \n",
    "        generated_title_list.append(generated_title)\n",
    "\n",
    "        # rogue score\n",
    "        scorer = rouge_scorer.RougeScorer(['rouge1','rougeL'], \n",
    "                                          use_stemmer=True)\n",
    "\n",
    "        rouge_scores = scorer.score(ref, generated_title)\n",
    "\n",
    "\n",
    "        rouge1 = round(rouge_scores['rouge1'][2]*100, 2)\n",
    "\n",
    "        rougeL = round(rouge_scores['rougeL'][2]*100, 2)\n",
    "\n",
    "        rouge_score_list.append((rouge1, rougeL))\n",
    "    \n",
    "    df['generated_text'] = generated_title_list\n",
    "\n",
    "    # calculate average score and store\n",
    "    score_dict = {}\n",
    "\n",
    "    score_dict['rogue-1'], score_dict['rogue-L']  = list(map(lambda y: round(sum(y) / float(len(y)),2), zip(*rouge_score_list)))\n",
    "\n",
    "    \n",
    "    return score_dict, df"
   ]
  },
  {
   "cell_type": "code",
   "execution_count": 138,
   "metadata": {},
   "outputs": [],
   "source": [
    "scores, testtesttest = eval_rouge(testtest, 'title', 'abstract')"
   ]
  },
  {
   "cell_type": "code",
   "execution_count": 139,
   "metadata": {},
   "outputs": [
    {
     "data": {
      "text/plain": [
       "{'rogue-1': 31.64, 'rogue-L': 21.07}"
      ]
     },
     "execution_count": 139,
     "metadata": {},
     "output_type": "execute_result"
    }
   ],
   "source": [
    "scores"
   ]
  },
  {
   "cell_type": "code",
   "execution_count": null,
   "metadata": {},
   "outputs": [],
   "source": [
    "scores"
   ]
  },
  {
   "cell_type": "code",
   "execution_count": 140,
   "metadata": {},
   "outputs": [
    {
     "data": {
      "text/html": [
       "<div>\n",
       "<style scoped>\n",
       "    .dataframe tbody tr th:only-of-type {\n",
       "        vertical-align: middle;\n",
       "    }\n",
       "\n",
       "    .dataframe tbody tr th {\n",
       "        vertical-align: top;\n",
       "    }\n",
       "\n",
       "    .dataframe thead th {\n",
       "        text-align: right;\n",
       "    }\n",
       "</style>\n",
       "<table border=\"1\" class=\"dataframe\">\n",
       "  <thead>\n",
       "    <tr style=\"text-align: right;\">\n",
       "      <th></th>\n",
       "      <th>paper_id</th>\n",
       "      <th>title</th>\n",
       "      <th>abstract</th>\n",
       "      <th>generated_text</th>\n",
       "    </tr>\n",
       "  </thead>\n",
       "  <tbody>\n",
       "    <tr>\n",
       "      <th>0</th>\n",
       "      <td>4ba8032f2aedc74eda0d7f73e7b4977ad78a977d</td>\n",
       "      <td>establishment of canine and feline cells expre...</td>\n",
       "      <td>signaling lymphocyte activation molecule slam ...</td>\n",
       "      <td>signaling lymphocyte activation molecule slam...</td>\n",
       "    </tr>\n",
       "    <tr>\n",
       "      <th>1</th>\n",
       "      <td>8f78b051ab35efcfb25e72166844b19f8c886bc9</td>\n",
       "      <td>retrospective biomolecular investigation of co...</td>\n",
       "      <td>a b s t r a c t abortion and neonatal mortalit...</td>\n",
       "      <td>Up to 55% and 33% of these cases remain withou...</td>\n",
       "    </tr>\n",
       "    <tr>\n",
       "      <th>2</th>\n",
       "      <td>73d9db430955cb7c45280e5e29981795c674848f</td>\n",
       "      <td>spatial pattern of genetic diversity and selec...</td>\n",
       "      <td>background although bats are natural reservoir...</td>\n",
       "      <td>Bats are natural reservoirs of many pathogens ...</td>\n",
       "    </tr>\n",
       "    <tr>\n",
       "      <th>3</th>\n",
       "      <td>37b045030f0700ae3ea09514c1e929cab8489cd3</td>\n",
       "      <td>systematic implications of seed coat morpholog...</td>\n",
       "      <td>seeds from 37 species of nama hydrophyllaceae ...</td>\n",
       "      <td>Seeds from 37 species of nama hydrophyllaceae ...</td>\n",
       "    </tr>\n",
       "    <tr>\n",
       "      <th>4</th>\n",
       "      <td>4b8b3a42d14171561329c896abf4c1d5f4fb7857</td>\n",
       "      <td>dangerous viral pathogens of animal origin ris...</td>\n",
       "      <td>most of emerging infectious diseases affecting...</td>\n",
       "      <td>Most emerging infectious diseases affecting hu...</td>\n",
       "    </tr>\n",
       "  </tbody>\n",
       "</table>\n",
       "</div>"
      ],
      "text/plain": [
       "                                   paper_id  \\\n",
       "0  4ba8032f2aedc74eda0d7f73e7b4977ad78a977d   \n",
       "1  8f78b051ab35efcfb25e72166844b19f8c886bc9   \n",
       "2  73d9db430955cb7c45280e5e29981795c674848f   \n",
       "3  37b045030f0700ae3ea09514c1e929cab8489cd3   \n",
       "4  4b8b3a42d14171561329c896abf4c1d5f4fb7857   \n",
       "\n",
       "                                               title  \\\n",
       "0  establishment of canine and feline cells expre...   \n",
       "1  retrospective biomolecular investigation of co...   \n",
       "2  spatial pattern of genetic diversity and selec...   \n",
       "3  systematic implications of seed coat morpholog...   \n",
       "4  dangerous viral pathogens of animal origin ris...   \n",
       "\n",
       "                                            abstract  \\\n",
       "0  signaling lymphocyte activation molecule slam ...   \n",
       "1  a b s t r a c t abortion and neonatal mortalit...   \n",
       "2  background although bats are natural reservoir...   \n",
       "3  seeds from 37 species of nama hydrophyllaceae ...   \n",
       "4  most of emerging infectious diseases affecting...   \n",
       "\n",
       "                                      generated_text  \n",
       "0   signaling lymphocyte activation molecule slam...  \n",
       "1  Up to 55% and 33% of these cases remain withou...  \n",
       "2  Bats are natural reservoirs of many pathogens ...  \n",
       "3  Seeds from 37 species of nama hydrophyllaceae ...  \n",
       "4  Most emerging infectious diseases affecting hu...  "
      ]
     },
     "execution_count": 140,
     "metadata": {},
     "output_type": "execute_result"
    }
   ],
   "source": [
    "testtesttest"
   ]
  },
  {
   "cell_type": "code",
   "execution_count": 141,
   "metadata": {},
   "outputs": [
    {
     "data": {
      "text/plain": [
       "{'rogue-1': 31.64, 'rogue-L': 21.07}"
      ]
     },
     "execution_count": 141,
     "metadata": {},
     "output_type": "execute_result"
    }
   ],
   "source": [
    "score_dict"
   ]
  },
  {
   "cell_type": "code",
   "execution_count": 97,
   "metadata": {},
   "outputs": [
    {
     "data": {
      "text/plain": [
       "Score(precision=0.23076923076923078, recall=0.5, fmeasure=0.3157894736842105)"
      ]
     },
     "execution_count": 97,
     "metadata": {},
     "output_type": "execute_result"
    }
   ],
   "source": [
    "scores['rouge1']"
   ]
  },
  {
   "cell_type": "code",
   "execution_count": null,
   "metadata": {},
   "outputs": [],
   "source": []
  },
  {
   "cell_type": "code",
   "execution_count": 146,
   "metadata": {},
   "outputs": [],
   "source": [
    "testtest = []\n",
    "with open(working_path/'summarization/bart/cnn_tiny/test.source', \"r\") as f:\n",
    "        for text in f.readlines():\n",
    "            testtest.append(text)"
   ]
  },
  {
   "cell_type": "code",
   "execution_count": 148,
   "metadata": {},
   "outputs": [
    {
     "data": {
      "text/plain": [
       "4"
      ]
     },
     "execution_count": 148,
     "metadata": {},
     "output_type": "execute_result"
    }
   ],
   "source": [
    "len(testtest)"
   ]
  },
  {
   "cell_type": "code",
   "execution_count": 149,
   "metadata": {},
   "outputs": [],
   "source": [
    "testtesty = []\n",
    "with open(working_path/'summarization/bart/cnn_tiny/test.target', \"r\") as f:\n",
    "        for text in f.readlines():\n",
    "            testtesty.append(text)"
   ]
  }
 ],
 "metadata": {
  "kernelspec": {
   "display_name": "Python 3",
   "language": "python",
   "name": "python3"
  },
  "language_info": {
   "codemirror_mode": {
    "name": "ipython",
    "version": 3
   },
   "file_extension": ".py",
   "mimetype": "text/x-python",
   "name": "python",
   "nbconvert_exporter": "python",
   "pygments_lexer": "ipython3",
   "version": "3.8.2"
  }
 },
 "nbformat": 4,
 "nbformat_minor": 4
}
