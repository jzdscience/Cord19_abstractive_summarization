{
 "cells": [
  {
   "cell_type": "code",
   "execution_count": 2,
   "metadata": {},
   "outputs": [],
   "source": [
    "import os\n",
    "import pandas as pd\n",
    "from pathlib import Path\n",
    "import json\n",
    "from pprint import pprint\n",
    "from copy import deepcopy\n",
    "import random\n",
    "import numpy as np\n",
    "import pandas as pd\n",
    "from tqdm.notebook import tqdm\n",
    "import matplotlib.pyplot as plt\n",
    "import warnings\n",
    "warnings.filterwarnings('ignore')"
   ]
  },
  {
   "cell_type": "code",
   "execution_count": 3,
   "metadata": {},
   "outputs": [],
   "source": [
    "working_path = Path('/home/zhanj289/side_projects/cord_19/')"
   ]
  },
  {
   "cell_type": "code",
   "execution_count": 4,
   "metadata": {},
   "outputs": [],
   "source": [
    "data_path = Path('/home/zhanj289/side_projects/cord_19/') / 'data'"
   ]
  },
  {
   "cell_type": "code",
   "execution_count": 4,
   "metadata": {},
   "outputs": [],
   "source": [
    "## PMC JSON looks like having no 'abstract' key"
   ]
  },
  {
   "cell_type": "code",
   "execution_count": 5,
   "metadata": {},
   "outputs": [],
   "source": [
    "## check meta data\n",
    "\n",
    "meta_data = pd.read_csv(data_path/'metadata.csv')"
   ]
  },
  {
   "cell_type": "code",
   "execution_count": 6,
   "metadata": {},
   "outputs": [
    {
     "data": {
      "text/html": [
       "<div>\n",
       "<style scoped>\n",
       "    .dataframe tbody tr th:only-of-type {\n",
       "        vertical-align: middle;\n",
       "    }\n",
       "\n",
       "    .dataframe tbody tr th {\n",
       "        vertical-align: top;\n",
       "    }\n",
       "\n",
       "    .dataframe thead th {\n",
       "        text-align: right;\n",
       "    }\n",
       "</style>\n",
       "<table border=\"1\" class=\"dataframe\">\n",
       "  <thead>\n",
       "    <tr style=\"text-align: right;\">\n",
       "      <th></th>\n",
       "      <th>cord_uid</th>\n",
       "      <th>sha</th>\n",
       "      <th>source_x</th>\n",
       "      <th>title</th>\n",
       "      <th>doi</th>\n",
       "      <th>pmcid</th>\n",
       "      <th>pubmed_id</th>\n",
       "      <th>license</th>\n",
       "      <th>abstract</th>\n",
       "      <th>publish_time</th>\n",
       "      <th>authors</th>\n",
       "      <th>journal</th>\n",
       "      <th>mag_id</th>\n",
       "      <th>who_covidence_id</th>\n",
       "      <th>arxiv_id</th>\n",
       "      <th>pdf_json_files</th>\n",
       "      <th>pmc_json_files</th>\n",
       "      <th>url</th>\n",
       "      <th>s2_id</th>\n",
       "    </tr>\n",
       "  </thead>\n",
       "  <tbody>\n",
       "    <tr>\n",
       "      <th>31</th>\n",
       "      <td>6iu1dtyl</td>\n",
       "      <td>6e8517cb25ff228cb48da90a9c97d9c274dc8031</td>\n",
       "      <td>PMC</td>\n",
       "      <td>The site of origin of the 1918 influenza pande...</td>\n",
       "      <td>10.1186/1479-5876-2-3</td>\n",
       "      <td>PMC340389</td>\n",
       "      <td>14733617.0</td>\n",
       "      <td>no-cc</td>\n",
       "      <td>NaN</td>\n",
       "      <td>2004-01-20</td>\n",
       "      <td>Barry, John M</td>\n",
       "      <td>J Transl Med</td>\n",
       "      <td>NaN</td>\n",
       "      <td>NaN</td>\n",
       "      <td>NaN</td>\n",
       "      <td>document_parses/pdf_json/6e8517cb25ff228cb48da...</td>\n",
       "      <td>document_parses/pmc_json/PMC340389.xml.json</td>\n",
       "      <td>https://www.ncbi.nlm.nih.gov/pmc/articles/PMC3...</td>\n",
       "      <td>NaN</td>\n",
       "    </tr>\n",
       "    <tr>\n",
       "      <th>35</th>\n",
       "      <td>1769ovyk</td>\n",
       "      <td>c5131e5f5c6000ec84139edc64778a6f1d391b83</td>\n",
       "      <td>PMC</td>\n",
       "      <td>8th Annual Toronto Critical Care Medicine Symp...</td>\n",
       "      <td>10.1186/cc2429</td>\n",
       "      <td>PMC420071</td>\n",
       "      <td>14975048.0</td>\n",
       "      <td>no-cc</td>\n",
       "      <td>NaN</td>\n",
       "      <td>2004-01-02</td>\n",
       "      <td>Granton, Jeff; Granton, John</td>\n",
       "      <td>Crit Care</td>\n",
       "      <td>NaN</td>\n",
       "      <td>NaN</td>\n",
       "      <td>NaN</td>\n",
       "      <td>document_parses/pdf_json/c5131e5f5c6000ec84139...</td>\n",
       "      <td>document_parses/pmc_json/PMC420071.xml.json</td>\n",
       "      <td>https://www.ncbi.nlm.nih.gov/pmc/articles/PMC4...</td>\n",
       "      <td>NaN</td>\n",
       "    </tr>\n",
       "    <tr>\n",
       "      <th>36</th>\n",
       "      <td>tixxm78q</td>\n",
       "      <td>8a7d5de5ea680e784ab2bd877240bf09e4c1c02d</td>\n",
       "      <td>PMC</td>\n",
       "      <td>Recently published papers: all the usual suspe...</td>\n",
       "      <td>10.1186/cc2449</td>\n",
       "      <td>PMC420074</td>\n",
       "      <td>14975037.0</td>\n",
       "      <td>no-cc</td>\n",
       "      <td>NaN</td>\n",
       "      <td>2004-01-02</td>\n",
       "      <td>Ball, Jonathan</td>\n",
       "      <td>Crit Care</td>\n",
       "      <td>NaN</td>\n",
       "      <td>NaN</td>\n",
       "      <td>NaN</td>\n",
       "      <td>document_parses/pdf_json/8a7d5de5ea680e784ab2b...</td>\n",
       "      <td>document_parses/pmc_json/PMC420074.xml.json</td>\n",
       "      <td>https://www.ncbi.nlm.nih.gov/pmc/articles/PMC4...</td>\n",
       "      <td>NaN</td>\n",
       "    </tr>\n",
       "    <tr>\n",
       "      <th>105</th>\n",
       "      <td>r8j6lhoc</td>\n",
       "      <td>c6c8b82bc5a800425b075540eff41b0af719f80f</td>\n",
       "      <td>PMC</td>\n",
       "      <td>HIV Epidemiology in Africa: Weak Variables and...</td>\n",
       "      <td>10.1371/journal.pmed.0020137</td>\n",
       "      <td>PMC1140948</td>\n",
       "      <td>15916469.0</td>\n",
       "      <td>cc-by</td>\n",
       "      <td>NaN</td>\n",
       "      <td>2005-05-31</td>\n",
       "      <td>Brody, Stuart; Potterat, John J</td>\n",
       "      <td>PLoS Med</td>\n",
       "      <td>NaN</td>\n",
       "      <td>NaN</td>\n",
       "      <td>NaN</td>\n",
       "      <td>document_parses/pdf_json/c6c8b82bc5a800425b075...</td>\n",
       "      <td>document_parses/pmc_json/PMC1140948.xml.json</td>\n",
       "      <td>https://www.ncbi.nlm.nih.gov/pmc/articles/PMC1...</td>\n",
       "      <td>NaN</td>\n",
       "    </tr>\n",
       "    <tr>\n",
       "      <th>133</th>\n",
       "      <td>az4a70b0</td>\n",
       "      <td>cc698ffabf545da2fd7ee6a5cb4f25d9102a856a</td>\n",
       "      <td>PMC</td>\n",
       "      <td>eCAM benefits from diversity that derives from...</td>\n",
       "      <td>10.1093/ecam/neh120</td>\n",
       "      <td>PMC1193560</td>\n",
       "      <td>16136204.0</td>\n",
       "      <td>no-cc</td>\n",
       "      <td>NaN</td>\n",
       "      <td>2005-09-01</td>\n",
       "      <td>Cooper, Edwin L.</td>\n",
       "      <td>Evid Based Complement Alternat Med</td>\n",
       "      <td>NaN</td>\n",
       "      <td>NaN</td>\n",
       "      <td>NaN</td>\n",
       "      <td>document_parses/pdf_json/cc698ffabf545da2fd7ee...</td>\n",
       "      <td>document_parses/pmc_json/PMC1193560.xml.json</td>\n",
       "      <td>https://www.ncbi.nlm.nih.gov/pmc/articles/PMC1...</td>\n",
       "      <td>NaN</td>\n",
       "    </tr>\n",
       "  </tbody>\n",
       "</table>\n",
       "</div>"
      ],
      "text/plain": [
       "     cord_uid                                       sha source_x  \\\n",
       "31   6iu1dtyl  6e8517cb25ff228cb48da90a9c97d9c274dc8031      PMC   \n",
       "35   1769ovyk  c5131e5f5c6000ec84139edc64778a6f1d391b83      PMC   \n",
       "36   tixxm78q  8a7d5de5ea680e784ab2bd877240bf09e4c1c02d      PMC   \n",
       "105  r8j6lhoc  c6c8b82bc5a800425b075540eff41b0af719f80f      PMC   \n",
       "133  az4a70b0  cc698ffabf545da2fd7ee6a5cb4f25d9102a856a      PMC   \n",
       "\n",
       "                                                 title  \\\n",
       "31   The site of origin of the 1918 influenza pande...   \n",
       "35   8th Annual Toronto Critical Care Medicine Symp...   \n",
       "36   Recently published papers: all the usual suspe...   \n",
       "105  HIV Epidemiology in Africa: Weak Variables and...   \n",
       "133  eCAM benefits from diversity that derives from...   \n",
       "\n",
       "                              doi       pmcid   pubmed_id license abstract  \\\n",
       "31          10.1186/1479-5876-2-3   PMC340389  14733617.0   no-cc      NaN   \n",
       "35                 10.1186/cc2429   PMC420071  14975048.0   no-cc      NaN   \n",
       "36                 10.1186/cc2449   PMC420074  14975037.0   no-cc      NaN   \n",
       "105  10.1371/journal.pmed.0020137  PMC1140948  15916469.0   cc-by      NaN   \n",
       "133           10.1093/ecam/neh120  PMC1193560  16136204.0   no-cc      NaN   \n",
       "\n",
       "    publish_time                          authors  \\\n",
       "31    2004-01-20                    Barry, John M   \n",
       "35    2004-01-02     Granton, Jeff; Granton, John   \n",
       "36    2004-01-02                   Ball, Jonathan   \n",
       "105   2005-05-31  Brody, Stuart; Potterat, John J   \n",
       "133   2005-09-01                 Cooper, Edwin L.   \n",
       "\n",
       "                                journal  mag_id who_covidence_id arxiv_id  \\\n",
       "31                         J Transl Med     NaN              NaN      NaN   \n",
       "35                            Crit Care     NaN              NaN      NaN   \n",
       "36                            Crit Care     NaN              NaN      NaN   \n",
       "105                            PLoS Med     NaN              NaN      NaN   \n",
       "133  Evid Based Complement Alternat Med     NaN              NaN      NaN   \n",
       "\n",
       "                                        pdf_json_files  \\\n",
       "31   document_parses/pdf_json/6e8517cb25ff228cb48da...   \n",
       "35   document_parses/pdf_json/c5131e5f5c6000ec84139...   \n",
       "36   document_parses/pdf_json/8a7d5de5ea680e784ab2b...   \n",
       "105  document_parses/pdf_json/c6c8b82bc5a800425b075...   \n",
       "133  document_parses/pdf_json/cc698ffabf545da2fd7ee...   \n",
       "\n",
       "                                   pmc_json_files  \\\n",
       "31    document_parses/pmc_json/PMC340389.xml.json   \n",
       "35    document_parses/pmc_json/PMC420071.xml.json   \n",
       "36    document_parses/pmc_json/PMC420074.xml.json   \n",
       "105  document_parses/pmc_json/PMC1140948.xml.json   \n",
       "133  document_parses/pmc_json/PMC1193560.xml.json   \n",
       "\n",
       "                                                   url  s2_id  \n",
       "31   https://www.ncbi.nlm.nih.gov/pmc/articles/PMC3...    NaN  \n",
       "35   https://www.ncbi.nlm.nih.gov/pmc/articles/PMC4...    NaN  \n",
       "36   https://www.ncbi.nlm.nih.gov/pmc/articles/PMC4...    NaN  \n",
       "105  https://www.ncbi.nlm.nih.gov/pmc/articles/PMC1...    NaN  \n",
       "133  https://www.ncbi.nlm.nih.gov/pmc/articles/PMC1...    NaN  "
      ]
     },
     "execution_count": 6,
     "metadata": {},
     "output_type": "execute_result"
    }
   ],
   "source": [
    "meta_data[meta_data['abstract'].isnull()].head()"
   ]
  },
  {
   "cell_type": "code",
   "execution_count": 69,
   "metadata": {},
   "outputs": [
    {
     "data": {
      "text/plain": [
       "75786"
      ]
     },
     "execution_count": 69,
     "metadata": {},
     "output_type": "execute_result"
    }
   ],
   "source": [
    "\n",
    "# paper without pdf_json or pmc_json\n",
    "\n",
    "len(meta_data[(meta_data['pdf_json_files'].isnull()) &(meta_data['pmc_json_files'].isnull()) ])"
   ]
  },
  {
   "cell_type": "code",
   "execution_count": 70,
   "metadata": {},
   "outputs": [
    {
     "data": {
      "text/plain": [
       "16595"
      ]
     },
     "execution_count": 70,
     "metadata": {},
     "output_type": "execute_result"
    }
   ],
   "source": [
    "\n",
    "# paper with pdf_json but no pmc_json\n",
    "\n",
    "len(meta_data[(meta_data['pdf_json_files'].notnull()) &(meta_data['pmc_json_files'].isnull()) ])"
   ]
  },
  {
   "cell_type": "code",
   "execution_count": 71,
   "metadata": {},
   "outputs": [
    {
     "data": {
      "text/plain": [
       "2819"
      ]
     },
     "execution_count": 71,
     "metadata": {},
     "output_type": "execute_result"
    }
   ],
   "source": [
    "\n",
    "# paper with pmc_json bbut no pdj_json\n",
    "\n",
    "len(meta_data[(meta_data['pdf_json_files'].isnull()) &(meta_data['pmc_json_files'].notnull()) ])"
   ]
  },
  {
   "cell_type": "code",
   "execution_count": 72,
   "metadata": {},
   "outputs": [
    {
     "data": {
      "text/plain": [
       "45332"
      ]
     },
     "execution_count": 72,
     "metadata": {},
     "output_type": "execute_result"
    }
   ],
   "source": [
    "\n",
    "# paper with pmc_json bbut no pdj_json\n",
    "\n",
    "len(meta_data[(meta_data['pdf_json_files'].notnull()) &(meta_data['pmc_json_files'].notnull()) ])"
   ]
  },
  {
   "cell_type": "code",
   "execution_count": 73,
   "metadata": {},
   "outputs": [],
   "source": [
    "# paper has no abstract in metadata\n",
    "meta_data_no_abstract  = meta_data[meta_data['abstract'].isnull()]"
   ]
  },
  {
   "cell_type": "code",
   "execution_count": 74,
   "metadata": {},
   "outputs": [
    {
     "data": {
      "text/plain": [
       "30914"
      ]
     },
     "execution_count": 74,
     "metadata": {},
     "output_type": "execute_result"
    }
   ],
   "source": [
    "len(meta_data_no_abstract)"
   ]
  },
  {
   "cell_type": "code",
   "execution_count": 75,
   "metadata": {},
   "outputs": [
    {
     "data": {
      "text/plain": [
       "20142"
      ]
     },
     "execution_count": 75,
     "metadata": {},
     "output_type": "execute_result"
    }
   ],
   "source": [
    "\n",
    "# paper without pdf_json or pmc_json\n",
    "\n",
    "len(meta_data_no_abstract[(meta_data_no_abstract['pdf_json_files'].isnull()) &(meta_data_no_abstract['pmc_json_files'].isnull()) ])"
   ]
  },
  {
   "cell_type": "code",
   "execution_count": 76,
   "metadata": {},
   "outputs": [
    {
     "data": {
      "text/plain": [
       "'document_parses/pdf_json/a037a1a6fe76f1c43e33a639231b9874cb655f88.json'"
      ]
     },
     "execution_count": 76,
     "metadata": {},
     "output_type": "execute_result"
    }
   ],
   "source": [
    "## look closely at a paper without abstract bbut has pdf_json\n",
    "\n",
    "meta_data_no_abstract[(meta_data_no_abstract['pdf_json_files'].notnull()) &(meta_data_no_abstract['pmc_json_files'].isnull()) ]['pdf_json_files'][224]"
   ]
  },
  {
   "cell_type": "code",
   "execution_count": null,
   "metadata": {},
   "outputs": [],
   "source": [
    "# but it has abstraxt in json"
   ]
  },
  {
   "cell_type": "code",
   "execution_count": 67,
   "metadata": {},
   "outputs": [],
   "source": [
    "test_file = json.load(open('data/document_parses/pdf_json/a037a1a6fe76f1c43e33a639231b9874cb655f88.json', 'rb'))\n",
    "\n",
    "test_file['abstract']"
   ]
  },
  {
   "cell_type": "markdown",
   "metadata": {},
   "source": [
    "### metadata seems cannot reflect whether we have abstract in the dataset"
   ]
  },
  {
   "cell_type": "code",
   "execution_count": 5,
   "metadata": {},
   "outputs": [],
   "source": [
    "# The following function is used in creating\n",
    "def format_name(author):\n",
    "    middle_name = \" \".join(author['middle'])\n",
    "    \n",
    "    if author['middle']:\n",
    "        return \" \".join([author['first'], middle_name, author['last']])\n",
    "    else:\n",
    "        return \" \".join([author['first'], author['last']])\n",
    "\n",
    "\n",
    "def format_affiliation(affiliation):\n",
    "    text = []\n",
    "    location = affiliation.get('location')\n",
    "    if location:\n",
    "        text.extend(list(affiliation['location'].values()))\n",
    "    \n",
    "    institution = affiliation.get('institution')\n",
    "    if institution:\n",
    "        text = [institution] + text\n",
    "    return \", \".join(text)\n",
    "\n",
    "def format_authors(authors, with_affiliation=False):\n",
    "    name_ls = []\n",
    "    \n",
    "    for author in authors:\n",
    "        name = format_name(author)\n",
    "        if with_affiliation:\n",
    "            affiliation = format_affiliation(author['affiliation'])\n",
    "            if affiliation:\n",
    "                name_ls.append(f\"{name} ({affiliation})\")\n",
    "            else:\n",
    "                name_ls.append(name)\n",
    "        else:\n",
    "            name_ls.append(name)\n",
    "    \n",
    "    return \", \".join(name_ls)\n",
    "\n",
    "def format_body(body_text):\n",
    "    texts = [(di['section'], di['text']) for di in body_text]\n",
    "    texts_di = {di['section']: \"\" for di in body_text}\n",
    "    \n",
    "    for section, text in texts:\n",
    "        texts_di[section] += text\n",
    "\n",
    "    body = \"\"\n",
    "\n",
    "    for section, text in texts_di.items():\n",
    "        body += section\n",
    "        body += \" \"\n",
    "        body += text\n",
    "        body += \" \"\n",
    "    \n",
    "    return body\n",
    "\n",
    "def format_bib(bibs):\n",
    "    if type(bibs) == dict:\n",
    "        bibs = list(bibs.values())\n",
    "    bibs = deepcopy(bibs)\n",
    "    formatted = []\n",
    "    \n",
    "    for bib in bibs:\n",
    "        bib['authors'] = format_authors(\n",
    "            bib['authors'], \n",
    "            with_affiliation=False\n",
    "        )\n",
    "        formatted_ls = [str(bib[k]) for k in ['title', 'authors', 'venue', 'year']]\n",
    "        formatted.append(\", \".join(formatted_ls))\n",
    "\n",
    "    return \"; \".join(formatted)"
   ]
  },
  {
   "cell_type": "code",
   "execution_count": 6,
   "metadata": {},
   "outputs": [],
   "source": [
    "def load_files(dirname, all_paper = False, paper_number = 1000):\n",
    "    \n",
    "    filenames = os.listdir(dirname)\n",
    "    \n",
    "    # load a few paper or all\n",
    "    if all_paper == False:\n",
    "        rand_indx = random.sample(range(0,len(filenames)), paper_number)\n",
    "    else:\n",
    "        rand_indx = list(range(0, len(filenames)))\n",
    "    \n",
    "    \n",
    "    raw_files = []\n",
    "\n",
    "    for i in tqdm(rand_indx):\n",
    "        filename = dirname / filenames[i]\n",
    "        file = json.load(open(filename, 'rb'))\n",
    "        raw_files.append(file)\n",
    "    \n",
    "    return raw_files\n",
    "\n",
    "def generate_clean_df(all_files):\n",
    "    cleaned_files = []\n",
    "    \n",
    "    for file in tqdm(all_files):\n",
    "        features = [\n",
    "            file['paper_id'],\n",
    "            file['metadata']['title'],\n",
    "            format_authors(file['metadata']['authors']),\n",
    "            format_authors(file['metadata']['authors'], \n",
    "                           with_affiliation=True),\n",
    "            format_body(file['abstract']),\n",
    "            format_body(file['body_text']),\n",
    "            format_bib(file['bib_entries']),\n",
    "            file['metadata']['authors'],\n",
    "            file['bib_entries']\n",
    "        ]\n",
    "\n",
    "        cleaned_files.append(features)\n",
    "\n",
    "    col_names = ['paper_id', 'title', 'authors',\n",
    "                 'affiliations', 'abstract', 'text', \n",
    "                 'bibliography','raw_authors','raw_bibliography']\n",
    "\n",
    "    clean_df = pd.DataFrame(cleaned_files, columns=col_names)\n",
    "    clean_df.head()\n",
    "    \n",
    "    return clean_df"
   ]
  },
  {
   "cell_type": "markdown",
   "metadata": {},
   "source": [
    "### load and clean data"
   ]
  },
  {
   "cell_type": "code",
   "execution_count": 7,
   "metadata": {},
   "outputs": [
    {
     "name": "stdout",
     "output_type": "stream",
     "text": [
      "Number of articles retrieved from pdf: 65782\n"
     ]
    }
   ],
   "source": [
    "pdf_path = data_path / 'document_parses'/'pdf_json/'\n",
    "\n",
    "# check size of data\n",
    "filenames = os.listdir(pdf_path)\n",
    "print(\"Number of articles retrieved from pdf:\", len(filenames))"
   ]
  },
  {
   "cell_type": "code",
   "execution_count": 8,
   "metadata": {},
   "outputs": [
    {
     "data": {
      "application/vnd.jupyter.widget-view+json": {
       "model_id": "1632bbf5a54a4c73856baf6283cfa5b9",
       "version_major": 2,
       "version_minor": 0
      },
      "text/plain": [
       "HBox(children=(FloatProgress(value=0.0, max=65782.0), HTML(value='')))"
      ]
     },
     "metadata": {},
     "output_type": "display_data"
    },
    {
     "name": "stdout",
     "output_type": "stream",
     "text": [
      "\n"
     ]
    }
   ],
   "source": [
    "# attach all pdf to a list\n",
    "all_files = load_files(pdf_path, all_paper = True)"
   ]
  },
  {
   "cell_type": "code",
   "execution_count": 15,
   "metadata": {},
   "outputs": [
    {
     "name": "stdout",
     "output_type": "stream",
     "text": [
      "Dictionary keys: dict_keys(['paper_id', 'metadata', 'abstract', 'body_text', 'bib_entries', 'ref_entries', 'back_matter'])\n"
     ]
    }
   ],
   "source": [
    "# some data exploration\n",
    "\n",
    "file = all_files[555]\n",
    "print(\"Dictionary keys:\", file.keys())"
   ]
  },
  {
   "cell_type": "code",
   "execution_count": 16,
   "metadata": {},
   "outputs": [
    {
     "name": "stdout",
     "output_type": "stream",
     "text": [
      "'Background'\n",
      "'Methods'\n",
      "'Methods'\n",
      "'Methods'\n",
      "'Methods'\n",
      "'Methods'\n",
      "'Methods'\n",
      "'Patient characteristics'\n",
      "'Patient characteristics'\n",
      "'Patient characteristics'\n",
      "'Outcomes'\n",
      "'Outcomes'\n",
      "'Outcomes'\n",
      "'Treatment'\n",
      "'Discussion'\n",
      "'Discussion'\n",
      "'Discussion'\n",
      "'Discussion'\n",
      "'Discussion'\n",
      "'Conclusions'\n",
      "'Additional file'\n",
      "'Additional file'\n",
      "'Competing interests'\n",
      "'Competing interests'\n"
     ]
    }
   ],
   "source": [
    "for i in range(len(file['body_text'])):\n",
    "    pprint(file['body_text'][i]['section'])"
   ]
  },
  {
   "cell_type": "code",
   "execution_count": 9,
   "metadata": {},
   "outputs": [
    {
     "data": {
      "application/vnd.jupyter.widget-view+json": {
       "model_id": "5d83b586f00042f59bbe4b407cde9e88",
       "version_major": 2,
       "version_minor": 0
      },
      "text/plain": [
       "HBox(children=(FloatProgress(value=0.0, max=65782.0), HTML(value='')))"
      ]
     },
     "metadata": {},
     "output_type": "display_data"
    },
    {
     "name": "stdout",
     "output_type": "stream",
     "text": [
      "\n"
     ]
    }
   ],
   "source": [
    "## Generate CSV (PDF JSON)\n",
    "\n",
    "\n",
    "cleaned_files = []\n",
    "\n",
    "for file in tqdm(all_files):\n",
    "    features = [\n",
    "        file['paper_id'],\n",
    "        file['metadata']['title'],\n",
    "        format_authors(file['metadata']['authors']),\n",
    "        format_authors(file['metadata']['authors'], \n",
    "                       with_affiliation=True),\n",
    "        format_body(file['abstract']),\n",
    "        format_body(file['body_text']),\n",
    "        format_bib(file['bib_entries']),\n",
    "        file['metadata']['authors'],\n",
    "        file['bib_entries']\n",
    "    ]\n",
    "    \n",
    "    cleaned_files.append(features)"
   ]
  },
  {
   "cell_type": "code",
   "execution_count": 10,
   "metadata": {},
   "outputs": [],
   "source": [
    "## create cleaned pdf\n",
    "col_names = [\n",
    "    'paper_id', \n",
    "    'title', \n",
    "    'authors',\n",
    "    'affiliations', \n",
    "    'abstract', \n",
    "    'text', \n",
    "    'bibliography',\n",
    "    'raw_authors',\n",
    "    'raw_bibliography'\n",
    "]\n",
    "\n",
    "paper_df = pd.DataFrame(cleaned_files, columns=col_names)\n"
   ]
  },
  {
   "cell_type": "code",
   "execution_count": 13,
   "metadata": {},
   "outputs": [
    {
     "data": {
      "text/plain": [
       "(65782, 9)"
      ]
     },
     "execution_count": 13,
     "metadata": {},
     "output_type": "execute_result"
    }
   ],
   "source": [
    "paper_df.shape"
   ]
  },
  {
   "cell_type": "code",
   "execution_count": 17,
   "metadata": {},
   "outputs": [],
   "source": [
    "### clean string in title, abstract and text \n",
    "\n",
    "#### remove unwanted character\n",
    "#### all lower case\n",
    "\n",
    "import re \n",
    "def clean_dataset(text):\n",
    "     #remove in-text citation\n",
    "    text=re.sub('[\\[].*?[\\]]', '', str(text)) \n",
    "    #remove hyperlink\n",
    "    text=re.sub(r'^https?:\\/\\/.*[\\r\\n]*', '',text, flags=re.MULTILINE)\n",
    "    #remove email\n",
    "    text=re.sub(r'\\\\b[A-Z a-z 0-9._ - ]*[@](.*?)[.]{1,3} \\\\b', '', text)\n",
    "    #have no idea what is a11111.. is, but I remove it now\n",
    "    text=re.sub(r'^a1111111111 a1111111111 a1111111111 a1111111111 a1111111111.*[\\r\\n]*',' ',text)\n",
    "   \n",
    "    \n",
    "    # remove special character\n",
    "    text=re.sub('[,\\!?():;]', '', text)\n",
    "    text=re.sub(r'(?<=\\w)\\.+(?=[ a-zA-Z])', ' ', text)\n",
    "    text=re.sub(r's/ ( *)/\\1/g','',text) \n",
    "    #remove extra space\n",
    "    text=re.sub(r'  +', ' ',text )\n",
    "    #strip punctions (recheck)\n",
    "#     text=re.sub(r'[^\\w\\s]','',text) \n",
    "    return text"
   ]
  },
  {
   "cell_type": "code",
   "execution_count": 18,
   "metadata": {},
   "outputs": [],
   "source": [
    "for col in ['title', 'text', 'abstract']:\n",
    "    paper_df[col] =paper_df[col].apply(clean_dataset)\n",
    "    paper_df[col] = paper_df[col].map(lambda x: x.lower())\n",
    "\n",
    "paper_df=paper_df.reset_index(drop=True)"
   ]
  },
  {
   "cell_type": "code",
   "execution_count": 22,
   "metadata": {},
   "outputs": [],
   "source": [
    "\n",
    "paper_df['title_word_count'] = paper_df['title'].apply(lambda x: len(x.strip().split()))\n",
    "\n",
    "paper_df['abstract_word_count'] = paper_df['abstract'].apply(lambda x: len(x.strip().split()))\n",
    "paper_df['body_word_count'] = paper_df['text'].apply(lambda x: len(x.strip().split()))"
   ]
  },
  {
   "cell_type": "code",
   "execution_count": 23,
   "metadata": {},
   "outputs": [],
   "source": [
    "#### check string length"
   ]
  },
  {
   "cell_type": "code",
   "execution_count": 24,
   "metadata": {},
   "outputs": [
    {
     "data": {
      "text/html": [
       "<div>\n",
       "<style scoped>\n",
       "    .dataframe tbody tr th:only-of-type {\n",
       "        vertical-align: middle;\n",
       "    }\n",
       "\n",
       "    .dataframe tbody tr th {\n",
       "        vertical-align: top;\n",
       "    }\n",
       "\n",
       "    .dataframe thead th {\n",
       "        text-align: right;\n",
       "    }\n",
       "</style>\n",
       "<table border=\"1\" class=\"dataframe\">\n",
       "  <thead>\n",
       "    <tr style=\"text-align: right;\">\n",
       "      <th></th>\n",
       "      <th>title_word_count</th>\n",
       "      <th>abstract_word_count</th>\n",
       "      <th>body_word_count</th>\n",
       "    </tr>\n",
       "  </thead>\n",
       "  <tbody>\n",
       "    <tr>\n",
       "      <th>count</th>\n",
       "      <td>65782.000000</td>\n",
       "      <td>65782.000000</td>\n",
       "      <td>65782.000000</td>\n",
       "    </tr>\n",
       "    <tr>\n",
       "      <th>mean</th>\n",
       "      <td>12.852923</td>\n",
       "      <td>157.014928</td>\n",
       "      <td>4488.344426</td>\n",
       "    </tr>\n",
       "    <tr>\n",
       "      <th>std</th>\n",
       "      <td>11.929369</td>\n",
       "      <td>202.883270</td>\n",
       "      <td>9038.541603</td>\n",
       "    </tr>\n",
       "    <tr>\n",
       "      <th>min</th>\n",
       "      <td>0.000000</td>\n",
       "      <td>0.000000</td>\n",
       "      <td>1.000000</td>\n",
       "    </tr>\n",
       "    <tr>\n",
       "      <th>25%</th>\n",
       "      <td>8.000000</td>\n",
       "      <td>0.000000</td>\n",
       "      <td>1809.000000</td>\n",
       "    </tr>\n",
       "    <tr>\n",
       "      <th>50%</th>\n",
       "      <td>12.000000</td>\n",
       "      <td>150.000000</td>\n",
       "      <td>3236.000000</td>\n",
       "    </tr>\n",
       "    <tr>\n",
       "      <th>75%</th>\n",
       "      <td>17.000000</td>\n",
       "      <td>232.000000</td>\n",
       "      <td>5017.000000</td>\n",
       "    </tr>\n",
       "    <tr>\n",
       "      <th>max</th>\n",
       "      <td>700.000000</td>\n",
       "      <td>7406.000000</td>\n",
       "      <td>282822.000000</td>\n",
       "    </tr>\n",
       "  </tbody>\n",
       "</table>\n",
       "</div>"
      ],
      "text/plain": [
       "       title_word_count  abstract_word_count  body_word_count\n",
       "count      65782.000000         65782.000000     65782.000000\n",
       "mean          12.852923           157.014928      4488.344426\n",
       "std           11.929369           202.883270      9038.541603\n",
       "min            0.000000             0.000000         1.000000\n",
       "25%            8.000000             0.000000      1809.000000\n",
       "50%           12.000000           150.000000      3236.000000\n",
       "75%           17.000000           232.000000      5017.000000\n",
       "max          700.000000          7406.000000    282822.000000"
      ]
     },
     "execution_count": 24,
     "metadata": {},
     "output_type": "execute_result"
    }
   ],
   "source": [
    "paper_df[['title_word_count', 'abstract_word_count', 'body_word_count']].describe()"
   ]
  },
  {
   "cell_type": "code",
   "execution_count": null,
   "metadata": {},
   "outputs": [],
   "source": [
    "## check distribution of word counts"
   ]
  },
  {
   "cell_type": "code",
   "execution_count": 25,
   "metadata": {},
   "outputs": [
    {
     "data": {
      "text/plain": [
       "44.0"
      ]
     },
     "execution_count": 25,
     "metadata": {},
     "output_type": "execute_result"
    },
    {
     "data": {
      "image/png": "[encoded data removed]",
      "text/plain": [
       "<Figure size 432x288 with 1 Axes>"
      ]
     },
     "metadata": {
      "needs_background": "light"
     },
     "output_type": "display_data"
    }
   ],
   "source": [
    "_ = plt.hist(paper_df['title_word_count'], bins= 100)\n",
    "\n",
    "paper_df['title_word_count'].quantile(0.99)"
   ]
  },
  {
   "cell_type": "code",
   "execution_count": 26,
   "metadata": {},
   "outputs": [
    {
     "data": {
      "text/plain": [
       "7370.0"
      ]
     },
     "execution_count": 26,
     "metadata": {},
     "output_type": "execute_result"
    },
    {
     "data": {
      "image/png": "[encoded data removed]",
      "text/plain": [
       "<Figure size 432x288 with 1 Axes>"
      ]
     },
     "metadata": {
      "needs_background": "light"
     },
     "output_type": "display_data"
    }
   ],
   "source": [
    "_ = plt.hist(paper_df['body_word_count'], bins= 100)\n",
    "\n",
    "paper_df['body_word_count'].quantile(0.9)"
   ]
  },
  {
   "cell_type": "code",
   "execution_count": 27,
   "metadata": {},
   "outputs": [
    {
     "data": {
      "text/plain": [
       "472.0"
      ]
     },
     "execution_count": 27,
     "metadata": {},
     "output_type": "execute_result"
    },
    {
     "data": {
      "image/png": "[encoded data removed]",
      "text/plain": [
       "<Figure size 432x288 with 1 Axes>"
      ]
     },
     "metadata": {
      "needs_background": "light"
     },
     "output_type": "display_data"
    }
   ],
   "source": [
    "_ = plt.hist(paper_df['abstract_word_count'], bins= 100)\n",
    "\n",
    "paper_df['abstract_word_count'].quantile(0.97)"
   ]
  },
  {
   "cell_type": "code",
   "execution_count": 28,
   "metadata": {},
   "outputs": [
    {
     "data": {
      "text/plain": [
       "(65782, 12)"
      ]
     },
     "execution_count": 28,
     "metadata": {},
     "output_type": "execute_result"
    }
   ],
   "source": [
    "paper_df.shape"
   ]
  },
  {
   "cell_type": "code",
   "execution_count": 29,
   "metadata": {},
   "outputs": [],
   "source": [
    "## Drop papers with duplication\n",
    "\n",
    "    \n",
    "paper_df.drop_duplicates(['abstract', 'text'], inplace=True)\n",
    "\n",
    "## drop paper where abstract or length is too long\n",
    "# use 512 as the maximum length for T5 is 512 and BART is 1024, lose 2.5% papers\n",
    "# abstract > 30 \n",
    "trimmed_df = paper_df[(paper_df['abstract_word_count'] > 20) & (paper_df['abstract_word_count'] < 512)]\n",
    "\n",
    "trimmed_df = trimmed_df[trimmed_df['title_word_count'] < 50]\n",
    "# arbitry number\n",
    "# trimmed_df = trimmed_df[(trimmed_df['body_word_count'] >500) &( trimmed_df['body_word_count'] < 4000)]"
   ]
  },
  {
   "cell_type": "code",
   "execution_count": 32,
   "metadata": {},
   "outputs": [],
   "source": [
    "new_df = trimmed_df.copy()\n",
    "new_df = new_df.reset_index(drop=True)"
   ]
  },
  {
   "cell_type": "code",
   "execution_count": 33,
   "metadata": {},
   "outputs": [
    {
     "data": {
      "text/plain": [
       "(42769, 12)"
      ]
     },
     "execution_count": 33,
     "metadata": {},
     "output_type": "execute_result"
    }
   ],
   "source": [
    "new_df.shape"
   ]
  },
  {
   "cell_type": "markdown",
   "metadata": {},
   "source": [
    "### Add Topic Label From LDA classification for training data"
   ]
  },
  {
   "cell_type": "code",
   "execution_count": 35,
   "metadata": {},
   "outputs": [],
   "source": [
    "from nltk.corpus import stopwords\n",
    "\n",
    "from nltk.stem import WordNetLemmatizer"
   ]
  },
  {
   "cell_type": "markdown",
   "metadata": {},
   "source": [
    "#### Tokenize abstract string for LDA"
   ]
  },
  {
   "cell_type": "code",
   "execution_count": 36,
   "metadata": {},
   "outputs": [],
   "source": [
    "new_df['abstract_tokens'] = new_df['abstract'].apply(lambda x: x.split())"
   ]
  },
  {
   "cell_type": "markdown",
   "metadata": {},
   "source": [
    "#### LDA specific data cleaning"
   ]
  },
  {
   "cell_type": "code",
   "execution_count": 37,
   "metadata": {},
   "outputs": [],
   "source": [
    "## remove the word 'abstract'\n",
    "def remove_specific_word(text):\n",
    "    words = [w for w in text if w != 'abstract']\n",
    "    return words"
   ]
  },
  {
   "cell_type": "code",
   "execution_count": 38,
   "metadata": {},
   "outputs": [],
   "source": [
    "new_df['abstract_tokens'] =  new_df['abstract_tokens'].apply(lambda x: remove_specific_word(x))"
   ]
  },
  {
   "cell_type": "code",
   "execution_count": 39,
   "metadata": {},
   "outputs": [],
   "source": [
    "# remove stop words\n",
    "def remove_stopwords(list_of_string):\n",
    "    stop_words = set(stopwords.words('english')) \n",
    "    return [w for w in list_of_string if not w in stop_words] \n",
    "  "
   ]
  },
  {
   "cell_type": "code",
   "execution_count": 40,
   "metadata": {},
   "outputs": [],
   "source": [
    "new_df['abstract_tokens'] = new_df['abstract_tokens'].apply(lambda x: remove_stopwords(x))"
   ]
  },
  {
   "cell_type": "code",
   "execution_count": 41,
   "metadata": {},
   "outputs": [],
   "source": [
    "## remove very short words, like single letter\n",
    "\n",
    "def remove_short_words(tokens, min_len):\n",
    "    return [w for w in tokens if len(w)>=min_len] \n"
   ]
  },
  {
   "cell_type": "code",
   "execution_count": 42,
   "metadata": {},
   "outputs": [],
   "source": [
    "new_df['abstract_tokens'] = new_df['abstract_tokens'].apply(lambda x: remove_short_words(x, 2))\n",
    "  "
   ]
  },
  {
   "cell_type": "code",
   "execution_count": 43,
   "metadata": {},
   "outputs": [],
   "source": [
    "## lemmatize words\n",
    "\n",
    "# define a function to lematize a list of tokens\n",
    "lemmatizer = WordNetLemmatizer() # instantiate a lemmatizer\n",
    "\n",
    "def lemmatize_tokens(tokens):\n",
    "    lemmatized_tokens = [lemmatizer.lemmatize(t) for t in tokens]\n",
    "    return lemmatized_tokens"
   ]
  },
  {
   "cell_type": "code",
   "execution_count": 44,
   "metadata": {},
   "outputs": [],
   "source": [
    "new_df['abstract_tokens'] = new_df['abstract_tokens'].apply(lambda x: lemmatize_tokens(x)) #lemmatize words"
   ]
  },
  {
   "cell_type": "code",
   "execution_count": 870,
   "metadata": {},
   "outputs": [],
   "source": [
    "# # define a function that converts a list of tokens into n-grams\n",
    "# def getNGrams(tokens, n):\n",
    "#     return [tokens[i : i + n] for i in range(len(tokens) - (n - 1))]"
   ]
  },
  {
   "cell_type": "code",
   "execution_count": 871,
   "metadata": {},
   "outputs": [],
   "source": [
    "# new_df['abstract_2-grams'] = new_df['abstract_tokens'].apply(lambda x: getNGrams(x, 2))\n",
    "# new_df.head()"
   ]
  },
  {
   "cell_type": "code",
   "execution_count": 872,
   "metadata": {},
   "outputs": [],
   "source": [
    "# words = set(nltk.corpus.words.words())"
   ]
  },
  {
   "cell_type": "code",
   "execution_count": 873,
   "metadata": {},
   "outputs": [],
   "source": [
    "# from sklearn.feature_extraction.text import CountVectorizer\n",
    "# from sklearn.feature_extraction.text import TfidfVectorizer\n",
    "\n",
    "# vectorizer = CountVectorizer(analyzer = \"word\",   \\\n",
    "#                              tokenizer = None,    \\\n",
    "#                              preprocessor = None, \\\n",
    "#                              stop_words = 'english',   \\\n",
    "#                              max_features = 2000) \n",
    "\n",
    "# ## this makes tokens\n",
    "# all_tokens = new_df['abstract_tokens'].apply(lambda x: \" \".join(x))\n",
    "\n",
    "# # all_tokens = new_df['abstract'].apply(lambda x: \" \".join(x), axis = 0)\n",
    "# vectorizer.fit(all_tokens)"
   ]
  },
  {
   "cell_type": "code",
   "execution_count": 874,
   "metadata": {},
   "outputs": [],
   "source": [
    "# x_train = vectorizer.transform(all_tokens)"
   ]
  },
  {
   "cell_type": "code",
   "execution_count": 875,
   "metadata": {},
   "outputs": [],
   "source": [
    "# x_train = x_train.toarray()"
   ]
  },
  {
   "cell_type": "code",
   "execution_count": 876,
   "metadata": {},
   "outputs": [],
   "source": [
    "# # Top words in the trianing set\n",
    "# word_count = pd.DataFrame({'word': vectorizer.get_feature_names(), 'count': np.asarray(x_train.sum(axis=0))})\n",
    "# word_count.sort_values('count', ascending=False).set_index('word')[:30].sort_values('count', ascending=True).plot(kind='barh')\n"
   ]
  },
  {
   "cell_type": "markdown",
   "metadata": {},
   "source": [
    "#### Unigram + bigram LDA modeling"
   ]
  },
  {
   "cell_type": "code",
   "execution_count": 47,
   "metadata": {},
   "outputs": [],
   "source": [
    "import gensim\n",
    "import gensim.corpora as corpora\n",
    "from gensim.utils import simple_preprocess\n",
    "from gensim.models import CoherenceModel\n",
    "from gensim.models import Phrases"
   ]
  },
  {
   "cell_type": "code",
   "execution_count": 49,
   "metadata": {},
   "outputs": [],
   "source": [
    "LDA_data = new_df['abstract_tokens']\n",
    "\n",
    "# create bi-gram phrases\n",
    "bigram = Phrases(LDA_data, min_count=1)\n",
    "\n",
    "for idx in range(len(LDA_data)):\n",
    "    for token in bigram[LDA_data[idx]]:\n",
    "        if '_' in token:\n",
    "            # Token is a bigram, add to document.\n",
    "            LDA_data[idx].append(token)\n",
    "            \n",
    "\n",
    "# Reformatting tokens for LDA\n",
    "\n",
    "## this clean numbers out (this step seems redundant)\n",
    "def sent_to_words(sentences):\n",
    "    for sentence in sentences:\n",
    "        yield(gensim.utils.simple_preprocess(str(sentence), deacc=True))  # deacc=True removes punctuations\n",
    "\n",
    "        \n",
    "# construct token list\n",
    "texts = list(sent_to_words(LDA_data))\n",
    "\n",
    "# create dictionary\n",
    "dictionary = corpora.Dictionary(texts)\n",
    "\n",
    "dict(list(dictionary.token2id.items())[0:10])\n",
    "\n",
    "## create corpus for LDA\n",
    "corpus = [dictionary.doc2bow(item) for item in texts]"
   ]
  },
  {
   "cell_type": "code",
   "execution_count": 50,
   "metadata": {},
   "outputs": [],
   "source": [
    "### Search optimal cluster number"
   ]
  },
  {
   "cell_type": "code",
   "execution_count": 51,
   "metadata": {},
   "outputs": [],
   "source": [
    "def compute_coherence_values(dictionary, corpus, texts, limit, start=2, step=3):\n",
    "    \"\"\"\n",
    "    Compute c_v coherence for various number of topics\n",
    "\n",
    "    Parameters:\n",
    "    ----------\n",
    "    dictionary : Gensim dictionary\n",
    "    corpus : Gensim corpus\n",
    "    texts : List of input texts\n",
    "    limit : Max num of topics\n",
    "\n",
    "    Returns:\n",
    "    -------\n",
    "    model_list : List of LDA topic models\n",
    "    coherence_values : Coherence values corresponding to the LDA model with respective number of topics\n",
    "    \"\"\"\n",
    "    coherence_values = []\n",
    "    model_list = []\n",
    "    for num_topics in range(start, limit, step):\n",
    "#         model = gensim.models.wrappers.LdaMallet(mallet_path, \n",
    "#                                                  corpus=corpus,\n",
    "#                                                  num_topics=num_topics,\n",
    "#                                                  id2word=id2word)\n",
    "        \n",
    "        \n",
    "        model = gensim.models.ldamodel.LdaModel(corpus=corpus,\n",
    "                                                id2word=dictionary,\n",
    "                                                num_topics=num_topics,\n",
    "                                                random_state=100,\n",
    "                                                update_every=1,\n",
    "                                                chunksize=100,\n",
    "                                                passes=10,\n",
    "                                                alpha='auto',\n",
    "                                                per_word_topics=True)\n",
    "        \n",
    "        model_list.append(model)\n",
    "        coherencemodel = CoherenceModel(model=model, texts=texts, dictionary=dictionary, coherence='c_v')\n",
    "        coherence_values.append(coherencemodel.get_coherence())\n",
    "\n",
    "    return model_list, coherence_values"
   ]
  },
  {
   "cell_type": "code",
   "execution_count": 52,
   "metadata": {},
   "outputs": [],
   "source": [
    "# Can take a long time to run.\n",
    "model_list, coherence_values = compute_coherence_values(dictionary=dictionary, corpus=corpus, texts=texts, start=2, limit=25, step=1)\n"
   ]
  },
  {
   "cell_type": "code",
   "execution_count": 56,
   "metadata": {},
   "outputs": [
    {
     "data": {
      "image/png": "[encoded data removed]",
      "text/plain": [
       "<Figure size 432x288 with 1 Axes>"
      ]
     },
     "metadata": {
      "needs_background": "light"
     },
     "output_type": "display_data"
    }
   ],
   "source": [
    "# Show graph \n",
    "limit=25; start=2; step=1;\n",
    "x = range(start, limit, step)\n",
    "plt.plot(x, coherence_values)\n",
    "plt.xlabel(\"Num Topics\")\n",
    "plt.ylabel(\"Coherence score\")\n",
    "plt.legend((\"\"), loc='best')\n",
    "plt.show()\n",
    "\n",
    "## looks like 8 topic is best"
   ]
  },
  {
   "cell_type": "code",
   "execution_count": 64,
   "metadata": {},
   "outputs": [
    {
     "name": "stdout",
     "output_type": "stream",
     "text": [
      "(11, 0.5678359230945655)\n"
     ]
    }
   ],
   "source": [
    "## find the maximum coherence score and its in\n",
    "for i, c in list(zip(range(2, 2+len(coherence_values)), coherence_values)):\n",
    "    if c == max(coherence_values):\n",
    "        print((i, c))\n",
    "        optimal_cluster = i"
   ]
  },
  {
   "cell_type": "code",
   "execution_count": 65,
   "metadata": {},
   "outputs": [
    {
     "data": {
      "text/plain": [
       "11"
      ]
     },
     "execution_count": 65,
     "metadata": {},
     "output_type": "execute_result"
    }
   ],
   "source": [
    "optimal_cluster"
   ]
  },
  {
   "cell_type": "code",
   "execution_count": 66,
   "metadata": {},
   "outputs": [],
   "source": [
    "## do LDA using optimal number of topics\n",
    "lda_model = gensim.models.ldamodel.LdaModel(corpus=corpus,\n",
    "                                            id2word=dictionary,\n",
    "                                            num_topics=optimal_cluster,\n",
    "                                            random_state=100,\n",
    "                                            update_every=1,\n",
    "                                            chunksize=100,\n",
    "                                            passes=10,\n",
    "                                            alpha='auto',\n",
    "                                            per_word_topics=True)"
   ]
  },
  {
   "cell_type": "code",
   "execution_count": 67,
   "metadata": {},
   "outputs": [
    {
     "name": "stdout",
     "output_type": "stream",
     "text": [
      "\n",
      "Perplexity:  -10.350781776601094\n"
     ]
    }
   ],
   "source": [
    "print('\\nPerplexity: ', lda_model.log_perplexity(corpus))  # a measure of how good the model is. lower the better.\n"
   ]
  },
  {
   "cell_type": "code",
   "execution_count": 68,
   "metadata": {},
   "outputs": [
    {
     "name": "stdout",
     "output_type": "stream",
     "text": [
      "\n",
      "Coherence Score:  0.5678359230945655\n"
     ]
    }
   ],
   "source": [
    "# Compute Coherence Score\n",
    "coherence_model_lda = CoherenceModel(model=lda_model, texts=texts, dictionary=dictionary, coherence='c_v')\n",
    "coherence_lda = coherence_model_lda.get_coherence()\n",
    "print('\\nCoherence Score: ', coherence_lda)"
   ]
  },
  {
   "cell_type": "code",
   "execution_count": 70,
   "metadata": {},
   "outputs": [
    {
     "data": {
      "text/html": [
       "\n",
       "<link rel=\"stylesheet\" type=\"text/css\" href=\"https://cdn.rawgit.com/bmabey/pyLDAvis/files/ldavis.v1.0.0.css\">\n",
       "\n",
       "\n",
       "<div id=\"ldavis_el156991401415971625127352811388\"></div>\n",
       "<script type=\"text/javascript\">\n",
       "\n",
       "var ldavis_el156991401415971625127352811388_data = {\"mdsDat\": {\"x\": [-0.1458027563581351, -0.12205106839435904, -0.1639565873307194, -0.12584240212930972, -0.11617332562956512, -0.024064002927597677, -0.0194307752768798, -0.0497993492476597, 0.16853773072585643, 0.24844285597464433, 0.3501396805937244], \"y\": [-0.018244281420159256, 0.12070874895584603, -0.15701897091504857, -0.06188982029796913, 0.08788852266385977, -0.2505814534094186, 0.15630433437230218, 0.18977976224739346, -0.15395546054536333, 0.09154294388327022, -0.004534325534712185], \"topics\": [1, 2, 3, 4, 5, 6, 7, 8, 9, 10, 11], \"cluster\": [1, 1, 1, 1, 1, 1, 1, 1, 1, 1, 1], \"Freq\": [18.921756744384766, 18.578336715698242, 14.412636756896973, 11.790975570678711, 9.27029037475586, 6.89683198928833, 5.226523399353027, 5.115705490112305, 4.66267728805542, 2.919555425643921, 2.2047033309936523]}, \"tinfo\": {\"Term\": [\"virus\", \"covid\", \"patient\", \"sars\", \"cov\", \"cell\", \"protein\", \"de\", \"respiratory\", \"viral\", \"health\", \"gene\", \"vaccine\", \"sequence\", \"activity\", \"rna\", \"model\", \"pcr\", \"strain\", \"infection\", \"coronavirus\", \"sample\", \"case\", \"human\", \"antibody\", \"day\", \"analysis\", \"cd\", \"method\", \"clinical\", \"child\", \"response\", \"assay\", \"genome\", \"detection\", \"severe\", \"il\", \"drug\", \"mouse\", \"influenza\", \"le\", \"anti\", \"animal\", \"effect\", \"treatment\", \"expression\", \"positive\", \"group\", \"lung\", \"antiviral\", \"approach\", \"network\", \"paper\", \"dynamic\", \"testing\", \"problem\", \"technology\", \"quality\", \"prediction\", \"of\", \"make\", \"interest\", \"algorithm\", \"framework\", \"learning\", \"aspect\", \"simulation\", \"modeling\", \"concept\", \"curve\", \"scenario\", \"solution\", \"training\", \"lockdown\", \"science\", \"advance\", \"accurate\", \"accuracy\", \"methodology\", \"user\", \"linear\", \"disaster\", \"theory\", \"stability\", \"growing\", \"online\", \"mathematical\", \"planning\", \"threshold\", \"bias\", \"image\", \"gap\", \"give\", \"tuberculosis\", \"predictor\", \"computational\", \"building\", \"europe\", \"topic\", \"bone\", \"research\", \"environment\", \"making\", \"proposed\", \"model\", \"application\", \"applied\", \"incidence\", \"way\", \"tool\", \"food\", \"discussed\", \"based\", \"system\", \"information\", \"size\", \"context\", \"use\", \"scale\", \"example\", \"work\", \"data\", \"design\", \"used\", \"new\", \"review\", \"method\", \"decision\", \"many\", \"parameter\", \"technique\", \"strategy\", \"provide\", \"process\", \"time\", \"using\", \"current\", \"source\", \"different\", \"show\", \"development\", \"field\", \"article\", \"well\", \"large\", \"analysis\", \"also\", \"available\", \"present\", \"result\", \"recent\", \"disease\", \"thus\", \"number\", \"study\", \"one\", \"two\", \"high\", \"however\", \"state\", \"developed\", \"protein\", \"expression\", \"receptor\", \"replication\", \"ace\", \"binding\", \"cellular\", \"domain\", \"membrane\", \"peptide\", \"pathway\", \"expressed\", \"mediated\", \"interferon\", \"entry\", \"angiotensin\", \"mrna\", \"protease\", \"hcv\", \"fusion\", \"hepatitis\", \"mhv\", \"residue\", \"signaling\", \"epithelial\", \"innate\", \"pro\", \"terminal\", \"tumor\", \"gp\", \"formation\", \"signal\", \"nsp\", \"tgev\", \"cap\", \"dc\", \"zikv\", \"translation\", \"mutant\", \"cl\", \"lipid\", \"host_cell\", \"codon\", \"attenuated\", \"apoptosis\", \"cell_line\", \"tlr\", \"ns\", \"synthetic\", \"virion\", \"mutation\", \"cell\", \"structural\", \"functional\", \"vivo\", \"mechanism\", \"enzyme\", \"host\", \"ifn\", \"dependent\", \"hiv\", \"viral\", \"function\", \"role\", \"interaction\", \"glycoprotein\", \"target\", \"surface\", \"virus\", \"rna\", \"type\", \"play\", \"induced\", \"site\", \"infection\", \"complex\", \"therapeutic\", \"gene\", \"structure\", \"involved\", \"also\", \"response\", \"line\", \"like\", \"specific\", \"activity\", \"human\", \"immune\", \"study\", \"factor\", \"may\", \"infected\", \"result\", \"antiviral\", \"however\", \"health\", \"public\", \"country\", \"community\", \"contact\", \"public_health\", \"surveillance\", \"rsv\", \"international\", \"epidemiological\", \"rv\", \"service\", \"policy\", \"survey\", \"participant\", \"estimated\", \"city\", \"quarantine\", \"tb\", \"government\", \"department\", \"chest\", \"hospitalized\", \"facility\", \"person\", \"united\", \"burden\", \"confidence\", \"distancing\", \"travel\", \"hbov\", \"school\", \"plan\", \"older\", \"household\", \"professional\", \"exacerbation\", \"season\", \"bronchiolitis\", \"hmpv\", \"ed\", \"reporting\", \"united_state\", \"student\", \"preventive\", \"seasonal\", \"equipment\", \"education\", \"avian_influenza\", \"malaria\", \"measure\", \"estimate\", \"intervention\", \"status\", \"population\", \"practice\", \"health_care\", \"transmission\", \"interval\", \"epidemic\", \"outbreak\", \"people\", \"january\", \"case\", \"emergency\", \"social\", \"spread\", \"risk\", \"rate\", \"impact\", \"peak\", \"period\", \"pandemic\", \"control\", \"number\", \"healthcare\", \"disease\", \"influenza\", \"individual\", \"prevention\", \"year\", \"among\", \"china\", \"global\", \"likely\", \"care\", \"infection\", \"hospital\", \"infectious\", \"factor\", \"study\", \"infected\", \"data\", \"reported\", \"death\", \"may\", \"management\", \"response\", \"level\", \"result\", \"pulmonary\", \"admission\", \"score\", \"liver\", \"cohort\", \"median\", \"duration\", \"kg\", \"male\", \"complication\", \"sepsis\", \"ventilation\", \"upper\", \"hour\", \"admitted\", \"ards\", \"surgical\", \"female\", \"mechanical\", \"heart\", \"elevated\", \"versus\", \"imaging\", \"retrospective\", \"recipient\", \"shock\", \"cmv\", \"adjusted\", \"pcv\", \"elderly\", \"discharge\", \"corticosteroid\", \"fungal\", \"sd\", \"sex\", \"covs\", \"prolonged\", \"placebo\", \"transplantation\", \"randomized\", \"left\", \"transplant\", \"hypertension\", \"odds\", \"comorbidities\", \"sought\", \"statistically\", \"computed\", \"crp\", \"vap\", \"asthma\", \"patient\", \"antibiotic\", \"ci\", \"severity\", \"day\", \"illness\", \"outcome\", \"failure\", \"diagnosed\", \"mortality\", \"count\", \"age\", \"group\", \"pneumonia\", \"received\", \"ratio\", \"symptom\", \"treatment\", \"onset\", \"associated\", \"risk_factor\", \"higher\", \"clinical\", \"chronic\", \"therapy\", \"month\", \"included\", \"hospital\", \"conclusion\", \"significantly\", \"severe\", \"year\", \"study\", \"compared\", \"week\", \"lower\", \"adult\", \"risk\", \"infection\", \"acute\", \"increased\", \"non\", \"result\", \"background\", \"significant\", \"high\", \"lung\", \"factor\", \"rate\", \"difference\", \"finding\", \"disease\", \"level\", \"case\", \"without\", \"respiratory\", \"two\", \"analysis\", \"cause\", \"may\", \"vaccine\", \"antibody\", \"bat\", \"vaccination\", \"epitope\", \"pig\", \"titer\", \"neutralizing\", \"igg\", \"bovine\", \"elisa\", \"vaccinated\", \"dog\", \"piglet\", \"hcov\", \"live\", \"prrsv\", \"rs\", \"genus\", \"swine\", \"canine\", \"rotavirus\", \"enteric\", \"zoonotic\", \"intestinal\", \"immunization\", \"antigenic\", \"poultry\", \"monoclonal\", \"recombination\", \"reservoir\", \"borne\", \"wildlife\", \"inoculated\", \"diarrhoea\", \"adjuvant\", \"dengue\", \"neutralization\", \"mhc\", \"perspective\", \"mucosal\", \"spp\", \"balb\", \"reactivity\", \"parasite\", \"nl\", \"inactivated\", \"veterinary\", \"parvovirus\", \"indirect\", \"animal\", \"antigen\", \"porcine\", \"diarrhea\", \"coli\", \"human\", \"recombinant\", \"virus\", \"pathogen\", \"specie\", \"protection\", \"serum\", \"vector\", \"pathogenic\", \"immunity\", \"specific\", \"infection\", \"disease\", \"response\", \"immune\", \"strain\", \"infectious\", \"avian\", \"host\", \"cause\", \"infected\", \"cross\", \"high\", \"study\", \"challenge\", \"agent\", \"mouse\", \"viral\", \"detected\", \"potential\", \"development\", \"could\", \"influenza\", \"coronavirus\", \"may\", \"covid\", \"sars\", \"cov\", \"mers\", \"severe_acute\", \"icu\", \"middle\", \"ncov\", \"wuhan\", \"east\", \"little\", \"guideline\", \"woman\", \"camel\", \"meta\", \"route\", \"ongoing\", \"ray\", \"mask\", \"effectively\", \"personal\", \"rbd\", \"middle_east\", \"march_\", \"intensive_care\", \"clinical_trial\", \"confirmed_case\", \"half\", \"word\", \"ppe\", \"staff\", \"ventilator\", \"cardiovascular\", \"asian\", \"hcws\", \"approved\", \"screen\", \"clinic\", \"ethical\", \"urgent\", \"sir\", \"ensure\", \"manuscript\", \"virology\", \"vulnerable\", \"fundamental\", \"provider\", \"prophylaxis\", \"representative\", \"neurological\", \"march\", \"syndrome\", \"coronavirus\", \"diabetes\", \"market\", \"access\", \"severe\", \"address\", \"https\", \"respiratory\", \"acute\", \"pandemic\", \"doi\", \"experience\", \"caused\", \"novel\", \"confirmed\", \"care\", \"clinical\", \"cancer\", \"rapidly\", \"evidence\", \"case\", \"disease\", \"outbreak\", \"patient\", \"report\", \"potential\", \"critical\", \"treatment\", \"drug\", \"china\", \"review\", \"infection\", \"human\", \"reported\", \"spread\", \"available\", \"may\", \"pcr\", \"specimen\", \"nasal\", \"swab\", \"rhinovirus\", \"ct\", \"nasopharyngeal\", \"syncytial\", \"primer\", \"amplification\", \"nucleic_acid\", \"pneumoniae\", \"hrv\", \"cold\", \"inoculation\", \"ari\", \"lamp\", \"bvdv\", \"qpcr\", \"log\", \"false\", \"brsv\", \"pcr_assay\", \"stool\", \"throat\", \"metapneumovirus\", \"unrestricted\", \"streptococcus\", \"underwent\", \"acknowledgement\", \"aspirate\", \"funded\", \"mycoplasma\", \"house\", \"publicly_funded\", \"ppv\", \"centre_remains\", \"database_right\", \"use_analysis\", \"form_mean\", \"granted_free\", \"elsevier_long\", \"copies\", \"steroid\", \"glass\", \"abdominal\", \"common_cold\", \"sentinel\", \"amplified\", \"urine\", \"detection\", \"sample\", \"sensitivity\", \"nucleic\", \"assay\", \"probe\", \"child\", \"diagnostic\", \"reaction\", \"respiratory\", \"real\", \"specificity\", \"positive\", \"detect\", \"tract\", \"detected\", \"test\", \"polymerase\", \"chain\", \"adenovirus\", \"tested\", \"reverse\", \"diagnosis\", \"virus\", \"viral\", \"influenza\", \"negative\", \"bacterial\", \"collected\", \"culture\", \"method\", \"time\", \"clinical\", \"infection\", \"pathogen\", \"laboratory\", \"rapid\", \"using\", \"result\", \"common\", \"human\", \"developed\", \"one\", \"sequence\", \"genome\", \"rt\", \"ibv\", \"sequencing\", \"nucleotide\", \"isolates\", \"variant\", \"genomic\", \"genotype\", \"phylogenetic\", \"viral_load\", \"polymorphism\", \"bronchitis\", \"pi\", \"tree\", \"substantial\", \"preparation\", \"nt\", \"frame\", \"taiwan\", \"lineage\", \"viral_genome\", \"ms\", \"pdcov\", \"inhibiting\", \"reading\", \"cumulative\", \"identity\", \"treating\", \"parent\", \"variability\", \"sequenced\", \"regard\", \"injection\", \"qrt\", \"rnai\", \"metabolic\", \"japan\", \"putative\", \"codon_usage\", \"bp\", \"inactivation\", \"tracheal\", \"serum_sample\", \"hybridization\", \"utr\", \"gram\", \"metagenomic\", \"persistence\", \"genetic\", \"usage\", \"strain\", \"evolutionary\", \"gene\", \"located\", \"isolated\", \"amino_acid\", \"amino\", \"length\", \"rna\", \"region\", \"diversity\", \"analysis\", \"full\", \"specie\", \"acid\", \"variation\", \"two\", \"revealed\", \"three\", \"complete\", \"identified\", \"evolution\", \"transcription\", \"conserved\", \"different\", \"showed\", \"sample\", \"novel\", \"one\", \"group\", \"virus\", \"dna\", \"found\", \"among\", \"related\", \"site\", \"study\", \"within\", \"molecular\", \"result\", \"first\", \"cd\", \"il\", \"inflammatory\", \"cytokine\", \"calf\", \"phase\", \"inflammation\", \"die\", \"brain\", \"cns\", \"der\", \"lymphocyte\", \"rat\", \"und\", \"er\", \"hr\", \"oc\", \"von\", \"milk\", \"cxcr\", \"mir\", \"extract\", \"autoimmune\", \"sp\", \"proliferation\", \"di\", \"fed\", \"nervous\", \"migration\", \"humoral\", \"comparative\", \"da\", \"memory\", \"pd\", \"ip\", \"muscle\", \"biomarkers\", \"chemokines\", \"central_nervous\", \"monocyte\", \"mmp\", \"fibrosis\", \"nk\", \"arm\", \"rm\", \"leukocyte\", \"wnv\", \"fur\", \"lymph\", \"faecal\", \"macrophage\", \"alveolar\", \"peripheral\", \"mouse\", \"lung\", \"plasma\", \"airway\", \"tissue\", \"pathology\", \"induced\", \"blood\", \"response\", \"immune\", \"th\", \"healthy\", \"injury\", \"cell\", \"damage\", \"increased\", \"viral_infection\", \"level\", \"reactive\", \"concentration\", \"thus\", \"disease\", \"effect\", \"activation\", \"anti\", \"control\", \"model\", \"compound\", \"pedv\", \"mg\", \"plant\", \"synthesis\", \"et_al\", \"ev\", \"inhibited\", \"derivative\", \"inhibit\", \"mm\", \"ad\", \"maximum\", \"ag\", \"jev\", \"pair\", \"www\", \"ic\", \"synthesized\", \"detecting\", \"utilized\", \"copy\", \"template\", \"antiviral_drug\", \"cis\", \"modern\", \"optimized\", \"transcriptase\", \"diarrhea_virus\", \"nmr\", \"proved\", \"tio\", \"antibacterial\", \"fungi\", \"reagent\", \"antioxidant\", \"ribosomal\", \"cytopathic\", \"cv\", \"frameshifting\", \"complementary\", \"ec\", \"leaf\", \"intestine\", \"si\", \"colon\", \"medicinal\", \"chikv\", \"rdrp\", \"dehydration\", \"liquid\", \"drug\", \"water\", \"anti\", \"activity\", \"chemical\", \"inhibitory\", \"al\", \"concentration\", \"microorganism\", \"antiviral\", \"ml\", \"potent\", \"inhibitor\", \"et\", \"nm\", \"antimicrobial\", \"effect\", \"temperature\", \"enterovirus\", \"vitro\", \"active\", \"treatment\", \"agent\", \"property\", \"assay\", \"acid\", \"evaluated\", \"showed\", \"inhibition\", \"potential\", \"respectively\", \"de\", \"cat\", \"la\", \"en\", \"feline\", \"van\", \"een\", \"hadv\", \"het\", \"fip\", \"fcov\", \"fipv\", \"reason\", \"un\", \"el\", \"art\", \"se\", \"dans\", \"de_la\", \"du\", \"los\", \"une\", \"brazil\", \"op\", \"approximately_\", \"par\", \"est\", \"over\", \"que\", \"pa\", \"recurrent\", \"con\", \"voor\", \"ce\", \"zijn\", \"fcv\", \"te\", \"sont\", \"del\", \"bij\", \"common_cause\", \"peritonitis\", \"colony\", \"pour\", \"qui\", \"generalized\", \"sur\", \"mc\", \"niet\", \"dm\", \"le\", \"et\", \"met\", \"al\", \"au\", \"shelter\"], \"Freq\": [57310.0, 24828.0, 35293.0, 23712.0, 23088.0, 40197.0, 28893.0, 10964.0, 21495.0, 26247.0, 17292.0, 13718.0, 12943.0, 9941.0, 10204.0, 13614.0, 19709.0, 9530.0, 11287.0, 42612.0, 13693.0, 10010.0, 19859.0, 20918.0, 9918.0, 12442.0, 15963.0, 7006.0, 15163.0, 15283.0, 8935.0, 15789.0, 8700.0, 6673.0, 7070.0, 11211.0, 6322.0, 6094.0, 8346.0, 12888.0, 6179.0, 6886.0, 7899.0, 12119.0, 11279.0, 10543.0, 9310.0, 12792.0, 7248.0, 6199.0, 7151.2705078125, 5903.34228515625, 4392.81494140625, 4077.754150390625, 3978.267578125, 3373.617431640625, 2714.190185546875, 2672.69287109375, 2072.008544921875, 1952.6790771484375, 1925.326904296875, 1686.59033203125, 1667.0765380859375, 1651.4100341796875, 1604.135986328125, 1561.9820556640625, 1551.9825439453125, 1539.3035888671875, 1531.767333984375, 1512.46826171875, 1502.704345703125, 1472.268798828125, 1458.2086181640625, 1441.0765380859375, 1414.8470458984375, 1402.0311279296875, 1356.9700927734375, 1288.5889892578125, 1288.5467529296875, 1275.1336669921875, 1248.78662109375, 1203.505126953125, 1175.609619140625, 1157.66796875, 1126.08935546875, 1088.172119140625, 1056.621337890625, 1012.132080078125, 988.5820922851562, 983.7329711914062, 978.5791625976562, 968.8903198242188, 944.5714111328125, 944.5030517578125, 932.6614379882812, 928.3963012695312, 924.531494140625, 920.1138305664062, 914.9689331054688, 907.3450317382812, 7381.17529296875, 2733.416259765625, 1405.8890380859375, 2673.0830078125, 18647.509765625, 3599.518310546875, 2198.90087890625, 3155.93115234375, 2065.716064453125, 3232.51318359375, 1580.2337646484375, 1671.3636474609375, 12370.2275390625, 10652.240234375, 5733.943359375, 2913.291015625, 1900.26171875, 7206.13427734375, 2361.978515625, 1861.976806640625, 3436.934814453125, 10905.3740234375, 3219.5361328125, 9157.31640625, 7506.18115234375, 5600.26708984375, 9504.5986328125, 2054.178955078125, 4509.23486328125, 2288.165283203125, 2583.1943359375, 4635.578125, 4417.59033203125, 4221.53125, 7463.70556640625, 7899.8681640625, 3521.421142578125, 2608.6787109375, 5693.07177734375, 4017.94580078125, 4807.373046875, 2508.556640625, 2684.643798828125, 4970.50927734375, 3421.050048828125, 6273.61865234375, 6110.75830078125, 3211.4853515625, 3857.65966796875, 6301.5419921875, 3049.015869140625, 6362.12255859375, 2837.406982421875, 3882.673583984375, 5674.10009765625, 3966.85986328125, 3974.995361328125, 3881.074462890625, 3360.308349609375, 2934.916015625, 2927.13427734375, 28892.72265625, 10542.55859375, 7501.650390625, 6585.5283203125, 6581.51611328125, 6414.90283203125, 5026.26806640625, 4620.1552734375, 4591.27099609375, 4485.91552734375, 4121.10546875, 3140.61181640625, 2991.645751953125, 2858.364501953125, 2712.09716796875, 2561.740234375, 2556.19189453125, 2477.8271484375, 2416.413330078125, 2332.460693359375, 2257.812744140625, 2244.619140625, 2232.760986328125, 2048.51123046875, 2030.6212158203125, 2013.0130615234375, 1987.5498046875, 1950.052490234375, 1858.22607421875, 1852.8067626953125, 1835.491943359375, 1806.1138916015625, 1773.7581787109375, 1718.6031494140625, 1638.9600830078125, 1631.1373291015625, 1588.6937255859375, 1556.7960205078125, 1533.826416015625, 1513.776611328125, 1507.135498046875, 1495.748046875, 1472.5738525390625, 1468.9862060546875, 1441.0767822265625, 1412.2750244140625, 1369.5986328125, 1368.3450927734375, 1368.6153564453125, 1335.734619140625, 3320.243896484375, 35812.07421875, 2771.4111328125, 2698.20263671875, 2229.854736328125, 6690.123046875, 2940.763427734375, 9432.2119140625, 4400.88525390625, 2940.806884765625, 4261.9609375, 16561.5859375, 4905.392578125, 6352.4453125, 4838.64404296875, 2230.703125, 4448.84814453125, 2481.458984375, 19286.9375, 7233.4462890625, 5884.34326171875, 2666.912353515625, 4078.04443359375, 3382.867919921875, 11698.6162109375, 3341.031982421875, 3231.062255859375, 5695.39892578125, 3977.60595703125, 2716.203857421875, 5559.09619140625, 5494.6201171875, 2566.954345703125, 3341.416748046875, 4162.24267578125, 3963.103515625, 4922.7275390625, 3705.11865234375, 5394.11181640625, 3701.416748046875, 3892.24658203125, 3561.2578125, 4038.916748046875, 3158.5634765625, 3125.710205078125, 17291.021484375, 7019.53564453125, 6687.7890625, 4772.41015625, 4184.8095703125, 3730.80615234375, 3379.7158203125, 3157.431396484375, 2461.7431640625, 2406.927490234375, 2352.918701171875, 2343.03515625, 2278.28125, 2035.293701171875, 2022.5430908203125, 1901.1766357421875, 1858.34326171875, 1660.2877197265625, 1645.9935302734375, 1637.1280517578125, 1560.1004638671875, 1534.8125, 1492.80712890625, 1441.115966796875, 1414.9039306640625, 1369.9859619140625, 1300.1357421875, 1235.7391357421875, 1222.9659423828125, 1190.5167236328125, 1109.204345703125, 1098.8406982421875, 1059.1239013671875, 1030.2425537109375, 1021.6634521484375, 1017.6622314453125, 998.4075317382812, 989.2761840820312, 969.47314453125, 959.4507446289062, 957.6521606445312, 944.6604614257812, 933.068115234375, 918.1307373046875, 915.6639404296875, 910.291015625, 891.1420288085938, 885.2864990234375, 875.9066772460938, 841.9090576171875, 5481.75048828125, 2769.721435546875, 3084.662109375, 1896.7420654296875, 9026.1220703125, 2796.5634765625, 1534.8887939453125, 6508.8837890625, 2152.466796875, 7881.17333984375, 8975.578125, 2760.863037109375, 1213.5621337890625, 14697.8330078125, 2504.219970703125, 3815.128662109375, 5063.18017578125, 8127.97314453125, 6770.3681640625, 3942.05126953125, 1894.7213134765625, 3321.47705078125, 5871.37939453125, 6582.6552734375, 5864.36376953125, 2532.705078125, 12081.9013671875, 6256.93115234375, 3914.18603515625, 2198.504638671875, 4745.19580078125, 4079.3388671875, 3104.118896484375, 2951.061279296875, 2486.84521484375, 3539.1337890625, 8410.80078125, 3604.518798828125, 3863.333251953125, 4042.07470703125, 5994.625, 3692.4033203125, 4196.2490234375, 2877.153076171875, 2783.273681640625, 3101.174560546875, 2551.86474609375, 2748.095458984375, 2595.43115234375, 2529.391357421875, 2680.079833984375, 2463.832763671875, 2459.648681640625, 2108.2978515625, 2057.393310546875, 1969.935546875, 1927.7760009765625, 1900.3270263671875, 1767.9617919921875, 1702.8817138671875, 1697.040771484375, 1659.0675048828125, 1571.4520263671875, 1515.4708251953125, 1446.9892578125, 1335.0626220703125, 1310.010498046875, 1202.0069580078125, 1044.11181640625, 1040.4808349609375, 1033.124267578125, 1024.8280029296875, 962.698486328125, 958.2904052734375, 931.7962646484375, 919.7848510742188, 911.7901000976562, 896.9287109375, 886.5929565429688, 858.482666015625, 828.5050048828125, 810.82568359375, 804.108154296875, 799.46044921875, 785.182861328125, 751.631591796875, 741.7296142578125, 737.465087890625, 729.289794921875, 724.5198974609375, 714.78369140625, 702.878173828125, 694.6016845703125, 690.5657348632812, 683.951416015625, 677.8123779296875, 677.5438842773438, 664.0283813476562, 661.4793701171875, 661.4896240234375, 2358.076904296875, 33121.3125, 2113.591552734375, 5308.7958984375, 2943.89697265625, 11197.416015625, 3746.322265625, 4649.51416015625, 1990.1705322265625, 1269.220458984375, 5760.216796875, 1656.1756591796875, 5321.4384765625, 9677.9072265625, 4201.60009765625, 1485.636962890625, 2009.8883056640625, 4418.37060546875, 7491.85498046875, 1875.3077392578125, 8314.5166015625, 1605.2679443359375, 4270.93603515625, 8423.2578125, 2370.590576171875, 3009.431396484375, 2274.136474609375, 2585.91162109375, 4134.57080078125, 3841.404052734375, 3645.3115234375, 5179.75634765625, 4643.29052734375, 9960.5244140625, 3954.9375, 2407.4462890625, 2827.19677734375, 2241.474853515625, 4220.2109375, 7655.9404296875, 3493.61181640625, 3063.675048828125, 3588.8876953125, 4572.2001953125, 2780.430419921875, 2909.4951171875, 3600.840087890625, 2835.36767578125, 3174.2060546875, 3105.97802734375, 2487.710693359375, 2619.68115234375, 3598.198486328125, 2845.521240234375, 3085.462890625, 2353.557861328125, 2914.87255859375, 2677.773193359375, 2636.934814453125, 2423.709716796875, 2449.838134765625, 12942.6015625, 9917.640625, 3361.935546875, 3232.324462890625, 2655.359375, 2558.995849609375, 2063.046142578125, 2043.56787109375, 1739.5045166015625, 1700.4764404296875, 1695.4217529296875, 1589.9747314453125, 1468.0811767578125, 1430.387939453125, 1388.5811767578125, 1375.4202880859375, 1347.3902587890625, 1317.8221435546875, 1306.5810546875, 1262.166015625, 1227.6173095703125, 1226.23974609375, 1194.227294921875, 1181.720703125, 1118.4039306640625, 1116.3192138671875, 1105.5592041015625, 1078.3955078125, 1075.916015625, 1071.252685546875, 1041.853515625, 1039.9234619140625, 1025.40966796875, 1021.319580078125, 995.6800537109375, 986.6461181640625, 983.5467529296875, 967.2001953125, 965.6769409179688, 952.4010620117188, 945.6851196289062, 933.4334106445312, 921.2744750976562, 916.7367553710938, 903.1690063476562, 877.4200439453125, 869.5142211914062, 867.650146484375, 856.4491577148438, 835.5333862304688, 7780.01806640625, 3972.58935546875, 2210.179931640625, 2570.245849609375, 1444.2408447265625, 11604.2216796875, 2933.313232421875, 23514.359375, 5922.7509765625, 4004.60791015625, 1997.126953125, 2785.7919921875, 1694.8929443359375, 1671.27880859375, 1789.0355224609375, 3981.745849609375, 8072.400390625, 5821.3837890625, 3797.645263671875, 2927.2783203125, 3132.884033203125, 2842.136474609375, 1441.9049072265625, 3080.905517578125, 2454.4287109375, 2936.846435546875, 1732.449462890625, 2815.175537109375, 3684.06591796875, 1847.2183837890625, 1926.358154296875, 1874.1883544921875, 2325.277099609375, 1772.3035888671875, 1793.8287353515625, 1715.1654052734375, 1682.3536376953125, 1743.15283203125, 1744.003662109375, 1733.994140625, 24827.5, 23711.34375, 23087.767578125, 6096.39599609375, 3137.66552734375, 2224.720947265625, 1893.1383056640625, 1806.1375732421875, 1724.2200927734375, 1548.0189208984375, 1452.0316162109375, 1444.0615234375, 1351.30224609375, 1262.628173828125, 1243.2471923828125, 1165.5257568359375, 1080.7216796875, 1069.9356689453125, 1059.1590576171875, 1054.95361328125, 1047.7940673828125, 998.9945068359375, 986.1126098632812, 985.5751342773438, 961.7005004882812, 942.6541748046875, 895.9522705078125, 886.493896484375, 877.1500854492188, 874.7823486328125, 812.1807861328125, 766.9087524414062, 743.352783203125, 732.8118286132812, 731.7056274414062, 730.3704833984375, 705.3731079101562, 702.1884765625, 686.466552734375, 682.8272705078125, 665.4520263671875, 655.3264770507812, 631.40771484375, 608.949951171875, 603.566162109375, 601.5150146484375, 601.2083740234375, 599.87451171875, 564.9564208984375, 564.1710815429688, 1765.42431640625, 6132.89208984375, 10134.224609375, 1035.93017578125, 894.9733276367188, 1170.18798828125, 5717.1787109375, 1127.6915283203125, 987.5374145507812, 6957.76806640625, 3976.834716796875, 3896.7041015625, 871.3494873046875, 1142.10546875, 1818.3692626953125, 2364.320068359375, 1817.7567138671875, 2158.627197265625, 2881.033203125, 1293.4241943359375, 1057.1719970703125, 1389.845458984375, 2075.686279296875, 2340.6484375, 1654.1719970703125, 1984.298583984375, 1310.5462646484375, 1447.88671875, 1227.53955078125, 1451.347412109375, 1297.60791015625, 1241.90771484375, 1285.3946533203125, 1539.2498779296875, 1296.2445068359375, 1156.7568359375, 1141.06591796875, 1104.0052490234375, 1115.24755859375, 9529.7080078125, 2576.375244140625, 2232.76416015625, 2164.12255859375, 1742.135498046875, 1696.4462890625, 1283.400146484375, 1245.984619140625, 1235.4825439453125, 1215.4486083984375, 1131.667724609375, 1102.8380126953125, 950.5880126953125, 911.9261474609375, 904.7814331054688, 901.2964477539062, 881.9103393554688, 830.4825439453125, 823.0509033203125, 728.2365112304688, 661.5174560546875, 659.2623901367188, 612.3935546875, 596.7903442382812, 588.44873046875, 555.6568603515625, 527.9173583984375, 511.3381652832031, 506.8517150878906, 482.85791015625, 469.80572509765625, 455.2132568359375, 438.4936828613281, 437.52001953125, 426.60296630859375, 423.7530517578125, 418.98931884765625, 418.98931884765625, 418.9908447265625, 418.98931884765625, 418.98931884765625, 418.98931884765625, 415.2711181640625, 413.8045959472656, 411.2099304199219, 401.6490478515625, 398.78533935546875, 394.96685791015625, 392.2137451171875, 385.4938049316406, 6350.76806640625, 8025.125, 2480.8046875, 1277.3157958984375, 6459.3271484375, 1074.01611328125, 6154.3896484375, 2833.519287109375, 2710.673095703125, 11408.3564453125, 3066.222900390625, 1688.6937255859375, 5395.53466796875, 1617.5467529296875, 2325.76416015625, 3685.650634765625, 3532.25439453125, 1823.280029296875, 1836.8511962890625, 1478.3101806640625, 2081.415771484375, 1193.251953125, 2299.803466796875, 12163.263671875, 6710.52880859375, 4043.408935546875, 1925.5010986328125, 1951.68994140625, 1872.04345703125, 1912.5167236328125, 3589.87744140625, 3331.776611328125, 3298.1376953125, 5234.728515625, 2459.45361328125, 1780.8414306640625, 1516.03369140625, 2377.654296875, 2637.697998046875, 1445.689453125, 1554.4676513671875, 1245.1483154296875, 1225.4276123046875, 9939.95703125, 6672.61083984375, 4654.40283203125, 3103.35107421875, 2729.421142578125, 2682.872314453125, 2404.435546875, 2156.38818359375, 1693.998046875, 1693.5682373046875, 1568.7894287109375, 1272.6953125, 1106.789794921875, 1022.0653076171875, 1021.2685546875, 1016.1845703125, 961.2142944335938, 950.6322631835938, 947.3973999023438, 879.2855834960938, 799.823486328125, 787.3585205078125, 771.3340454101562, 750.7772827148438, 715.4564208984375, 711.3109741210938, 693.9002685546875, 685.9060668945312, 669.6495361328125, 638.4158935546875, 635.83984375, 617.0057983398438, 611.72509765625, 602.5447387695312, 597.595703125, 561.415771484375, 560.4857788085938, 557.2483520507812, 523.09375, 699.0038452148438, 510.3066101074219, 504.88848876953125, 501.5987854003906, 494.8879699707031, 490.3983154296875, 479.7795104980469, 472.732177734375, 466.9613952636719, 455.8150634765625, 454.4465637207031, 3184.521728515625, 920.1332397460938, 8153.37451171875, 883.0677490234375, 8021.9287109375, 810.2693481445312, 2135.142333984375, 1445.0780029296875, 1989.5120849609375, 1671.5699462890625, 6379.9248046875, 3159.743408203125, 1068.2288818359375, 5216.24853515625, 1199.66943359375, 2123.635498046875, 2051.41455078125, 1243.0848388671875, 3137.737060546875, 1679.5618896484375, 1948.46484375, 1046.8095703125, 2020.0164794921875, 1176.39501953125, 1096.044189453125, 1000.2615356445312, 1741.7728271484375, 1529.5552978515625, 1584.5728759765625, 1483.255615234375, 1581.337158203125, 1500.78076171875, 2053.443115234375, 1225.4573974609375, 1318.0159912109375, 1275.0023193359375, 1218.2623291015625, 1146.0489501953125, 1387.2462158203125, 1133.9102783203125, 1104.737548828125, 1088.441162109375, 1073.0211181640625, 7004.96044921875, 6321.86474609375, 3812.71044921875, 2942.533935546875, 2906.67822265625, 2767.376708984375, 2415.611572265625, 2318.4765625, 1909.576904296875, 1719.5716552734375, 1651.903076171875, 1617.1734619140625, 1557.235595703125, 1507.46630859375, 1300.763916015625, 1192.4970703125, 1024.3359375, 1007.515625, 1004.071533203125, 936.019287109375, 933.6607666015625, 920.6222534179688, 911.1945190429688, 863.7608032226562, 823.7456665039062, 784.9336547851562, 774.9000244140625, 753.198974609375, 730.7382202148438, 703.8488159179688, 697.7307739257812, 680.5034790039062, 675.4356689453125, 658.5578002929688, 635.1171875, 629.7285766601562, 624.0503540039062, 589.4276733398438, 582.0518798828125, 558.1255493164062, 552.9412231445312, 552.9864501953125, 549.6326904296875, 537.820068359375, 536.9227905273438, 532.112060546875, 529.05615234375, 528.4935913085938, 528.1519165039062, 523.8016357421875, 3319.617431640625, 1258.6436767578125, 877.506591796875, 5052.77685546875, 4412.17041015625, 1409.5869140625, 1419.7232666015625, 2582.595458984375, 859.0535888671875, 2495.976318359375, 2124.349365234375, 3748.764892578125, 2739.34765625, 1368.98583984375, 1191.90234375, 1111.4140625, 4384.080078125, 908.699951171875, 1698.9288330078125, 1231.0511474609375, 1772.726318359375, 864.8961791992188, 993.9856567382812, 1063.62255859375, 1503.67724609375, 1228.0623779296875, 959.9988403320312, 1039.6810302734375, 1094.9591064453125, 1060.6480712890625, 2905.27099609375, 2876.918701171875, 2226.50537109375, 2127.609130859375, 1882.12939453125, 1436.446044921875, 1313.982177734375, 1147.0711669921875, 1056.104248046875, 1043.5185546875, 1016.1427612304688, 888.2275390625, 847.2077026367188, 776.9549560546875, 709.1022338867188, 707.2628784179688, 706.5573120117188, 699.6959838867188, 662.1526489257812, 658.4929809570312, 655.3152465820312, 653.7653198242188, 637.107666015625, 551.1012573242188, 512.2080688476562, 511.4161682128906, 509.5706787109375, 495.6558837890625, 495.4079284667969, 492.58038330078125, 484.2289123535156, 481.43658447265625, 469.66693115234375, 466.5940246582031, 455.41827392578125, 455.319580078125, 449.90106201171875, 448.0790710449219, 444.7713928222656, 427.6744384765625, 426.71136474609375, 424.6642761230469, 418.1590881347656, 416.2438659667969, 413.8229064941406, 413.7359924316406, 411.6295471191406, 409.4751892089844, 399.6985168457031, 393.9152526855469, 558.3299560546875, 4795.85205078125, 975.8722534179688, 3955.8212890625, 5295.544921875, 966.673583984375, 815.3230590820312, 1885.947265625, 1606.1856689453125, 618.6610717773438, 2900.756103515625, 1863.395263671875, 836.046875, 1609.09130859375, 1761.8516845703125, 708.8021240234375, 949.0380859375, 2481.041748046875, 964.2619018554688, 705.6265258789062, 1077.4639892578125, 967.6812744140625, 1459.0196533203125, 1099.104736328125, 789.4400024414062, 1018.95458984375, 895.5655517578125, 800.7410278320312, 927.847412109375, 679.9598999023438, 695.7356567382812, 663.9362182617188, 10963.1865234375, 3887.27099609375, 3739.194091796875, 3078.85693359375, 2046.78466796875, 1721.1239013671875, 1544.75146484375, 1519.4638671875, 1145.878173828125, 1004.278076171875, 992.9644165039062, 981.9002685546875, 964.9857788085938, 919.7044067382812, 834.22607421875, 812.2810668945312, 730.415283203125, 692.4388427734375, 685.11474609375, 636.7805786132812, 635.0943603515625, 633.5779418945312, 628.4625854492188, 596.6970825195312, 580.8048706054688, 579.87939453125, 574.8762817382812, 549.6891479492188, 535.02294921875, 521.7312622070312, 518.1459350585938, 505.00750732421875, 461.4664611816406, 455.68890380859375, 451.9455871582031, 434.05352783203125, 428.871337890625, 424.91632080078125, 416.3205261230469, 393.62835693359375, 376.9496765136719, 366.6949462890625, 353.2367858886719, 348.3766174316406, 337.05780029296875, 333.5550231933594, 333.2195739746094, 330.6943359375, 327.6589660644531, 321.0839538574219, 3392.369384765625, 2116.61572265625, 855.2491455078125, 680.6629028320312, 375.28619384765625, 356.49090576171875], \"Total\": [57310.0, 24828.0, 35293.0, 23712.0, 23088.0, 40197.0, 28893.0, 10964.0, 21495.0, 26247.0, 17292.0, 13718.0, 12943.0, 9941.0, 10204.0, 13614.0, 19709.0, 9530.0, 11287.0, 42612.0, 13693.0, 10010.0, 19859.0, 20918.0, 9918.0, 12442.0, 15963.0, 7006.0, 15163.0, 15283.0, 8935.0, 15789.0, 8700.0, 6673.0, 7070.0, 11211.0, 6322.0, 6094.0, 8346.0, 12888.0, 6179.0, 6886.0, 7899.0, 12119.0, 11279.0, 10543.0, 9310.0, 12792.0, 7248.0, 6199.0, 7152.3134765625, 5904.38525390625, 4393.85791015625, 4078.796875, 3979.31005859375, 3374.659912109375, 2715.232666015625, 2673.7353515625, 2073.051025390625, 1953.721923828125, 1926.36962890625, 1687.633056640625, 1668.1192626953125, 1652.4527587890625, 1605.1787109375, 1563.0247802734375, 1553.0252685546875, 1540.3463134765625, 1532.81005859375, 1513.5111083984375, 1503.7470703125, 1473.3115234375, 1459.2513427734375, 1442.119384765625, 1415.8897705078125, 1403.0738525390625, 1358.0128173828125, 1289.6317138671875, 1289.5894775390625, 1276.1763916015625, 1249.8294677734375, 1204.5479736328125, 1176.65234375, 1158.710693359375, 1127.132080078125, 1089.2149658203125, 1057.6640625, 1013.1748046875, 989.6248779296875, 984.7757568359375, 979.6219482421875, 969.9330444335938, 945.6141967773438, 945.5458984375, 933.704345703125, 929.4390869140625, 925.57421875, 921.1566162109375, 916.0116577148438, 908.3880615234375, 7492.63427734375, 2747.388916015625, 1409.0186767578125, 2706.462158203125, 19709.095703125, 3693.33447265625, 2265.311767578125, 3306.39453125, 2128.984375, 3418.5283203125, 1620.7138671875, 1728.970458984375, 15294.880859375, 13629.625, 7010.376953125, 3294.8818359375, 2041.1939697265625, 9516.494140625, 2630.13525390625, 2006.197998046875, 4202.01025390625, 17068.76953125, 3918.293701171875, 14101.1953125, 11034.9951171875, 7715.96533203125, 15163.193359375, 2267.575927734375, 6286.876953125, 2630.037841796875, 3171.864013671875, 7193.826171875, 6732.76123046875, 6367.22119140625, 14326.9248046875, 15599.458984375, 4967.38427734375, 3281.22412109375, 10432.2001953125, 6353.8642578125, 8749.568359375, 3197.580810546875, 3595.202392578125, 9934.615234375, 5416.6455078125, 15963.357421875, 16195.22265625, 5143.64208984375, 7880.5830078125, 22645.498046875, 5012.42041015625, 31817.533203125, 4262.80419921875, 10605.94140625, 33415.484375, 12581.734375, 13595.40234375, 14534.16796875, 10325.9892578125, 5219.603515625, 6085.30810546875, 28893.767578125, 10543.60546875, 7502.69677734375, 6586.57470703125, 6582.5625, 6415.94921875, 5027.314453125, 4621.20166015625, 4592.3173828125, 4486.9619140625, 4122.15185546875, 3141.657958984375, 2992.69189453125, 2859.41064453125, 2713.143310546875, 2562.786376953125, 2557.238037109375, 2478.873291015625, 2417.45947265625, 2333.5068359375, 2258.85888671875, 2245.665283203125, 2233.80712890625, 2049.557373046875, 2031.6676025390625, 2014.0594482421875, 1988.59619140625, 1951.098876953125, 1859.2725830078125, 1853.8531494140625, 1836.5384521484375, 1807.1602783203125, 1774.8045654296875, 1719.649658203125, 1640.0068359375, 1632.1837158203125, 1589.7401123046875, 1557.8424072265625, 1534.872802734375, 1514.8231201171875, 1508.181884765625, 1496.79443359375, 1473.6202392578125, 1470.03271484375, 1442.1231689453125, 1413.3214111328125, 1370.64501953125, 1369.3914794921875, 1369.661865234375, 1336.781005859375, 3337.09033203125, 40197.09765625, 2907.873046875, 2825.7861328125, 2309.46923828125, 7555.9140625, 3255.013427734375, 12514.0615234375, 5246.314453125, 3300.280029296875, 5123.69140625, 26247.32421875, 6273.8564453125, 8941.2470703125, 6502.57275390625, 2458.50390625, 6208.708984375, 2886.102783203125, 57310.5, 13614.314453125, 10730.8017578125, 3228.28173828125, 6574.96337890625, 4863.2685546875, 42612.27734375, 4913.73095703125, 4669.11376953125, 13718.271484375, 7092.03857421875, 3458.182861328125, 16195.22265625, 15789.861328125, 3136.012451171875, 6206.97509765625, 11634.5244140625, 10204.7412109375, 20918.826171875, 9372.5859375, 33415.484375, 10918.5361328125, 14729.7080078125, 11264.1845703125, 22645.498046875, 6199.58203125, 10325.9892578125, 17292.06640625, 7020.58203125, 6688.83544921875, 4773.45654296875, 4185.85595703125, 3731.85205078125, 3380.76171875, 3158.477294921875, 2462.7890625, 2407.973388671875, 2353.964599609375, 2344.0810546875, 2279.3271484375, 2036.33984375, 2023.58935546875, 1902.2227783203125, 1859.389404296875, 1661.3338623046875, 1647.0396728515625, 1638.1741943359375, 1561.146728515625, 1535.8587646484375, 1493.8533935546875, 1442.162109375, 1415.9500732421875, 1371.0321044921875, 1301.181884765625, 1236.785400390625, 1224.011962890625, 1191.5628662109375, 1110.25048828125, 1099.8868408203125, 1060.1700439453125, 1031.288818359375, 1022.70947265625, 1018.708251953125, 999.45361328125, 990.322265625, 970.5192260742188, 960.496826171875, 958.6983642578125, 945.7064819335938, 934.1141967773438, 919.1769409179688, 916.7100219726562, 911.337158203125, 892.1881713867188, 886.33251953125, 876.9529418945312, 842.955078125, 5650.205078125, 2825.67236328125, 3209.000732421875, 1955.32373046875, 9955.5498046875, 2954.3330078125, 1579.2725830078125, 7394.19970703125, 2274.958740234375, 9218.666015625, 10630.6943359375, 3062.342041015625, 1241.3994140625, 19859.8203125, 2839.451904296875, 4784.962890625, 6807.55859375, 12349.126953125, 10600.84375, 5542.19091796875, 2197.3251953125, 4592.41455078125, 9769.0283203125, 12003.0302734375, 10605.94140625, 3298.442626953125, 31817.533203125, 12888.1064453125, 6604.984375, 2768.481689453125, 9646.91796875, 7802.08154296875, 4957.53564453125, 4644.29296875, 3613.44775390625, 7391.12158203125, 42612.27734375, 7740.0322265625, 9460.9697265625, 10918.5361328125, 33415.484375, 11264.1845703125, 17068.76953125, 6121.501953125, 5696.03955078125, 14729.7080078125, 4040.56689453125, 15789.861328125, 11849.2607421875, 22645.498046875, 2681.127197265625, 2464.8798828125, 2460.696044921875, 2109.34521484375, 2058.440673828125, 1970.9830322265625, 1928.823486328125, 1901.3746337890625, 1769.00927734375, 1703.92919921875, 1698.0882568359375, 1660.114990234375, 1572.49951171875, 1516.518310546875, 1448.0367431640625, 1336.110107421875, 1311.0579833984375, 1203.054443359375, 1045.1593017578125, 1041.5284423828125, 1034.1717529296875, 1025.87548828125, 963.745849609375, 959.3377685546875, 932.8436279296875, 920.8323364257812, 912.8374633789062, 897.97607421875, 887.640380859375, 859.5301513671875, 829.5523681640625, 811.873046875, 805.1558227539062, 800.5078125, 786.230224609375, 752.67919921875, 742.7769775390625, 738.512451171875, 730.337158203125, 725.5672607421875, 715.8311767578125, 703.925537109375, 695.6490478515625, 691.6130981445312, 684.998779296875, 678.8599853515625, 678.59130859375, 665.0758056640625, 662.5267333984375, 662.5369873046875, 2380.024658203125, 35293.6875, 2168.4609375, 5643.8388671875, 3078.865478515625, 12442.09765625, 4073.57080078125, 5322.423828125, 2143.88037109375, 1327.689697265625, 7004.14404296875, 1797.609130859375, 6492.9072265625, 12792.9384765625, 5083.01904296875, 1612.060791015625, 2294.5732421875, 5826.81494140625, 11279.728515625, 2188.421630859375, 13807.943359375, 1859.21630859375, 6430.6552734375, 15283.6083984375, 3118.3037109375, 4362.4453125, 3119.276123046875, 3722.270263671875, 7740.0322265625, 6967.27587890625, 6492.39501953125, 11211.5703125, 9646.91796875, 33415.484375, 7771.716796875, 3580.12109375, 4711.87353515625, 3255.608154296875, 12349.126953125, 42612.27734375, 9467.751953125, 7276.2548828125, 10822.3994140625, 22645.498046875, 6296.103515625, 7174.21142578125, 14534.16796875, 7248.48193359375, 10918.5361328125, 10600.84375, 4952.84228515625, 6272.78369140625, 31817.533203125, 11849.2607421875, 19859.8203125, 4602.23095703125, 21495.521484375, 13595.40234375, 15963.357421875, 7293.43603515625, 14729.7080078125, 12943.6494140625, 9918.6884765625, 3362.98388671875, 3233.372802734375, 2656.40771484375, 2560.044189453125, 2064.094482421875, 2044.6163330078125, 1740.552978515625, 1701.52490234375, 1696.47021484375, 1591.0233154296875, 1469.129638671875, 1431.4364013671875, 1389.629638671875, 1376.4688720703125, 1348.438720703125, 1318.8707275390625, 1307.629638671875, 1263.2144775390625, 1228.665771484375, 1227.2882080078125, 1195.2757568359375, 1182.7691650390625, 1119.4525146484375, 1117.36767578125, 1106.607666015625, 1079.444091796875, 1076.9644775390625, 1072.3011474609375, 1042.9019775390625, 1040.9720458984375, 1026.4581298828125, 1022.367919921875, 996.7284545898438, 987.6944580078125, 984.5951538085938, 968.24853515625, 966.7252807617188, 953.44970703125, 946.7334594726562, 934.4817504882812, 922.3228149414062, 917.78515625, 904.2173461914062, 878.468505859375, 870.5626220703125, 868.698486328125, 857.49755859375, 836.5819702148438, 7899.78173828125, 4334.92236328125, 2420.982177734375, 2859.2275390625, 1536.6802978515625, 20918.826171875, 3997.509521484375, 57310.5, 9989.419921875, 6129.18798828125, 2568.81640625, 4406.14404296875, 2228.852783203125, 2234.353515625, 2490.37548828125, 11634.5244140625, 42612.27734375, 31817.533203125, 15789.861328125, 9372.5859375, 11287.203125, 9460.9697265625, 2094.146240234375, 12514.0615234375, 7293.43603515625, 11264.1845703125, 3404.08642578125, 14534.16796875, 33415.484375, 4699.13623046875, 5612.84814453125, 8346.931640625, 26247.32421875, 6508.02587890625, 8890.7451171875, 8749.568359375, 8411.65234375, 12888.1064453125, 13693.8291015625, 14729.7080078125, 24828.548828125, 23712.392578125, 23088.81640625, 6097.4443359375, 3138.71435546875, 2225.769775390625, 1894.187255859375, 1807.1865234375, 1725.26904296875, 1549.06787109375, 1453.080810546875, 1445.1104736328125, 1352.3511962890625, 1263.6771240234375, 1244.296142578125, 1166.5748291015625, 1081.7706298828125, 1070.984619140625, 1060.2080078125, 1056.0028076171875, 1048.843017578125, 1000.0433349609375, 987.161376953125, 986.6239624023438, 962.7493896484375, 943.7030639648438, 897.0010986328125, 887.5430297851562, 878.198974609375, 875.8311767578125, 813.2296142578125, 767.9575805664062, 744.4016723632812, 733.8607788085938, 732.7544555664062, 731.4194946289062, 706.422119140625, 703.2374267578125, 687.515380859375, 683.8760986328125, 666.5009155273438, 656.3754272460938, 632.4567260742188, 609.9989624023438, 604.6150512695312, 602.5640869140625, 602.2572021484375, 600.9235229492188, 566.005615234375, 565.2200927734375, 1852.54638671875, 7358.35693359375, 13693.8291015625, 1129.802001953125, 969.9292602539062, 1404.9112548828125, 11211.5703125, 1383.833984375, 1170.484375, 21495.521484375, 9467.751953125, 9769.0283203125, 1000.5655517578125, 1797.489013671875, 4540.759765625, 8777.90234375, 5055.56640625, 7391.12158203125, 15283.6083984375, 3239.374267578125, 1862.8201904296875, 4738.83154296875, 19859.8203125, 31817.533203125, 10630.6943359375, 35293.6875, 5245.0068359375, 8890.7451171875, 4143.25537109375, 11279.728515625, 6094.40869140625, 4957.53564453125, 7715.96533203125, 42612.27734375, 20918.826171875, 6121.501953125, 6807.55859375, 5143.64208984375, 14729.7080078125, 9530.7626953125, 2577.42919921875, 2233.818115234375, 2165.176513671875, 1743.1895751953125, 1697.50048828125, 1284.4542236328125, 1247.038818359375, 1236.53662109375, 1216.502685546875, 1132.721923828125, 1103.89208984375, 951.64208984375, 912.980224609375, 905.8357543945312, 902.3505249023438, 882.9644165039062, 831.53662109375, 824.10498046875, 729.2907104492188, 662.571533203125, 660.3164672851562, 613.4476318359375, 597.8444213867188, 589.5028076171875, 556.7109375, 528.9714965820312, 512.3922729492188, 507.9059143066406, 483.9120178222656, 470.8597717285156, 456.2673645019531, 439.5478210449219, 438.5740966796875, 427.65704345703125, 424.8072204589844, 420.04339599609375, 420.04339599609375, 420.044921875, 420.04339599609375, 420.04339599609375, 420.04339599609375, 416.3251953125, 414.8587951660156, 412.2640075683594, 402.70330810546875, 399.83941650390625, 396.0210876464844, 393.2680358886719, 386.5480651855469, 7070.26171875, 10010.0439453125, 2945.400634765625, 1426.62939453125, 8700.7763671875, 1210.1904296875, 8935.630859375, 3704.7041015625, 3650.84765625, 21495.521484375, 4613.30322265625, 2252.18115234375, 9310.248046875, 2166.2041015625, 3378.194091796875, 6508.02587890625, 6300.86083984375, 2873.329833984375, 3148.007568359375, 2334.440185546875, 3795.82861328125, 1764.7574462890625, 4714.05078125, 57310.5, 26247.32421875, 12888.1064453125, 4031.16845703125, 4311.24755859375, 4092.863525390625, 4535.38525390625, 15163.193359375, 14326.9248046875, 15283.6083984375, 42612.27734375, 9989.419921875, 4721.20947265625, 3868.55810546875, 15599.458984375, 22645.498046875, 5968.279296875, 20918.826171875, 6085.30810546875, 12581.734375, 9941.0048828125, 6673.65771484375, 4655.44970703125, 3104.398193359375, 2730.46826171875, 2683.91943359375, 2405.482666015625, 2157.435302734375, 1695.045166015625, 1694.6153564453125, 1569.8365478515625, 1273.7425537109375, 1107.8369140625, 1023.1124267578125, 1022.3157958984375, 1017.2317504882812, 962.2616577148438, 951.6795654296875, 948.4445190429688, 880.332763671875, 800.8707275390625, 788.4057006835938, 772.3811645507812, 751.824462890625, 716.5035400390625, 712.3583984375, 694.9473876953125, 686.953369140625, 670.6966552734375, 639.4634399414062, 636.8871459960938, 618.052978515625, 612.772216796875, 603.59228515625, 598.64306640625, 562.4629516601562, 561.5328979492188, 558.295654296875, 524.1409912109375, 700.4168090820312, 511.3537292480469, 505.93560791015625, 502.64605712890625, 495.9352722167969, 491.4455871582031, 480.82666015625, 473.779296875, 468.0086364746094, 456.8622131347656, 455.49395751953125, 3681.092529296875, 994.6167602539062, 11287.203125, 972.1280517578125, 13718.271484375, 895.8302001953125, 2999.58251953125, 1876.16455078125, 2875.20263671875, 2349.90283203125, 13614.314453125, 6295.390625, 1465.6451416015625, 15963.357421875, 2108.762451171875, 6129.18798828125, 5868.990234375, 2287.4921875, 13595.40234375, 4255.84619140625, 7278.310546875, 1816.76171875, 8391.59375, 2444.824462890625, 2377.689697265625, 1931.13134765625, 10432.2001953125, 7849.07421875, 10010.0439453125, 8777.90234375, 12581.734375, 12792.9384765625, 57310.5, 5009.46044921875, 9228.740234375, 7802.08154296875, 8183.537109375, 4863.2685546875, 33415.484375, 6862.2763671875, 5275.123046875, 22645.498046875, 8479.5517578125, 7006.00732421875, 6322.91162109375, 3813.75732421875, 2943.580810546875, 2907.72509765625, 2768.423828125, 2416.658447265625, 2319.5234375, 1910.6239013671875, 1720.61865234375, 1652.949951171875, 1618.220458984375, 1558.2825927734375, 1508.51318359375, 1301.81103515625, 1193.5440673828125, 1025.383056640625, 1008.5626220703125, 1005.1185913085938, 937.06640625, 934.7078247070312, 921.6694946289062, 912.2415771484375, 864.8079833984375, 824.7927856445312, 785.9807739257812, 775.9471435546875, 754.2459716796875, 731.7853393554688, 704.8959350585938, 698.7781982421875, 681.550537109375, 676.4827270507812, 659.60498046875, 636.164306640625, 630.775634765625, 625.097412109375, 590.4746704101562, 583.098876953125, 559.1725463867188, 553.9882202148438, 554.0335083007812, 550.6796875, 538.8674926757812, 537.9699096679688, 533.1590576171875, 530.1032104492188, 529.5405883789062, 529.1989135742188, 524.8488159179688, 3478.57373046875, 1334.784423828125, 979.7694702148438, 8346.931640625, 7248.48193359375, 1921.130126953125, 2014.588623046875, 4828.04638671875, 1111.838134765625, 6574.96337890625, 5112.02392578125, 15789.861328125, 9372.5859375, 2680.28564453125, 2213.84033203125, 1999.1201171875, 40197.09765625, 1363.0819091796875, 7276.2548828125, 3125.2646484375, 11849.2607421875, 1324.024658203125, 2601.1181640625, 4262.80419921875, 31817.533203125, 12119.7138671875, 3269.63916015625, 6886.4755859375, 12003.0302734375, 19709.095703125, 2906.321533203125, 2877.96923828125, 2227.555908203125, 2128.65966796875, 1883.1800537109375, 1437.496826171875, 1315.03271484375, 1148.1217041015625, 1057.15478515625, 1044.569091796875, 1017.1934204101562, 889.2781982421875, 848.2584838867188, 778.005615234375, 710.1528930664062, 708.3136596679688, 707.608154296875, 700.74658203125, 663.2033081054688, 659.5437622070312, 656.3660888671875, 654.8161010742188, 638.1583251953125, 552.1519165039062, 513.2587280273438, 512.4669799804688, 510.62139892578125, 496.7068786621094, 496.4586181640625, 493.6309814453125, 485.27972412109375, 482.4872131347656, 470.7175598144531, 467.644775390625, 456.4690246582031, 456.3702087402344, 450.9516906738281, 449.12982177734375, 445.8219909667969, 428.7250061035156, 427.7621765136719, 425.7148742675781, 419.2096862792969, 417.2945556640625, 414.8736267089844, 414.7868347167969, 412.6801452636719, 410.5257873535156, 400.7491760253906, 394.9660949707031, 561.7025146484375, 6094.40869140625, 1159.5, 6886.4755859375, 10204.7412109375, 1228.1995849609375, 993.926025390625, 3099.092041015625, 2601.1181640625, 709.9028930664062, 6199.58203125, 3372.1845703125, 1098.554443359375, 3278.1875, 3879.39599609375, 972.9087524414062, 1644.1190185546875, 12119.7138671875, 1928.639892578125, 1164.735595703125, 3316.34814453125, 2691.16259765625, 11279.728515625, 5612.84814453125, 2290.1083984375, 8700.7763671875, 5868.990234375, 3445.8876953125, 7849.07421875, 2366.312744140625, 8890.7451171875, 5498.64599609375, 10964.21484375, 3888.299560546875, 3740.22265625, 3079.885498046875, 2047.813232421875, 1722.1524658203125, 1545.780029296875, 1520.492431640625, 1146.90673828125, 1005.3067016601562, 993.9930419921875, 982.9288940429688, 966.0146484375, 920.7329711914062, 835.2546997070312, 813.3097534179688, 731.4439697265625, 693.4674072265625, 686.143310546875, 637.8092041015625, 636.1229858398438, 634.6065063476562, 629.4913330078125, 597.7257080078125, 581.8338012695312, 580.907958984375, 575.9048461914062, 550.718017578125, 536.051513671875, 522.7599487304688, 519.1746826171875, 506.0361328125, 462.4950256347656, 456.717529296875, 452.9741516113281, 435.0821533203125, 429.89990234375, 425.94488525390625, 417.3491516113281, 394.65692138671875, 377.9787292480469, 367.72357177734375, 354.2657165527344, 349.4051818847656, 338.08636474609375, 334.58392333984375, 334.2481384277344, 331.72308349609375, 328.6875305175781, 322.11273193359375, 6179.740234375, 3879.39599609375, 1162.877685546875, 3099.092041015625, 550.6776733398438, 482.605712890625], \"Category\": [\"Default\", \"Default\", \"Default\", \"Default\", \"Default\", \"Default\", \"Default\", \"Default\", \"Default\", \"Default\", \"Default\", \"Default\", \"Default\", \"Default\", \"Default\", \"Default\", \"Default\", \"Default\", \"Default\", \"Default\", \"Default\", \"Default\", \"Default\", \"Default\", \"Default\", \"Default\", \"Default\", \"Default\", \"Default\", \"Default\", \"Default\", \"Default\", \"Default\", \"Default\", \"Default\", \"Default\", \"Default\", \"Default\", \"Default\", \"Default\", \"Default\", \"Default\", \"Default\", \"Default\", \"Default\", \"Default\", \"Default\", \"Default\", \"Default\", \"Default\", \"Topic1\", \"Topic1\", \"Topic1\", \"Topic1\", \"Topic1\", \"Topic1\", \"Topic1\", \"Topic1\", \"Topic1\", \"Topic1\", \"Topic1\", \"Topic1\", \"Topic1\", \"Topic1\", \"Topic1\", \"Topic1\", \"Topic1\", \"Topic1\", \"Topic1\", \"Topic1\", \"Topic1\", \"Topic1\", \"Topic1\", \"Topic1\", \"Topic1\", \"Topic1\", \"Topic1\", \"Topic1\", \"Topic1\", \"Topic1\", \"Topic1\", \"Topic1\", \"Topic1\", \"Topic1\", \"Topic1\", \"Topic1\", \"Topic1\", \"Topic1\", \"Topic1\", \"Topic1\", \"Topic1\", \"Topic1\", \"Topic1\", \"Topic1\", \"Topic1\", \"Topic1\", \"Topic1\", \"Topic1\", \"Topic1\", \"Topic1\", \"Topic1\", \"Topic1\", \"Topic1\", \"Topic1\", \"Topic1\", \"Topic1\", \"Topic1\", \"Topic1\", \"Topic1\", \"Topic1\", \"Topic1\", \"Topic1\", \"Topic1\", \"Topic1\", \"Topic1\", \"Topic1\", \"Topic1\", \"Topic1\", \"Topic1\", \"Topic1\", \"Topic1\", \"Topic1\", \"Topic1\", \"Topic1\", \"Topic1\", \"Topic1\", \"Topic1\", \"Topic1\", \"Topic1\", \"Topic1\", \"Topic1\", \"Topic1\", \"Topic1\", \"Topic1\", \"Topic1\", \"Topic1\", \"Topic1\", \"Topic1\", \"Topic1\", \"Topic1\", \"Topic1\", \"Topic1\", \"Topic1\", \"Topic1\", \"Topic1\", \"Topic1\", \"Topic1\", \"Topic1\", \"Topic1\", \"Topic1\", \"Topic1\", \"Topic1\", \"Topic1\", \"Topic1\", \"Topic1\", \"Topic1\", \"Topic1\", \"Topic1\", \"Topic1\", \"Topic1\", \"Topic1\", \"Topic2\", \"Topic2\", \"Topic2\", \"Topic2\", \"Topic2\", \"Topic2\", \"Topic2\", \"Topic2\", \"Topic2\", \"Topic2\", \"Topic2\", \"Topic2\", \"Topic2\", \"Topic2\", \"Topic2\", \"Topic2\", \"Topic2\", \"Topic2\", \"Topic2\", \"Topic2\", \"Topic2\", \"Topic2\", \"Topic2\", \"Topic2\", \"Topic2\", \"Topic2\", \"Topic2\", \"Topic2\", \"Topic2\", \"Topic2\", \"Topic2\", \"Topic2\", \"Topic2\", \"Topic2\", \"Topic2\", \"Topic2\", \"Topic2\", \"Topic2\", \"Topic2\", \"Topic2\", \"Topic2\", \"Topic2\", \"Topic2\", \"Topic2\", \"Topic2\", \"Topic2\", \"Topic2\", \"Topic2\", \"Topic2\", \"Topic2\", \"Topic2\", \"Topic2\", \"Topic2\", \"Topic2\", \"Topic2\", \"Topic2\", \"Topic2\", \"Topic2\", \"Topic2\", \"Topic2\", \"Topic2\", \"Topic2\", \"Topic2\", \"Topic2\", \"Topic2\", \"Topic2\", \"Topic2\", \"Topic2\", \"Topic2\", \"Topic2\", \"Topic2\", \"Topic2\", \"Topic2\", \"Topic2\", \"Topic2\", \"Topic2\", \"Topic2\", \"Topic2\", \"Topic2\", \"Topic2\", \"Topic2\", \"Topic2\", \"Topic2\", \"Topic2\", \"Topic2\", \"Topic2\", \"Topic2\", \"Topic2\", \"Topic2\", \"Topic2\", \"Topic2\", \"Topic2\", \"Topic2\", \"Topic2\", \"Topic2\", \"Topic3\", \"Topic3\", \"Topic3\", \"Topic3\", \"Topic3\", \"Topic3\", \"Topic3\", \"Topic3\", \"Topic3\", \"Topic3\", \"Topic3\", \"Topic3\", \"Topic3\", \"Topic3\", \"Topic3\", \"Topic3\", \"Topic3\", \"Topic3\", \"Topic3\", \"Topic3\", \"Topic3\", \"Topic3\", \"Topic3\", \"Topic3\", \"Topic3\", \"Topic3\", \"Topic3\", \"Topic3\", \"Topic3\", \"Topic3\", \"Topic3\", \"Topic3\", \"Topic3\", \"Topic3\", \"Topic3\", \"Topic3\", \"Topic3\", \"Topic3\", \"Topic3\", \"Topic3\", \"Topic3\", \"Topic3\", \"Topic3\", \"Topic3\", \"Topic3\", \"Topic3\", \"Topic3\", \"Topic3\", \"Topic3\", \"Topic3\", \"Topic3\", \"Topic3\", \"Topic3\", \"Topic3\", \"Topic3\", \"Topic3\", \"Topic3\", \"Topic3\", \"Topic3\", \"Topic3\", \"Topic3\", \"Topic3\", \"Topic3\", \"Topic3\", \"Topic3\", \"Topic3\", \"Topic3\", \"Topic3\", \"Topic3\", \"Topic3\", \"Topic3\", \"Topic3\", \"Topic3\", \"Topic3\", \"Topic3\", \"Topic3\", \"Topic3\", \"Topic3\", \"Topic3\", \"Topic3\", \"Topic3\", \"Topic3\", \"Topic3\", \"Topic3\", \"Topic3\", \"Topic3\", \"Topic3\", \"Topic3\", \"Topic3\", \"Topic3\", \"Topic3\", \"Topic3\", \"Topic3\", \"Topic3\", \"Topic3\", \"Topic3\", \"Topic3\", \"Topic3\", \"Topic3\", \"Topic3\", \"Topic4\", \"Topic4\", \"Topic4\", \"Topic4\", \"Topic4\", \"Topic4\", \"Topic4\", \"Topic4\", \"Topic4\", \"Topic4\", \"Topic4\", \"Topic4\", \"Topic4\", \"Topic4\", \"Topic4\", \"Topic4\", \"Topic4\", \"Topic4\", \"Topic4\", \"Topic4\", \"Topic4\", \"Topic4\", \"Topic4\", \"Topic4\", \"Topic4\", \"Topic4\", \"Topic4\", \"Topic4\", \"Topic4\", \"Topic4\", \"Topic4\", \"Topic4\", \"Topic4\", \"Topic4\", \"Topic4\", \"Topic4\", \"Topic4\", \"Topic4\", \"Topic4\", \"Topic4\", \"Topic4\", \"Topic4\", \"Topic4\", \"Topic4\", \"Topic4\", \"Topic4\", \"Topic4\", \"Topic4\", \"Topic4\", \"Topic4\", \"Topic4\", \"Topic4\", \"Topic4\", \"Topic4\", \"Topic4\", \"Topic4\", \"Topic4\", \"Topic4\", \"Topic4\", \"Topic4\", \"Topic4\", \"Topic4\", \"Topic4\", \"Topic4\", \"Topic4\", \"Topic4\", \"Topic4\", \"Topic4\", \"Topic4\", \"Topic4\", \"Topic4\", \"Topic4\", \"Topic4\", \"Topic4\", \"Topic4\", \"Topic4\", \"Topic4\", \"Topic4\", \"Topic4\", \"Topic4\", \"Topic4\", \"Topic4\", \"Topic4\", \"Topic4\", \"Topic4\", \"Topic4\", \"Topic4\", \"Topic4\", \"Topic4\", \"Topic4\", \"Topic4\", \"Topic4\", \"Topic4\", \"Topic4\", \"Topic4\", \"Topic4\", \"Topic4\", \"Topic4\", \"Topic4\", \"Topic4\", \"Topic4\", \"Topic4\", \"Topic4\", \"Topic4\", \"Topic4\", \"Topic4\", \"Topic4\", \"Topic4\", \"Topic4\", \"Topic4\", \"Topic4\", \"Topic5\", \"Topic5\", \"Topic5\", \"Topic5\", \"Topic5\", \"Topic5\", \"Topic5\", \"Topic5\", \"Topic5\", \"Topic5\", \"Topic5\", \"Topic5\", \"Topic5\", \"Topic5\", \"Topic5\", \"Topic5\", \"Topic5\", \"Topic5\", \"Topic5\", \"Topic5\", \"Topic5\", \"Topic5\", \"Topic5\", \"Topic5\", \"Topic5\", \"Topic5\", \"Topic5\", \"Topic5\", \"Topic5\", \"Topic5\", \"Topic5\", \"Topic5\", \"Topic5\", \"Topic5\", \"Topic5\", \"Topic5\", \"Topic5\", \"Topic5\", \"Topic5\", \"Topic5\", \"Topic5\", \"Topic5\", \"Topic5\", \"Topic5\", \"Topic5\", \"Topic5\", \"Topic5\", \"Topic5\", \"Topic5\", \"Topic5\", \"Topic5\", \"Topic5\", \"Topic5\", \"Topic5\", \"Topic5\", \"Topic5\", \"Topic5\", \"Topic5\", \"Topic5\", \"Topic5\", \"Topic5\", \"Topic5\", \"Topic5\", \"Topic5\", \"Topic5\", \"Topic5\", \"Topic5\", \"Topic5\", \"Topic5\", \"Topic5\", \"Topic5\", \"Topic5\", \"Topic5\", \"Topic5\", \"Topic5\", \"Topic5\", \"Topic5\", \"Topic5\", \"Topic5\", \"Topic5\", \"Topic5\", \"Topic5\", \"Topic5\", \"Topic5\", \"Topic5\", \"Topic5\", \"Topic5\", \"Topic5\", \"Topic5\", \"Topic5\", \"Topic6\", \"Topic6\", \"Topic6\", \"Topic6\", \"Topic6\", \"Topic6\", \"Topic6\", \"Topic6\", \"Topic6\", \"Topic6\", \"Topic6\", \"Topic6\", \"Topic6\", \"Topic6\", \"Topic6\", \"Topic6\", \"Topic6\", \"Topic6\", \"Topic6\", \"Topic6\", \"Topic6\", \"Topic6\", \"Topic6\", \"Topic6\", \"Topic6\", \"Topic6\", \"Topic6\", \"Topic6\", \"Topic6\", \"Topic6\", \"Topic6\", \"Topic6\", \"Topic6\", \"Topic6\", \"Topic6\", \"Topic6\", \"Topic6\", \"Topic6\", \"Topic6\", \"Topic6\", \"Topic6\", \"Topic6\", \"Topic6\", \"Topic6\", \"Topic6\", \"Topic6\", \"Topic6\", \"Topic6\", \"Topic6\", \"Topic6\", \"Topic6\", \"Topic6\", \"Topic6\", \"Topic6\", \"Topic6\", \"Topic6\", \"Topic6\", \"Topic6\", \"Topic6\", \"Topic6\", \"Topic6\", \"Topic6\", \"Topic6\", \"Topic6\", \"Topic6\", \"Topic6\", \"Topic6\", \"Topic6\", \"Topic6\", \"Topic6\", \"Topic6\", \"Topic6\", \"Topic6\", \"Topic6\", \"Topic6\", \"Topic6\", \"Topic6\", \"Topic6\", \"Topic6\", \"Topic6\", \"Topic6\", \"Topic6\", \"Topic6\", \"Topic6\", \"Topic6\", \"Topic6\", \"Topic6\", \"Topic6\", \"Topic6\", \"Topic7\", \"Topic7\", \"Topic7\", \"Topic7\", \"Topic7\", \"Topic7\", \"Topic7\", \"Topic7\", \"Topic7\", \"Topic7\", \"Topic7\", \"Topic7\", \"Topic7\", \"Topic7\", \"Topic7\", \"Topic7\", \"Topic7\", \"Topic7\", \"Topic7\", \"Topic7\", \"Topic7\", \"Topic7\", \"Topic7\", \"Topic7\", \"Topic7\", \"Topic7\", \"Topic7\", \"Topic7\", \"Topic7\", \"Topic7\", \"Topic7\", \"Topic7\", \"Topic7\", \"Topic7\", \"Topic7\", \"Topic7\", \"Topic7\", \"Topic7\", \"Topic7\", \"Topic7\", \"Topic7\", \"Topic7\", \"Topic7\", \"Topic7\", \"Topic7\", \"Topic7\", \"Topic7\", \"Topic7\", \"Topic7\", \"Topic7\", \"Topic7\", \"Topic7\", \"Topic7\", \"Topic7\", \"Topic7\", \"Topic7\", \"Topic7\", \"Topic7\", \"Topic7\", \"Topic7\", \"Topic7\", \"Topic7\", \"Topic7\", \"Topic7\", \"Topic7\", \"Topic7\", \"Topic7\", \"Topic7\", \"Topic7\", \"Topic7\", \"Topic7\", \"Topic7\", \"Topic7\", \"Topic7\", \"Topic7\", \"Topic7\", \"Topic7\", \"Topic7\", \"Topic7\", \"Topic7\", \"Topic7\", \"Topic7\", \"Topic7\", \"Topic7\", \"Topic7\", \"Topic7\", \"Topic7\", \"Topic7\", \"Topic7\", \"Topic7\", \"Topic7\", \"Topic7\", \"Topic7\", \"Topic8\", \"Topic8\", \"Topic8\", \"Topic8\", \"Topic8\", \"Topic8\", \"Topic8\", \"Topic8\", \"Topic8\", \"Topic8\", \"Topic8\", \"Topic8\", \"Topic8\", \"Topic8\", \"Topic8\", \"Topic8\", \"Topic8\", \"Topic8\", \"Topic8\", \"Topic8\", \"Topic8\", \"Topic8\", \"Topic8\", \"Topic8\", \"Topic8\", \"Topic8\", \"Topic8\", \"Topic8\", \"Topic8\", \"Topic8\", \"Topic8\", \"Topic8\", \"Topic8\", \"Topic8\", \"Topic8\", \"Topic8\", \"Topic8\", \"Topic8\", \"Topic8\", \"Topic8\", \"Topic8\", \"Topic8\", \"Topic8\", \"Topic8\", \"Topic8\", \"Topic8\", \"Topic8\", \"Topic8\", \"Topic8\", \"Topic8\", \"Topic8\", \"Topic8\", \"Topic8\", \"Topic8\", \"Topic8\", \"Topic8\", \"Topic8\", \"Topic8\", \"Topic8\", \"Topic8\", \"Topic8\", \"Topic8\", \"Topic8\", \"Topic8\", \"Topic8\", \"Topic8\", \"Topic8\", \"Topic8\", \"Topic8\", \"Topic8\", \"Topic8\", \"Topic8\", \"Topic8\", \"Topic8\", \"Topic8\", \"Topic8\", \"Topic8\", \"Topic8\", \"Topic8\", \"Topic8\", \"Topic8\", \"Topic8\", \"Topic8\", \"Topic8\", \"Topic8\", \"Topic8\", \"Topic8\", \"Topic8\", \"Topic8\", \"Topic8\", \"Topic8\", \"Topic8\", \"Topic8\", \"Topic9\", \"Topic9\", \"Topic9\", \"Topic9\", \"Topic9\", \"Topic9\", \"Topic9\", \"Topic9\", \"Topic9\", \"Topic9\", \"Topic9\", \"Topic9\", \"Topic9\", \"Topic9\", \"Topic9\", \"Topic9\", \"Topic9\", \"Topic9\", \"Topic9\", \"Topic9\", \"Topic9\", \"Topic9\", \"Topic9\", \"Topic9\", \"Topic9\", \"Topic9\", \"Topic9\", \"Topic9\", \"Topic9\", \"Topic9\", \"Topic9\", \"Topic9\", \"Topic9\", \"Topic9\", \"Topic9\", \"Topic9\", \"Topic9\", \"Topic9\", \"Topic9\", \"Topic9\", \"Topic9\", \"Topic9\", \"Topic9\", \"Topic9\", \"Topic9\", \"Topic9\", \"Topic9\", \"Topic9\", \"Topic9\", \"Topic9\", \"Topic9\", \"Topic9\", \"Topic9\", \"Topic9\", \"Topic9\", \"Topic9\", \"Topic9\", \"Topic9\", \"Topic9\", \"Topic9\", \"Topic9\", \"Topic9\", \"Topic9\", \"Topic9\", \"Topic9\", \"Topic9\", \"Topic9\", \"Topic9\", \"Topic9\", \"Topic9\", \"Topic9\", \"Topic9\", \"Topic9\", \"Topic9\", \"Topic9\", \"Topic9\", \"Topic9\", \"Topic9\", \"Topic9\", \"Topic9\", \"Topic10\", \"Topic10\", \"Topic10\", \"Topic10\", \"Topic10\", \"Topic10\", \"Topic10\", \"Topic10\", \"Topic10\", \"Topic10\", \"Topic10\", \"Topic10\", \"Topic10\", \"Topic10\", \"Topic10\", \"Topic10\", \"Topic10\", \"Topic10\", \"Topic10\", \"Topic10\", \"Topic10\", \"Topic10\", \"Topic10\", \"Topic10\", \"Topic10\", \"Topic10\", \"Topic10\", \"Topic10\", \"Topic10\", \"Topic10\", \"Topic10\", \"Topic10\", \"Topic10\", \"Topic10\", \"Topic10\", \"Topic10\", \"Topic10\", \"Topic10\", \"Topic10\", \"Topic10\", \"Topic10\", \"Topic10\", \"Topic10\", \"Topic10\", \"Topic10\", \"Topic10\", \"Topic10\", \"Topic10\", \"Topic10\", \"Topic10\", \"Topic10\", \"Topic10\", \"Topic10\", \"Topic10\", \"Topic10\", \"Topic10\", \"Topic10\", \"Topic10\", \"Topic10\", \"Topic10\", \"Topic10\", \"Topic10\", \"Topic10\", \"Topic10\", \"Topic10\", \"Topic10\", \"Topic10\", \"Topic10\", \"Topic10\", \"Topic10\", \"Topic10\", \"Topic10\", \"Topic10\", \"Topic10\", \"Topic10\", \"Topic10\", \"Topic10\", \"Topic10\", \"Topic10\", \"Topic10\", \"Topic10\", \"Topic10\", \"Topic11\", \"Topic11\", \"Topic11\", \"Topic11\", \"Topic11\", \"Topic11\", \"Topic11\", \"Topic11\", \"Topic11\", \"Topic11\", \"Topic11\", \"Topic11\", \"Topic11\", \"Topic11\", \"Topic11\", \"Topic11\", \"Topic11\", \"Topic11\", \"Topic11\", \"Topic11\", \"Topic11\", \"Topic11\", \"Topic11\", \"Topic11\", \"Topic11\", \"Topic11\", \"Topic11\", \"Topic11\", \"Topic11\", \"Topic11\", \"Topic11\", \"Topic11\", \"Topic11\", \"Topic11\", \"Topic11\", \"Topic11\", \"Topic11\", \"Topic11\", \"Topic11\", \"Topic11\", \"Topic11\", \"Topic11\", \"Topic11\", \"Topic11\", \"Topic11\", \"Topic11\", \"Topic11\", \"Topic11\", \"Topic11\", \"Topic11\", \"Topic11\", \"Topic11\", \"Topic11\", \"Topic11\", \"Topic11\", \"Topic11\"], \"logprob\": [50.0, 49.0, 48.0, 47.0, 46.0, 45.0, 44.0, 43.0, 42.0, 41.0, 40.0, 39.0, 38.0, 37.0, 36.0, 35.0, 34.0, 33.0, 32.0, 31.0, 30.0, 29.0, 28.0, 27.0, 26.0, 25.0, 24.0, 23.0, 22.0, 21.0, 20.0, 19.0, 18.0, 17.0, 16.0, 15.0, 14.0, 13.0, 12.0, 11.0, 10.0, 9.0, 8.0, 7.0, 6.0, 5.0, 4.0, 3.0, 2.0, 1.0, -5.085400104522705, -5.277200222015381, -5.572700023651123, -5.64709997177124, -5.671800136566162, -5.836699962615967, -6.054200172424316, -6.0696001052856445, -6.32420015335083, -6.383500099182129, -6.397600173950195, -6.53000020980835, -6.541600227355957, -6.551000118255615, -6.580100059509277, -6.6066999435424805, -6.613100051879883, -6.621300220489502, -6.626299858093262, -6.638899803161621, -6.645400047302246, -6.665900230407715, -6.67549991607666, -6.687300205230713, -6.705699920654297, -6.714799880981445, -6.747399806976318, -6.799099922180176, -6.799200057983398, -6.809599876403809, -6.83050012588501, -6.867400169372559, -6.890900135040283, -6.906300067901611, -6.933899879455566, -6.968200206756592, -6.997600078582764, -7.040599822998047, -7.064199924468994, -7.0690999031066895, -7.0742998123168945, -7.0843000411987305, -7.1097002029418945, -7.109799861907959, -7.122399806976318, -7.126999855041504, -7.131100177764893, -7.135900020599365, -7.141499996185303, -7.149899959564209, -5.053699970245361, -6.047100067138672, -6.711999893188477, -6.069399833679199, -4.126999855041504, -5.771900177001953, -6.264699935913086, -5.90339994430542, -6.327199935913086, -5.87939977645874, -6.595099925994873, -6.539000034332275, -4.537399768829346, -4.6869001388549805, -5.306300163269043, -5.983399868011475, -6.410699844360352, -5.077700138092041, -6.19320011138916, -6.431000232696533, -5.8180999755859375, -4.663400173187256, -5.883399963378906, -4.838099956512451, -5.0370001792907715, -5.329899787902832, -4.800899982452393, -6.332799911499023, -5.546599864959717, -6.224899768829346, -6.103700160980225, -5.518899917602539, -5.5671000480651855, -5.612500190734863, -5.042600154876709, -4.985799789428711, -5.793799877166748, -6.093800067901611, -5.313399791717529, -5.661900043487549, -5.482500076293945, -6.132999897003174, -6.065100193023682, -5.44920015335083, -5.822700023651123, -5.216300010681152, -5.242599964141846, -5.885900020599365, -5.702600002288818, -5.211900234222412, -5.937900066375732, -5.202300071716309, -6.009799957275391, -5.696199893951416, -5.316800117492676, -5.674699783325195, -5.672699928283691, -5.696599960327148, -5.84060001373291, -5.97599983215332, -5.978700160980225, -3.670799970626831, -4.678899765014648, -5.019199848175049, -5.149499893188477, -5.150100231170654, -5.1757001876831055, -5.4197001457214355, -5.503900051116943, -5.510200023651123, -5.533400058746338, -5.618199825286865, -5.889900207519531, -5.938499927520752, -5.984099864959717, -6.036600112915039, -6.093699932098389, -6.095799922943115, -6.126999855041504, -6.152100086212158, -6.187399864196777, -6.21999979019165, -6.225800037384033, -6.231100082397461, -6.317200183868408, -6.326000213623047, -6.334700107574463, -6.347499847412109, -6.366499900817871, -6.414700031280518, -6.417699813842773, -6.427000045776367, -6.44320011138916, -6.461299896240234, -6.4928998947143555, -6.540299892425537, -6.545100212097168, -6.571400165557861, -6.591700077056885, -6.606599807739258, -6.619800090789795, -6.624199867248535, -6.631700038909912, -6.64739990234375, -6.649799823760986, -6.669000148773193, -6.689199924468994, -6.719799995422363, -6.720799922943115, -6.720600128173828, -6.744900226593018, -5.8343000411987305, -3.4560999870300293, -6.014999866485596, -6.041800022125244, -6.232399940490723, -5.133699893951416, -5.955699920654297, -4.790200233459473, -5.552599906921387, -5.955699920654297, -5.58459997177124, -4.22730016708374, -5.443999767303467, -5.185500144958496, -5.457699775695801, -6.23199987411499, -5.5416998863220215, -6.125500202178955, -4.074900150299072, -5.055600166320801, -5.2621002197265625, -6.053400039672852, -5.628699779510498, -5.8155999183654785, -4.574900150299072, -5.828100204467773, -5.861599922180176, -5.2947001457214355, -5.65369987487793, -6.035099983215332, -5.318900108337402, -5.330599784851074, -6.091599941253662, -5.828000068664551, -5.60830020904541, -5.657299995422363, -5.440499782562256, -5.724599838256836, -5.349100112915039, -5.725599765777588, -5.6753997802734375, -5.764200210571289, -5.638400077819824, -5.884200096130371, -5.894700050354004, -3.930299997329712, -4.8317999839782715, -4.880199909210205, -5.217599868774414, -5.348999977111816, -5.463799953460693, -5.562699794769287, -5.63070011138916, -5.8796000480651855, -5.902100086212158, -5.924799919128418, -5.928999900817871, -5.956999778747559, -6.069799900054932, -6.076099872589111, -6.138000011444092, -6.160799980163574, -6.273499965667725, -6.282100200653076, -6.287499904632568, -6.335700035095215, -6.352099895477295, -6.379799842834473, -6.41510009765625, -6.4334001541137695, -6.465700149536133, -6.51800012588501, -6.56879997253418, -6.57919979095459, -6.606100082397461, -6.676799774169922, -6.686200141906738, -6.7230000495910645, -6.750699996948242, -6.758999824523926, -6.763000011444092, -6.782100200653076, -6.791299819946289, -6.811500072479248, -6.821899890899658, -6.823699951171875, -6.837399959564209, -6.849699974060059, -6.865900039672852, -6.868599891662598, -6.874499797821045, -6.895699977874756, -6.902299880981445, -6.913000106811523, -6.952600002288818, -5.078999996185303, -5.76170015335083, -5.6539998054504395, -6.1402997970581055, -4.5802998542785645, -5.752099990844727, -6.3520002365112305, -4.907299995422363, -6.013899803161621, -4.716000080108643, -4.585999965667725, -5.764900207519531, -6.586900234222412, -4.092800140380859, -5.862500190734863, -5.441500186920166, -5.1585001945495605, -4.685200214385986, -4.8678998947143555, -5.40880012512207, -6.14139986038208, -5.580100059509277, -5.01039981842041, -4.895999908447266, -5.011600017547607, -5.851200103759766, -4.28879976272583, -4.946800231933594, -5.415900230407715, -5.992700099945068, -5.223299980163574, -5.374499797821045, -5.64769983291626, -5.698299884796143, -5.869500160217285, -5.516600131988525, -4.651000022888184, -5.498300075531006, -5.428899765014648, -5.383699893951416, -4.98960018157959, -5.4741997718811035, -5.34630012512207, -5.723700046539307, -5.756800174713135, -5.64870023727417, -5.843599796295166, -5.769599914550781, -5.826700210571289, -5.852499961853027, -5.593900203704834, -5.677999973297119, -5.679699897766113, -5.833799839019775, -5.85830020904541, -5.901700019836426, -5.923299789428711, -5.937699794769287, -6.009900093078613, -6.047399997711182, -6.05079984664917, -6.073400020599365, -6.127699851989746, -6.164000034332275, -6.21019983291626, -6.2906999588012695, -6.309700012207031, -6.395699977874756, -6.536499977111816, -6.539999961853027, -6.547100067138672, -6.555200099945068, -6.617700099945068, -6.622300148010254, -6.650300025939941, -6.663300037384033, -6.671999931335449, -6.688499927520752, -6.700099945068359, -6.7322998046875, -6.7677998542785645, -6.789400100708008, -6.797699928283691, -6.803500175476074, -6.821499824523926, -6.865200042724609, -6.878499984741211, -6.884200096130371, -6.895400047302246, -6.901899814605713, -6.915500164031982, -6.932300090789795, -6.9440999031066895, -6.949900150299072, -6.95959997177124, -6.968599796295166, -6.968999862670898, -6.989099979400635, -6.993000030517578, -6.993000030517578, -5.72189998626709, -3.0794999599456787, -5.831299781799316, -4.910299777984619, -5.5, -4.164000034332275, -5.258900165557861, -5.042900085449219, -5.891499996185303, -6.341300010681152, -4.828700065612793, -6.075200080871582, -4.9079999923706055, -4.309899806976318, -5.144199848175049, -6.183899879455566, -5.8815999031066895, -5.093900203704834, -4.565899848937988, -5.950900077819824, -4.461699962615967, -6.106400012969971, -5.127900123596191, -4.448699951171875, -5.716599941253662, -5.47790002822876, -5.7581000328063965, -5.6296000480651855, -5.160299777984619, -5.23390007019043, -5.286300182342529, -4.934899806976318, -5.044300079345703, -4.281099796295166, -5.204699993133545, -5.701099872589111, -5.54040002822876, -5.772600173950195, -5.139800071716309, -4.5441999435424805, -5.328800201416016, -5.460100173950195, -5.3018999099731445, -5.059700012207031, -5.55709981918335, -5.51170015335083, -5.298500061035156, -5.537499904632568, -5.424600124359131, -5.446400165557861, -5.668300151824951, -5.616600036621094, -5.299300193786621, -5.533999919891357, -5.453000068664551, -5.723800182342529, -5.509900093078613, -5.594699859619141, -5.610099792480469, -5.694399833679199, -5.683700084686279, -3.778700113296509, -4.044899940490723, -5.126699924468994, -5.165999889373779, -5.362599849700928, -5.399600028991699, -5.614999771118164, -5.624499797821045, -5.785600185394287, -5.808300018310547, -5.811200141906738, -5.875500202178955, -5.9552001953125, -5.981200218200684, -6.010900020599365, -6.020400047302246, -6.040999889373779, -6.063199996948242, -6.071800231933594, -6.106400012969971, -6.134099960327148, -6.135200023651123, -6.1616997718811035, -6.1722002029418945, -6.22730016708374, -6.229100227355957, -6.238800048828125, -6.263700008392334, -6.265999794006348, -6.270400047302246, -6.2982001304626465, -6.300000190734863, -6.3140997886657715, -6.3180999755859375, -6.343500137329102, -6.35260009765625, -6.355800151824951, -6.372499942779541, -6.374100208282471, -6.387899875640869, -6.394999980926514, -6.408100128173828, -6.421199798583984, -6.42609977722168, -6.440999984741211, -6.469900131225586, -6.479000091552734, -6.481100082397461, -6.494100093841553, -6.518899917602539, -4.287600040435791, -4.959799766540527, -5.54610013961792, -5.395199775695801, -5.97160005569458, -3.8877999782562256, -5.263000011444092, -3.1816000938415527, -4.560400009155273, -4.951700210571289, -5.647500038146973, -5.314599990844727, -5.811600208282471, -5.8256001472473145, -5.757500171661377, -4.957499980926514, -4.250699996948242, -4.577600002288818, -5.004799842834473, -5.265100002288818, -5.197199821472168, -5.294600009918213, -5.973199844360352, -5.214000225067139, -5.441299915313721, -5.2617998123168945, -5.789599895477295, -5.304200172424316, -5.035200119018555, -5.725500106811523, -5.683499813079834, -5.710999965667725, -5.495299816131592, -5.766900062561035, -5.754799842834473, -5.799699783325195, -5.818999767303467, -5.7835001945495605, -5.7829999923706055, -5.78879976272583, -2.8315000534057617, -2.877500057220459, -2.904099941253662, -4.2357001304626465, -4.899899959564209, -5.243800163269043, -5.405200004577637, -5.452199935913086, -5.498700141906738, -5.606500148773193, -5.670499801635742, -5.676000118255615, -5.742400169372559, -5.810200214385986, -5.825699806213379, -5.8902997970581055, -5.965799808502197, -5.975800037384033, -5.986000061035156, -5.9899001121521, -5.996699810028076, -6.044400215148926, -6.057400226593018, -6.058000087738037, -6.082499980926514, -6.102499961853027, -6.153299808502197, -6.163899898529053, -6.174499988555908, -6.177199840545654, -6.251500129699707, -6.308800220489502, -6.340000152587891, -6.354300022125244, -6.355800151824951, -6.357600212097168, -6.392499923706055, -6.396999835968018, -6.419600009918213, -6.424900054931641, -6.450699806213379, -6.466000080108643, -6.503200054168701, -6.539400100708008, -6.548299789428711, -6.551700115203857, -6.552199840545654, -6.554500102996826, -6.6143999099731445, -6.615799903869629, -5.474999904632568, -4.229800224304199, -3.7274999618530273, -6.0081000328063965, -6.154399871826172, -5.886300086975098, -4.300000190734863, -5.923299789428711, -6.056000232696533, -4.103600025177002, -4.662899971008301, -4.683300018310547, -6.181099891662598, -5.910600185394287, -5.445499897003174, -5.1828999519348145, -5.445799827575684, -5.27400016784668, -4.985300064086914, -5.786099910736084, -5.987800121307373, -5.714200019836426, -5.3130998611450195, -5.192999839782715, -5.54010009765625, -5.3582000732421875, -5.7729997634887695, -5.673299789428711, -5.838399887084961, -5.670899868011475, -5.782899856567383, -5.8267998695373535, -5.792399883270264, -5.612100124359131, -5.783999919891357, -5.897799968719482, -5.911499977111816, -5.944499969482422, -5.9344000816345215, -3.511699914932251, -4.819699764251709, -4.962900161743164, -4.994100093841553, -5.210999965667725, -5.237599849700928, -5.516600131988525, -5.546199798583984, -5.554699897766113, -5.571000099182129, -5.642399787902832, -5.6682000160217285, -5.816800117492676, -5.85830020904541, -5.866199970245361, -5.869999885559082, -5.8917999267578125, -5.951900005340576, -5.9608001708984375, -6.083199977874756, -6.179299831390381, -6.182700157165527, -6.256499767303467, -6.282299995422363, -6.29640007019043, -6.353700160980225, -6.404900074005127, -6.436800003051758, -6.4456000328063965, -6.494100093841553, -6.521500110626221, -6.553100109100342, -6.5904998779296875, -6.592700004577637, -6.618000030517578, -6.62470006942749, -6.636000156402588, -6.636000156402588, -6.636000156402588, -6.636000156402588, -6.636000156402588, -6.636000156402588, -6.644899845123291, -6.648499965667725, -6.654799938201904, -6.678299903869629, -6.685400009155273, -6.695099830627441, -6.702099800109863, -6.719299793243408, -3.9175000190734863, -3.683500051498413, -4.857500076293945, -5.521399974822998, -3.900599956512451, -5.694699764251709, -3.948899984359741, -4.724599838256836, -4.768899917602539, -3.3317999839782715, -4.645699977874756, -5.242199897766113, -4.08050012588501, -5.285200119018555, -4.922100067138672, -4.461699962615967, -4.504199981689453, -5.165500164031982, -5.158100128173828, -5.375199794769287, -5.033100128173828, -5.589399814605713, -4.933300018310547, -3.267699956893921, -3.8624000549316406, -4.36899995803833, -5.110899925231934, -5.097400188446045, -5.139100074768066, -5.117700099945068, -4.48799991607666, -4.562600135803223, -4.572800159454346, -4.110799789428711, -4.866199970245361, -5.189000129699707, -5.349999904632568, -4.900000095367432, -4.796199798583984, -5.397500038146973, -5.324999809265137, -5.546899795532227, -5.56279993057251, -3.4481000900268555, -3.8466999530792236, -4.206900119781494, -4.612199783325195, -4.740600109100342, -4.757800102233887, -4.867400169372559, -4.976200103759766, -5.217599868774414, -5.217800140380859, -5.294400215148926, -5.503499984741211, -5.643199920654297, -5.722899913787842, -5.723599910736084, -5.728600025177002, -5.784200191497803, -5.795300006866455, -5.798699855804443, -5.873300075531006, -5.9679999351501465, -5.983799934387207, -6.004300117492676, -6.031300067901611, -6.079500198364258, -6.085299968719482, -6.110099792480469, -6.121699810028076, -6.145699977874756, -6.193399906158447, -6.197500228881836, -6.22760009765625, -6.236199855804443, -6.251299858093262, -6.259500026702881, -6.322000026702881, -6.323599815368652, -6.329400062561035, -6.3927001953125, -6.102799892425537, -6.417399883270264, -6.428100109100342, -6.434599876403809, -6.4481000900268555, -6.457200050354004, -6.479100227355957, -6.493899822235107, -6.506199836730957, -6.530300140380859, -6.533400058746338, -4.586400032043457, -5.827899932861328, -3.646199941635132, -5.86899995803833, -3.6624999046325684, -5.955100059509277, -4.986100196838379, -5.376500129699707, -5.05679988861084, -5.230899810791016, -3.8914999961853027, -4.594200134277344, -5.678699970245361, -4.092899799346924, -5.562600135803223, -4.991600036621094, -5.026199817657471, -5.527100086212158, -4.601200103759766, -5.226099967956543, -5.077600002288818, -5.69890022277832, -5.041600227355957, -5.582200050354004, -5.6529998779296875, -5.7444000244140625, -5.189799785614014, -5.319699764251709, -5.28439998626709, -5.350399971008301, -5.286399841308594, -5.338699817657471, -5.025199890136719, -5.541399955749512, -5.468599796295166, -5.501699924468994, -5.547299861907959, -5.608399868011475, -5.417399883270264, -5.61899995803833, -5.645100116729736, -5.659900188446045, -5.674200057983398, -3.7053000926971436, -3.8078999519348145, -4.313600063323975, -4.572700023651123, -4.58489990234375, -4.634099960327148, -4.769999980926514, -4.810999870300293, -5.005099773406982, -5.109899997711182, -5.150000095367432, -5.171299934387207, -5.209000110626221, -5.241499900817871, -5.388999938964844, -5.475900173187256, -5.627900123596191, -5.644499778747559, -5.647900104522705, -5.718100070953369, -5.720600128173828, -5.7347002029418945, -5.744999885559082, -5.798399925231934, -5.845799922943115, -5.894100189208984, -5.9070000648498535, -5.935400009155273, -5.965700149536133, -6.0030999183654785, -6.011899948120117, -6.036900043487549, -6.044400215148926, -6.069699764251709, -6.105899810791016, -6.1143999099731445, -6.123499870300293, -6.180600166320801, -6.19320011138916, -6.235099792480469, -6.244500160217285, -6.2444000244140625, -6.250500202178955, -6.272200107574463, -6.273900032043457, -6.282899856567383, -6.288599967956543, -6.289700031280518, -6.290299892425537, -6.298600196838379, -4.452099800109863, -5.421899795532227, -5.782599925994873, -4.0320000648498535, -4.167600154876709, -5.308700084686279, -5.301499843597412, -4.703199863433838, -5.803899765014648, -4.737299919128418, -4.898499965667725, -4.33050012588501, -4.644199848175049, -5.337900161743164, -5.476399898529053, -5.546299934387207, -4.173999786376953, -5.747700214385986, -5.122000217437744, -5.4440999031066895, -5.079400062561035, -5.797100067138672, -5.6579999923706055, -5.5903000831604, -5.24399995803833, -5.446499824523926, -5.692800045013428, -5.61299991607666, -5.561200141906738, -5.593100070953369, -4.117300033569336, -4.127099990844727, -4.383399963378906, -4.428800106048584, -4.551400184631348, -4.821599960327148, -4.910699844360352, -5.046599864959717, -5.129199981689453, -5.141200065612793, -5.167799949645996, -5.302299976348877, -5.349599838256836, -5.436200141906738, -5.527599811553955, -5.530200004577637, -5.531099796295166, -5.540900230407715, -5.596099853515625, -5.601600170135498, -5.606400012969971, -5.608799934387207, -5.6346001625061035, -5.779600143432617, -5.852799892425537, -5.854400157928467, -5.857999801635742, -5.885700225830078, -5.886199951171875, -5.891900062561035, -5.908999919891357, -5.91480016708374, -5.939499855041504, -5.946100234985352, -5.970300197601318, -5.970600128173828, -5.982500076293945, -5.986599922180176, -5.99399995803833, -6.033199787139893, -6.035399913787842, -6.040299892425537, -6.055699825286865, -6.060299873352051, -6.066100120544434, -6.066299915313721, -6.071400165557861, -6.076700210571289, -6.100800037384033, -6.1153998374938965, -5.766600131988525, -3.615999937057495, -5.208199977874756, -3.8085999488830566, -3.516900062561035, -5.217700004577637, -5.388000011444092, -4.5493998527526855, -4.70989990234375, -5.664000034332275, -4.118800163269043, -4.561399936676025, -5.3628997802734375, -4.708099842071533, -4.617400169372559, -5.5279998779296875, -5.236100196838379, -4.275100231170654, -5.220200061798096, -5.53249979019165, -5.1092000007629395, -5.216599941253662, -4.806000232696533, -5.089300155639648, -5.420199871063232, -5.164999961853027, -5.294099807739258, -5.406000137329102, -5.258699893951416, -5.569499969482422, -5.546599864959717, -5.593400001525879, -2.5083999633789062, -3.545300006866455, -3.5841000080108643, -3.77839994430542, -4.186699867248535, -4.360000133514404, -4.468100070953369, -4.484600067138672, -4.7667999267578125, -4.89870023727417, -4.909999847412109, -4.921199798583984, -4.938600063323975, -4.986700057983398, -5.084199905395508, -5.110899925231934, -5.217100143432617, -5.270500183105469, -5.281099796295166, -5.354300022125244, -5.356900215148926, -5.359300136566162, -5.367400169372559, -5.419300079345703, -5.446300029754639, -5.44789981842041, -5.456600189208984, -5.501399993896484, -5.52839994430542, -5.553599834442139, -5.560500144958496, -5.586100101470947, -5.676300048828125, -5.688899993896484, -5.697199821472168, -5.737500190734863, -5.749599933624268, -5.758800029754639, -5.779300212860107, -5.835299968719482, -5.878600120544434, -5.906199932098389, -5.943600177764893, -5.957399845123291, -5.990499973297119, -6.000899791717529, -6.0019001960754395, -6.009500026702881, -6.018700122833252, -6.039000034332275, -3.6814000606536865, -4.15310001373291, -5.059299945831299, -5.287600040435791, -5.882999897003174, -5.9344000816345215], \"loglift\": [50.0, 49.0, 48.0, 47.0, 46.0, 45.0, 44.0, 43.0, 42.0, 41.0, 40.0, 39.0, 38.0, 37.0, 36.0, 35.0, 34.0, 33.0, 32.0, 31.0, 30.0, 29.0, 28.0, 27.0, 26.0, 25.0, 24.0, 23.0, 22.0, 21.0, 20.0, 19.0, 18.0, 17.0, 16.0, 15.0, 14.0, 13.0, 12.0, 11.0, 10.0, 9.0, 8.0, 7.0, 6.0, 5.0, 4.0, 3.0, 2.0, 1.0, 1.6647000312805176, 1.6647000312805176, 1.6646000146865845, 1.6646000146865845, 1.6646000146865845, 1.6644999980926514, 1.6644999980926514, 1.6644999980926514, 1.6643999814987183, 1.6642999649047852, 1.6642999649047852, 1.664199948310852, 1.664199948310852, 1.664199948310852, 1.664199948310852, 1.664199948310852, 1.664199948310852, 1.664199948310852, 1.664199948310852, 1.664199948310852, 1.664199948310852, 1.6641000509262085, 1.6641000509262085, 1.6641000509262085, 1.6641000509262085, 1.6641000509262085, 1.6641000509262085, 1.6640000343322754, 1.6640000343322754, 1.6640000343322754, 1.6640000343322754, 1.6640000343322754, 1.6640000343322754, 1.6640000343322754, 1.6639000177383423, 1.6639000177383423, 1.6639000177383423, 1.6638000011444092, 1.6638000011444092, 1.6638000011444092, 1.6638000011444092, 1.6638000011444092, 1.6638000011444092, 1.6638000011444092, 1.663699984550476, 1.663699984550476, 1.663699984550476, 1.663699984550476, 1.663699984550476, 1.663699984550476, 1.649899959564209, 1.6598000526428223, 1.662600040435791, 1.652400016784668, 1.6095000505447388, 1.6390999555587769, 1.63510000705719, 1.618299961090088, 1.6346999406814575, 1.6088999509811401, 1.6396000385284424, 1.63100004196167, 1.4526000022888184, 1.4184000492095947, 1.4638999700546265, 1.5418000221252441, 1.5932999849319458, 1.3868000507354736, 1.5572999715805054, 1.5902999639511108, 1.4638999700546265, 1.2168999910354614, 1.468400001525879, 1.233199954032898, 1.2795000076293945, 1.3444000482559204, 1.1978000402450562, 1.565999984741211, 1.3324999809265137, 1.5255999565124512, 1.4595999717712402, 1.2253999710083008, 1.243499994277954, 1.2539000511169434, 1.0127999782562256, 0.984499990940094, 1.3207999467849731, 1.4355000257492065, 1.0592000484466553, 1.2065999507904053, 1.065999984741211, 1.4221999645233154, 1.3727999925613403, 0.9724000096321106, 1.205299973487854, 0.73089998960495, 0.6901999711990356, 1.1937999725341797, 0.9505000114440918, 0.385699987411499, 1.167799949645996, 0.0551999993622303, 1.2577999830245972, 0.6600000262260437, -0.10819999873638153, 0.5105999708175659, 0.4350999891757965, 0.34450000524520874, 0.5422000288963318, 1.0891000032424927, 0.9330000281333923, 1.6830999851226807, 1.6830999851226807, 1.6829999685287476, 1.6829999685287476, 1.6829999685287476, 1.6829999685287476, 1.6829999685287476, 1.6828999519348145, 1.6828999519348145, 1.6828999519348145, 1.6828999519348145, 1.682800054550171, 1.682800054550171, 1.682800054550171, 1.682800054550171, 1.682800054550171, 1.682800054550171, 1.682800054550171, 1.6827000379562378, 1.6827000379562378, 1.6827000379562378, 1.6827000379562378, 1.6827000379562378, 1.6827000379562378, 1.6827000379562378, 1.6827000379562378, 1.6826000213623047, 1.6826000213623047, 1.6826000213623047, 1.6826000213623047, 1.6826000213623047, 1.6826000213623047, 1.6826000213623047, 1.6826000213623047, 1.6825000047683716, 1.6825000047683716, 1.6825000047683716, 1.6825000047683716, 1.6825000047683716, 1.6825000047683716, 1.6825000047683716, 1.6825000047683716, 1.6825000047683716, 1.6825000047683716, 1.6823999881744385, 1.6823999881744385, 1.6823999881744385, 1.6823999881744385, 1.6823999881744385, 1.6823999881744385, 1.6780999898910522, 1.5677000284194946, 1.63510000705719, 1.6369999647140503, 1.6481000185012817, 1.5614999532699585, 1.5815999507904053, 1.4005000591278076, 1.5075000524520874, 1.5678999423980713, 1.4989999532699585, 1.2226999998092651, 1.4371000528335571, 1.3413000106811523, 1.3875999450683594, 1.5858999490737915, 1.3499000072479248, 1.532099962234497, 0.5940999984741211, 1.0507999658584595, 1.0823999643325806, 1.4921000003814697, 1.2055000066757202, 1.320199966430664, 0.390500009059906, 1.2973999977111816, 1.315000057220459, 0.804099977016449, 1.1049000024795532, 1.4416999816894531, 0.6139000058174133, 0.6276000142097473, 1.4829000234603882, 1.0638999938964844, 0.6553000211715698, 0.7372999787330627, 0.23639999330043793, 0.7551000118255615, -0.1404999941587448, 0.6014000177383423, 0.3522999882698059, 0.5317000150680542, -0.040800001472234726, 1.0088000297546387, 0.48820000886917114, 1.937000036239624, 1.936900019645691, 1.936900019645691, 1.9368000030517578, 1.9368000030517578, 1.9368000030517578, 1.9368000030517578, 1.9366999864578247, 1.9365999698638916, 1.9365999698638916, 1.9365999698638916, 1.9365999698638916, 1.9365999698638916, 1.9365999698638916, 1.9364999532699585, 1.9364999532699585, 1.9364999532699585, 1.936400055885315, 1.936400055885315, 1.936400055885315, 1.936400055885315, 1.936400055885315, 1.936400055885315, 1.9363000392913818, 1.9363000392913818, 1.9363000392913818, 1.9363000392913818, 1.9362000226974487, 1.9362000226974487, 1.9362000226974487, 1.9361000061035156, 1.9361000061035156, 1.9361000061035156, 1.9359999895095825, 1.9359999895095825, 1.9359999895095825, 1.9359999895095825, 1.9359999895095825, 1.9359999895095825, 1.9359999895095825, 1.9359999895095825, 1.9359999895095825, 1.9358999729156494, 1.9358999729156494, 1.9358999729156494, 1.9358999729156494, 1.9358999729156494, 1.9358999729156494, 1.9358999729156494, 1.9357999563217163, 1.9068000316619873, 1.917099952697754, 1.8975000381469727, 1.906599998474121, 1.8391000032424927, 1.882200002670288, 1.9085999727249146, 1.809499979019165, 1.881700038909912, 1.7803000211715698, 1.767799973487854, 1.833400011062622, 1.9143999814987183, 1.6361000537872314, 1.811400055885315, 1.7106000185012817, 1.6410000324249268, 1.5188000202178955, 1.488700032234192, 1.5964000225067139, 1.7889000177383423, 1.6131000518798828, 1.427899956703186, 1.336300015449524, 1.344499945640564, 1.6728999614715576, 0.9688000082969666, 1.214400053024292, 1.4138000011444092, 1.7065000534057617, 1.2275999784469604, 1.288599967956543, 1.4688999652862549, 1.4836000204086304, 1.5634000301361084, 1.200700044631958, 0.31439998745918274, 1.1727999448776245, 1.0413999557495117, 0.9434000253677368, 0.21889999508857727, 0.8216999769210815, 0.5339999794960022, 1.1821000576019287, 1.220900058746338, 0.3790000081062317, 1.4774999618530273, 0.18860000371932983, 0.4185999929904938, -0.2549000084400177, 2.137399911880493, 2.137399911880493, 2.137399911880493, 2.1373000144958496, 2.1373000144958496, 2.1373000144958496, 2.1373000144958496, 2.1373000144958496, 2.137200117111206, 2.137200117111206, 2.137200117111206, 2.137200117111206, 2.137200117111206, 2.1370999813079834, 2.1370999813079834, 2.1370999813079834, 2.13700008392334, 2.13700008392334, 2.1368000507354736, 2.1368000507354736, 2.1368000507354736, 2.1368000507354736, 2.136699914932251, 2.136699914932251, 2.136699914932251, 2.136699914932251, 2.136699914932251, 2.136699914932251, 2.136699914932251, 2.1366000175476074, 2.1366000175476074, 2.1364998817443848, 2.1364998817443848, 2.1364998817443848, 2.1364998817443848, 2.136399984359741, 2.136399984359741, 2.136399984359741, 2.136399984359741, 2.136399984359741, 2.136399984359741, 2.1363000869750977, 2.1363000869750977, 2.1363000869750977, 2.1363000869750977, 2.1363000869750977, 2.1363000869750977, 2.1363000869750977, 2.1363000869750977, 2.1363000869750977, 2.1285998821258545, 2.0743000507354736, 2.1122000217437744, 2.0766000747680664, 2.0929999351501465, 2.032399892807007, 2.0541000366210938, 2.002700090408325, 2.0634000301361084, 2.0927999019622803, 1.9422999620437622, 2.0559000968933105, 1.9388999938964844, 1.8588000535964966, 1.9473999738693237, 2.0562000274658203, 2.0053999423980713, 1.8610999584197998, 1.728600025177002, 1.9833999872207642, 1.6305999755859375, 1.9910000562667847, 1.728600025177002, 1.542099952697754, 1.863700032234192, 1.7666000127792358, 1.8217999935150146, 1.7735999822616577, 1.5108000040054321, 1.5424000024795532, 1.5606000423431396, 1.3655999898910522, 1.406599998474121, 0.9273999929428101, 1.4622999429702759, 1.7410000562667847, 1.6269999742507935, 1.7646000385284424, 1.0641000270843506, 0.4212000072002411, 1.1409000158309937, 1.2727999687194824, 1.03410005569458, 0.5378999710083008, 1.3205000162124634, 1.2352999448776245, 0.7425000071525574, 1.1992000341415405, 0.902400016784668, 0.9101999998092651, 1.4492000341415405, 1.2647000551223755, -0.04170000180602074, 0.7113000154495239, 0.2757999897003174, 1.4672000408172607, 0.13979999721050262, 0.5131000280380249, 0.33719998598098755, 1.0362000465393066, 0.3440000116825104, 2.3782999515533447, 2.378200054168701, 2.378000020980835, 2.378000020980835, 2.378000020980835, 2.3778998851776123, 2.3777999877929688, 2.3777999877929688, 2.3777999877929688, 2.377700090408325, 2.377700090408325, 2.377700090408325, 2.3775999546051025, 2.3775999546051025, 2.3775999546051025, 2.3775999546051025, 2.3775999546051025, 2.3775999546051025, 2.3775999546051025, 2.377500057220459, 2.377500057220459, 2.377500057220459, 2.377500057220459, 2.377500057220459, 2.3773999214172363, 2.3773999214172363, 2.3773999214172363, 2.3773999214172363, 2.3773999214172363, 2.3773999214172363, 2.3773000240325928, 2.3773000240325928, 2.3773000240325928, 2.3773000240325928, 2.3773000240325928, 2.3773000240325928, 2.3773000240325928, 2.3773000240325928, 2.3773000240325928, 2.3773000240325928, 2.37719988822937, 2.37719988822937, 2.37719988822937, 2.37719988822937, 2.37719988822937, 2.37719988822937, 2.37719988822937, 2.3770999908447266, 2.3770999908447266, 2.3770999908447266, 2.363100051879883, 2.291100025177002, 2.2873001098632812, 2.2718000411987305, 2.3162999153137207, 1.7891000509262085, 2.0687999725341797, 1.4874999523162842, 1.8555999994277954, 1.9527000188827515, 2.1266000270843506, 1.9198999404907227, 2.1045000553131104, 2.0880000591278076, 2.047600030899048, 1.3061000108718872, 0.7146999835968018, 0.6798999905586243, 0.9534000158309937, 1.2145999670028687, 1.09660005569458, 1.1756999492645264, 2.005199909210205, 0.9767000079154968, 1.2892999649047852, 1.03410005569458, 1.7029000520706177, 0.7368999719619751, 0.17339999973773956, 1.444700002670288, 1.308899998664856, 0.8845999836921692, -0.04540000110864639, 1.0776000022888184, 0.7777000069618225, 0.7488999962806702, 0.7688999772071838, 0.37770000100135803, 0.3176000118255615, 0.23890000581741333, 2.674099922180176, 2.674099922180176, 2.674099922180176, 2.6738998889923096, 2.673799991607666, 2.6735999584198, 2.6735999584198, 2.6735000610351562, 2.6735000610351562, 2.6733999252319336, 2.6733999252319336, 2.6733999252319336, 2.67330002784729, 2.67330002784729, 2.67330002784729, 2.6731998920440674, 2.673099994659424, 2.673099994659424, 2.673099994659424, 2.673099994659424, 2.673099994659424, 2.673099994659424, 2.6730000972747803, 2.6730000972747803, 2.6730000972747803, 2.6730000972747803, 2.6728999614715576, 2.6728999614715576, 2.6728999614715576, 2.6728999614715576, 2.672800064086914, 2.6726999282836914, 2.6726999282836914, 2.6726999282836914, 2.6726999282836914, 2.6726999282836914, 2.672600030899048, 2.672600030899048, 2.672600030899048, 2.672600030899048, 2.672499895095825, 2.672499895095825, 2.6723999977111816, 2.6723999977111816, 2.6723999977111816, 2.6723999977111816, 2.6723999977111816, 2.6723999977111816, 2.672300100326538, 2.672300100326538, 2.6259000301361084, 2.4918999671936035, 2.3731000423431396, 2.587399959564209, 2.5936999320983887, 2.491300106048584, 2.0006000995635986, 2.469399929046631, 2.5041000843048096, 1.5461000204086304, 1.8066999912261963, 1.7549999952316284, 2.535799980163574, 2.220599889755249, 1.7589999437332153, 1.3624000549316406, 1.6512000560760498, 1.4433000087738037, 1.0054999589920044, 1.75600004196167, 2.107599973678589, 1.4474999904632568, 0.4156999886035919, 0.06449999660253525, 0.8137000203132629, -0.20430000126361847, 1.2872999906539917, 0.8592000007629395, 1.4575999975204468, 0.6236000061035156, 1.1273000240325928, 1.2898000478744507, 0.8819000124931335, -0.6467000246047974, -0.1071000024676323, 1.0078999996185303, 0.8880000114440918, 1.1353000402450562, 0.093299999833107, 2.9512999057769775, 2.9509999752044678, 2.9509999752044678, 2.950900077819824, 2.9507999420166016, 2.9507999420166016, 2.9505999088287354, 2.9505999088287354, 2.9505999088287354, 2.9505999088287354, 2.950500011444092, 2.950500011444092, 2.9502999782562256, 2.9502999782562256, 2.9502999782562256, 2.9502999782562256, 2.950200080871582, 2.950200080871582, 2.9500999450683594, 2.950000047683716, 2.9498000144958496, 2.9498000144958496, 2.949700117111206, 2.949700117111206, 2.9495999813079834, 2.94950008392334, 2.949399948120117, 2.949399948120117, 2.9493000507354736, 2.949199914932251, 2.949199914932251, 2.9491000175476074, 2.9489998817443848, 2.9489998817443848, 2.9489998817443848, 2.948899984359741, 2.948899984359741, 2.948899984359741, 2.948899984359741, 2.948899984359741, 2.948899984359741, 2.948899984359741, 2.948899984359741, 2.948899984359741, 2.948899984359741, 2.9488000869750977, 2.9488000869750977, 2.9488000869750977, 2.948699951171875, 2.948699951171875, 2.844099998474121, 2.7304000854492188, 2.7797999382019043, 2.84089994430542, 2.6535000801086426, 2.8320999145507812, 2.5785000324249268, 2.683300018310547, 2.653700113296509, 2.3178999423980713, 2.5429000854492188, 2.6635000705718994, 2.405900001525879, 2.65939998626709, 2.5780999660491943, 2.3828001022338867, 2.3726999759674072, 2.4965999126434326, 2.4126999378204346, 2.4946000576019287, 2.350600004196167, 2.5601000785827637, 2.2337000370025635, 1.4013999700546265, 1.587499976158142, 1.792199969291687, 2.212599992752075, 2.158900022506714, 2.1691999435424805, 2.087899923324585, 1.510699987411499, 1.492799997329712, 1.4179999828338623, 0.8546000123023987, 1.5498000383377075, 1.9764000177383423, 2.0146000385284424, 1.0702999830245972, 0.8014000058174133, 1.5335999727249146, 0.35190001130104065, 1.364799976348877, 0.6225000023841858, 2.9727001190185547, 2.9727001190185547, 2.972599983215332, 2.9725000858306885, 2.9725000858306885, 2.9725000858306885, 2.972399950027466, 2.972399950027466, 2.9721999168395996, 2.9721999168395996, 2.9721999168395996, 2.9719998836517334, 2.97189998626709, 2.9718000888824463, 2.9718000888824463, 2.9718000888824463, 2.9718000888824463, 2.9718000888824463, 2.9718000888824463, 2.9716999530792236, 2.9714999198913574, 2.9714999198913574, 2.9714999198913574, 2.9714999198913574, 2.971400022506714, 2.971400022506714, 2.971299886703491, 2.971299886703491, 2.971299886703491, 2.9711999893188477, 2.9711999893188477, 2.9711999893188477, 2.971100091934204, 2.971100091934204, 2.971100091934204, 2.9709999561309814, 2.9709999561309814, 2.9709999561309814, 2.970900058746338, 2.9707999229431152, 2.9707999229431152, 2.9707999229431152, 2.9707999229431152, 2.9707000255584717, 2.9707000255584717, 2.9707000255584717, 2.970599889755249, 2.970599889755249, 2.970599889755249, 2.970599889755249, 2.827899932861328, 2.8949999809265137, 2.647599935531616, 2.876800060272217, 2.436300039291382, 2.872499942779541, 2.6328999996185303, 2.7118000984191895, 2.604599952697754, 2.632200002670288, 2.214900016784668, 2.2834999561309814, 2.656599998474121, 1.8543000221252441, 2.408799886703491, 1.9128999710083008, 1.9217000007629395, 2.36299991607666, 1.506600022315979, 2.043100118637085, 1.6549999713897705, 2.4214999675750732, 1.548699975013733, 2.241300106048584, 2.1984000205993652, 2.315000057220459, 1.1828999519348145, 1.337399959564209, 1.1296000480651855, 1.1949000358581543, 0.8988999724388123, 0.8299000263214111, -0.3560999929904938, 1.5648000240325928, 1.0267000198364258, 1.1613999605178833, 1.0681999921798706, 1.527500033378601, -0.20880000293254852, 1.1725000143051147, 1.409500002861023, -0.06239999830722809, 0.9057000279426575, 3.0653998851776123, 3.0653998851776123, 3.0652999877929688, 3.065200090408325, 3.065200090408325, 3.065200090408325, 3.0650999546051025, 3.0650999546051025, 3.065000057220459, 3.065000057220459, 3.0648999214172363, 3.0648999214172363, 3.0648999214172363, 3.0648999214172363, 3.0648000240325928, 3.06469988822937, 3.0645999908447266, 3.064500093460083, 3.064500093460083, 3.064500093460083, 3.064500093460083, 3.0643999576568604, 3.0643999576568604, 3.0643999576568604, 3.064300060272217, 3.064199924468994, 3.064199924468994, 3.064199924468994, 3.0641000270843506, 3.0641000270843506, 3.0641000270843506, 3.063999891281128, 3.063999891281128, 3.063999891281128, 3.0638999938964844, 3.0638999938964844, 3.0638999938964844, 3.063800096511841, 3.063800096511841, 3.063699960708618, 3.063699960708618, 3.063699960708618, 3.063699960708618, 3.0636000633239746, 3.0636000633239746, 3.0636000633239746, 3.0636000633239746, 3.0636000633239746, 3.0636000633239746, 3.0636000633239746, 3.0188000202178955, 3.0067999362945557, 2.9553000926971436, 2.5636000633239746, 2.569200038909912, 2.75600004196167, 2.71560001373291, 2.4398999214172363, 2.8076000213623047, 2.0969998836517334, 2.1875, 1.6275999546051025, 1.8355000019073486, 2.393699884414673, 2.4463999271392822, 2.4784998893737793, 0.8497999906539917, 2.660099983215332, 1.6109999418258667, 2.1338999271392822, 1.1657999753952026, 2.6398000717163086, 2.103600025177002, 1.677299976348877, 0.013500000350177288, 0.776199996471405, 1.8401000499725342, 1.1749000549316406, 0.6711000204086304, 0.14339999854564667, 3.533400058746338, 3.533400058746338, 3.5332999229431152, 3.5332000255584717, 3.5332000255584717, 3.5329999923706055, 3.532900094985962, 3.5327999591827393, 3.5327000617980957, 3.5327000617980957, 3.5327000617980957, 3.532599925994873, 3.5325000286102295, 3.532399892807007, 3.5322999954223633, 3.5322999954223633, 3.5322999954223633, 3.5322000980377197, 3.5322000980377197, 3.532099962234497, 3.532099962234497, 3.532099962234497, 3.532099962234497, 3.5318000316619873, 3.5316998958587646, 3.5316998958587646, 3.5316998958587646, 3.531599998474121, 3.531599998474121, 3.531599998474121, 3.531599998474121, 3.531599998474121, 3.5315001010894775, 3.5315001010894775, 3.531399965286255, 3.531399965286255, 3.531399965286255, 3.531399965286255, 3.531399965286255, 3.5313000679016113, 3.5313000679016113, 3.5313000679016113, 3.5311999320983887, 3.5311999320983887, 3.5311999320983887, 3.5311999320983887, 3.5311999320983887, 3.5311999320983887, 3.531100034713745, 3.531100034713745, 3.5276999473571777, 3.294100046157837, 3.361299991607666, 2.9793999195098877, 2.8777999877929688, 3.294300079345703, 3.335700035095215, 3.037100076675415, 3.0517001152038574, 3.396199941635132, 2.774199962615967, 2.9405999183654785, 3.260699987411499, 2.8220999240875244, 2.7444000244140625, 3.2170000076293945, 2.9842000007629395, 1.94760000705719, 2.8405001163482666, 3.032599925994873, 2.4094998836517334, 2.5109000205993652, 1.4884999990463257, 1.9032000303268433, 2.4686999320983887, 1.3890999555587769, 1.6538000106811523, 2.0743000507354736, 1.3984999656677246, 2.2867000102996826, 0.9858999848365784, 1.419700026512146, 3.814500093460083, 3.814300060272217, 3.814300060272217, 3.814199924468994, 3.8141000270843506, 3.813999891281128, 3.8138999938964844, 3.8138999938964844, 3.813699960708618, 3.8136000633239746, 3.813499927520752, 3.813499927520752, 3.813499927520752, 3.813499927520752, 3.8132998943328857, 3.8132998943328857, 3.813199996948242, 3.8131000995635986, 3.8131000995635986, 3.812999963760376, 3.812999963760376, 3.812999963760376, 3.8129000663757324, 3.8129000663757324, 3.8127999305725098, 3.8127999305725098, 3.8127999305725098, 3.812700033187866, 3.812700033187866, 3.8125998973846436, 3.8125998973846436, 3.8125, 3.8124001026153564, 3.812299966812134, 3.812299966812134, 3.8122000694274902, 3.8122000694274902, 3.8122000694274902, 3.8120999336242676, 3.812000036239624, 3.8118999004364014, 3.811800003051758, 3.8117001056671143, 3.8115999698638916, 3.811500072479248, 3.811500072479248, 3.811500072479248, 3.811500072479248, 3.8113999366760254, 3.8113999366760254, 3.2147998809814453, 3.208699941635132, 3.5072999000549316, 2.298799991607666, 3.4310998916625977, 3.511699914932251]}, \"token.table\": {\"Topic\": [7, 2, 6, 1, 1, 2, 2, 7, 8, 10, 7, 2, 9, 2, 3, 7, 10, 2, 3, 10, 4, 6, 7, 9, 10, 5, 6, 5, 7, 4, 5, 4, 4, 3, 4, 7, 1, 10, 3, 4, 1, 2, 5, 6, 7, 10, 11, 4, 7, 9, 9, 10, 11, 1, 1, 2, 3, 4, 5, 6, 8, 9, 4, 9, 2, 8, 2, 8, 2, 3, 4, 5, 7, 8, 7, 7, 1, 2, 3, 4, 7, 8, 2, 5, 9, 2, 5, 9, 10, 10, 4, 7, 5, 5, 9, 5, 3, 4, 10, 10, 2, 6, 10, 10, 2, 1, 10, 1, 8, 1, 6, 11, 4, 7, 9, 11, 1, 6, 11, 6, 1, 7, 2, 5, 7, 10, 2, 3, 4, 5, 7, 4, 9, 2, 9, 11, 9, 1, 3, 5, 6, 8, 3, 5, 8, 3, 2, 3, 4, 5, 7, 8, 2, 4, 5, 7, 5, 1, 5, 6, 7, 8, 5, 1, 11, 2, 9, 4, 5, 7, 9, 1, 5, 5, 8, 9, 11, 3, 8, 7, 1, 3, 7, 9, 6, 2, 6, 5, 2, 6, 3, 4, 6, 3, 4, 6, 11, 2, 3, 4, 5, 6, 7, 11, 2, 3, 4, 5, 6, 7, 8, 9, 11, 2, 9, 2, 2, 9, 7, 1, 2, 7, 1, 3, 5, 6, 1, 10, 9, 3, 10, 3, 4, 7, 3, 6, 8, 4, 9, 3, 4, 10, 3, 2, 6, 4, 5, 6, 7, 6, 4, 9, 2, 8, 4, 7, 2, 5, 3, 4, 7, 8, 10, 11, 1, 2, 3, 4, 5, 7, 8, 11, 7, 3, 4, 9, 1, 2, 3, 4, 5, 7, 8, 9, 10, 1, 2, 4, 5, 8, 1, 2, 4, 10, 1, 4, 11, 9, 10, 1, 2, 3, 4, 7, 8, 3, 2, 3, 4, 5, 6, 7, 8, 6, 2, 8, 3, 1, 2, 1, 2, 3, 4, 5, 7, 9, 7, 10, 2, 5, 6, 7, 8, 4, 1, 2, 3, 4, 5, 6, 7, 8, 10, 3, 4, 3, 6, 6, 4, 1, 2, 4, 6, 1, 3, 5, 4, 7, 2, 5, 7, 8, 1, 2, 3, 5, 6, 1, 10, 9, 9, 10, 9, 2, 4, 6, 9, 11, 1, 2, 3, 4, 6, 7, 3, 4, 2, 11, 11, 2, 3, 4, 6, 1, 3, 10, 11, 5, 3, 1, 2, 9, 10, 1, 2, 4, 5, 6, 1, 7, 8, 2, 5, 7, 8, 10, 1, 7, 1, 4, 5, 6, 7, 1, 2, 5, 6, 9, 6, 9, 3, 4, 4, 6, 7, 1, 4, 6, 7, 4, 5, 10, 10, 5, 9, 1, 2, 3, 4, 5, 8, 1, 2, 3, 4, 5, 7, 8, 1, 4, 1, 5, 1, 2, 3, 4, 5, 6, 9, 3, 1, 5, 8, 11, 2, 5, 7, 8, 10, 5, 5, 6, 2, 6, 10, 11, 4, 1, 6, 10, 3, 3, 11, 1, 2, 3, 4, 9, 10, 6, 11, 4, 4, 5, 7, 3, 6, 11, 6, 5, 3, 10, 2, 1, 3, 2, 5, 7, 1, 3, 10, 3, 2, 5, 3, 9, 11, 1, 3, 3, 10, 11, 10, 6, 1, 10, 1, 3, 4, 5, 10, 1, 2, 3, 4, 5, 6, 1, 8, 11, 1, 5, 8, 3, 1, 2, 1, 6, 2, 2, 9, 3, 2, 3, 4, 9, 4, 6, 7, 11, 11, 9, 11, 4, 9, 1, 5, 8, 1, 2, 3, 4, 5, 6, 8, 11, 11, 1, 2, 3, 4, 5, 6, 8, 1, 5, 7, 2, 2, 3, 4, 5, 7, 8, 10, 8, 10, 1, 1, 2, 5, 6, 8, 1, 2, 4, 1, 2, 6, 7, 4, 10, 9, 2, 1, 2, 8, 11, 2, 5, 8, 8, 8, 8, 5, 1, 7, 1, 3, 6, 2, 5, 3, 2, 8, 7, 1, 3, 4, 5, 8, 10, 1, 6, 11, 6, 3, 5, 2, 6, 3, 3, 6, 3, 6, 1, 5, 6, 9, 4, 2, 11, 1, 2, 3, 4, 5, 6, 7, 8, 10, 1, 2, 3, 4, 5, 7, 8, 9, 2, 3, 3, 3, 4, 3, 2, 5, 2, 4, 7, 3, 1, 2, 3, 4, 5, 6, 7, 9, 7, 5, 6, 1, 2, 3, 5, 6, 7, 9, 8, 4, 8, 10, 6, 2, 3, 4, 5, 6, 7, 8, 8, 2, 9, 5, 9, 4, 6, 1, 4, 2, 5, 9, 5, 9, 5, 1, 3, 4, 5, 8, 1, 9, 3, 4, 7, 8, 2, 3, 4, 5, 9, 5, 1, 2, 3, 5, 2, 9, 2, 3, 5, 6, 7, 9, 2, 3, 4, 5, 6, 7, 1, 2, 3, 5, 8, 9, 9, 2, 3, 5, 7, 1, 3, 6, 10, 10, 8, 2, 10, 2, 10, 2, 10, 8, 4, 9, 2, 5, 7, 6, 1, 2, 1, 2, 3, 3, 7, 3, 4, 6, 5, 10, 1, 2, 3, 4, 9, 4, 6, 8, 9, 8, 3, 6, 8, 10, 4, 11, 1, 3, 4, 6, 7, 7, 1, 2, 3, 5, 8, 1, 2, 3, 4, 5, 7, 10, 11, 10, 1, 4, 2, 4, 8, 9, 1, 2, 3, 4, 5, 9, 1, 2, 3, 5, 6, 8, 2, 3, 5, 6, 8, 1, 2, 4, 6, 8, 1, 2, 9, 10, 6, 5, 4, 5, 8, 1, 7, 11, 2, 3, 4, 5, 7, 9, 4, 9, 9, 9, 2, 9, 1, 1, 3, 3, 4, 1, 3, 4, 6, 6, 1, 2, 3, 5, 6, 6, 7, 6, 5, 6, 6, 1, 10, 1, 2, 3, 4, 5, 6, 11, 1, 3, 4, 1, 2, 4, 2, 10, 2, 9, 6, 1, 4, 11, 6, 8, 8, 7, 1, 4, 7, 1, 10, 5, 2, 4, 10, 6, 6, 9, 9, 9, 4, 7, 9, 10, 10, 9, 1, 9, 1, 10, 1, 2, 7, 8, 10, 5, 9, 3, 4, 7, 3, 4, 5, 6, 2, 5, 9, 2, 8, 5, 9, 2, 2, 5, 7, 7, 7, 6, 2, 3, 4, 7, 8, 9, 1, 6, 5, 5, 1, 2, 3, 5, 6, 8, 10, 11, 9, 5, 2, 10, 10, 1, 2, 3, 4, 5, 8, 11, 1, 2, 5, 6, 8, 2, 2, 8, 2, 7, 7, 8, 1, 2, 3, 5, 8, 9, 9, 4, 1, 3, 1, 2, 3, 4, 5, 7, 8, 6, 1, 3, 4, 11, 10, 3, 6, 1, 3, 4, 6, 11, 11, 10, 3, 6, 1, 11, 1, 4, 5, 8, 3, 5, 1, 2, 3, 5, 7, 2, 5, 7, 2, 5, 6, 9, 2, 4, 6, 7, 11, 7, 7, 4, 9, 8, 3, 4, 10, 3, 6, 2, 3, 4, 4, 9, 11, 8, 3, 6, 5, 9, 8, 8, 5, 5, 4, 3, 1, 10, 2, 9, 1, 2, 3, 4, 6, 7, 7, 3, 2, 7, 8, 8, 3, 5, 5, 10, 2, 3, 4, 7, 8, 9, 10, 1, 2, 3, 5, 6, 10, 5, 11, 6, 7, 1, 3, 1, 1, 8, 1, 2, 4, 5, 6, 7, 8, 3, 5, 6, 3, 7, 2, 7, 10, 1, 1, 2, 3, 9, 4, 1, 2, 10, 6, 1, 2, 2, 3, 5, 2, 10, 1, 2, 3, 5, 6, 6, 5, 3, 3, 7, 4, 8, 7, 8, 1, 3, 11, 11, 4, 1, 2, 3, 5, 6, 7, 1, 2, 5, 6, 8, 9, 1, 3, 4, 8, 3, 4, 10, 6, 6, 10, 1, 7, 9, 10, 5, 9, 5, 8, 10, 1, 7, 11, 1, 3, 4, 1, 2, 3, 5, 6, 8, 2, 4, 2, 5, 5, 11, 8, 1, 2, 3, 8, 1, 2, 3, 4, 5, 6, 8, 2, 1, 2, 3, 4, 5, 6, 8, 2, 3, 4, 5, 6, 8, 3, 6, 1, 6, 5, 2, 2, 3, 4, 5, 7, 8, 10, 4, 5, 6, 7, 2, 3, 5, 9, 1, 2, 3, 4, 5, 7, 8, 4, 2, 3, 4, 5, 8, 2, 7, 8, 1, 2, 6, 7, 10, 3, 4, 3, 4, 9, 2, 8, 8, 1, 2, 3, 9, 5, 6, 5, 3, 8, 3, 3, 5, 7, 8, 6, 1, 3, 1, 3, 1, 4, 6, 4, 11, 3, 3, 1, 7, 7, 4, 8, 8, 8, 4, 5, 7, 9, 8, 3, 4, 5, 6, 6, 3, 4, 4, 5, 11, 4, 1, 2, 3, 5, 2, 4, 5, 7, 8, 10, 10, 2, 2, 1, 2, 3, 4, 5, 8, 10, 1, 2, 3, 4, 5, 9, 1, 6, 1, 2, 3, 8, 1, 8, 1, 3, 1, 11, 4, 1, 3, 5, 6, 7, 11, 9, 5, 8, 1, 2, 3, 4, 5, 6, 7, 2, 5, 7, 7, 5, 1, 3, 6, 1, 6, 1, 2, 3, 4, 3, 6, 7, 7, 5, 8, 1, 2, 3, 5, 6, 7, 1, 2, 1, 2, 10, 3, 1, 2, 3, 4, 5, 7, 8, 10, 8, 11, 1, 2, 4, 3, 3, 7, 5, 3, 4, 6, 7, 7, 4, 5, 6, 10, 10, 2, 1, 2, 9, 8, 1, 2, 7, 10, 3, 11, 1, 7, 1, 3, 10, 10, 2, 1, 4, 5, 7, 1, 3, 5, 6, 7, 10, 1, 2, 3, 6, 9, 1, 2, 4, 5, 6, 2, 4, 6, 1, 2, 3, 4, 5, 7, 8, 1, 7, 1, 6, 9, 1, 3, 4, 7, 8, 10, 2, 5, 9, 5, 2, 1, 7, 1, 8, 4, 5, 7, 1, 10, 2, 8, 2, 3, 5, 6, 4, 4, 3, 8, 2, 4, 6, 10, 8, 1, 2, 1, 2, 3, 4, 5, 7, 8, 1, 2, 3, 4, 5, 7, 8, 11, 11, 9, 7, 11, 3, 3, 7, 4, 6, 7, 6, 8, 1, 4, 5, 6, 7, 7, 1, 2, 4, 5, 7, 8, 10, 1, 1, 2, 3, 4, 5, 7, 8, 10, 10, 8, 5, 5, 5, 11, 4, 8, 8, 1, 3, 8, 1, 2, 5, 4, 6, 4, 5, 2, 5, 7, 8, 8, 4, 6, 8, 9, 8, 2, 6, 2, 3, 5, 7, 8, 11, 2, 10, 2, 5, 9, 11, 6, 1, 10, 1, 2, 3, 4, 5, 1, 2, 3, 4, 5, 6, 5, 1, 2, 3, 4, 5, 8, 1, 2, 4, 5, 6, 7, 9, 6, 6, 1, 2, 3, 6, 10, 3, 4, 7, 11, 2, 5], \"Freq\": [0.9982535243034363, 0.16655856370925903, 0.8327928185462952, 0.9995101690292358, 0.9992541670799255, 0.9999145269393921, 0.38763055205345154, 0.11007004231214523, 0.3494638502597809, 0.15266680717468262, 0.9981153011322021, 0.7061941623687744, 0.2936103940010071, 0.23112687468528748, 0.21514864265918732, 0.19396820664405823, 0.3596958518028259, 0.38834890723228455, 0.09260401129722595, 0.5189744830131531, 0.36904218792915344, 0.420057475566864, 0.12230992317199707, 0.08861660212278366, 0.9985626339912415, 0.18427066504955292, 0.8151266574859619, 0.3662548363208771, 0.6331282258033752, 0.998913049697876, 0.9992969036102295, 0.9996430277824402, 0.999284029006958, 0.11457152664661407, 0.6883506774902344, 0.1965838521718979, 0.9992346167564392, 0.9987074732780457, 0.1803506463766098, 0.8195096254348755, 0.32229626178741455, 0.019954219460487366, 0.3431412875652313, 0.056833889335393906, 0.06039714440703392, 0.1958007663488388, 0.0014253013068810105, 0.2362765222787857, 0.05857275053858757, 0.7048585414886475, 0.17166317999362946, 0.6085653305053711, 0.21974177658557892, 0.9993290305137634, 0.37733349204063416, 0.3432493805885315, 0.09935028851032257, 0.05100269615650177, 0.09805360436439514, 0.010620416142046452, 0.014695691876113415, 0.00561894103884697, 0.05618884786963463, 0.9432234764099121, 0.3078044056892395, 0.692125141620636, 0.22919099032878876, 0.7701883316040039, 0.04626970365643501, 0.5228092074394226, 0.213404580950737, 0.03191455826163292, 0.021917227655649185, 0.16341793537139893, 0.9987647533416748, 0.9967756271362305, 0.39302510023117065, 0.05913542956113815, 0.04742110148072243, 0.16519081592559814, 0.008456867188215256, 0.3267483115196228, 0.9996931552886963, 0.9848373532295227, 0.01506370771676302, 0.1196548193693161, 0.15479616820812225, 0.15102064609527588, 0.5744593143463135, 0.9984756112098694, 0.9748849868774414, 0.024902455508708954, 0.9999305605888367, 0.9165100455284119, 0.0832771509885788, 0.9994508624076843, 0.016422169283032417, 0.40568840503692627, 0.5772088170051575, 0.996997594833374, 0.5095504522323608, 0.022420866414904594, 0.4679347574710846, 0.9979137778282166, 0.99922114610672, 0.9747289419174194, 0.025180498138070107, 0.9707273244857788, 0.02869362197816372, 0.999816358089447, 0.9980592727661133, 0.9985669255256653, 0.9991691708564758, 0.9985033273696899, 0.9983901381492615, 0.9983896017074585, 0.7468286156654358, 0.2311413735151291, 0.021695580333471298, 0.9988270401954651, 0.9993443489074707, 0.9981740117073059, 0.09838202595710754, 0.04206521064043045, 0.7423475384712219, 0.11711598932743073, 0.17931707203388214, 0.12108971923589706, 0.6021896004676819, 0.08719618618488312, 0.010211513377726078, 0.990746021270752, 0.008823437616229057, 0.9992974996566772, 0.31597432494163513, 0.6809791326522827, 0.9986389875411987, 0.6242658495903015, 0.05424172058701515, 0.10167892277240753, 0.21463391184806824, 0.005054784007370472, 0.06876310706138611, 0.6885861158370972, 0.24258095026016235, 0.9989133477210999, 0.0609901025891304, 0.3346514105796814, 0.44154292345046997, 0.003970709629356861, 0.11102104932069778, 0.04764851927757263, 0.13406792283058167, 0.23682239651679993, 0.1762830764055252, 0.4527691602706909, 0.9985657930374146, 0.8087673187255859, 0.06538135558366776, 0.02190275304019451, 0.050409022718667984, 0.053481947630643845, 0.9997074604034424, 0.9992122650146484, 0.9983354806900024, 0.9998520612716675, 0.9982444047927856, 0.4657646417617798, 0.01643184758722782, 0.10191658139228821, 0.4154910147190094, 0.9984719753265381, 0.9990662336349487, 0.9991037845611572, 0.9981507658958435, 0.9996734857559204, 0.9976308941841125, 0.9984346032142639, 0.9989126920700073, 0.998006284236908, 0.9993796348571777, 0.9990916848182678, 0.9981520771980286, 0.9997506141662598, 0.9994641542434692, 0.600424587726593, 0.39915114641189575, 0.9994581341743469, 0.9993860721588135, 0.9981170296669006, 0.47881773114204407, 0.22905860841274261, 0.2921072244644165, 0.7400872707366943, 0.15533876419067383, 0.10453266650438309, 0.9996657967567444, 0.13944044709205627, 0.07705558836460114, 0.3323536515235901, 0.3364669382572174, 0.012202752754092216, 0.0965251475572586, 0.005895712412893772, 0.07707960903644562, 0.06584800779819489, 0.08963257819414139, 0.2799091041088104, 0.40037351846694946, 0.057038914412260056, 0.02973070740699768, 0.9998562335968018, 0.9984289407730103, 0.8909100890159607, 0.10906259715557098, 0.9990650415420532, 0.9997385144233704, 0.9981154799461365, 0.9975159764289856, 0.19980892539024353, 0.21664497256278992, 0.5835437178611755, 0.5283949971199036, 0.0632031038403511, 0.3930509686470032, 0.015321964398026466, 0.21250617504119873, 0.7873313426971436, 0.9975025653839111, 0.9994408488273621, 0.9962833523750305, 0.08908157050609589, 0.22203244268894196, 0.6887034773826599, 0.6261175274848938, 0.2505277097225189, 0.12324672192335129, 0.7603492736816406, 0.2395533174276352, 0.059179577976465225, 0.9406718015670776, 0.9975475668907166, 0.9992527365684509, 0.9994566440582275, 0.9982404112815857, 0.5511133074760437, 0.04449211061000824, 0.18850260972976685, 0.21578674018383026, 0.9992550015449524, 0.9990825653076172, 0.9996404647827148, 0.999579131603241, 0.997352659702301, 0.9993001222610474, 0.9989263415336609, 0.05921856313943863, 0.939687967300415, 0.24823695421218872, 0.22600314021110535, 0.4573814868927002, 0.06816743314266205, 0.9981030225753784, 0.9964272379875183, 0.11996757239103317, 0.058810919523239136, 0.0772416964173317, 0.3815169930458069, 0.062161970883607864, 0.24228088557720184, 0.05797315761446953, 0.9974105954170227, 0.9979006052017212, 0.9996948838233948, 0.9985419511795044, 0.9988863468170166, 0.06536522507667542, 0.06485053896903992, 0.03731479123234749, 0.5088965892791748, 0.0800337940454483, 0.09483104199171066, 0.0916142463684082, 0.05700156092643738, 0.9982182383537292, 0.20586079359054565, 0.006054729223251343, 0.12549802660942078, 0.08641749620437622, 0.5763001441955566, 0.3199198246002197, 0.6799314022064209, 0.99945467710495, 0.9995452761650085, 0.9984516501426697, 0.9983824491500854, 0.9979524612426758, 0.3821433484554291, 0.6174267530441284, 0.9994715452194214, 0.061573561280965805, 0.24299310147762299, 0.5512915253639221, 0.10377082973718643, 0.04018787294626236, 0.999364972114563, 0.07358226180076599, 0.21026328206062317, 0.19127431511878967, 0.018988970667123795, 0.359603613615036, 0.08208773285150528, 0.06428557634353638, 0.9988839626312256, 0.48158299922943115, 0.5178311467170715, 0.9997954964637756, 0.9308277368545532, 0.06858731061220169, 0.0236606914550066, 0.08081292361021042, 0.5484448671340942, 0.13296642899513245, 0.09647563844919205, 0.026409996673464775, 0.0912269651889801, 0.9968169331550598, 0.9987536668777466, 0.042646948248147964, 0.1273566335439682, 0.7400413751602173, 0.03213126212358475, 0.05769021809101105, 0.9989246726036072, 0.1884290874004364, 0.2846052050590515, 0.13493187725543976, 0.045413192361593246, 0.19996070861816406, 0.07525275647640228, 0.03340604156255722, 0.008084024302661419, 0.029958441853523254, 0.07788122445344925, 0.9212236404418945, 0.9998750686645508, 0.9999646544456482, 0.9999778866767883, 0.9990976452827454, 0.3668612837791443, 0.23652899265289307, 0.10016278922557831, 0.2963853180408478, 0.19388462603092194, 0.29670220613479614, 0.5088002681732178, 0.9976955652236938, 0.999116063117981, 0.440094918012619, 0.13824625313282013, 0.4217943847179413, 0.9986121654510498, 0.7088237404823303, 0.05475718900561333, 0.056367695331573486, 0.024962836876511574, 0.1550111621618271, 0.9990015625953674, 0.9981562495231628, 0.9988619685173035, 0.9998027086257935, 0.9974844455718994, 0.9991922378540039, 0.23182760179042816, 0.03961610794067383, 0.060891423374414444, 0.6668711304664612, 0.9978839755058289, 0.6388860940933228, 0.045053042471408844, 0.24582909047603607, 0.06678864359855652, 0.003339432179927826, 0.9975159764289856, 0.09998314082622528, 0.899928629398346, 0.9992747902870178, 0.9998891949653625, 0.9983336925506592, 0.08093342930078506, 0.48858508467674255, 0.2554406523704529, 0.17503389716148376, 0.9058130979537964, 0.09349190443754196, 0.9975540041923523, 0.9967673420906067, 0.9993955492973328, 0.9992654323577881, 0.10877864807844162, 0.8911365270614624, 0.9994252920150757, 0.9989076256752014, 0.8217862844467163, 0.012760656885802746, 0.07171489298343658, 0.04006846249103546, 0.05359475687146187, 0.22020085155963898, 0.7469286918640137, 0.032776229083538055, 0.016748551279306412, 0.27227917313575745, 0.566377580165863, 0.14459069073200226, 0.9976593255996704, 0.1016935482621193, 0.8982694149017334, 0.4809945523738861, 0.08167211711406708, 0.17599765956401825, 0.05652959272265434, 0.20459112524986267, 0.5493985414505005, 0.22503967583179474, 0.19600966572761536, 0.029487168416380882, 0.9987521767616272, 0.9169748425483704, 0.08231531083583832, 0.043684907257556915, 0.9557956457138062, 0.43974918127059937, 0.07233693450689316, 0.48790308833122253, 0.11336937546730042, 0.10257229208946228, 0.01916482299566269, 0.7649734020233154, 0.026580605655908585, 0.8988441824913025, 0.07449564337730408, 0.9970619678497314, 0.9992691278457642, 0.99934321641922, 0.04401513189077377, 0.06279222667217255, 0.1550624817609787, 0.5023378133773804, 0.06864745169878006, 0.16697482764720917, 0.5457141995429993, 0.13650044798851013, 0.01955483853816986, 0.02530626207590103, 0.09068077802658081, 0.015241271816194057, 0.1669829934835434, 0.9995450973510742, 0.9993341565132141, 0.9664711356163025, 0.032967597246170044, 0.1999526470899582, 0.0034257841762155294, 0.3797277510166168, 0.11308230459690094, 0.18294943869113922, 0.07357578724622726, 0.047269534319639206, 0.9991732239723206, 0.0859689712524414, 0.18421921133995056, 0.7286893725395203, 0.9965454936027527, 0.41501474380493164, 0.16987857222557068, 0.15969783067703247, 0.24453730881214142, 0.010579981841146946, 0.9992311000823975, 0.12792764604091644, 0.8705076575279236, 0.999739944934845, 0.21298210322856903, 0.7869508266448975, 0.998731255531311, 0.9995730519294739, 0.9998046159744263, 0.9993106126785278, 0.9983207583427429, 0.9992715716362, 0.9984965920448303, 0.9994953870773315, 0.18762819468975067, 0.2059454619884491, 0.13003607094287872, 0.17030104994773865, 0.10132252424955368, 0.2047078013420105, 0.9990503787994385, 0.9984978437423706, 0.9982197880744934, 0.9988669753074646, 0.9991333484649658, 0.9975159764289856, 0.8818603157997131, 0.11762833595275879, 0.9997124671936035, 0.9979045391082764, 0.9989326596260071, 0.39322230219841003, 0.6061461567878723, 0.999578595161438, 0.9947627186775208, 0.004731765482574701, 0.9035292863845825, 0.033486805856227875, 0.06267255544662476, 0.12073330581188202, 0.8548959493637085, 0.02419005148112774, 0.9995957612991333, 0.9996713995933533, 0.999470055103302, 0.9986682534217834, 0.9993770122528076, 0.9984288215637207, 0.019464394077658653, 0.9802976846694946, 0.9993571639060974, 0.45419442653656006, 0.5457035303115845, 0.9989587068557739, 0.9977958798408508, 0.9987443685531616, 0.9992147088050842, 0.10911557078361511, 0.01480025053024292, 0.4573567509651184, 0.18630902469158173, 0.23245099186897278, 0.07934445142745972, 0.16586367785930634, 0.21524293720722198, 0.17282740771770477, 0.07322480529546738, 0.29332125186920166, 0.5125112533569336, 0.4810161292552948, 0.006135409697890282, 0.04937621206045151, 0.041146840900182724, 0.9083165526390076, 0.9985455870628357, 0.9281237721443176, 0.07127910852432251, 0.36384087800979614, 0.6353307366371155, 0.9997905492782593, 0.9999426007270813, 0.9992735981941223, 0.9991942048072815, 0.3389648497104645, 0.370196133852005, 0.2906983196735382, 0.9983827471733093, 0.9282234311103821, 0.07136592268943787, 0.9991374015808105, 0.9990009665489197, 0.9975127577781677, 0.9987793564796448, 0.9996028542518616, 0.9991235136985779, 0.9981345534324646, 0.7846556901931763, 0.03721563518047333, 0.1779470294713974, 0.07699930667877197, 0.21122997999191284, 0.2013460099697113, 0.4176774024963379, 0.05515892431139946, 0.02757946215569973, 0.010043388232588768, 0.9987002015113831, 0.9990549683570862, 0.20885537564754486, 0.1125059500336647, 0.21935121715068817, 0.17901889979839325, 0.07700879126787186, 0.07677292823791504, 0.1265397071838379, 0.9748790264129639, 0.02468048222362995, 0.9975159764289856, 0.9991623163223267, 0.29148074984550476, 0.1687120795249939, 0.15527579188346863, 0.16091036796569824, 0.040742289274930954, 0.1428147256374359, 0.040092144161462784, 0.9984860420227051, 0.9983088970184326, 0.999120831489563, 0.20960161089897156, 0.06828649342060089, 0.020865319296717644, 0.1318308711051941, 0.569054126739502, 0.15014688670635223, 0.781815767288208, 0.06790082156658173, 0.044943246990442276, 0.9547785520553589, 0.9990638494491577, 0.9972223043441772, 0.9985644817352295, 0.9986212253570557, 0.9970906972885132, 0.9993542432785034, 0.99903804063797, 0.415139764547348, 0.5847675204277039, 0.9982547760009766, 0.04917018488049507, 0.08557242155075073, 0.8652322292327881, 0.9999014735221863, 0.9993833899497986, 0.9996368885040283, 0.9995185136795044, 0.9993504881858826, 0.9969339966773987, 0.18495818972587585, 0.6354035139083862, 0.17957523465156555, 0.907462477684021, 0.09233257919549942, 0.9992832541465759, 0.9995397925376892, 0.9978448152542114, 0.9975159764289856, 0.012037890963256359, 0.032361604273319244, 0.7565110921859741, 0.07566674053668976, 0.11733035743236542, 0.006097113713622093, 0.9989956021308899, 0.9992315769195557, 0.9990184307098389, 0.9982614517211914, 0.9988737106323242, 0.9995468854904175, 0.9993962645530701, 0.9989703893661499, 0.9999383091926575, 0.9719664454460144, 0.027227725833654404, 0.7679381966590881, 0.23192763328552246, 0.05239763483405113, 0.3414880335330963, 0.0677555650472641, 0.5384308695793152, 0.9985324740409851, 0.9996197819709778, 0.9992094039916992, 0.2670259475708008, 0.06818415969610214, 0.07850466668605804, 0.24776099622249603, 0.193681538105011, 0.05235937982797623, 0.030755113810300827, 0.04197006672620773, 0.01981537602841854, 0.017572082579135895, 0.06453463435173035, 0.12595917284488678, 0.6641625165939331, 0.10030081868171692, 0.010729854926466942, 0.013839958235621452, 0.002954597817733884, 0.8318221569061279, 0.16804291307926178, 0.9984416365623474, 0.46576032042503357, 0.5342354774475098, 0.9994287490844727, 0.7537121176719666, 0.24620303511619568, 0.9994692206382751, 0.9989988207817078, 0.9986910223960876, 0.9993062615394592, 0.32539254426956177, 0.3027312755584717, 0.10643047839403152, 0.12938228249549866, 0.11805164068937302, 0.009393773041665554, 0.008619029074907303, 0.9987063407897949, 0.9993252754211426, 0.1554911881685257, 0.84409499168396, 0.03446656093001366, 0.2353382557630539, 0.039199139922857285, 0.554715633392334, 0.06195376440882683, 0.07428715378046036, 0.9987289905548096, 0.9982807636260986, 0.9990670084953308, 0.9995496273040771, 0.9989345669746399, 0.9996541738510132, 0.2695554792881012, 0.1738644689321518, 0.09473766386508942, 0.07066595554351807, 0.07078512012958527, 0.07972263544797897, 0.2407170832157135, 0.9989612698554993, 0.8388746380805969, 0.1608748435974121, 0.9996823072433472, 0.9998558163642883, 0.9195863008499146, 0.08002806454896927, 0.9993650913238525, 0.9992260932922363, 0.39530178904533386, 0.31229373812675476, 0.29223525524139404, 0.7183655500411987, 0.2810821235179901, 0.9987759590148926, 0.27606409788131714, 0.7112710475921631, 0.012630384415388107, 0.9993537068367004, 0.9987146854400635, 0.9545140266418457, 0.04536663740873337, 0.25387731194496155, 0.6947373151779175, 0.02740263193845749, 0.02391013875603676, 0.16904300451278687, 0.16437026858329773, 0.42109575867652893, 0.011956700123846531, 0.23349924385547638, 0.9993043541908264, 0.3585171103477478, 0.009841052815318108, 0.5925827622413635, 0.03891000896692276, 0.620231568813324, 0.3796218931674957, 0.3161347210407257, 0.32776451110839844, 0.26073792576789856, 0.040393512696027756, 0.01003179606050253, 0.04483236372470856, 0.274545282125473, 0.19738443195819855, 0.17966653406620026, 0.18942897021770477, 0.0361163504421711, 0.1228519156575203, 0.19849973917007446, 0.0216679684817791, 0.40830910205841064, 0.3003920316696167, 0.07102865725755692, 0.9997275471687317, 0.9998013973236084, 0.06548673659563065, 0.48548635840415955, 0.13524097204208374, 0.3137000799179077, 0.8179303407669067, 0.18173059821128845, 0.00028529137489385903, 0.9994552135467529, 0.9990230202674866, 0.9980930685997009, 0.712078332901001, 0.28736692667007446, 0.508817732334137, 0.4908199906349182, 0.1790877729654312, 0.8199805617332458, 0.9989258050918579, 0.44369518756866455, 0.555744469165802, 0.9994739890098572, 0.998661994934082, 0.9990773797035217, 0.9992216229438782, 0.25574493408203125, 0.7441669702529907, 0.9996249079704285, 0.9995066523551941, 0.9996796250343323, 0.9459512233734131, 0.05362734571099281, 0.9613584876060486, 0.012776562944054604, 0.025553125888109207, 0.9987024664878845, 0.9968977570533752, 0.024868551641702652, 0.7853835821151733, 0.13301783800125122, 0.05667716637253761, 0.9981697797775269, 0.13435202836990356, 0.027003757655620575, 0.711765706539154, 0.1266842931509018, 0.9993836283683777, 0.9779285788536072, 0.021749647334218025, 0.9978231191635132, 0.9983765482902527, 0.9992770552635193, 0.9996731281280518, 0.04109116643667221, 0.27175238728523254, 0.18406300246715546, 0.12560340762138367, 0.3772338330745697, 0.998907744884491, 0.6315717101097107, 0.08843111246824265, 0.1152004525065422, 0.0576002262532711, 0.10707733780145645, 0.0584166944026947, 0.03592383861541748, 0.18301740288734436, 0.10324058681726456, 0.04094023257493973, 0.02411104552447796, 0.005178211256861687, 0.5488904118537903, 0.997114360332489, 0.9992656707763672, 0.9988388419151306, 0.06468352675437927, 0.22341349720954895, 0.7115187644958496, 0.9978260397911072, 0.13207575678825378, 0.206679567694664, 0.21900101006031036, 0.2401837557554245, 0.052408333867788315, 0.1496295928955078, 0.041566140949726105, 0.5382654070854187, 0.18253657221794128, 0.10874862223863602, 0.04897715896368027, 0.07974898815155029, 0.14916501939296722, 0.6882623434066772, 0.07278367131948471, 0.05949996039271355, 0.03016509674489498, 0.12818826735019684, 0.8185554146766663, 0.04081616550683975, 0.012436174787580967, 0.9982170462608337, 0.9993363618850708, 0.9992163777351379, 0.0035606035962700844, 0.9934083819389343, 0.9992561936378479, 0.9989328980445862, 0.9993622303009033, 0.09488405287265778, 0.9041892290115356, 0.9992237687110901, 0.9982301592826843, 0.9982346296310425, 0.032683391124010086, 0.15726228058338165, 0.5999736785888672, 0.03777690604329109, 0.1689349263906479, 0.0031834470573812723, 0.3911163806915283, 0.6086791753768921, 0.9977344870567322, 0.999245822429657, 0.04542091488838196, 0.9544141292572021, 0.9992890357971191, 0.9978576302528381, 0.0014194275718182325, 0.9988669753074646, 0.99942946434021, 0.1331496387720108, 0.6315945386886597, 0.1722530573606491, 0.06286246329545975, 0.9976966977119446, 0.7172082662582397, 0.18037572503089905, 0.03960631042718887, 0.060602426528930664, 0.002067799447104335, 0.9527426958084106, 0.04642258957028389, 0.9993675947189331, 0.07629422098398209, 0.9227477312088013, 0.9988605976104736, 0.999372124671936, 0.9985163807868958, 0.16544795036315918, 0.2642279267311096, 0.21052691340446472, 0.1663305163383484, 0.11772127449512482, 0.07569736242294312, 0.9978201985359192, 0.029733434319496155, 0.9702302813529968, 0.9988908171653748, 0.11447986215353012, 0.8853991627693176, 0.9995012283325195, 0.9997687935829163, 0.9983518719673157, 0.999713122844696, 0.9978081583976746, 0.9997631311416626, 0.06277530640363693, 0.20122495293617249, 0.7352449893951416, 0.9989583492279053, 0.9976792931556702, 0.9981127381324768, 0.9987229704856873, 0.6268468499183655, 0.13638287782669067, 0.23675751686096191, 0.9995428919792175, 0.9997504353523254, 0.9992497563362122, 0.9997037649154663, 0.12677790224552155, 0.8719502687454224, 0.999373197555542, 0.9988235235214233, 0.9989268183708191, 0.9988871216773987, 0.9992427229881287, 0.21677342057228088, 0.1969050019979477, 0.033805977553129196, 0.5524608492851257, 0.9988267421722412, 0.9982161521911621, 0.9461621046066284, 0.0538330115377903, 0.9991259574890137, 0.9971374273300171, 0.027487510815262794, 0.5249166488647461, 0.19753094017505646, 0.20947378873825073, 0.04075734317302704, 0.9991044402122498, 0.997903048992157, 0.24813449382781982, 0.7290152907371521, 0.02244110405445099, 0.08123762160539627, 0.8223702907562256, 0.07638335227966309, 0.019845394417643547, 0.17000259459018707, 0.22451363503932953, 0.6053721308708191, 0.9995158910751343, 0.9989033937454224, 0.9992252588272095, 0.9987703561782837, 0.9994313716888428, 0.9948786497116089, 0.00479459622874856, 0.9964786171913147, 0.9996337294578552, 0.9988678097724915, 0.9993434548377991, 0.09525774419307709, 0.17910440266132355, 0.23219074308872223, 0.4777770936489105, 0.01587628945708275, 0.99834805727005, 0.9997653961181641, 0.9978413581848145, 0.9987105131149292, 0.9996985793113708, 0.6801996827125549, 0.07965567708015442, 0.03298596665263176, 0.08355236798524857, 0.029632998630404472, 0.08083374798297882, 0.012958773411810398, 0.9979082345962524, 0.9987657070159912, 0.9983283281326294, 0.27032339572906494, 0.7287425398826599, 0.9987217783927917, 0.14423789083957672, 0.25530382990837097, 0.14054185152053833, 0.3316270112991333, 0.0638490542769432, 0.05867460370063782, 0.0057288589887320995, 0.21827538311481476, 0.2273891717195511, 0.11597304046154022, 0.26931262016296387, 0.16894696652889252, 0.9989838600158691, 0.9995466470718384, 0.9984769821166992, 0.10374102741479874, 0.8951168656349182, 0.9993626475334167, 0.9996574521064758, 0.366115540266037, 0.03997759148478508, 0.5528976321220398, 0.002828603144735098, 0.015463030897080898, 0.022628825157880783, 0.9986512064933777, 0.9991135001182556, 0.9996305108070374, 0.9987502694129944, 0.3152983486652374, 0.06882993876934052, 0.15538398921489716, 0.1251019835472107, 0.11222618073225021, 0.09736336767673492, 0.12565834820270538, 0.9992876052856445, 0.9988845586776733, 0.14256849884986877, 0.8567818999290466, 0.9987859129905701, 0.9987830519676208, 0.8443474769592285, 0.15558719635009766, 0.04565589129924774, 0.07928718626499176, 0.8736621141433716, 0.0013151902239769697, 0.9986962080001831, 0.998546302318573, 0.998145341873169, 0.6009809374809265, 0.39891377091407776, 0.9998047351837158, 0.9984369874000549, 0.869949460029602, 0.12965592741966248, 0.9986537098884583, 0.9986070394515991, 0.9997087717056274, 0.998253583908081, 0.06797191500663757, 0.08338822424411774, 0.009510061703622341, 0.5929273366928101, 0.24616043269634247, 0.2242259383201599, 0.7478673458099365, 0.027300961315631866, 0.09084056317806244, 0.11062761396169662, 0.02518352121114731, 0.7725944519042969, 0.999720573425293, 0.9384397864341736, 0.056214019656181335, 0.003711711848154664, 0.001586686004884541, 0.9999199509620667, 0.9976401925086975, 0.9992785453796387, 0.9990828037261963, 0.9979015588760376, 0.86241215467453, 0.13743983209133148, 0.999663233757019, 0.9015974998474121, 0.09829078614711761, 0.9997856020927429, 0.7231490015983582, 0.276542991399765, 0.1030854731798172, 0.8961291909217834, 0.99803227186203, 0.9967201352119446, 0.9993290305137634, 0.9991962313652039, 0.9984794855117798, 0.9994856715202332, 0.999467134475708, 0.9987128973007202, 0.999592125415802, 0.9989965558052063, 0.9979520440101624, 0.9988963603973389, 0.9988404512405396, 0.9996901154518127, 0.2659892737865448, 0.733942985534668, 0.059474363923072815, 0.82613605260849, 0.11399252712726593, 0.8266740441322327, 0.05961024388670921, 0.11371194571256638, 0.9991918802261353, 0.9994177222251892, 0.11241313070058823, 0.6344555020332336, 0.25301656126976013, 0.9992445707321167, 0.9066299796104431, 0.09321434050798416, 0.9128526449203491, 0.08674165606498718, 0.0827045664191246, 0.08528237044811249, 0.14757931232452393, 0.5795763731002808, 0.10493812710046768, 0.23849523067474365, 0.7610000371932983, 0.3120098412036896, 0.2122431844472885, 0.03284314274787903, 0.20178286731243134, 0.1628659963607788, 0.0782836526632309, 0.9986621737480164, 0.9959783554077148, 0.9990509748458862, 0.9980998039245605, 0.053142283111810684, 0.946744978427887, 0.9994930028915405, 0.9992456436157227, 0.9992859363555908, 0.489557683467865, 0.17676356434822083, 0.1018960177898407, 0.1277824193239212, 0.018018972128629684, 0.005075766704976559, 0.08095847815275192, 0.7942981719970703, 0.046234726905822754, 0.15929308533668518, 0.9992254376411438, 0.9987573027610779, 0.9997001886367798, 0.8874636292457581, 0.11155269294977188, 0.9998044371604919, 0.6630836129188538, 0.3368816673755646, 0.9993047714233398, 0.999038815498352, 0.9989539384841919, 0.2956191897392273, 0.3593716323375702, 0.34452518820762634, 0.9984631538391113, 0.9876362085342407, 0.011823553591966629, 0.9996476769447327, 0.222281351685524, 0.7774008512496948, 0.9999734163284302, 0.9973629117012024, 0.6561943888664246, 0.1715492308139801, 0.0004455824091564864, 0.05911393463611603, 0.11273235082626343, 0.9979125261306763, 0.9989330172538757, 0.9999170899391174, 0.9997716546058655, 0.9984636306762695, 0.9995796084403992, 0.9979771971702576, 0.9986591935157776, 0.9973990321159363, 0.9997249841690063, 0.9991971254348755, 0.9980384111404419, 0.9967867136001587, 0.9992181658744812, 0.4130738079547882, 0.008271816186606884, 0.015509654767811298, 0.02843436598777771, 0.1426888257265091, 0.39187726378440857, 0.2807570993900299, 0.07032348215579987, 0.06495527923107147, 0.5674192309379578, 0.01610461436212063, 0.9991769194602966, 0.04773205146193504, 0.6386284232139587, 0.29299554228782654, 0.020470067858695984, 0.08977704495191574, 0.8759799003601074, 0.03399324789643288, 0.9990806579589844, 0.9989567399024963, 0.9981305599212646, 0.07477715611457825, 0.7425673007965088, 0.027664808556437492, 0.15475858747959137, 0.3459150195121765, 0.6533110737800598, 0.9991444945335388, 0.9986367225646973, 0.9967817664146423, 0.33511778712272644, 0.6645997166633606, 0.9989496469497681, 0.008684536442160606, 0.06947629153728485, 0.9218014478683472, 0.6082889437675476, 0.2092801332473755, 0.0163593627512455, 0.08259482681751251, 0.06942753493785858, 0.013765804469585419, 0.9999071359634399, 0.999095618724823, 0.26591557264328003, 0.7337068319320679, 0.9987865686416626, 0.9977374076843262, 0.9990187287330627, 0.0050830841064453125, 0.16424715518951416, 0.32865315675735474, 0.5019545555114746, 0.12292972952127457, 0.17290811240673065, 0.3006035089492798, 0.15091273188591003, 0.024072719737887383, 0.07979434728622437, 0.14883539080619812, 0.9999127388000488, 0.01277405396103859, 0.17769281566143036, 0.26653921604156494, 0.12011423707008362, 0.05300278961658478, 0.24995200335979462, 0.11992358416318893, 0.09082738310098648, 0.46998268365859985, 0.14457236230373383, 0.033161796629428864, 0.18900589644908905, 0.07236786186695099, 0.99925297498703, 0.9982233047485352, 0.9851008057594299, 0.014814549125730991, 0.9991351366043091, 0.9996386766433716, 0.01636766642332077, 0.07438194751739502, 0.3735465109348297, 0.10438933223485947, 0.162221759557724, 0.1482183039188385, 0.12075699865818024, 0.13560964167118073, 0.009955561719834805, 0.3236953318119049, 0.5307152271270752, 0.3480081260204315, 0.17403572797775269, 0.24053409695625305, 0.23743084073066711, 0.2782893180847168, 0.17835775017738342, 0.11167782545089722, 0.20189443230628967, 0.06522267311811447, 0.11649114638566971, 0.04804486781358719, 0.9986055493354797, 0.36115026473999023, 0.019032642245292664, 0.16635939478874207, 0.05874272435903549, 0.39475110173225403, 0.04476535692811012, 0.6760135889053345, 0.2787918448448181, 0.7257679104804993, 0.1074395701289177, 0.1665378212928772, 0.9993175864219666, 0.9978895783424377, 0.6581841707229614, 0.34172457456588745, 0.1360788345336914, 0.8632669448852539, 0.998197078704834, 0.5312790274620056, 0.46862441301345825, 0.9972701668739319, 0.02169719710946083, 0.7104154229164124, 0.2193206399679184, 0.04831540957093239, 0.9989503622055054, 0.9995072484016418, 0.9993398189544678, 0.9995322823524475, 0.9996886253356934, 0.9995902180671692, 0.03886096924543381, 0.000998996663838625, 0.8016948103904724, 0.1583409607410431, 0.9999412894248962, 0.8980526924133301, 0.10151569545269012, 0.9995031952857971, 0.9991936683654785, 0.9993715882301331, 0.999717116355896, 0.9979868531227112, 0.9981164336204529, 0.9980258345603943, 0.9986647963523865, 0.998532772064209, 0.15753374993801117, 0.8423302173614502, 0.9974216222763062, 0.999359130859375, 0.9998989105224609, 0.9987397789955139, 0.9994622468948364, 0.18837332725524902, 0.6322988867759705, 0.06581718474626541, 0.11325094848871231, 0.9970585107803345, 0.9995388388633728, 0.46202269196510315, 0.02800678089261055, 0.5099196434020996, 0.9997724294662476, 0.04352252557873726, 0.9561963677406311, 0.9984352588653564, 0.2590106129646301, 0.7376621961593628, 0.9990960955619812, 0.6323710680007935, 0.3374324440956116, 0.016210608184337616, 0.013849839568138123, 0.168809711933136, 0.30640557408332825, 0.17199480533599854, 0.03949510306119919, 0.19492745399475098, 0.11823050677776337, 0.9978942275047302, 0.9993579387664795, 0.9997280240058899, 0.09018412977457047, 0.12043135613203049, 0.20030075311660767, 0.40548011660575867, 0.1615508496761322, 0.006830018945038319, 0.015193307772278786, 0.010011713951826096, 0.21209430694580078, 0.07408668100833893, 0.5614261031150818, 0.04405153915286064, 0.09811479598283768, 0.9993398189544678, 0.997748076915741, 0.0030843454878777266, 0.6956226825714111, 0.06538812071084976, 0.23564398288726807, 0.884098470211029, 0.11563389003276825, 0.20250940322875977, 0.7972893714904785, 0.9991098046302795, 0.9977816939353943, 0.9987331628799438, 0.7951300740242004, 0.09721981734037399, 0.010057222098112106, 0.017371565103530884, 0.06339097768068314, 0.016762036830186844, 0.9990656971931458, 0.6534307599067688, 0.34653857350349426, 0.13408368825912476, 0.35772842168807983, 0.03137214481830597, 0.00507111381739378, 0.34225723147392273, 0.03747467324137688, 0.09196766465902328, 0.19669820368289948, 0.05328168347477913, 0.7499396800994873, 0.9994454979896545, 0.9984143376350403, 0.08843111246824265, 0.7437320947647095, 0.16760781407356262, 0.9993866682052612, 0.9984880089759827, 0.5623032450675964, 0.052877578884363174, 0.38470354676246643, 0.9991286396980286, 0.9701718091964722, 0.029662607237696648, 0.9979299306869507, 0.9985875487327576, 0.2775709629058838, 0.722322404384613, 0.6444414854049683, 0.15304790437221527, 0.13970312476158142, 0.020573196932673454, 0.042258456349372864, 0.9972828030586243, 0.046769578009843826, 0.952930212020874, 0.35067489743232727, 0.5609106421470642, 0.0882679894566536, 0.9987195730209351, 0.1698015183210373, 0.16142216324806213, 0.17940784990787506, 0.29809534549713135, 0.11024829000234604, 0.03609105199575424, 0.04150770232081413, 0.003441518172621727, 0.9986888766288757, 0.9962658286094666, 0.13998115062713623, 0.8596367239952087, 0.999193012714386, 0.999774694442749, 0.9993420243263245, 0.9994566440582275, 0.999038577079773, 0.09113040566444397, 0.7582187056541443, 0.05629147216677666, 0.09421957284212112, 0.9991669654846191, 0.108312226831913, 0.058029260486364365, 0.8334740996360779, 0.9993733763694763, 0.9981856346130371, 0.9995167851448059, 0.781532883644104, 0.1646413654088974, 0.05377991124987602, 0.9989127516746521, 0.1251467913389206, 0.7165740728378296, 0.052667953073978424, 0.10565803945064545, 0.9993687868118286, 0.9979067444801331, 0.8143476247787476, 0.18537995219230652, 0.9995459914207458, 0.49931561946868896, 0.4998341202735901, 0.9981849193572998, 0.9994367957115173, 0.2823423743247986, 0.12045972794294357, 0.036344241350889206, 0.5605583190917969, 0.06823279708623886, 0.005005494691431522, 0.2423713207244873, 0.04136119410395622, 0.5482333898544312, 0.09431406110525131, 0.9996708035469055, 0.9996222257614136, 0.4264470934867859, 0.06267988681793213, 0.5107664465904236, 0.9994456171989441, 0.6919942498207092, 0.0385512113571167, 0.04733232408761978, 0.2218836545944214, 0.2095155268907547, 0.6897507905960083, 0.10040240734815598, 0.23233413696289062, 0.10345807671546936, 0.11857147514820099, 0.15800370275974274, 0.09974842518568039, 0.020334389060735703, 0.2676445245742798, 0.9993685483932495, 0.9974507093429565, 0.6655243635177612, 0.0846860408782959, 0.24960096180438995, 0.5209771394729614, 0.124730184674263, 0.1208912581205368, 0.23256909847259521, 0.0007677851244807243, 0.9969176054000854, 0.3247690498828888, 0.14001522958278656, 0.5349990129470825, 0.9994697570800781, 0.9995294213294983, 0.945728600025177, 0.054116856306791306, 0.9988955855369568, 0.9981141090393066, 0.15748059749603271, 0.15392839908599854, 0.6885335445404053, 0.9991424679756165, 0.9985768795013428, 0.5387582778930664, 0.46095165610313416, 0.9994592666625977, 0.8802846074104309, 0.06369857490062714, 0.0559898316860199, 0.9986851811408997, 0.9981691241264343, 0.999527633190155, 0.9977114796638489, 0.07775010168552399, 0.6642003655433655, 0.12863785028457642, 0.1293470859527588, 0.9987891316413879, 0.9994226694107056, 0.9993155598640442, 0.2923782467842102, 0.13423655927181244, 0.025891106575727463, 0.196978360414505, 0.08517585694789886, 0.034423403441905975, 0.23081332445144653, 0.09430795907974243, 0.5483281016349792, 0.0026093111373484135, 0.07855889946222305, 0.13829348981380463, 0.05870949849486351, 0.07436536252498627, 0.004752673674374819, 0.9992039203643799, 0.998996913433075, 0.9982163906097412, 0.9990442991256714, 0.9992471933364868, 0.9988071918487549, 0.9981634020805359, 0.9990464448928833, 0.9987189173698425, 0.9959951639175415, 0.07440051436424255, 0.9249793887138367, 0.7572116255760193, 0.11254144459962845, 0.01796880178153515, 0.06336367130279541, 0.048862531781196594, 0.9975123405456543, 0.6493775844573975, 0.07403627783060074, 0.05503079667687416, 0.08346810191869736, 0.058647509664297104, 0.035387072712183, 0.04403882101178169, 0.9990782141685486, 0.5064278244972229, 0.13449184596538544, 0.020385323092341423, 0.04698880761861801, 0.06519456952810287, 0.15244118869304657, 0.06660487502813339, 0.007500260137021542, 0.9979187250137329, 0.9983551502227783, 0.9993568062782288, 0.9995754361152649, 0.9999498128890991, 0.9993308186531067, 0.997680127620697, 0.998296320438385, 0.9993346929550171, 0.1534431427717209, 0.302951842546463, 0.5433898568153381, 0.12293320149183273, 0.11620327830314636, 0.7604809403419495, 0.9993283748626709, 0.9987530708312988, 0.999146580696106, 0.99919593334198, 0.6309976577758789, 0.08858045935630798, 0.25568321347236633, 0.024726329371333122, 0.9982118010520935, 0.46172088384628296, 0.045116178691387177, 0.09919159859418869, 0.39388665556907654, 0.9994170069694519, 0.9994157552719116, 0.9983623623847961, 0.33653518557548523, 0.0035944548435509205, 0.41029131412506104, 0.2122298777103424, 0.03582240641117096, 0.0015005975728854537, 0.674838662147522, 0.3247548043727875, 0.9655898213386536, 0.034206993877887726, 0.9994421601295471, 0.9967674612998962, 0.9989827275276184, 0.15782664716243744, 0.8417421579360962, 0.9704157710075378, 0.029121866449713707, 0.23183573782444, 0.6723236441612244, 0.09552749246358871, 0.5003716945648193, 0.24842432141304016, 0.06351529061794281, 0.05707317218184471, 0.11565621197223663, 0.014897406101226807, 0.9985794425010681, 0.20984290540218353, 0.1691858470439911, 0.20605407655239105, 0.17151743173599243, 0.07810819149017334, 0.16525128483772278, 0.26747897267341614, 0.0723562091588974, 0.511491060256958, 0.05149676278233528, 0.02346687950193882, 0.07387721538543701, 0.9979189038276672, 0.9990008473396301, 0.9986347556114197, 0.8179418444633484, 0.09662041813135147, 0.085197314620018, 0.9992644190788269, 0.9991405606269836, 0.49186694622039795, 0.48129361867904663, 0.026744293048977852, 0.9978494048118591, 0.9995344281196594, 0.9993497133255005], \"Term\": [\"abdominal\", \"access\", \"access\", \"accuracy\", \"accurate\", \"ace\", \"acid\", \"acid\", \"acid\", \"acid\", \"acknowledgement\", \"activation\", \"activation\", \"active\", \"active\", \"active\", \"active\", \"activity\", \"activity\", \"activity\", \"acute\", \"acute\", \"acute\", \"acute\", \"ad\", \"address\", \"address\", \"adenovirus\", \"adenovirus\", \"adjusted\", \"adjuvant\", \"admission\", \"admitted\", \"adult\", \"adult\", \"adult\", \"advance\", \"ag\", \"age\", \"age\", \"agent\", \"agent\", \"agent\", \"agent\", \"agent\", \"agent\", \"agent\", \"airway\", \"airway\", \"airway\", \"al\", \"al\", \"al\", \"algorithm\", \"also\", \"also\", \"also\", \"also\", \"also\", \"also\", \"also\", \"also\", \"alveolar\", \"alveolar\", \"amino\", \"amino\", \"amino_acid\", \"amino_acid\", \"among\", \"among\", \"among\", \"among\", \"among\", \"among\", \"amplification\", \"amplified\", \"analysis\", \"analysis\", \"analysis\", \"analysis\", \"analysis\", \"analysis\", \"angiotensin\", \"animal\", \"animal\", \"anti\", \"anti\", \"anti\", \"anti\", \"antibacterial\", \"antibiotic\", \"antibiotic\", \"antibody\", \"antigen\", \"antigen\", \"antigenic\", \"antimicrobial\", \"antimicrobial\", \"antimicrobial\", \"antioxidant\", \"antiviral\", \"antiviral\", \"antiviral\", \"antiviral_drug\", \"apoptosis\", \"application\", \"application\", \"applied\", \"applied\", \"approach\", \"approved\", \"approximately_\", \"ards\", \"ari\", \"arm\", \"art\", \"article\", \"article\", \"article\", \"asian\", \"aspect\", \"aspirate\", \"assay\", \"assay\", \"assay\", \"assay\", \"associated\", \"associated\", \"associated\", \"associated\", \"associated\", \"asthma\", \"asthma\", \"attenuated\", \"au\", \"au\", \"autoimmune\", \"available\", \"available\", \"available\", \"available\", \"available\", \"avian\", \"avian\", \"avian\", \"avian_influenza\", \"background\", \"background\", \"background\", \"background\", \"background\", \"background\", \"bacterial\", \"bacterial\", \"bacterial\", \"bacterial\", \"balb\", \"based\", \"based\", \"based\", \"based\", \"based\", \"bat\", \"bias\", \"bij\", \"binding\", \"biomarkers\", \"blood\", \"blood\", \"blood\", \"blood\", \"bone\", \"borne\", \"bovine\", \"bp\", \"brain\", \"brazil\", \"bronchiolitis\", \"bronchitis\", \"brsv\", \"building\", \"burden\", \"bvdv\", \"calf\", \"camel\", \"cancer\", \"cancer\", \"canine\", \"cap\", \"cardiovascular\", \"care\", \"care\", \"care\", \"case\", \"case\", \"case\", \"cat\", \"cause\", \"cause\", \"cause\", \"cause\", \"cause\", \"cause\", \"cause\", \"caused\", \"caused\", \"caused\", \"caused\", \"caused\", \"caused\", \"caused\", \"cd\", \"ce\", \"cell\", \"cell\", \"cell_line\", \"cellular\", \"central_nervous\", \"centre_remains\", \"chain\", \"chain\", \"chain\", \"challenge\", \"challenge\", \"challenge\", \"challenge\", \"chemical\", \"chemical\", \"chemokines\", \"chest\", \"chikv\", \"child\", \"child\", \"child\", \"china\", \"china\", \"china\", \"chronic\", \"chronic\", \"ci\", \"ci\", \"cis\", \"city\", \"cl\", \"clinic\", \"clinical\", \"clinical\", \"clinical\", \"clinical\", \"clinical_trial\", \"cmv\", \"cns\", \"codon\", \"codon_usage\", \"cohort\", \"cold\", \"coli\", \"coli\", \"collected\", \"collected\", \"collected\", \"collected\", \"colon\", \"colony\", \"common\", \"common\", \"common\", \"common\", \"common\", \"common\", \"common\", \"common_cause\", \"common_cold\", \"community\", \"comorbidities\", \"comparative\", \"compared\", \"compared\", \"compared\", \"compared\", \"compared\", \"compared\", \"compared\", \"compared\", \"complementary\", \"complete\", \"complete\", \"complete\", \"complete\", \"complete\", \"complex\", \"complex\", \"complication\", \"compound\", \"computational\", \"computed\", \"con\", \"concentration\", \"concentration\", \"concept\", \"conclusion\", \"conclusion\", \"conclusion\", \"conclusion\", \"conclusion\", \"confidence\", \"confirmed\", \"confirmed\", \"confirmed\", \"confirmed\", \"confirmed\", \"confirmed\", \"confirmed\", \"confirmed_case\", \"conserved\", \"conserved\", \"contact\", \"context\", \"context\", \"control\", \"control\", \"control\", \"control\", \"control\", \"control\", \"control\", \"copies\", \"copy\", \"coronavirus\", \"coronavirus\", \"coronavirus\", \"coronavirus\", \"coronavirus\", \"corticosteroid\", \"could\", \"could\", \"could\", \"could\", \"could\", \"could\", \"could\", \"could\", \"could\", \"count\", \"count\", \"country\", \"cov\", \"covid\", \"covs\", \"critical\", \"critical\", \"critical\", \"critical\", \"cross\", \"cross\", \"cross\", \"crp\", \"ct\", \"culture\", \"culture\", \"culture\", \"cumulative\", \"current\", \"current\", \"current\", \"current\", \"current\", \"curve\", \"cv\", \"cxcr\", \"cytokine\", \"cytopathic\", \"da\", \"damage\", \"damage\", \"damage\", \"damage\", \"dans\", \"data\", \"data\", \"data\", \"data\", \"data\", \"database_right\", \"day\", \"day\", \"dc\", \"de\", \"de_la\", \"death\", \"death\", \"death\", \"death\", \"decision\", \"decision\", \"dehydration\", \"del\", \"dengue\", \"department\", \"dependent\", \"dependent\", \"der\", \"derivative\", \"design\", \"design\", \"design\", \"design\", \"design\", \"detect\", \"detect\", \"detect\", \"detected\", \"detected\", \"detected\", \"detected\", \"detecting\", \"detection\", \"detection\", \"developed\", \"developed\", \"developed\", \"developed\", \"developed\", \"development\", \"development\", \"development\", \"development\", \"di\", \"diabetes\", \"diabetes\", \"diagnosed\", \"diagnosed\", \"diagnosis\", \"diagnosis\", \"diagnosis\", \"diagnostic\", \"diagnostic\", \"diagnostic\", \"diagnostic\", \"diarrhea\", \"diarrhea\", \"diarrhea\", \"diarrhea_virus\", \"diarrhoea\", \"die\", \"difference\", \"difference\", \"difference\", \"difference\", \"difference\", \"difference\", \"different\", \"different\", \"different\", \"different\", \"different\", \"different\", \"different\", \"disaster\", \"discharge\", \"discussed\", \"discussed\", \"disease\", \"disease\", \"disease\", \"disease\", \"disease\", \"disease\", \"disease\", \"distancing\", \"diversity\", \"diversity\", \"diversity\", \"dm\", \"dna\", \"dna\", \"dna\", \"dna\", \"dna\", \"dog\", \"doi\", \"doi\", \"domain\", \"drug\", \"drug\", \"du\", \"duration\", \"dynamic\", \"east\", \"ec\", \"ed\", \"education\", \"een\", \"effect\", \"effect\", \"effect\", \"effect\", \"effect\", \"effect\", \"effectively\", \"el\", \"elderly\", \"elevated\", \"elisa\", \"elsevier_long\", \"emergency\", \"emergency\", \"en\", \"ensure\", \"enteric\", \"enterovirus\", \"enterovirus\", \"entry\", \"environment\", \"environment\", \"enzyme\", \"enzyme\", \"enzyme\", \"epidemic\", \"epidemic\", \"epidemic\", \"epidemiological\", \"epithelial\", \"epitope\", \"equipment\", \"er\", \"est\", \"estimate\", \"estimate\", \"estimated\", \"et\", \"et\", \"et_al\", \"ethical\", \"europe\", \"ev\", \"evaluated\", \"evaluated\", \"evaluated\", \"evaluated\", \"evaluated\", \"evidence\", \"evidence\", \"evidence\", \"evidence\", \"evidence\", \"evidence\", \"evolution\", \"evolution\", \"evolution\", \"evolutionary\", \"evolutionary\", \"evolutionary\", \"exacerbation\", \"example\", \"example\", \"experience\", \"experience\", \"expressed\", \"expression\", \"extract\", \"facility\", \"factor\", \"factor\", \"factor\", \"faecal\", \"failure\", \"failure\", \"false\", \"fcov\", \"fcv\", \"fed\", \"feline\", \"female\", \"fibrosis\", \"field\", \"field\", \"field\", \"finding\", \"finding\", \"finding\", \"finding\", \"finding\", \"finding\", \"finding\", \"fip\", \"fipv\", \"first\", \"first\", \"first\", \"first\", \"first\", \"first\", \"first\", \"food\", \"food\", \"form_mean\", \"formation\", \"found\", \"found\", \"found\", \"found\", \"found\", \"found\", \"found\", \"frame\", \"frameshifting\", \"framework\", \"full\", \"full\", \"full\", \"full\", \"full\", \"function\", \"function\", \"function\", \"functional\", \"functional\", \"fundamental\", \"funded\", \"fungal\", \"fungi\", \"fur\", \"fusion\", \"gap\", \"gene\", \"gene\", \"generalized\", \"genetic\", \"genetic\", \"genetic\", \"genome\", \"genomic\", \"genotype\", \"genus\", \"give\", \"glass\", \"global\", \"global\", \"global\", \"glycoprotein\", \"glycoprotein\", \"government\", \"gp\", \"gram\", \"granted_free\", \"group\", \"group\", \"group\", \"group\", \"group\", \"group\", \"growing\", \"guideline\", \"hadv\", \"half\", \"hbov\", \"hcov\", \"hcv\", \"hcws\", \"health\", \"health_care\", \"health_care\", \"healthcare\", \"healthcare\", \"healthy\", \"healthy\", \"healthy\", \"healthy\", \"heart\", \"hepatitis\", \"het\", \"high\", \"high\", \"high\", \"high\", \"high\", \"high\", \"high\", \"high\", \"high\", \"higher\", \"higher\", \"higher\", \"higher\", \"higher\", \"higher\", \"higher\", \"higher\", \"hiv\", \"hiv\", \"hmpv\", \"hospital\", \"hospital\", \"hospitalized\", \"host\", \"host\", \"host_cell\", \"hour\", \"house\", \"household\", \"however\", \"however\", \"however\", \"however\", \"however\", \"however\", \"however\", \"hr\", \"hrv\", \"https\", \"https\", \"human\", \"human\", \"human\", \"human\", \"human\", \"human\", \"humoral\", \"hybridization\", \"hypertension\", \"ibv\", \"ic\", \"icu\", \"identified\", \"identified\", \"identified\", \"identified\", \"identified\", \"identified\", \"identified\", \"identity\", \"ifn\", \"ifn\", \"igg\", \"il\", \"illness\", \"illness\", \"image\", \"imaging\", \"immune\", \"immune\", \"immune\", \"immunity\", \"immunity\", \"immunization\", \"impact\", \"impact\", \"impact\", \"inactivated\", \"inactivation\", \"incidence\", \"incidence\", \"included\", \"included\", \"included\", \"included\", \"increased\", \"increased\", \"increased\", \"increased\", \"increased\", \"indirect\", \"individual\", \"individual\", \"individual\", \"individual\", \"induced\", \"induced\", \"infected\", \"infected\", \"infected\", \"infected\", \"infected\", \"infected\", \"infection\", \"infection\", \"infection\", \"infection\", \"infection\", \"infection\", \"infectious\", \"infectious\", \"infectious\", \"infectious\", \"infectious\", \"inflammation\", \"inflammatory\", \"influenza\", \"influenza\", \"influenza\", \"influenza\", \"information\", \"information\", \"information\", \"inhibit\", \"inhibited\", \"inhibiting\", \"inhibition\", \"inhibition\", \"inhibitor\", \"inhibitor\", \"inhibitory\", \"inhibitory\", \"injection\", \"injury\", \"injury\", \"innate\", \"inoculated\", \"inoculation\", \"intensive_care\", \"interaction\", \"interaction\", \"interest\", \"interferon\", \"international\", \"interval\", \"interval\", \"intervention\", \"intervention\", \"intervention\", \"intestinal\", \"intestine\", \"involved\", \"involved\", \"involved\", \"involved\", \"ip\", \"isolated\", \"isolated\", \"isolated\", \"isolated\", \"isolates\", \"january\", \"january\", \"japan\", \"jev\", \"kg\", \"la\", \"laboratory\", \"laboratory\", \"laboratory\", \"laboratory\", \"laboratory\", \"lamp\", \"large\", \"large\", \"large\", \"large\", \"large\", \"le\", \"le\", \"le\", \"le\", \"le\", \"le\", \"le\", \"le\", \"leaf\", \"learning\", \"left\", \"length\", \"length\", \"length\", \"leukocyte\", \"level\", \"level\", \"level\", \"level\", \"level\", \"level\", \"like\", \"like\", \"like\", \"like\", \"like\", \"like\", \"likely\", \"likely\", \"likely\", \"likely\", \"likely\", \"line\", \"line\", \"line\", \"line\", \"lineage\", \"linear\", \"lipid\", \"liquid\", \"liquid\", \"little\", \"live\", \"liver\", \"located\", \"located\", \"lockdown\", \"log\", \"los\", \"lower\", \"lower\", \"lower\", \"lower\", \"lower\", \"lower\", \"lung\", \"lung\", \"lymph\", \"lymphocyte\", \"macrophage\", \"macrophage\", \"make\", \"making\", \"making\", \"malaria\", \"male\", \"management\", \"management\", \"management\", \"management\", \"manuscript\", \"many\", \"many\", \"many\", \"many\", \"many\", \"march\", \"march\", \"march_\", \"market\", \"market\", \"mask\", \"mathematical\", \"maximum\", \"may\", \"may\", \"may\", \"may\", \"may\", \"may\", \"mc\", \"measure\", \"measure\", \"mechanical\", \"mechanism\", \"mechanism\", \"median\", \"mediated\", \"medicinal\", \"membrane\", \"memory\", \"mers\", \"met\", \"met\", \"met\", \"meta\", \"metabolic\", \"metagenomic\", \"metapneumovirus\", \"method\", \"method\", \"method\", \"methodology\", \"mg\", \"mhc\", \"mhv\", \"microorganism\", \"microorganism\", \"middle\", \"middle_east\", \"migration\", \"milk\", \"mir\", \"ml\", \"ml\", \"ml\", \"ml\", \"mm\", \"mmp\", \"model\", \"model\", \"modeling\", \"modern\", \"molecular\", \"molecular\", \"molecular\", \"molecular\", \"molecular\", \"monoclonal\", \"monocyte\", \"month\", \"month\", \"month\", \"mortality\", \"mortality\", \"mortality\", \"mortality\", \"mouse\", \"mouse\", \"mouse\", \"mrna\", \"ms\", \"mucosal\", \"muscle\", \"mutant\", \"mutation\", \"mutation\", \"mycoplasma\", \"nasal\", \"nasopharyngeal\", \"ncov\", \"negative\", \"negative\", \"negative\", \"negative\", \"negative\", \"nervous\", \"network\", \"neurological\", \"neutralization\", \"neutralizing\", \"new\", \"new\", \"new\", \"new\", \"new\", \"new\", \"new\", \"niet\", \"nk\", \"nl\", \"nm\", \"nm\", \"nmr\", \"non\", \"non\", \"non\", \"non\", \"non\", \"non\", \"non\", \"novel\", \"novel\", \"novel\", \"novel\", \"novel\", \"ns\", \"nsp\", \"nt\", \"nucleic\", \"nucleic\", \"nucleic_acid\", \"nucleotide\", \"number\", \"number\", \"number\", \"number\", \"number\", \"number\", \"oc\", \"odds\", \"of\", \"older\", \"one\", \"one\", \"one\", \"one\", \"one\", \"one\", \"one\", \"ongoing\", \"online\", \"onset\", \"onset\", \"op\", \"optimized\", \"outbreak\", \"outbreak\", \"outcome\", \"outcome\", \"outcome\", \"outcome\", \"over\", \"pa\", \"pair\", \"pandemic\", \"pandemic\", \"paper\", \"par\", \"parameter\", \"parameter\", \"parasite\", \"parent\", \"participant\", \"parvovirus\", \"pathogen\", \"pathogen\", \"pathogen\", \"pathogen\", \"pathogen\", \"pathogenic\", \"pathogenic\", \"pathogenic\", \"pathology\", \"pathology\", \"pathology\", \"pathology\", \"pathway\", \"patient\", \"patient\", \"patient\", \"patient\", \"pcr\", \"pcr_assay\", \"pcv\", \"pd\", \"pdcov\", \"peak\", \"peak\", \"pedv\", \"people\", \"people\", \"peptide\", \"period\", \"period\", \"peripheral\", \"peripheral\", \"peritonitis\", \"persistence\", \"person\", \"personal\", \"perspective\", \"phase\", \"phylogenetic\", \"pi\", \"pig\", \"piglet\", \"placebo\", \"plan\", \"planning\", \"plant\", \"plasma\", \"plasma\", \"play\", \"play\", \"play\", \"pneumonia\", \"pneumonia\", \"pneumonia\", \"pneumoniae\", \"policy\", \"polymerase\", \"polymerase\", \"polymerase\", \"polymorphism\", \"population\", \"population\", \"porcine\", \"porcine\", \"positive\", \"positive\", \"positive\", \"positive\", \"positive\", \"potent\", \"potent\", \"potential\", \"potential\", \"potential\", \"potential\", \"potential\", \"potential\", \"poultry\", \"pour\", \"ppe\", \"ppv\", \"practice\", \"practice\", \"prediction\", \"predictor\", \"preparation\", \"present\", \"present\", \"present\", \"present\", \"present\", \"present\", \"present\", \"prevention\", \"prevention\", \"prevention\", \"preventive\", \"primer\", \"pro\", \"probe\", \"probe\", \"problem\", \"process\", \"process\", \"professional\", \"proliferation\", \"prolonged\", \"property\", \"property\", \"property\", \"prophylaxis\", \"proposed\", \"proposed\", \"protease\", \"protection\", \"protection\", \"protein\", \"proved\", \"provide\", \"provide\", \"provide\", \"provide\", \"provide\", \"provider\", \"prrsv\", \"public\", \"public_health\", \"publicly_funded\", \"pulmonary\", \"putative\", \"qpcr\", \"qrt\", \"quality\", \"quarantine\", \"que\", \"qui\", \"randomized\", \"rapid\", \"rapid\", \"rapid\", \"rapid\", \"rapid\", \"rapid\", \"rapidly\", \"rapidly\", \"rapidly\", \"rapidly\", \"rapidly\", \"rat\", \"rate\", \"rate\", \"rate\", \"rate\", \"ratio\", \"ratio\", \"ratio\", \"ray\", \"rbd\", \"rdrp\", \"reaction\", \"reaction\", \"reaction\", \"reaction\", \"reactive\", \"reactive\", \"reactivity\", \"reading\", \"reagent\", \"real\", \"real\", \"reason\", \"received\", \"received\", \"received\", \"recent\", \"recent\", \"recent\", \"recent\", \"recent\", \"recent\", \"receptor\", \"recipient\", \"recombinant\", \"recombinant\", \"recombination\", \"recurrent\", \"regard\", \"region\", \"region\", \"region\", \"region\", \"related\", \"related\", \"related\", \"related\", \"related\", \"related\", \"related\", \"replication\", \"report\", \"report\", \"report\", \"report\", \"report\", \"report\", \"report\", \"reported\", \"reported\", \"reported\", \"reported\", \"reported\", \"reported\", \"reporting\", \"representative\", \"research\", \"research\", \"reservoir\", \"residue\", \"respectively\", \"respectively\", \"respectively\", \"respectively\", \"respectively\", \"respectively\", \"respectively\", \"respiratory\", \"respiratory\", \"respiratory\", \"respiratory\", \"response\", \"response\", \"response\", \"response\", \"result\", \"result\", \"result\", \"result\", \"result\", \"result\", \"result\", \"retrospective\", \"revealed\", \"revealed\", \"revealed\", \"revealed\", \"revealed\", \"reverse\", \"reverse\", \"reverse\", \"review\", \"review\", \"review\", \"rhinovirus\", \"ribosomal\", \"risk\", \"risk\", \"risk_factor\", \"risk_factor\", \"rm\", \"rna\", \"rna\", \"rnai\", \"role\", \"role\", \"role\", \"role\", \"rotavirus\", \"route\", \"rs\", \"rsv\", \"rt\", \"rv\", \"sample\", \"sample\", \"sample\", \"sample\", \"sars\", \"scale\", \"scale\", \"scenario\", \"school\", \"science\", \"score\", \"screen\", \"sd\", \"se\", \"season\", \"seasonal\", \"sensitivity\", \"sensitivity\", \"sentinel\", \"sepsis\", \"sequence\", \"sequenced\", \"sequencing\", \"serum\", \"serum\", \"serum\", \"serum\", \"serum_sample\", \"service\", \"severe\", \"severe\", \"severe\", \"severe_acute\", \"severity\", \"severity\", \"sex\", \"shelter\", \"shelter\", \"shock\", \"show\", \"show\", \"show\", \"show\", \"showed\", \"showed\", \"showed\", \"showed\", \"showed\", \"showed\", \"si\", \"signal\", \"signaling\", \"significant\", \"significant\", \"significant\", \"significant\", \"significant\", \"significant\", \"significant\", \"significantly\", \"significantly\", \"significantly\", \"significantly\", \"significantly\", \"significantly\", \"simulation\", \"sir\", \"site\", \"site\", \"site\", \"site\", \"size\", \"size\", \"social\", \"social\", \"solution\", \"sont\", \"sought\", \"source\", \"source\", \"source\", \"source\", \"source\", \"source\", \"sp\", \"specie\", \"specie\", \"specific\", \"specific\", \"specific\", \"specific\", \"specific\", \"specific\", \"specific\", \"specificity\", \"specificity\", \"specificity\", \"specimen\", \"spp\", \"spread\", \"spread\", \"spread\", \"stability\", \"staff\", \"state\", \"state\", \"state\", \"statistically\", \"status\", \"status\", \"steroid\", \"stool\", \"strain\", \"strain\", \"strategy\", \"strategy\", \"strategy\", \"strategy\", \"strategy\", \"streptococcus\", \"structural\", \"structural\", \"structure\", \"structure\", \"structure\", \"student\", \"study\", \"study\", \"study\", \"study\", \"study\", \"study\", \"study\", \"study\", \"substantial\", \"sur\", \"surface\", \"surface\", \"surgical\", \"surveillance\", \"survey\", \"swab\", \"swine\", \"symptom\", \"symptom\", \"symptom\", \"symptom\", \"syncytial\", \"syndrome\", \"syndrome\", \"syndrome\", \"synthesis\", \"synthesized\", \"synthetic\", \"system\", \"system\", \"system\", \"taiwan\", \"target\", \"target\", \"target\", \"target\", \"tb\", \"te\", \"technique\", \"technique\", \"technology\", \"temperature\", \"temperature\", \"template\", \"terminal\", \"test\", \"test\", \"test\", \"test\", \"tested\", \"tested\", \"tested\", \"tested\", \"tested\", \"tested\", \"testing\", \"tgev\", \"th\", \"th\", \"th\", \"theory\", \"therapeutic\", \"therapeutic\", \"therapeutic\", \"therapeutic\", \"therapy\", \"therapy\", \"therapy\", \"three\", \"three\", \"three\", \"three\", \"three\", \"three\", \"three\", \"threshold\", \"throat\", \"thus\", \"thus\", \"thus\", \"time\", \"time\", \"time\", \"time\", \"time\", \"tio\", \"tissue\", \"tissue\", \"tissue\", \"titer\", \"tlr\", \"tool\", \"tool\", \"topic\", \"tracheal\", \"tract\", \"tract\", \"tract\", \"training\", \"transcriptase\", \"transcription\", \"transcription\", \"translation\", \"transmission\", \"transmission\", \"transmission\", \"transplant\", \"transplantation\", \"travel\", \"treating\", \"treatment\", \"treatment\", \"treatment\", \"treatment\", \"tree\", \"tuberculosis\", \"tumor\", \"two\", \"two\", \"two\", \"two\", \"two\", \"two\", \"two\", \"type\", \"type\", \"type\", \"type\", \"type\", \"type\", \"type\", \"type\", \"un\", \"und\", \"underwent\", \"une\", \"united\", \"united_state\", \"unrestricted\", \"upper\", \"urgent\", \"urine\", \"usage\", \"usage\", \"use\", \"use\", \"use\", \"use\", \"use\", \"use_analysis\", \"used\", \"used\", \"used\", \"used\", \"used\", \"used\", \"used\", \"user\", \"using\", \"using\", \"using\", \"using\", \"using\", \"using\", \"using\", \"using\", \"utilized\", \"utr\", \"vaccinated\", \"vaccination\", \"vaccine\", \"van\", \"vap\", \"variability\", \"variant\", \"variation\", \"variation\", \"variation\", \"vector\", \"vector\", \"vector\", \"ventilation\", \"ventilator\", \"versus\", \"veterinary\", \"viral\", \"viral\", \"viral\", \"viral\", \"viral_genome\", \"viral_infection\", \"viral_infection\", \"viral_infection\", \"viral_infection\", \"viral_load\", \"virion\", \"virology\", \"virus\", \"virus\", \"virus\", \"virus\", \"virus\", \"virus\", \"vitro\", \"vitro\", \"vivo\", \"vivo\", \"von\", \"voor\", \"vulnerable\", \"water\", \"water\", \"way\", \"way\", \"week\", \"week\", \"week\", \"well\", \"well\", \"well\", \"well\", \"well\", \"well\", \"wildlife\", \"within\", \"within\", \"within\", \"within\", \"within\", \"within\", \"without\", \"without\", \"without\", \"without\", \"without\", \"without\", \"wnv\", \"woman\", \"word\", \"work\", \"work\", \"work\", \"wuhan\", \"www\", \"year\", \"year\", \"year\", \"zijn\", \"zikv\", \"zoonotic\"]}, \"R\": 50, \"lambda.step\": 0.01, \"plot.opts\": {\"xlab\": \"PC1\", \"ylab\": \"PC2\"}, \"topic.order\": [2, 9, 5, 8, 10, 6, 3, 4, 11, 1, 7]};\n",
       "\n",
       "function LDAvis_load_lib(url, callback){\n",
       "  var s = document.createElement('script');\n",
       "  s.src = url;\n",
       "  s.async = true;\n",
       "  s.onreadystatechange = s.onload = callback;\n",
       "  s.onerror = function(){console.warn(\"failed to load library \" + url);};\n",
       "  document.getElementsByTagName(\"head\")[0].appendChild(s);\n",
       "}\n",
       "\n",
       "if(typeof(LDAvis) !== \"undefined\"){\n",
       "   // already loaded: just create the visualization\n",
       "   !function(LDAvis){\n",
       "       new LDAvis(\"#\" + \"ldavis_el156991401415971625127352811388\", ldavis_el156991401415971625127352811388_data);\n",
       "   }(LDAvis);\n",
       "}else if(typeof define === \"function\" && define.amd){\n",
       "   // require.js is available: use it to load d3/LDAvis\n",
       "   require.config({paths: {d3: \"https://cdnjs.cloudflare.com/ajax/libs/d3/3.5.5/d3.min\"}});\n",
       "   require([\"d3\"], function(d3){\n",
       "      window.d3 = d3;\n",
       "      LDAvis_load_lib(\"https://cdn.rawgit.com/bmabey/pyLDAvis/files/ldavis.v1.0.0.js\", function(){\n",
       "        new LDAvis(\"#\" + \"ldavis_el156991401415971625127352811388\", ldavis_el156991401415971625127352811388_data);\n",
       "      });\n",
       "    });\n",
       "}else{\n",
       "    // require.js not available: dynamically load d3 & LDAvis\n",
       "    LDAvis_load_lib(\"https://cdnjs.cloudflare.com/ajax/libs/d3/3.5.5/d3.min.js\", function(){\n",
       "         LDAvis_load_lib(\"https://cdn.rawgit.com/bmabey/pyLDAvis/files/ldavis.v1.0.0.js\", function(){\n",
       "                 new LDAvis(\"#\" + \"ldavis_el156991401415971625127352811388\", ldavis_el156991401415971625127352811388_data);\n",
       "            })\n",
       "         });\n",
       "}\n",
       "</script>"
      ],
      "text/plain": [
       "PreparedData(topic_coordinates=              x         y  topics  cluster       Freq\n",
       "topic                                                \n",
       "1     -0.145803 -0.018244       1        1  18.921757\n",
       "8     -0.122051  0.120709       2        1  18.578337\n",
       "4     -0.163957 -0.157019       3        1  14.412637\n",
       "7     -0.125842 -0.061890       4        1  11.790976\n",
       "9     -0.116173  0.087889       5        1   9.270290\n",
       "5     -0.024064 -0.250581       6        1   6.896832\n",
       "2     -0.019431  0.156304       7        1   5.226523\n",
       "3     -0.049799  0.189780       8        1   5.115705\n",
       "10     0.168538 -0.153955       9        1   4.662677\n",
       "0      0.248443  0.091543      10        1   2.919555\n",
       "6      0.350140 -0.004534      11        1   2.204703, topic_info=          Term          Freq         Total Category  logprob  loglift\n",
       "62       virus  57310.000000  57310.000000  Default  50.0000  50.0000\n",
       "399      covid  24828.000000  24828.000000  Default  49.0000  49.0000\n",
       "690    patient  35293.000000  35293.000000  Default  48.0000  48.0000\n",
       "449       sars  23712.000000  23712.000000  Default  47.0000  47.0000\n",
       "398        cov  23088.000000  23088.000000  Default  46.0000  46.0000\n",
       "...        ...           ...           ...      ...      ...      ...\n",
       "243         et   2116.615723   3879.395996  Topic11  -4.1531   3.2087\n",
       "992        met    855.249146   1162.877686  Topic11  -5.0593   3.5073\n",
       "220         al    680.662903   3099.092041  Topic11  -5.2876   2.2988\n",
       "2858        au    375.286194    550.677673  Topic11  -5.8830   3.4311\n",
       "16523  shelter    356.490906    482.605713  Topic11  -5.9344   3.5117\n",
       "\n",
       "[1050 rows x 6 columns], token_table=       Topic      Freq       Term\n",
       "term                             \n",
       "2723       7  0.998254  abdominal\n",
       "3829       2  0.166559     access\n",
       "3829       6  0.832793     access\n",
       "2789       1  0.999510   accuracy\n",
       "2672       1  0.999254   accurate\n",
       "...      ...       ...        ...\n",
       "734        4  0.481294       year\n",
       "734        7  0.026744       year\n",
       "15172     11  0.997849       zijn\n",
       "9211       2  0.999534       zikv\n",
       "619        5  0.999350   zoonotic\n",
       "\n",
       "[1743 rows x 3 columns], R=50, lambda_step=0.01, plot_opts={'xlab': 'PC1', 'ylab': 'PC2'}, topic_order=[2, 9, 5, 8, 10, 6, 3, 4, 11, 1, 7])"
      ]
     },
     "execution_count": 70,
     "metadata": {},
     "output_type": "execute_result"
    }
   ],
   "source": [
    "import pyLDAvis\n",
    "import pyLDAvis.gensim  \n",
    "# Visualize the topics\n",
    "pyLDAvis.enable_notebook()\n",
    "vis = pyLDAvis.gensim.prepare(lda_model, corpus, dictionary, R = 50)\n",
    "vis"
   ]
  },
  {
   "cell_type": "code",
   "execution_count": 71,
   "metadata": {},
   "outputs": [
    {
     "name": "stdout",
     "output_type": "stream",
     "text": [
      "Topic: 0 \n",
      "Words: activity|drug|anti|compound|antiviral|pedv|effect|mg|plant|al|synthesis|ml|et|inhibitor|concentration|treatment|et_al|ev|inhibited|agent\n",
      "Topic: 1 \n",
      "Words: model|based|data|system|method|used|using|new|time|research|use|approach|disease|result|analysis|also|network|information|different|study\n",
      "Topic: 2 \n",
      "Words: virus|respiratory|pcr|sample|viral|assay|detection|child|positive|infection|influenza|detected|method|test|time|clinical|real|diagnostic|reaction|result\n",
      "Topic: 3 \n",
      "Words: sequence|strain|gene|genome|rna|analysis|rt|genetic|region|two|ibv|sequencing|nucleotide|isolates|variant|isolated|specie|virus|acid|identified\n",
      "Topic: 4 \n",
      "Words: health|case|disease|population|outbreak|infection|risk|epidemic|public|rate|country|control|transmission|influenza|study|pandemic|number|measure|spread|community\n",
      "Topic: 5 \n",
      "Words: covid|sars|cov|coronavirus|respiratory|syndrome|mers|severe|acute|pandemic|severe_acute|clinical|novel|disease|icu|care|case|patient|middle|caused\n",
      "Topic: 6 \n",
      "Words: de|cat|la|le|en|et|feline|van|een|hadv|het|fip|fcov|fipv|reason|un|met|el|art|se\n",
      "Topic: 7 \n",
      "Words: patient|day|study|group|clinical|associated|infection|treatment|mortality|age|ci|severe|outcome|year|result|symptom|higher|risk|pneumonia|hospital\n",
      "Topic: 8 \n",
      "Words: cell|protein|virus|viral|infection|expression|host|receptor|rna|mechanism|replication|ace|binding|role|type|gene|also|response|study|cellular\n",
      "Topic: 9 \n",
      "Words: virus|vaccine|human|antibody|infection|animal|pathogen|disease|specie|specific|antigen|response|study|bat|vaccination|strain|host|infected|recombinant|immune\n",
      "Topic: 10 \n",
      "Words: cd|il|mouse|lung|cell|inflammatory|response|macrophage|cytokine|calf|phase|immune|tissue|induced|inflammation|die|blood|brain|level|cns\n"
     ]
    }
   ],
   "source": [
    "## show topic and top N key words\n",
    "for idx, topic in lda_model.show_topics(num_topics= 50, formatted=False, num_words= 20):\n",
    "    \n",
    "    print('Topic: {} \\nWords: {}'.format(idx, '|'.join([w[0] for w in topic])))"
   ]
  },
  {
   "cell_type": "code",
   "execution_count": 72,
   "metadata": {},
   "outputs": [],
   "source": [
    "## assign topic to documents\n",
    "topic_assignments = lda_model.get_document_topics(corpus,minimum_probability=0)"
   ]
  },
  {
   "cell_type": "code",
   "execution_count": 73,
   "metadata": {},
   "outputs": [],
   "source": [
    "probabilities = [ [entry for entry in doc] for doc in topic_assignments ]"
   ]
  },
  {
   "cell_type": "code",
   "execution_count": 74,
   "metadata": {},
   "outputs": [],
   "source": [
    "sort_prob = [sorted(x, key = lambda x: x[1], reverse = True) for x in probabilities]"
   ]
  },
  {
   "cell_type": "code",
   "execution_count": 75,
   "metadata": {},
   "outputs": [],
   "source": [
    "## obtain highest score topic\n",
    "\n",
    "topic_list = [x[0][0] for x in sort_prob]"
   ]
  },
  {
   "cell_type": "code",
   "execution_count": 76,
   "metadata": {},
   "outputs": [],
   "source": [
    "## attach the topic cluster number to dataframe\n",
    "\n",
    "new_df['topic_cluster_number'] = topic_list"
   ]
  },
  {
   "cell_type": "code",
   "execution_count": 77,
   "metadata": {},
   "outputs": [
    {
     "data": {
      "text/plain": [
       "8     10682\n",
       "1      9850\n",
       "4      6074\n",
       "7      5378\n",
       "9      3793\n",
       "2      2169\n",
       "5      1721\n",
       "3      1256\n",
       "10      763\n",
       "6       602\n",
       "0       481\n",
       "Name: topic_cluster_number, dtype: int64"
      ]
     },
     "execution_count": 77,
     "metadata": {},
     "output_type": "execute_result"
    }
   ],
   "source": [
    "new_df['topic_cluster_number'].value_counts()"
   ]
  },
  {
   "cell_type": "code",
   "execution_count": 79,
   "metadata": {},
   "outputs": [
    {
     "data": {
      "text/plain": [
       "(array([  481.,  9850.,  2169.,  1256.,  6074.,  1721.,   602.,  5378.,\n",
       "        10682.,  3793.,   763.]),\n",
       " array([ 0.        ,  0.90909091,  1.81818182,  2.72727273,  3.63636364,\n",
       "         4.54545455,  5.45454545,  6.36363636,  7.27272727,  8.18181818,\n",
       "         9.09090909, 10.        ]),\n",
       " <a list of 11 Patch objects>)"
      ]
     },
     "execution_count": 79,
     "metadata": {},
     "output_type": "execute_result"
    },
    {
     "data": {
      "image/png": "[encoded data removed]",
      "text/plain": [
       "<Figure size 432x288 with 1 Axes>"
      ]
     },
     "metadata": {
      "needs_background": "light"
     },
     "output_type": "display_data"
    }
   ],
   "source": [
    "plt.hist(new_df['topic_cluster_number'],bins = 11)"
   ]
  },
  {
   "cell_type": "code",
   "execution_count": 99,
   "metadata": {},
   "outputs": [],
   "source": [
    "## Train Test Split"
   ]
  },
  {
   "cell_type": "code",
   "execution_count": 80,
   "metadata": {},
   "outputs": [],
   "source": [
    "test_df = new_df[new_df['title_word_count'] < 4].copy()"
   ]
  },
  {
   "cell_type": "code",
   "execution_count": 81,
   "metadata": {},
   "outputs": [],
   "source": [
    "# set the erroreous title as empty\n",
    "test_df['title'] = ''\n",
    "test_df['title_word_count'] = 0"
   ]
  },
  {
   "cell_type": "code",
   "execution_count": 82,
   "metadata": {},
   "outputs": [],
   "source": [
    "# train dataset\n",
    "train_df = new_df.drop(test_df.index).copy()"
   ]
  },
  {
   "cell_type": "code",
   "execution_count": 83,
   "metadata": {},
   "outputs": [],
   "source": [
    "train_df=train_df.reset_index(drop=True)\n",
    "test_df=test_df.reset_index(drop=True)"
   ]
  },
  {
   "cell_type": "code",
   "execution_count": 89,
   "metadata": {},
   "outputs": [
    {
     "data": {
      "text/plain": [
       "(2339, 14)"
      ]
     },
     "execution_count": 89,
     "metadata": {},
     "output_type": "execute_result"
    }
   ],
   "source": [
    "test_df.shape"
   ]
  },
  {
   "cell_type": "code",
   "execution_count": 85,
   "metadata": {},
   "outputs": [
    {
     "data": {
      "text/plain": [
       "(40430, 14)"
      ]
     },
     "execution_count": 85,
     "metadata": {},
     "output_type": "execute_result"
    }
   ],
   "source": [
    "train_df.shape"
   ]
  },
  {
   "cell_type": "code",
   "execution_count": 86,
   "metadata": {},
   "outputs": [],
   "source": [
    "output_path = data_path/ 'cleaned_data'\n",
    "# os.mkdir(output_path)\n",
    "\n",
    "test_df.to_csv(output_path / 'test_dataset.csv', index=False)\n",
    "train_df.to_csv(output_path / 'train_dataset.csv', index=False)"
   ]
  },
  {
   "cell_type": "code",
   "execution_count": 95,
   "metadata": {},
   "outputs": [
    {
     "data": {
      "text/plain": [
       "''"
      ]
     },
     "execution_count": 95,
     "metadata": {},
     "output_type": "execute_result"
    }
   ],
   "source": [
    "test_df['title'][1]"
   ]
  },
  {
   "cell_type": "code",
   "execution_count": 94,
   "metadata": {},
   "outputs": [
    {
     "data": {
      "text/plain": [
       "Index(['paper_id', 'title', 'authors', 'affiliations', 'abstract', 'text',\n",
       "       'bibliography', 'raw_authors', 'raw_bibliography', 'title_word_count',\n",
       "       'abstract_word_count', 'body_word_count', 'abstract_tokens',\n",
       "       'topic_cluster_number'],\n",
       "      dtype='object')"
      ]
     },
     "execution_count": 94,
     "metadata": {},
     "output_type": "execute_result"
    }
   ],
   "source": [
    "train_df.columns"
   ]
  },
  {
   "cell_type": "markdown",
   "metadata": {},
   "source": [
    "## Algorithm testing"
   ]
  },
  {
   "cell_type": "code",
   "execution_count": 96,
   "metadata": {},
   "outputs": [],
   "source": [
    "train_df = pd.read_csv(data_path/ 'cleaned_data' / 'train_dataset.csv')\n"
   ]
  },
  {
   "cell_type": "code",
   "execution_count": null,
   "metadata": {},
   "outputs": [],
   "source": [
    "# summary = summarizer(clean_df['abstract'][0], min_length=50, max_length=3312)"
   ]
  },
  {
   "cell_type": "code",
   "execution_count": 909,
   "metadata": {},
   "outputs": [],
   "source": [
    "## BERT\n",
    "from summarizer import Summarizer\n",
    "\n",
    "model = Summarizer()\n",
    "result = model(train_df['abstract'][0], min_length=50,max_length=100)\n",
    "full0 = ''.join(result)"
   ]
  },
  {
   "cell_type": "code",
   "execution_count": 910,
   "metadata": {},
   "outputs": [
    {
     "name": "stdout",
     "output_type": "stream",
     "text": [
      "''\n"
     ]
    }
   ],
   "source": [
    "pprint(full0)"
   ]
  },
  {
   "cell_type": "code",
   "execution_count": 10,
   "metadata": {},
   "outputs": [],
   "source": [
    "#GPT2\n",
    "from summarizer import Summarizer,TransformerSummarizer\n",
    "\n",
    "GPT2_model = TransformerSummarizer(transformer_type=\"GPT2\",transformer_model_key=\"gpt2-medium\")\n",
    "full = ''.join(GPT2_model(train_df['abstract'][0], min_length=50, max_length=100))"
   ]
  },
  {
   "cell_type": "code",
   "execution_count": 11,
   "metadata": {},
   "outputs": [
    {
     "name": "stdout",
     "output_type": "stream",
     "text": [
      "''\n"
     ]
    }
   ],
   "source": [
    "pprint(full)"
   ]
  },
  {
   "cell_type": "code",
   "execution_count": null,
   "metadata": {},
   "outputs": [],
   "source": [
    "## Bart Text Summarization\n",
    "\n",
    "#### problem:\n",
    "\n",
    "#### BART seems working anyway\n",
    "#### limitation is 1024 words(token)"
   ]
  },
  {
   "cell_type": "code",
   "execution_count": 97,
   "metadata": {},
   "outputs": [],
   "source": [
    "import torch\n",
    "from transformers import BartTokenizer, BartForConditionalGeneration\n",
    "from transformers import pipeline\n",
    "\n",
    "torch_device = 'cuda' if torch.cuda.is_available() else 'cpu'\n",
    "model = BartForConditionalGeneration.from_pretrained('facebook/bart-large-cnn')\n",
    "tokenizer = BartTokenizer.from_pretrained('facebook/bart-large-cnn')\n",
    "\n",
    "summarizer = pipeline(task=\"summarization\", model=model, tokenizer=tokenizer)"
   ]
  },
  {
   "cell_type": "code",
   "execution_count": 98,
   "metadata": {},
   "outputs": [
    {
     "data": {
      "text/plain": [
       "147"
      ]
     },
     "execution_count": 98,
     "metadata": {},
     "output_type": "execute_result"
    }
   ],
   "source": [
    "# test size of tokens\n",
    "# input_ids = tokenizer.encode(train_df['abstract'][1], add_special_tokens=True)\n",
    "\n",
    "## input is too long!\n",
    "# len(input_ids)"
   ]
  },
  {
   "cell_type": "code",
   "execution_count": null,
   "metadata": {},
   "outputs": [],
   "source": []
  },
  {
   "cell_type": "code",
   "execution_count": 101,
   "metadata": {},
   "outputs": [
    {
     "name": "stdout",
     "output_type": "stream",
     "text": [
      "[{'summary_text': \"Inosine-5'-monophosphate dehydrogenase impdh involved in the synthesis of guanine nucleotides is known to be a potential target to inhibit the replication of viruses. We evaluated antiviral activity of a\"}]\n"
     ]
    }
   ],
   "source": [
    "full3 = summarizer(train_df['abstract'][2], min_length=4, max_length=50)\n",
    "print(full3)"
   ]
  },
  {
   "cell_type": "markdown",
   "metadata": {},
   "source": [
    "train_df['abstract'][0]\n",
    "\n",
    "\n"
   ]
  },
  {
   "cell_type": "code",
   "execution_count": null,
   "metadata": {},
   "outputs": [],
   "source": [
    "## T5\n",
    "\n",
    "## T5 limitation is 512 tokens"
   ]
  },
  {
   "cell_type": "code",
   "execution_count": 102,
   "metadata": {},
   "outputs": [
    {
     "name": "stdout",
     "output_type": "stream",
     "text": [
      "original text preprocessed: \n",
      " abstract signaling lymphocyte activation molecule slam is one of the receptors for canine distemper virus cdv in this study canine and feline cells expressing canine slam designated a-72/cslam and crfk/cslam were established for the in vitro study of canine distemper recent cdv isolates kdk-1 and 246 which belong to genotypes asia/h1 and asia/h2 respectively rapidly grew and produced distinct syncytia in both the slam-expressing cells the virus-neutralizing vn test was successfully performed using these cells and the results indicated that sera from dogs experimentally infected with kdk-1 had higher vn titers for homologous strain kdk-1 than for heterologous strain 246 and the vaccine onderstepoort these newly established cells expressing canine slam would help virological and serological analyses of canine distemper #\n",
      "\n",
      "\n",
      "Summarized text: \n",
      " canine and feline cells expressing canines slam designated a-72. cdv isolates kdk-1 and 246 belong to asia/h1 and h2 respectively rapidly \n"
     ]
    }
   ],
   "source": [
    "from transformers import T5Tokenizer, T5ForConditionalGeneration, T5Config\n",
    "\n",
    "model = T5ForConditionalGeneration.from_pretrained('t5-small')\n",
    "tokenizer = T5Tokenizer.from_pretrained('t5-small')\n",
    "device = torch.device('cpu')\n",
    "\n",
    "text = train_df['abstract'][0]\n",
    "\n",
    "\n",
    "preprocess_text = text.strip().replace(\"\\n\",\"\")\n",
    "t5_prepared_Text = \"summarize: \"+preprocess_text\n",
    "print (\"original text preprocessed: \\n\", preprocess_text)\n",
    "\n",
    "tokenized_text = tokenizer.encode(t5_prepared_Text, return_tensors=\"pt\").to(device)\n",
    "\n",
    "\n",
    "# summmarize \n",
    "summary_ids = model.generate(tokenized_text,\n",
    "                            num_beams=4,\n",
    "                            no_repeat_ngram_size=2,\n",
    "                            min_length=4,\n",
    "                            max_length=50,\n",
    "                            early_stopping=True)\n",
    "\n",
    "output = tokenizer.decode(summary_ids[0], skip_special_tokens=True)\n",
    "\n",
    "print (\"\\n\\nSummarized text: \\n\",output)"
   ]
  },
  {
   "cell_type": "code",
   "execution_count": 103,
   "metadata": {},
   "outputs": [
    {
     "data": {
      "application/vnd.jupyter.widget-view+json": {
       "model_id": "2a884870f8e7453c8cfcaca8c1d17474",
       "version_major": 2,
       "version_minor": 0
      },
      "text/plain": [
       "HBox(children=(FloatProgress(value=0.0, description='Downloading', max=230.0, style=ProgressStyle(description_…"
      ]
     },
     "metadata": {},
     "output_type": "display_data"
    },
    {
     "name": "stdout",
     "output_type": "stream",
     "text": [
      "\n"
     ]
    },
    {
     "data": {
      "text/plain": [
       "[{'summary_text': 'abstract signaling lymphocyte activation molecule slam is one of the receptors for canine distemper virus cdv in this study canine and feline cells expressing a-72/csl'}]"
      ]
     },
     "execution_count": 103,
     "metadata": {},
     "output_type": "execute_result"
    }
   ],
   "source": [
    "summarizer = pipeline(\"summarization\", \n",
    "                      model=\"t5-base\", \n",
    "                      tokenizer=\"t5-base\", \n",
    "                      framework=\"tf\")\n",
    "\n",
    "summarizer(train_df['abstract'][0], min_length=4, max_length=50)\n"
   ]
  },
  {
   "cell_type": "code",
   "execution_count": 44,
   "metadata": {},
   "outputs": [
    {
     "data": {
      "text/plain": [
       "2537"
      ]
     },
     "execution_count": 44,
     "metadata": {},
     "output_type": "execute_result"
    }
   ],
   "source": [
    "len(train_df['text'][0].split())"
   ]
  },
  {
   "cell_type": "code",
   "execution_count": null,
   "metadata": {},
   "outputs": [],
   "source": []
  }
 ],
 "metadata": {
  "kernelspec": {
   "display_name": "Python 3",
   "language": "python",
   "name": "python3"
  },
  "language_info": {
   "codemirror_mode": {
    "name": "ipython",
    "version": 3
   },
   "file_extension": ".py",
   "mimetype": "text/x-python",
   "name": "python",
   "nbconvert_exporter": "python",
   "pygments_lexer": "ipython3",
   "version": "3.8.2"
  }
 },
 "nbformat": 4,
 "nbformat_minor": 4
}
